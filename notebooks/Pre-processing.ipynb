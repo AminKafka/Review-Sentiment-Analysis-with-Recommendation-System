{
 "cells": [
  {
   "cell_type": "markdown",
   "id": "1a07e4db",
   "metadata": {},
   "source": [
    "# Pre-processing & Training Data Development :\n",
    "#### Amin Khoeini\n",
    "\n",
    "***"
   ]
  },
  {
   "cell_type": "markdown",
   "id": "44c2f69e",
   "metadata": {},
   "source": [
    "In this step I will use a diffrent regression model for predicting the box-office of movie by using the voting data that I gathered from three diffrent website.\n",
    "We already see the charactristic of this dataset in EDA and here I use the same data for experimenting with diffrent model.\n",
    "I also use GrideSearch for Hyperparameters tuning and Cross Validation for model performance evaluation."
   ]
  },
  {
   "cell_type": "code",
   "execution_count": 1,
   "id": "ff834078",
   "metadata": {},
   "outputs": [],
   "source": [
    "#importing the necessary libraries\n",
    "import pandas as pd\n",
    "import numpy as np\n",
    "import matplotlib.pyplot as plt\n",
    "import seaborn as sns\n",
    "import sklearn\n",
    "from sklearn.model_selection import train_test_split, cross_validate, GridSearchCV,cross_val_score\n",
    "from sklearn.linear_model import LinearRegression,Lasso,ElasticNet\n",
    "from sklearn.ensemble import RandomForestRegressor\n",
    "from sklearn.dummy import DummyRegressor\n",
    "from sklearn.preprocessing import StandardScaler\n",
    "from sklearn.feature_selection import SelectKBest, f_regression\n",
    "from sklearn.pipeline import make_pipeline\n",
    "from sklearn.metrics import r2_score, mean_squared_error, mean_absolute_error\n"
   ]
  },
  {
   "cell_type": "code",
   "execution_count": 2,
   "id": "43cf1f83",
   "metadata": {},
   "outputs": [],
   "source": [
    "# Read the process csv file from EDA\n",
    "movie_score = pd.read_csv('/Users/Amin/Documents/GitHub/Movie_boxoffice_reviews/data/processed/pre_process_movie.csv')"
   ]
  },
  {
   "cell_type": "markdown",
   "id": "5d2a3bac",
   "metadata": {},
   "source": [
    "checking the dataset caractristic, checking data type and extent."
   ]
  },
  {
   "cell_type": "code",
   "execution_count": 3,
   "id": "b6f0a6e0",
   "metadata": {},
   "outputs": [
    {
     "data": {
      "text/html": [
       "<div>\n",
       "<style scoped>\n",
       "    .dataframe tbody tr th:only-of-type {\n",
       "        vertical-align: middle;\n",
       "    }\n",
       "\n",
       "    .dataframe tbody tr th {\n",
       "        vertical-align: top;\n",
       "    }\n",
       "\n",
       "    .dataframe thead th {\n",
       "        text-align: right;\n",
       "    }\n",
       "</style>\n",
       "<table border=\"1\" class=\"dataframe\">\n",
       "  <thead>\n",
       "    <tr style=\"text-align: right;\">\n",
       "      <th></th>\n",
       "      <th>All_time_gross</th>\n",
       "      <th>tom_cri_vote</th>\n",
       "      <th>tom_cri_num</th>\n",
       "      <th>tom_aud_vote</th>\n",
       "      <th>tom_aud_num</th>\n",
       "      <th>met_cri_vote</th>\n",
       "      <th>met_cri_num</th>\n",
       "      <th>met_aud_vote</th>\n",
       "      <th>met_aud_num</th>\n",
       "      <th>imdb_vote</th>\n",
       "      <th>imdb_num</th>\n",
       "      <th>imdb_us_vote</th>\n",
       "      <th>imdb_us_num</th>\n",
       "      <th>imdb_nus_vote</th>\n",
       "      <th>imdb_nus_num</th>\n",
       "      <th>imdb_fem_vote</th>\n",
       "      <th>imdb_fem_num</th>\n",
       "      <th>imdb_mal_vote</th>\n",
       "      <th>imdb_mal_num</th>\n",
       "      <th>class</th>\n",
       "    </tr>\n",
       "  </thead>\n",
       "  <tbody>\n",
       "    <tr>\n",
       "      <th>0</th>\n",
       "      <td>62832209</td>\n",
       "      <td>38</td>\n",
       "      <td>171</td>\n",
       "      <td>47</td>\n",
       "      <td>12560</td>\n",
       "      <td>48</td>\n",
       "      <td>37</td>\n",
       "      <td>51</td>\n",
       "      <td>107</td>\n",
       "      <td>64</td>\n",
       "      <td>64703</td>\n",
       "      <td>64</td>\n",
       "      <td>7520</td>\n",
       "      <td>63</td>\n",
       "      <td>27997</td>\n",
       "      <td>67</td>\n",
       "      <td>13462</td>\n",
       "      <td>63</td>\n",
       "      <td>35093</td>\n",
       "      <td>Average</td>\n",
       "    </tr>\n",
       "    <tr>\n",
       "      <th>1</th>\n",
       "      <td>428028233</td>\n",
       "      <td>51</td>\n",
       "      <td>275</td>\n",
       "      <td>71</td>\n",
       "      <td>9713</td>\n",
       "      <td>45</td>\n",
       "      <td>46</td>\n",
       "      <td>57</td>\n",
       "      <td>291</td>\n",
       "      <td>61</td>\n",
       "      <td>137865</td>\n",
       "      <td>61</td>\n",
       "      <td>17163</td>\n",
       "      <td>60</td>\n",
       "      <td>54731</td>\n",
       "      <td>64</td>\n",
       "      <td>13702</td>\n",
       "      <td>60</td>\n",
       "      <td>84286</td>\n",
       "      <td>Average</td>\n",
       "    </tr>\n",
       "    <tr>\n",
       "      <th>2</th>\n",
       "      <td>225973340</td>\n",
       "      <td>48</td>\n",
       "      <td>294</td>\n",
       "      <td>53</td>\n",
       "      <td>27796</td>\n",
       "      <td>51</td>\n",
       "      <td>45</td>\n",
       "      <td>64</td>\n",
       "      <td>637</td>\n",
       "      <td>65</td>\n",
       "      <td>157560</td>\n",
       "      <td>63</td>\n",
       "      <td>17690</td>\n",
       "      <td>64</td>\n",
       "      <td>69287</td>\n",
       "      <td>64</td>\n",
       "      <td>18118</td>\n",
       "      <td>65</td>\n",
       "      <td>99701</td>\n",
       "      <td>Average</td>\n",
       "    </tr>\n",
       "    <tr>\n",
       "      <th>3</th>\n",
       "      <td>42213</td>\n",
       "      <td>52</td>\n",
       "      <td>23</td>\n",
       "      <td>42</td>\n",
       "      <td>153</td>\n",
       "      <td>41</td>\n",
       "      <td>9</td>\n",
       "      <td>63</td>\n",
       "      <td>6</td>\n",
       "      <td>59</td>\n",
       "      <td>1857</td>\n",
       "      <td>59</td>\n",
       "      <td>344</td>\n",
       "      <td>58</td>\n",
       "      <td>746</td>\n",
       "      <td>61</td>\n",
       "      <td>257</td>\n",
       "      <td>58</td>\n",
       "      <td>1122</td>\n",
       "      <td>Indie</td>\n",
       "    </tr>\n",
       "    <tr>\n",
       "      <th>4</th>\n",
       "      <td>880166924</td>\n",
       "      <td>92</td>\n",
       "      <td>390</td>\n",
       "      <td>87</td>\n",
       "      <td>108167</td>\n",
       "      <td>73</td>\n",
       "      <td>51</td>\n",
       "      <td>75</td>\n",
       "      <td>2310</td>\n",
       "      <td>74</td>\n",
       "      <td>494060</td>\n",
       "      <td>76</td>\n",
       "      <td>57625</td>\n",
       "      <td>73</td>\n",
       "      <td>172006</td>\n",
       "      <td>76</td>\n",
       "      <td>49874</td>\n",
       "      <td>74</td>\n",
       "      <td>282567</td>\n",
       "      <td>Blockbuster</td>\n",
       "    </tr>\n",
       "  </tbody>\n",
       "</table>\n",
       "</div>"
      ],
      "text/plain": [
       "   All_time_gross  tom_cri_vote  tom_cri_num  tom_aud_vote  tom_aud_num  \\\n",
       "0        62832209            38          171            47        12560   \n",
       "1       428028233            51          275            71         9713   \n",
       "2       225973340            48          294            53        27796   \n",
       "3           42213            52           23            42          153   \n",
       "4       880166924            92          390            87       108167   \n",
       "\n",
       "   met_cri_vote  met_cri_num  met_aud_vote  met_aud_num  imdb_vote  imdb_num  \\\n",
       "0            48           37            51          107         64     64703   \n",
       "1            45           46            57          291         61    137865   \n",
       "2            51           45            64          637         65    157560   \n",
       "3            41            9            63            6         59      1857   \n",
       "4            73           51            75         2310         74    494060   \n",
       "\n",
       "   imdb_us_vote  imdb_us_num  imdb_nus_vote  imdb_nus_num  imdb_fem_vote  \\\n",
       "0            64         7520             63         27997             67   \n",
       "1            61        17163             60         54731             64   \n",
       "2            63        17690             64         69287             64   \n",
       "3            59          344             58           746             61   \n",
       "4            76        57625             73        172006             76   \n",
       "\n",
       "   imdb_fem_num  imdb_mal_vote  imdb_mal_num        class  \n",
       "0         13462             63         35093      Average  \n",
       "1         13702             60         84286      Average  \n",
       "2         18118             65         99701      Average  \n",
       "3           257             58          1122        Indie  \n",
       "4         49874             74        282567  Blockbuster  "
      ]
     },
     "execution_count": 3,
     "metadata": {},
     "output_type": "execute_result"
    }
   ],
   "source": [
    "movie_score.head()"
   ]
  },
  {
   "cell_type": "code",
   "execution_count": 4,
   "id": "1b4e76af",
   "metadata": {},
   "outputs": [
    {
     "data": {
      "text/html": [
       "<div>\n",
       "<style scoped>\n",
       "    .dataframe tbody tr th:only-of-type {\n",
       "        vertical-align: middle;\n",
       "    }\n",
       "\n",
       "    .dataframe tbody tr th {\n",
       "        vertical-align: top;\n",
       "    }\n",
       "\n",
       "    .dataframe thead th {\n",
       "        text-align: right;\n",
       "    }\n",
       "</style>\n",
       "<table border=\"1\" class=\"dataframe\">\n",
       "  <thead>\n",
       "    <tr style=\"text-align: right;\">\n",
       "      <th></th>\n",
       "      <th>count</th>\n",
       "      <th>mean</th>\n",
       "      <th>std</th>\n",
       "      <th>min</th>\n",
       "      <th>25%</th>\n",
       "      <th>50%</th>\n",
       "      <th>75%</th>\n",
       "      <th>max</th>\n",
       "    </tr>\n",
       "  </thead>\n",
       "  <tbody>\n",
       "    <tr>\n",
       "      <th>All_time_gross</th>\n",
       "      <td>3276.0</td>\n",
       "      <td>7.193749e+07</td>\n",
       "      <td>1.885635e+08</td>\n",
       "      <td>177.0</td>\n",
       "      <td>223421.25</td>\n",
       "      <td>3471091.0</td>\n",
       "      <td>49051361.25</td>\n",
       "      <td>2.797501e+09</td>\n",
       "    </tr>\n",
       "    <tr>\n",
       "      <th>tom_cri_vote</th>\n",
       "      <td>3276.0</td>\n",
       "      <td>5.819109e+01</td>\n",
       "      <td>2.770101e+01</td>\n",
       "      <td>0.0</td>\n",
       "      <td>35.75</td>\n",
       "      <td>63.0</td>\n",
       "      <td>83.00</td>\n",
       "      <td>1.000000e+02</td>\n",
       "    </tr>\n",
       "    <tr>\n",
       "      <th>tom_cri_num</th>\n",
       "      <td>3276.0</td>\n",
       "      <td>1.117399e+02</td>\n",
       "      <td>9.645764e+01</td>\n",
       "      <td>3.0</td>\n",
       "      <td>32.00</td>\n",
       "      <td>83.0</td>\n",
       "      <td>168.00</td>\n",
       "      <td>5.740000e+02</td>\n",
       "    </tr>\n",
       "    <tr>\n",
       "      <th>tom_aud_vote</th>\n",
       "      <td>3276.0</td>\n",
       "      <td>5.586661e+01</td>\n",
       "      <td>2.005696e+01</td>\n",
       "      <td>0.0</td>\n",
       "      <td>41.00</td>\n",
       "      <td>56.0</td>\n",
       "      <td>72.00</td>\n",
       "      <td>1.000000e+02</td>\n",
       "    </tr>\n",
       "    <tr>\n",
       "      <th>tom_aud_num</th>\n",
       "      <td>3276.0</td>\n",
       "      <td>3.014552e+04</td>\n",
       "      <td>7.897836e+04</td>\n",
       "      <td>0.0</td>\n",
       "      <td>500.00</td>\n",
       "      <td>4467.0</td>\n",
       "      <td>25996.50</td>\n",
       "      <td>2.374219e+06</td>\n",
       "    </tr>\n",
       "    <tr>\n",
       "      <th>met_cri_vote</th>\n",
       "      <td>3276.0</td>\n",
       "      <td>5.525672e+01</td>\n",
       "      <td>1.751673e+01</td>\n",
       "      <td>1.0</td>\n",
       "      <td>42.00</td>\n",
       "      <td>56.0</td>\n",
       "      <td>68.00</td>\n",
       "      <td>1.000000e+02</td>\n",
       "    </tr>\n",
       "    <tr>\n",
       "      <th>met_cri_num</th>\n",
       "      <td>3276.0</td>\n",
       "      <td>2.348932e+01</td>\n",
       "      <td>1.389440e+01</td>\n",
       "      <td>2.0</td>\n",
       "      <td>11.00</td>\n",
       "      <td>22.0</td>\n",
       "      <td>35.00</td>\n",
       "      <td>6.200000e+01</td>\n",
       "    </tr>\n",
       "    <tr>\n",
       "      <th>met_aud_vote</th>\n",
       "      <td>3276.0</td>\n",
       "      <td>6.178388e+01</td>\n",
       "      <td>1.367486e+01</td>\n",
       "      <td>0.0</td>\n",
       "      <td>54.00</td>\n",
       "      <td>64.0</td>\n",
       "      <td>71.00</td>\n",
       "      <td>9.400000e+01</td>\n",
       "    </tr>\n",
       "    <tr>\n",
       "      <th>met_aud_num</th>\n",
       "      <td>3276.0</td>\n",
       "      <td>1.952283e+02</td>\n",
       "      <td>5.249771e+02</td>\n",
       "      <td>2.0</td>\n",
       "      <td>11.00</td>\n",
       "      <td>40.0</td>\n",
       "      <td>164.00</td>\n",
       "      <td>9.978000e+03</td>\n",
       "    </tr>\n",
       "    <tr>\n",
       "      <th>imdb_vote</th>\n",
       "      <td>3276.0</td>\n",
       "      <td>6.234585e+01</td>\n",
       "      <td>8.989105e+00</td>\n",
       "      <td>21.0</td>\n",
       "      <td>57.00</td>\n",
       "      <td>63.0</td>\n",
       "      <td>68.00</td>\n",
       "      <td>8.800000e+01</td>\n",
       "    </tr>\n",
       "    <tr>\n",
       "      <th>imdb_num</th>\n",
       "      <td>3276.0</td>\n",
       "      <td>6.832832e+04</td>\n",
       "      <td>1.351789e+05</td>\n",
       "      <td>100.0</td>\n",
       "      <td>3687.00</td>\n",
       "      <td>16294.5</td>\n",
       "      <td>70514.50</td>\n",
       "      <td>2.002816e+06</td>\n",
       "    </tr>\n",
       "    <tr>\n",
       "      <th>imdb_us_vote</th>\n",
       "      <td>3276.0</td>\n",
       "      <td>6.255983e+01</td>\n",
       "      <td>9.082779e+00</td>\n",
       "      <td>15.0</td>\n",
       "      <td>57.00</td>\n",
       "      <td>63.0</td>\n",
       "      <td>69.00</td>\n",
       "      <td>9.400000e+01</td>\n",
       "    </tr>\n",
       "    <tr>\n",
       "      <th>imdb_us_num</th>\n",
       "      <td>3276.0</td>\n",
       "      <td>8.907374e+03</td>\n",
       "      <td>1.646556e+04</td>\n",
       "      <td>13.0</td>\n",
       "      <td>587.75</td>\n",
       "      <td>2387.0</td>\n",
       "      <td>9778.25</td>\n",
       "      <td>2.467180e+05</td>\n",
       "    </tr>\n",
       "    <tr>\n",
       "      <th>imdb_nus_vote</th>\n",
       "      <td>3276.0</td>\n",
       "      <td>6.150305e+01</td>\n",
       "      <td>9.151298e+00</td>\n",
       "      <td>19.0</td>\n",
       "      <td>56.00</td>\n",
       "      <td>62.0</td>\n",
       "      <td>68.00</td>\n",
       "      <td>8.700000e+01</td>\n",
       "    </tr>\n",
       "    <tr>\n",
       "      <th>imdb_nus_num</th>\n",
       "      <td>3276.0</td>\n",
       "      <td>3.011492e+04</td>\n",
       "      <td>5.598856e+04</td>\n",
       "      <td>25.0</td>\n",
       "      <td>1674.00</td>\n",
       "      <td>7622.5</td>\n",
       "      <td>32859.25</td>\n",
       "      <td>7.994200e+05</td>\n",
       "    </tr>\n",
       "    <tr>\n",
       "      <th>imdb_fem_vote</th>\n",
       "      <td>3276.0</td>\n",
       "      <td>6.361477e+01</td>\n",
       "      <td>8.845266e+00</td>\n",
       "      <td>26.0</td>\n",
       "      <td>58.00</td>\n",
       "      <td>64.0</td>\n",
       "      <td>70.00</td>\n",
       "      <td>9.200000e+01</td>\n",
       "    </tr>\n",
       "    <tr>\n",
       "      <th>imdb_fem_num</th>\n",
       "      <td>3276.0</td>\n",
       "      <td>1.063012e+04</td>\n",
       "      <td>2.008988e+04</td>\n",
       "      <td>12.0</td>\n",
       "      <td>562.50</td>\n",
       "      <td>2678.0</td>\n",
       "      <td>11409.00</td>\n",
       "      <td>2.789640e+05</td>\n",
       "    </tr>\n",
       "    <tr>\n",
       "      <th>imdb_mal_vote</th>\n",
       "      <td>3276.0</td>\n",
       "      <td>6.176007e+01</td>\n",
       "      <td>9.182649e+00</td>\n",
       "      <td>21.0</td>\n",
       "      <td>56.00</td>\n",
       "      <td>62.0</td>\n",
       "      <td>68.00</td>\n",
       "      <td>8.800000e+01</td>\n",
       "    </tr>\n",
       "    <tr>\n",
       "      <th>imdb_mal_num</th>\n",
       "      <td>3276.0</td>\n",
       "      <td>4.193603e+04</td>\n",
       "      <td>8.278591e+04</td>\n",
       "      <td>61.0</td>\n",
       "      <td>2168.75</td>\n",
       "      <td>9839.5</td>\n",
       "      <td>42147.00</td>\n",
       "      <td>1.202678e+06</td>\n",
       "    </tr>\n",
       "  </tbody>\n",
       "</table>\n",
       "</div>"
      ],
      "text/plain": [
       "                 count          mean           std    min        25%  \\\n",
       "All_time_gross  3276.0  7.193749e+07  1.885635e+08  177.0  223421.25   \n",
       "tom_cri_vote    3276.0  5.819109e+01  2.770101e+01    0.0      35.75   \n",
       "tom_cri_num     3276.0  1.117399e+02  9.645764e+01    3.0      32.00   \n",
       "tom_aud_vote    3276.0  5.586661e+01  2.005696e+01    0.0      41.00   \n",
       "tom_aud_num     3276.0  3.014552e+04  7.897836e+04    0.0     500.00   \n",
       "met_cri_vote    3276.0  5.525672e+01  1.751673e+01    1.0      42.00   \n",
       "met_cri_num     3276.0  2.348932e+01  1.389440e+01    2.0      11.00   \n",
       "met_aud_vote    3276.0  6.178388e+01  1.367486e+01    0.0      54.00   \n",
       "met_aud_num     3276.0  1.952283e+02  5.249771e+02    2.0      11.00   \n",
       "imdb_vote       3276.0  6.234585e+01  8.989105e+00   21.0      57.00   \n",
       "imdb_num        3276.0  6.832832e+04  1.351789e+05  100.0    3687.00   \n",
       "imdb_us_vote    3276.0  6.255983e+01  9.082779e+00   15.0      57.00   \n",
       "imdb_us_num     3276.0  8.907374e+03  1.646556e+04   13.0     587.75   \n",
       "imdb_nus_vote   3276.0  6.150305e+01  9.151298e+00   19.0      56.00   \n",
       "imdb_nus_num    3276.0  3.011492e+04  5.598856e+04   25.0    1674.00   \n",
       "imdb_fem_vote   3276.0  6.361477e+01  8.845266e+00   26.0      58.00   \n",
       "imdb_fem_num    3276.0  1.063012e+04  2.008988e+04   12.0     562.50   \n",
       "imdb_mal_vote   3276.0  6.176007e+01  9.182649e+00   21.0      56.00   \n",
       "imdb_mal_num    3276.0  4.193603e+04  8.278591e+04   61.0    2168.75   \n",
       "\n",
       "                      50%          75%           max  \n",
       "All_time_gross  3471091.0  49051361.25  2.797501e+09  \n",
       "tom_cri_vote         63.0        83.00  1.000000e+02  \n",
       "tom_cri_num          83.0       168.00  5.740000e+02  \n",
       "tom_aud_vote         56.0        72.00  1.000000e+02  \n",
       "tom_aud_num        4467.0     25996.50  2.374219e+06  \n",
       "met_cri_vote         56.0        68.00  1.000000e+02  \n",
       "met_cri_num          22.0        35.00  6.200000e+01  \n",
       "met_aud_vote         64.0        71.00  9.400000e+01  \n",
       "met_aud_num          40.0       164.00  9.978000e+03  \n",
       "imdb_vote            63.0        68.00  8.800000e+01  \n",
       "imdb_num          16294.5     70514.50  2.002816e+06  \n",
       "imdb_us_vote         63.0        69.00  9.400000e+01  \n",
       "imdb_us_num        2387.0      9778.25  2.467180e+05  \n",
       "imdb_nus_vote        62.0        68.00  8.700000e+01  \n",
       "imdb_nus_num       7622.5     32859.25  7.994200e+05  \n",
       "imdb_fem_vote        64.0        70.00  9.200000e+01  \n",
       "imdb_fem_num       2678.0     11409.00  2.789640e+05  \n",
       "imdb_mal_vote        62.0        68.00  8.800000e+01  \n",
       "imdb_mal_num       9839.5     42147.00  1.202678e+06  "
      ]
     },
     "execution_count": 4,
     "metadata": {},
     "output_type": "execute_result"
    }
   ],
   "source": [
    "movie_score.describe().T"
   ]
  },
  {
   "cell_type": "code",
   "execution_count": 5,
   "id": "ec846db9",
   "metadata": {},
   "outputs": [
    {
     "name": "stdout",
     "output_type": "stream",
     "text": [
      "<class 'pandas.core.frame.DataFrame'>\n",
      "RangeIndex: 3276 entries, 0 to 3275\n",
      "Data columns (total 20 columns):\n",
      " #   Column          Non-Null Count  Dtype \n",
      "---  ------          --------------  ----- \n",
      " 0   All_time_gross  3276 non-null   int64 \n",
      " 1   tom_cri_vote    3276 non-null   int64 \n",
      " 2   tom_cri_num     3276 non-null   int64 \n",
      " 3   tom_aud_vote    3276 non-null   int64 \n",
      " 4   tom_aud_num     3276 non-null   int64 \n",
      " 5   met_cri_vote    3276 non-null   int64 \n",
      " 6   met_cri_num     3276 non-null   int64 \n",
      " 7   met_aud_vote    3276 non-null   int64 \n",
      " 8   met_aud_num     3276 non-null   int64 \n",
      " 9   imdb_vote       3276 non-null   int64 \n",
      " 10  imdb_num        3276 non-null   int64 \n",
      " 11  imdb_us_vote    3276 non-null   int64 \n",
      " 12  imdb_us_num     3276 non-null   int64 \n",
      " 13  imdb_nus_vote   3276 non-null   int64 \n",
      " 14  imdb_nus_num    3276 non-null   int64 \n",
      " 15  imdb_fem_vote   3276 non-null   int64 \n",
      " 16  imdb_fem_num    3276 non-null   int64 \n",
      " 17  imdb_mal_vote   3276 non-null   int64 \n",
      " 18  imdb_mal_num    3276 non-null   int64 \n",
      " 19  class           3276 non-null   object\n",
      "dtypes: int64(19), object(1)\n",
      "memory usage: 512.0+ KB\n"
     ]
    },
    {
     "data": {
      "text/plain": [
       "(All_time_gross     int64\n",
       " tom_cri_vote       int64\n",
       " tom_cri_num        int64\n",
       " tom_aud_vote       int64\n",
       " tom_aud_num        int64\n",
       " met_cri_vote       int64\n",
       " met_cri_num        int64\n",
       " met_aud_vote       int64\n",
       " met_aud_num        int64\n",
       " imdb_vote          int64\n",
       " imdb_num           int64\n",
       " imdb_us_vote       int64\n",
       " imdb_us_num        int64\n",
       " imdb_nus_vote      int64\n",
       " imdb_nus_num       int64\n",
       " imdb_fem_vote      int64\n",
       " imdb_fem_num       int64\n",
       " imdb_mal_vote      int64\n",
       " imdb_mal_num       int64\n",
       " class             object\n",
       " dtype: object,\n",
       " None)"
      ]
     },
     "execution_count": 5,
     "metadata": {},
     "output_type": "execute_result"
    }
   ],
   "source": [
    "movie_score.dtypes,movie_score.info()"
   ]
  },
  {
   "cell_type": "markdown",
   "id": "6446d277",
   "metadata": {},
   "source": [
    "all the data are numeric and there is no null value in the dataset.\n",
    "\n",
    "Let's seperate the class columns from the dataset and save it as movie_class for later use."
   ]
  },
  {
   "cell_type": "code",
   "execution_count": 6,
   "id": "9bf632f7",
   "metadata": {},
   "outputs": [],
   "source": [
    "#Save the class of the movies as movie_class then drop it from the data\n",
    "\n",
    "movie_class = movie_score['class']\n",
    "movie_score.drop(columns='class',inplace=True)"
   ]
  },
  {
   "cell_type": "markdown",
   "id": "5c44fa14",
   "metadata": {},
   "source": [
    "now split the dataset to training and testing set. Use the All_time_gross of the movie as dependent value of y and rest of the datas as predictor X."
   ]
  },
  {
   "cell_type": "code",
   "execution_count": 7,
   "id": "b9fcfa68",
   "metadata": {},
   "outputs": [],
   "source": [
    "#split the data to train/test set. 80% train and 20% test.\n",
    "X_train, X_test, y_train, y_test = train_test_split(movie_score.drop(columns='All_time_gross'), \n",
    "                                                    movie_score.All_time_gross, test_size=0.2, \n",
    "                                                    random_state=47)"
   ]
  },
  {
   "cell_type": "markdown",
   "id": "be6ae313",
   "metadata": {},
   "source": [
    "now check the shape and types of the training and testing set."
   ]
  },
  {
   "cell_type": "code",
   "execution_count": 8,
   "id": "56adcf4e",
   "metadata": {},
   "outputs": [
    {
     "data": {
      "text/plain": [
       "((2620, 18), (2620,))"
      ]
     },
     "execution_count": 8,
     "metadata": {},
     "output_type": "execute_result"
    }
   ],
   "source": [
    "#check the train and test data shape\n",
    "\n",
    "X_train.shape,y_train.shape"
   ]
  },
  {
   "cell_type": "code",
   "execution_count": 9,
   "id": "97f61330",
   "metadata": {},
   "outputs": [
    {
     "data": {
      "text/plain": [
       "((656, 18), (656,))"
      ]
     },
     "execution_count": 9,
     "metadata": {},
     "output_type": "execute_result"
    }
   ],
   "source": [
    "X_test.shape,y_test.shape"
   ]
  },
  {
   "cell_type": "code",
   "execution_count": 10,
   "id": "7df719c9",
   "metadata": {},
   "outputs": [
    {
     "data": {
      "text/html": [
       "<div>\n",
       "<style scoped>\n",
       "    .dataframe tbody tr th:only-of-type {\n",
       "        vertical-align: middle;\n",
       "    }\n",
       "\n",
       "    .dataframe tbody tr th {\n",
       "        vertical-align: top;\n",
       "    }\n",
       "\n",
       "    .dataframe thead th {\n",
       "        text-align: right;\n",
       "    }\n",
       "</style>\n",
       "<table border=\"1\" class=\"dataframe\">\n",
       "  <thead>\n",
       "    <tr style=\"text-align: right;\">\n",
       "      <th></th>\n",
       "      <th>tom_cri_vote</th>\n",
       "      <th>tom_cri_num</th>\n",
       "      <th>tom_aud_vote</th>\n",
       "      <th>tom_aud_num</th>\n",
       "      <th>met_cri_vote</th>\n",
       "      <th>met_cri_num</th>\n",
       "      <th>met_aud_vote</th>\n",
       "      <th>met_aud_num</th>\n",
       "      <th>imdb_vote</th>\n",
       "      <th>imdb_num</th>\n",
       "      <th>imdb_us_vote</th>\n",
       "      <th>imdb_us_num</th>\n",
       "      <th>imdb_nus_vote</th>\n",
       "      <th>imdb_nus_num</th>\n",
       "      <th>imdb_fem_vote</th>\n",
       "      <th>imdb_fem_num</th>\n",
       "      <th>imdb_mal_vote</th>\n",
       "      <th>imdb_mal_num</th>\n",
       "    </tr>\n",
       "  </thead>\n",
       "  <tbody>\n",
       "    <tr>\n",
       "      <th>409</th>\n",
       "      <td>47</td>\n",
       "      <td>59</td>\n",
       "      <td>23</td>\n",
       "      <td>832</td>\n",
       "      <td>35</td>\n",
       "      <td>12</td>\n",
       "      <td>46</td>\n",
       "      <td>45</td>\n",
       "      <td>51</td>\n",
       "      <td>18373</td>\n",
       "      <td>50</td>\n",
       "      <td>2773</td>\n",
       "      <td>50</td>\n",
       "      <td>7711</td>\n",
       "      <td>53</td>\n",
       "      <td>1733</td>\n",
       "      <td>51</td>\n",
       "      <td>12040</td>\n",
       "    </tr>\n",
       "    <tr>\n",
       "      <th>837</th>\n",
       "      <td>100</td>\n",
       "      <td>30</td>\n",
       "      <td>62</td>\n",
       "      <td>50</td>\n",
       "      <td>91</td>\n",
       "      <td>9</td>\n",
       "      <td>91</td>\n",
       "      <td>9</td>\n",
       "      <td>70</td>\n",
       "      <td>260</td>\n",
       "      <td>73</td>\n",
       "      <td>89</td>\n",
       "      <td>66</td>\n",
       "      <td>102</td>\n",
       "      <td>66</td>\n",
       "      <td>21</td>\n",
       "      <td>69</td>\n",
       "      <td>188</td>\n",
       "    </tr>\n",
       "    <tr>\n",
       "      <th>936</th>\n",
       "      <td>77</td>\n",
       "      <td>44</td>\n",
       "      <td>44</td>\n",
       "      <td>171</td>\n",
       "      <td>60</td>\n",
       "      <td>9</td>\n",
       "      <td>58</td>\n",
       "      <td>14</td>\n",
       "      <td>55</td>\n",
       "      <td>3328</td>\n",
       "      <td>55</td>\n",
       "      <td>778</td>\n",
       "      <td>54</td>\n",
       "      <td>1410</td>\n",
       "      <td>55</td>\n",
       "      <td>357</td>\n",
       "      <td>55</td>\n",
       "      <td>2266</td>\n",
       "    </tr>\n",
       "    <tr>\n",
       "      <th>1155</th>\n",
       "      <td>67</td>\n",
       "      <td>63</td>\n",
       "      <td>32</td>\n",
       "      <td>100</td>\n",
       "      <td>63</td>\n",
       "      <td>19</td>\n",
       "      <td>76</td>\n",
       "      <td>14</td>\n",
       "      <td>62</td>\n",
       "      <td>4723</td>\n",
       "      <td>63</td>\n",
       "      <td>542</td>\n",
       "      <td>60</td>\n",
       "      <td>1736</td>\n",
       "      <td>64</td>\n",
       "      <td>483</td>\n",
       "      <td>58</td>\n",
       "      <td>2023</td>\n",
       "    </tr>\n",
       "    <tr>\n",
       "      <th>1873</th>\n",
       "      <td>32</td>\n",
       "      <td>160</td>\n",
       "      <td>52</td>\n",
       "      <td>41227</td>\n",
       "      <td>40</td>\n",
       "      <td>32</td>\n",
       "      <td>63</td>\n",
       "      <td>156</td>\n",
       "      <td>66</td>\n",
       "      <td>143295</td>\n",
       "      <td>65</td>\n",
       "      <td>18157</td>\n",
       "      <td>66</td>\n",
       "      <td>77268</td>\n",
       "      <td>68</td>\n",
       "      <td>19317</td>\n",
       "      <td>66</td>\n",
       "      <td>103218</td>\n",
       "    </tr>\n",
       "  </tbody>\n",
       "</table>\n",
       "</div>"
      ],
      "text/plain": [
       "      tom_cri_vote  tom_cri_num  tom_aud_vote  tom_aud_num  met_cri_vote  \\\n",
       "409             47           59            23          832            35   \n",
       "837            100           30            62           50            91   \n",
       "936             77           44            44          171            60   \n",
       "1155            67           63            32          100            63   \n",
       "1873            32          160            52        41227            40   \n",
       "\n",
       "      met_cri_num  met_aud_vote  met_aud_num  imdb_vote  imdb_num  \\\n",
       "409            12            46           45         51     18373   \n",
       "837             9            91            9         70       260   \n",
       "936             9            58           14         55      3328   \n",
       "1155           19            76           14         62      4723   \n",
       "1873           32            63          156         66    143295   \n",
       "\n",
       "      imdb_us_vote  imdb_us_num  imdb_nus_vote  imdb_nus_num  imdb_fem_vote  \\\n",
       "409             50         2773             50          7711             53   \n",
       "837             73           89             66           102             66   \n",
       "936             55          778             54          1410             55   \n",
       "1155            63          542             60          1736             64   \n",
       "1873            65        18157             66         77268             68   \n",
       "\n",
       "      imdb_fem_num  imdb_mal_vote  imdb_mal_num  \n",
       "409           1733             51         12040  \n",
       "837             21             69           188  \n",
       "936            357             55          2266  \n",
       "1155           483             58          2023  \n",
       "1873         19317             66        103218  "
      ]
     },
     "execution_count": 10,
     "metadata": {},
     "output_type": "execute_result"
    }
   ],
   "source": [
    "X_train.head()"
   ]
  },
  {
   "cell_type": "code",
   "execution_count": 11,
   "id": "016ecfb2",
   "metadata": {},
   "outputs": [
    {
     "data": {
      "text/plain": [
       "tom_cri_vote     int64\n",
       "tom_cri_num      int64\n",
       "tom_aud_vote     int64\n",
       "tom_aud_num      int64\n",
       "met_cri_vote     int64\n",
       "met_cri_num      int64\n",
       "met_aud_vote     int64\n",
       "met_aud_num      int64\n",
       "imdb_vote        int64\n",
       "imdb_num         int64\n",
       "imdb_us_vote     int64\n",
       "imdb_us_num      int64\n",
       "imdb_nus_vote    int64\n",
       "imdb_nus_num     int64\n",
       "imdb_fem_vote    int64\n",
       "imdb_fem_num     int64\n",
       "imdb_mal_vote    int64\n",
       "imdb_mal_num     int64\n",
       "dtype: object"
      ]
     },
     "execution_count": 11,
     "metadata": {},
     "output_type": "execute_result"
    }
   ],
   "source": [
    "#check the type to make sure all is numeric\n",
    "X_train.dtypes"
   ]
  },
  {
   "cell_type": "code",
   "execution_count": 12,
   "id": "79022f5e",
   "metadata": {},
   "outputs": [
    {
     "data": {
      "text/plain": [
       "tom_cri_vote     int64\n",
       "tom_cri_num      int64\n",
       "tom_aud_vote     int64\n",
       "tom_aud_num      int64\n",
       "met_cri_vote     int64\n",
       "met_cri_num      int64\n",
       "met_aud_vote     int64\n",
       "met_aud_num      int64\n",
       "imdb_vote        int64\n",
       "imdb_num         int64\n",
       "imdb_us_vote     int64\n",
       "imdb_us_num      int64\n",
       "imdb_nus_vote    int64\n",
       "imdb_nus_num     int64\n",
       "imdb_fem_vote    int64\n",
       "imdb_fem_num     int64\n",
       "imdb_mal_vote    int64\n",
       "imdb_mal_num     int64\n",
       "dtype: object"
      ]
     },
     "execution_count": 12,
     "metadata": {},
     "output_type": "execute_result"
    }
   ],
   "source": [
    "X_test.dtypes"
   ]
  },
  {
   "cell_type": "markdown",
   "id": "7aa4d2c7",
   "metadata": {},
   "source": [
    "### Dummy Regresor"
   ]
  },
  {
   "cell_type": "markdown",
   "id": "d17865ef",
   "metadata": {},
   "source": [
    "A good place to have a initial idea about the dataset is use mean as the predictor. I use Sklearn Dummy Regresor to get the mean of the movie box-office in this dataset."
   ]
  },
  {
   "cell_type": "code",
   "execution_count": 13,
   "id": "6b38d858",
   "metadata": {},
   "outputs": [
    {
     "data": {
      "text/plain": [
       "array([[67641209.]])"
      ]
     },
     "execution_count": 13,
     "metadata": {},
     "output_type": "execute_result"
    }
   ],
   "source": [
    "#use Dummy Regressor to get the mean of the box-office (y_value)\n",
    "dumb_reg = DummyRegressor(strategy='mean')\n",
    "dumb_reg.fit(X_train,y_train)\n",
    "np.round(dumb_reg.constant_)"
   ]
  },
  {
   "cell_type": "code",
   "execution_count": 14,
   "id": "0d18c838",
   "metadata": {},
   "outputs": [
    {
     "data": {
      "text/plain": [
       "array([67641208.62099236, 67641208.62099236, 67641208.62099236,\n",
       "       67641208.62099236, 67641208.62099236])"
      ]
     },
     "execution_count": 14,
     "metadata": {},
     "output_type": "execute_result"
    }
   ],
   "source": [
    "y_pred_dummy = dumb_reg.predict(X_train)\n",
    "y_pred_dummy[0:5]"
   ]
  },
  {
   "cell_type": "markdown",
   "id": "d40249cf",
   "metadata": {},
   "source": [
    "If we use mean, we can perdict box-office of all the movie should be around 67 million dollars."
   ]
  },
  {
   "cell_type": "code",
   "execution_count": 15,
   "id": "0a3678f7",
   "metadata": {},
   "outputs": [
    {
     "data": {
      "text/plain": [
       "92900147.16696812"
      ]
     },
     "execution_count": 15,
     "metadata": {},
     "output_type": "execute_result"
    }
   ],
   "source": [
    "#geting the mae of Dummy Regressor prediction\n",
    "mean_absolute_error(y_train,y_pred_dummy)"
   ]
  },
  {
   "cell_type": "code",
   "execution_count": 16,
   "id": "1fd3b94c",
   "metadata": {},
   "outputs": [
    {
     "data": {
      "text/plain": [
       "175110900.20513323"
      ]
     },
     "execution_count": 16,
     "metadata": {},
     "output_type": "execute_result"
    }
   ],
   "source": [
    "#getting the rmse of Dummy Regressor\n",
    "np.sqrt(mean_squared_error(y_train,y_pred_dummy))"
   ]
  },
  {
   "cell_type": "code",
   "execution_count": 17,
   "id": "6c95d64d",
   "metadata": {},
   "outputs": [
    {
     "data": {
      "text/plain": [
       "0.0"
      ]
     },
     "execution_count": 17,
     "metadata": {},
     "output_type": "execute_result"
    }
   ],
   "source": [
    "r2_score(y_train,y_pred_dummy)"
   ]
  },
  {
   "cell_type": "markdown",
   "id": "85316dd9",
   "metadata": {},
   "source": [
    "While the Dummy Regressor perdict mean of 62 Million dollars, the mean absoulute error of this perdiction is 92 million dollars. This is even more than the perdiction itself and While most of the movies are in Indie class with box-ofiice less than 2 Million, we need error margine to be way less than that value if we want to perdict the box-office of all the movie classes.\n",
    "\n",
    "We also need to use mae as the metric here because the box-office values has lots of outlier ( mostly blockbuster movie with box-office of more than a billion dollars). mae is robust against outlier in compare to mse and rmse."
   ]
  },
  {
   "cell_type": "markdown",
   "id": "be6878e5",
   "metadata": {},
   "source": [
    "### LinearRegression"
   ]
  },
  {
   "cell_type": "markdown",
   "id": "b0591473",
   "metadata": {},
   "source": [
    "let's start with the Linear Regression model. I'll make a pipeline that include the Standard Scaler, Selecting best number of features and the Linear Regression model."
   ]
  },
  {
   "cell_type": "code",
   "execution_count": 18,
   "id": "e4eaa87d",
   "metadata": {},
   "outputs": [
    {
     "data": {
      "text/plain": [
       "dict_keys(['memory', 'steps', 'verbose', 'standardscaler', 'selectkbest', 'linearregression', 'standardscaler__copy', 'standardscaler__with_mean', 'standardscaler__with_std', 'selectkbest__k', 'selectkbest__score_func', 'linearregression__copy_X', 'linearregression__fit_intercept', 'linearregression__n_jobs', 'linearregression__normalize', 'linearregression__positive'])"
      ]
     },
     "execution_count": 18,
     "metadata": {},
     "output_type": "execute_result"
    }
   ],
   "source": [
    "#make a first pipeline including Scaler,KBest features and LinearRegression\n",
    "\n",
    "pipe1 = make_pipeline(\n",
    "    StandardScaler(),\n",
    "    SelectKBest(score_func=f_regression),\n",
    "    LinearRegression())\n",
    "\n",
    "pipe1.get_params().keys()"
   ]
  },
  {
   "cell_type": "markdown",
   "id": "715521ac",
   "metadata": {},
   "source": [
    "K will be number of the features and I'll use Gridsearch to select best possible number of features and also see if we need to scale the data or not."
   ]
  },
  {
   "cell_type": "code",
   "execution_count": 19,
   "id": "2b2c3168",
   "metadata": {},
   "outputs": [
    {
     "data": {
      "text/plain": [
       "{'standardscaler': [StandardScaler(), None],\n",
       " 'selectkbest__k': [1,\n",
       "  2,\n",
       "  3,\n",
       "  4,\n",
       "  5,\n",
       "  6,\n",
       "  7,\n",
       "  8,\n",
       "  9,\n",
       "  10,\n",
       "  11,\n",
       "  12,\n",
       "  13,\n",
       "  14,\n",
       "  15,\n",
       "  16,\n",
       "  17,\n",
       "  18]}"
      ]
     },
     "execution_count": 19,
     "metadata": {},
     "output_type": "execute_result"
    }
   ],
   "source": [
    "#make a grid_params including k number of featuers and scaling. \n",
    "#then run the Gridsearch to find the best possible number of features.\n",
    "\n",
    "k = [k+1 for k in range(len(X_train.columns))]\n",
    "grid_params = {\n",
    "                'standardscaler':[StandardScaler(),None],\n",
    "                'selectkbest__k' : k\n",
    "}\n",
    "grid_params"
   ]
  },
  {
   "cell_type": "code",
   "execution_count": 20,
   "id": "3f97229d",
   "metadata": {},
   "outputs": [],
   "source": [
    "lr_grid_cv = GridSearchCV(pipe1, param_grid=grid_params, cv=5, n_jobs=-1)"
   ]
  },
  {
   "cell_type": "code",
   "execution_count": 21,
   "id": "2170373b",
   "metadata": {},
   "outputs": [
    {
     "data": {
      "text/plain": [
       "GridSearchCV(cv=5,\n",
       "             estimator=Pipeline(steps=[('standardscaler', StandardScaler()),\n",
       "                                       ('selectkbest',\n",
       "                                        SelectKBest(score_func=<function f_regression at 0x7ff59064ad30>)),\n",
       "                                       ('linearregression',\n",
       "                                        LinearRegression())]),\n",
       "             n_jobs=-1,\n",
       "             param_grid={'selectkbest__k': [1, 2, 3, 4, 5, 6, 7, 8, 9, 10, 11,\n",
       "                                            12, 13, 14, 15, 16, 17, 18],\n",
       "                         'standardscaler': [StandardScaler(), None]})"
      ]
     },
     "execution_count": 21,
     "metadata": {},
     "output_type": "execute_result"
    }
   ],
   "source": [
    "lr_grid_cv.fit(X_train, y_train)"
   ]
  },
  {
   "cell_type": "code",
   "execution_count": 22,
   "id": "30eadc88",
   "metadata": {},
   "outputs": [
    {
     "data": {
      "text/plain": [
       "{'selectkbest__k': 17, 'standardscaler': None}"
      ]
     },
     "execution_count": 22,
     "metadata": {},
     "output_type": "execute_result"
    }
   ],
   "source": [
    "lr_grid_cv.best_params_"
   ]
  },
  {
   "cell_type": "markdown",
   "id": "1b3d8ed5",
   "metadata": {},
   "source": [
    "Seems using all the features gets the best result and Scaling is not necessary."
   ]
  },
  {
   "cell_type": "code",
   "execution_count": 23,
   "id": "7d048ec1",
   "metadata": {},
   "outputs": [],
   "source": [
    "score_mean = lr_grid_cv.cv_results_['mean_test_score']\n",
    "score_std = lr_grid_cv.cv_results_['std_test_score']\n",
    "cv_k = [k for k in lr_grid_cv.cv_results_['param_selectkbest__k']]"
   ]
  },
  {
   "cell_type": "code",
   "execution_count": 24,
   "id": "28197c14",
   "metadata": {},
   "outputs": [
    {
     "data": {
      "image/png": "[encoded data removed]",
      "text/plain": [
       "<Figure size 720x360 with 1 Axes>"
      ]
     },
     "metadata": {
      "needs_background": "light"
     },
     "output_type": "display_data"
    }
   ],
   "source": [
    "best_k = lr_grid_cv.best_params_['selectkbest__k']\n",
    "plt.subplots(figsize=(10, 5))\n",
    "plt.errorbar(cv_k, score_mean, yerr=score_std)\n",
    "plt.axvline(x=best_k, c='r', ls='--', alpha=.5)\n",
    "plt.xlabel('k')\n",
    "plt.ylabel('CV score (r-squared)')\n",
    "plt.title('Pipeline mean CV score (error bars +/- 1sd)');"
   ]
  },
  {
   "cell_type": "markdown",
   "id": "9d293a69",
   "metadata": {},
   "source": [
    "The Gridesearch suggest 17 out of 18 features as a best possible perdictor. The only one it didn't chose is the tom_cri_vote and the R_squared between selectin 17 and 18 is same, So I'll chose all 18 for the final model.\n",
    "\n",
    "We can also check the coef to see which features are more efficent in our perdiction."
   ]
  },
  {
   "cell_type": "code",
   "execution_count": 25,
   "id": "fe78f6e9",
   "metadata": {},
   "outputs": [
    {
     "data": {
      "text/plain": [
       "Index(['tom_cri_num', 'tom_aud_vote', 'tom_aud_num', 'met_cri_vote',\n",
       "       'met_cri_num', 'met_aud_vote', 'met_aud_num', 'imdb_vote', 'imdb_num',\n",
       "       'imdb_us_vote', 'imdb_us_num', 'imdb_nus_vote', 'imdb_nus_num',\n",
       "       'imdb_fem_vote', 'imdb_fem_num', 'imdb_mal_vote', 'imdb_mal_num'],\n",
       "      dtype='object')"
      ]
     },
     "execution_count": 25,
     "metadata": {},
     "output_type": "execute_result"
    }
   ],
   "source": [
    "features = X_train.columns[lr_grid_cv.best_estimator_.named_steps.selectkbest.get_support()]\n",
    "features"
   ]
  },
  {
   "cell_type": "code",
   "execution_count": 26,
   "id": "76ce3f01",
   "metadata": {},
   "outputs": [
    {
     "data": {
      "text/plain": [
       "imdb_mal_vote    1.010365e+07\n",
       "imdb_fem_vote    9.308870e+06\n",
       "tom_cri_num      5.519941e+05\n",
       "tom_aud_vote     3.822191e+05\n",
       "imdb_nus_vote    9.274825e+04\n",
       "met_aud_num      8.804505e+04\n",
       "imdb_num         2.801203e+03\n",
       "imdb_us_num      1.441960e+03\n",
       "tom_aud_num      3.325697e+02\n",
       "imdb_fem_num    -2.102088e+03\n",
       "imdb_nus_num    -2.210637e+03\n",
       "imdb_mal_num    -2.477563e+03\n",
       "met_aud_vote    -5.077223e+04\n",
       "met_cri_num     -8.829468e+05\n",
       "met_cri_vote    -9.882122e+05\n",
       "imdb_us_vote    -3.188504e+06\n",
       "imdb_vote       -1.651733e+07\n",
       "dtype: float64"
      ]
     },
     "execution_count": 26,
     "metadata": {},
     "output_type": "execute_result"
    }
   ],
   "source": [
    "coefs = lr_grid_cv.best_estimator_.named_steps.linearregression.coef_\n",
    "pd.Series(coefs, index=features).sort_values(ascending=False)"
   ]
  },
  {
   "cell_type": "markdown",
   "id": "65bbc4d2",
   "metadata": {},
   "source": [
    "Suprisingly the vote has a high coef in the suggested model in contrast of what we observe in EDA.\n",
    "\n",
    "Now let's make a model with all the features and run the cross validation to calculate the performance of the model on the training set"
   ]
  },
  {
   "cell_type": "code",
   "execution_count": 27,
   "id": "6e3bed61",
   "metadata": {},
   "outputs": [],
   "source": [
    "pipe2 = make_pipeline(LinearRegression())"
   ]
  },
  {
   "cell_type": "code",
   "execution_count": 28,
   "id": "f4e0d065",
   "metadata": {},
   "outputs": [],
   "source": [
    "cv_results = cross_validate(pipe2, X_train, y_train, cv=5)"
   ]
  },
  {
   "cell_type": "code",
   "execution_count": 29,
   "id": "588cfe09",
   "metadata": {},
   "outputs": [
    {
     "data": {
      "text/plain": [
       "array([0.67616834, 0.16267061, 0.5291684 , 0.63425656, 0.63808289])"
      ]
     },
     "execution_count": 29,
     "metadata": {},
     "output_type": "execute_result"
    }
   ],
   "source": [
    "cv_results['test_score']"
   ]
  },
  {
   "cell_type": "code",
   "execution_count": 30,
   "id": "23b016f8",
   "metadata": {},
   "outputs": [
    {
     "data": {
      "text/plain": [
       "(0.5280693609590577, 0.18911872376242136)"
      ]
     },
     "execution_count": 30,
     "metadata": {},
     "output_type": "execute_result"
    }
   ],
   "source": [
    "np.mean(cv_results['test_score']), np.std(cv_results['test_score'])"
   ]
  },
  {
   "cell_type": "code",
   "execution_count": 31,
   "id": "528caf96",
   "metadata": {},
   "outputs": [
    {
     "data": {
      "text/plain": [
       "array([-48807082.18083188, -63142344.44644098, -54720569.62468386,\n",
       "       -54070638.55148789, -53841337.18416586])"
      ]
     },
     "execution_count": 31,
     "metadata": {},
     "output_type": "execute_result"
    }
   ],
   "source": [
    "mae = cross_val_score(pipe2, X_train, y_train, cv=5,scoring='neg_mean_absolute_error')\n",
    "mae"
   ]
  },
  {
   "cell_type": "code",
   "execution_count": 32,
   "id": "306598ab",
   "metadata": {},
   "outputs": [
    {
     "data": {
      "text/plain": [
       "-54916394.39752209"
      ]
     },
     "execution_count": 32,
     "metadata": {},
     "output_type": "execute_result"
    }
   ],
   "source": [
    "np.mean(mae)"
   ]
  },
  {
   "cell_type": "markdown",
   "id": "0afd1a6f",
   "metadata": {},
   "source": [
    "By running the Linear Regression model the mae drop to 54 million from 92 million that we calculate by Dummy Regressor.\n",
    "So the Linear Regression model doing way better perdiction of the box-office by using the vote information as a predictor but still this is a very large error margine to perdictiong all movie box-office.\n",
    "\n",
    "Also by looking at the diffrent R^2 result of the cross validation we can see the inconssitency of the dataset, the indie movies make this inconsistency by having a very low box-office.\n",
    "\n",
    "But what would be the min of mae that we can get? let's do the Gridesearch and chose the mae as a score for it."
   ]
  },
  {
   "cell_type": "code",
   "execution_count": 33,
   "id": "b2e2820f",
   "metadata": {},
   "outputs": [],
   "source": [
    "lr_grid_cv_minmae = GridSearchCV(pipe1, param_grid=grid_params, cv=5, n_jobs=-1,scoring='neg_mean_absolute_error')"
   ]
  },
  {
   "cell_type": "code",
   "execution_count": 34,
   "id": "713b25ac",
   "metadata": {},
   "outputs": [
    {
     "data": {
      "text/plain": [
       "GridSearchCV(cv=5,\n",
       "             estimator=Pipeline(steps=[('standardscaler', StandardScaler()),\n",
       "                                       ('selectkbest',\n",
       "                                        SelectKBest(score_func=<function f_regression at 0x7ff59064ad30>)),\n",
       "                                       ('linearregression',\n",
       "                                        LinearRegression())]),\n",
       "             n_jobs=-1,\n",
       "             param_grid={'selectkbest__k': [1, 2, 3, 4, 5, 6, 7, 8, 9, 10, 11,\n",
       "                                            12, 13, 14, 15, 16, 17, 18],\n",
       "                         'standardscaler': [StandardScaler(), None]},\n",
       "             scoring='neg_mean_absolute_error')"
      ]
     },
     "execution_count": 34,
     "metadata": {},
     "output_type": "execute_result"
    }
   ],
   "source": [
    "lr_grid_cv_minmae.fit(X_train, y_train)"
   ]
  },
  {
   "cell_type": "code",
   "execution_count": 35,
   "id": "0a430aaa",
   "metadata": {},
   "outputs": [
    {
     "data": {
      "text/plain": [
       "{'selectkbest__k': 10, 'standardscaler': None}"
      ]
     },
     "execution_count": 35,
     "metadata": {},
     "output_type": "execute_result"
    }
   ],
   "source": [
    "lr_grid_cv_minmae.best_params_"
   ]
  },
  {
   "cell_type": "code",
   "execution_count": 36,
   "id": "0d4bc7f8",
   "metadata": {},
   "outputs": [
    {
     "data": {
      "image/png": "[encoded data removed]",
      "text/plain": [
       "<Figure size 720x360 with 1 Axes>"
      ]
     },
     "metadata": {
      "needs_background": "light"
     },
     "output_type": "display_data"
    }
   ],
   "source": [
    "score_mean = lr_grid_cv_minmae.cv_results_['mean_test_score']\n",
    "score_std = lr_grid_cv_minmae.cv_results_['std_test_score']\n",
    "cv_k = [k for k in lr_grid_cv_minmae.cv_results_['param_selectkbest__k']]\n",
    "best_k = lr_grid_cv_minmae.best_params_['selectkbest__k']\n",
    "plt.subplots(figsize=(10, 5))\n",
    "plt.errorbar(cv_k, score_mean, yerr=score_std)\n",
    "plt.axvline(x=best_k, c='r', ls='--', alpha=.5)\n",
    "plt.xlabel('k')\n",
    "plt.ylabel('CV score (Mean absolute error)')\n",
    "plt.title('Pipeline mean CV score (error bars +/- 1sd)');"
   ]
  },
  {
   "cell_type": "markdown",
   "id": "913f3c14",
   "metadata": {},
   "source": [
    "For having min mae chosing 10 features is best option. let's see what are those features."
   ]
  },
  {
   "cell_type": "code",
   "execution_count": 37,
   "id": "28d0374a",
   "metadata": {},
   "outputs": [
    {
     "data": {
      "text/plain": [
       "Index(['tom_cri_num', 'tom_aud_num', 'met_cri_num', 'met_aud_num', 'imdb_num',\n",
       "       'imdb_us_num', 'imdb_nus_num', 'imdb_fem_vote', 'imdb_fem_num',\n",
       "       'imdb_mal_num'],\n",
       "      dtype='object')"
      ]
     },
     "execution_count": 37,
     "metadata": {},
     "output_type": "execute_result"
    }
   ],
   "source": [
    "features = X_train.columns[lr_grid_cv_minmae.best_estimator_.named_steps.selectkbest.get_support()]\n",
    "features"
   ]
  },
  {
   "cell_type": "code",
   "execution_count": 38,
   "id": "47ca9f46",
   "metadata": {},
   "outputs": [
    {
     "data": {
      "text/plain": [
       "tom_cri_num      6.076276e+05\n",
       "met_aud_num      9.179231e+04\n",
       "imdb_num         2.381937e+03\n",
       "tom_aud_num      3.920357e+02\n",
       "imdb_fem_num    -2.462274e+02\n",
       "imdb_us_num     -4.819834e+02\n",
       "imdb_mal_num    -1.059792e+03\n",
       "imdb_nus_num    -3.465499e+03\n",
       "imdb_fem_vote   -1.030766e+05\n",
       "met_cri_num     -1.567183e+06\n",
       "dtype: float64"
      ]
     },
     "execution_count": 38,
     "metadata": {},
     "output_type": "execute_result"
    }
   ],
   "source": [
    "coefs = lr_grid_cv_minmae.best_estimator_.named_steps.linearregression.coef_\n",
    "pd.Series(coefs, index=features).sort_values(ascending=False)"
   ]
  },
  {
   "cell_type": "markdown",
   "id": "4cf3c1a4",
   "metadata": {},
   "source": [
    "GrideSearch suggest using all the vote number and one of the vote columns as a perdictor for having a min mae. Let's calculate that."
   ]
  },
  {
   "cell_type": "code",
   "execution_count": 39,
   "id": "81bd5cc7",
   "metadata": {},
   "outputs": [
    {
     "data": {
      "text/html": [
       "<div>\n",
       "<style scoped>\n",
       "    .dataframe tbody tr th:only-of-type {\n",
       "        vertical-align: middle;\n",
       "    }\n",
       "\n",
       "    .dataframe tbody tr th {\n",
       "        vertical-align: top;\n",
       "    }\n",
       "\n",
       "    .dataframe thead th {\n",
       "        text-align: right;\n",
       "    }\n",
       "</style>\n",
       "<table border=\"1\" class=\"dataframe\">\n",
       "  <thead>\n",
       "    <tr style=\"text-align: right;\">\n",
       "      <th></th>\n",
       "      <th>tom_cri_num</th>\n",
       "      <th>met_aud_num</th>\n",
       "      <th>imdb_num</th>\n",
       "      <th>tom_aud_num</th>\n",
       "      <th>imdb_fem_num</th>\n",
       "      <th>imdb_us_num</th>\n",
       "      <th>imdb_mal_num</th>\n",
       "      <th>imdb_nus_num</th>\n",
       "      <th>imdb_fem_vote</th>\n",
       "      <th>met_cri_num</th>\n",
       "    </tr>\n",
       "  </thead>\n",
       "  <tbody>\n",
       "    <tr>\n",
       "      <th>409</th>\n",
       "      <td>59</td>\n",
       "      <td>45</td>\n",
       "      <td>18373</td>\n",
       "      <td>832</td>\n",
       "      <td>1733</td>\n",
       "      <td>2773</td>\n",
       "      <td>12040</td>\n",
       "      <td>7711</td>\n",
       "      <td>53</td>\n",
       "      <td>12</td>\n",
       "    </tr>\n",
       "    <tr>\n",
       "      <th>837</th>\n",
       "      <td>30</td>\n",
       "      <td>9</td>\n",
       "      <td>260</td>\n",
       "      <td>50</td>\n",
       "      <td>21</td>\n",
       "      <td>89</td>\n",
       "      <td>188</td>\n",
       "      <td>102</td>\n",
       "      <td>66</td>\n",
       "      <td>9</td>\n",
       "    </tr>\n",
       "    <tr>\n",
       "      <th>936</th>\n",
       "      <td>44</td>\n",
       "      <td>14</td>\n",
       "      <td>3328</td>\n",
       "      <td>171</td>\n",
       "      <td>357</td>\n",
       "      <td>778</td>\n",
       "      <td>2266</td>\n",
       "      <td>1410</td>\n",
       "      <td>55</td>\n",
       "      <td>9</td>\n",
       "    </tr>\n",
       "    <tr>\n",
       "      <th>1155</th>\n",
       "      <td>63</td>\n",
       "      <td>14</td>\n",
       "      <td>4723</td>\n",
       "      <td>100</td>\n",
       "      <td>483</td>\n",
       "      <td>542</td>\n",
       "      <td>2023</td>\n",
       "      <td>1736</td>\n",
       "      <td>64</td>\n",
       "      <td>19</td>\n",
       "    </tr>\n",
       "    <tr>\n",
       "      <th>1873</th>\n",
       "      <td>160</td>\n",
       "      <td>156</td>\n",
       "      <td>143295</td>\n",
       "      <td>41227</td>\n",
       "      <td>19317</td>\n",
       "      <td>18157</td>\n",
       "      <td>103218</td>\n",
       "      <td>77268</td>\n",
       "      <td>68</td>\n",
       "      <td>32</td>\n",
       "    </tr>\n",
       "  </tbody>\n",
       "</table>\n",
       "</div>"
      ],
      "text/plain": [
       "      tom_cri_num  met_aud_num  imdb_num  tom_aud_num  imdb_fem_num  \\\n",
       "409            59           45     18373          832          1733   \n",
       "837            30            9       260           50            21   \n",
       "936            44           14      3328          171           357   \n",
       "1155           63           14      4723          100           483   \n",
       "1873          160          156    143295        41227         19317   \n",
       "\n",
       "      imdb_us_num  imdb_mal_num  imdb_nus_num  imdb_fem_vote  met_cri_num  \n",
       "409          2773         12040          7711             53           12  \n",
       "837            89           188           102             66            9  \n",
       "936           778          2266          1410             55            9  \n",
       "1155          542          2023          1736             64           19  \n",
       "1873        18157        103218         77268             68           32  "
      ]
     },
     "execution_count": 39,
     "metadata": {},
     "output_type": "execute_result"
    }
   ],
   "source": [
    "X_train_minmae = X_train[['tom_cri_num','met_aud_num','imdb_num','tom_aud_num','imdb_fem_num','imdb_us_num',\n",
    "                         'imdb_mal_num','imdb_nus_num','imdb_fem_vote','met_cri_num']]\n",
    "X_train_minmae.head()"
   ]
  },
  {
   "cell_type": "code",
   "execution_count": 40,
   "id": "85dcfe43",
   "metadata": {},
   "outputs": [],
   "source": [
    "reg_minmae = LinearRegression()"
   ]
  },
  {
   "cell_type": "code",
   "execution_count": 41,
   "id": "0472187b",
   "metadata": {},
   "outputs": [],
   "source": [
    "cv_results_minmae = cross_validate(reg_minmae, X_train_minmae, y_train, cv=5)"
   ]
  },
  {
   "cell_type": "code",
   "execution_count": 42,
   "id": "496f385f",
   "metadata": {},
   "outputs": [
    {
     "data": {
      "text/plain": [
       "array([0.65952984, 0.09105078, 0.50304472, 0.6120939 , 0.61434238])"
      ]
     },
     "execution_count": 42,
     "metadata": {},
     "output_type": "execute_result"
    }
   ],
   "source": [
    "cv_results_minmae['test_score']"
   ]
  },
  {
   "cell_type": "code",
   "execution_count": 43,
   "id": "4ec8a994",
   "metadata": {},
   "outputs": [
    {
     "data": {
      "text/plain": [
       "(0.4960123238780221, 0.20892975634718983)"
      ]
     },
     "execution_count": 43,
     "metadata": {},
     "output_type": "execute_result"
    }
   ],
   "source": [
    "np.mean(cv_results_minmae['test_score']), np.std(cv_results_minmae['test_score'])"
   ]
  },
  {
   "cell_type": "code",
   "execution_count": 44,
   "id": "5d01121f",
   "metadata": {},
   "outputs": [
    {
     "data": {
      "text/plain": [
       "-50613559.98483166"
      ]
     },
     "execution_count": 44,
     "metadata": {},
     "output_type": "execute_result"
    }
   ],
   "source": [
    "mae_minmae = cross_val_score(reg_minmae, X_train_minmae, y_train, cv=5,scoring='neg_mean_absolute_error')\n",
    "np.mean(mae_minmae)"
   ]
  },
  {
   "cell_type": "markdown",
   "id": "95977f8a",
   "metadata": {},
   "source": [
    "Using the 10 suggested columns return a R^2 score of slightly lower but the mae drop to 50 millions which might be a better option as we have less margine of error for box-office perdiction. "
   ]
  },
  {
   "cell_type": "markdown",
   "id": "4b907d79",
   "metadata": {},
   "source": [
    "### Linear Regression : Critics vs Audience"
   ]
  },
  {
   "cell_type": "markdown",
   "id": "0bd1f114",
   "metadata": {},
   "source": [
    "From the Gridserch result we already see that audience votes and number have more importance in compare to critics vote. But how the model using only audience votes do better than a model using only critics votes."
   ]
  },
  {
   "cell_type": "code",
   "execution_count": 45,
   "id": "f985f107",
   "metadata": {},
   "outputs": [
    {
     "data": {
      "text/html": [
       "<div>\n",
       "<style scoped>\n",
       "    .dataframe tbody tr th:only-of-type {\n",
       "        vertical-align: middle;\n",
       "    }\n",
       "\n",
       "    .dataframe tbody tr th {\n",
       "        vertical-align: top;\n",
       "    }\n",
       "\n",
       "    .dataframe thead th {\n",
       "        text-align: right;\n",
       "    }\n",
       "</style>\n",
       "<table border=\"1\" class=\"dataframe\">\n",
       "  <thead>\n",
       "    <tr style=\"text-align: right;\">\n",
       "      <th></th>\n",
       "      <th>tom_cri_vote</th>\n",
       "      <th>tom_cri_num</th>\n",
       "      <th>met_cri_vote</th>\n",
       "      <th>met_cri_num</th>\n",
       "    </tr>\n",
       "  </thead>\n",
       "  <tbody>\n",
       "    <tr>\n",
       "      <th>409</th>\n",
       "      <td>47</td>\n",
       "      <td>59</td>\n",
       "      <td>35</td>\n",
       "      <td>12</td>\n",
       "    </tr>\n",
       "    <tr>\n",
       "      <th>837</th>\n",
       "      <td>100</td>\n",
       "      <td>30</td>\n",
       "      <td>91</td>\n",
       "      <td>9</td>\n",
       "    </tr>\n",
       "    <tr>\n",
       "      <th>936</th>\n",
       "      <td>77</td>\n",
       "      <td>44</td>\n",
       "      <td>60</td>\n",
       "      <td>9</td>\n",
       "    </tr>\n",
       "    <tr>\n",
       "      <th>1155</th>\n",
       "      <td>67</td>\n",
       "      <td>63</td>\n",
       "      <td>63</td>\n",
       "      <td>19</td>\n",
       "    </tr>\n",
       "    <tr>\n",
       "      <th>1873</th>\n",
       "      <td>32</td>\n",
       "      <td>160</td>\n",
       "      <td>40</td>\n",
       "      <td>32</td>\n",
       "    </tr>\n",
       "  </tbody>\n",
       "</table>\n",
       "</div>"
      ],
      "text/plain": [
       "      tom_cri_vote  tom_cri_num  met_cri_vote  met_cri_num\n",
       "409             47           59            35           12\n",
       "837            100           30            91            9\n",
       "936             77           44            60            9\n",
       "1155            67           63            63           19\n",
       "1873            32          160            40           32"
      ]
     },
     "execution_count": 45,
     "metadata": {},
     "output_type": "execute_result"
    }
   ],
   "source": [
    "#Spliting the training set and using only critics vote as a traning data\n",
    "\n",
    "X_train_critic = X_train[['tom_cri_vote','tom_cri_num','met_cri_vote','met_cri_num']]\n",
    "X_train_critic.head()"
   ]
  },
  {
   "cell_type": "code",
   "execution_count": 46,
   "id": "7c68a221",
   "metadata": {},
   "outputs": [],
   "source": [
    "#making a new model for critic and use the critic training set on it\n",
    "reg_critic = LinearRegression()"
   ]
  },
  {
   "cell_type": "code",
   "execution_count": 47,
   "id": "9f1cdf49",
   "metadata": {},
   "outputs": [],
   "source": [
    "cv_results_critic = cross_validate(reg_critic, X_train_critic, y_train, cv=5)"
   ]
  },
  {
   "cell_type": "code",
   "execution_count": 48,
   "id": "246f20ec",
   "metadata": {},
   "outputs": [
    {
     "data": {
      "text/plain": [
       "array([0.39077398, 0.32317393, 0.35401119, 0.3629407 , 0.34750942])"
      ]
     },
     "execution_count": 48,
     "metadata": {},
     "output_type": "execute_result"
    }
   ],
   "source": [
    "cv_results_critic['test_score']"
   ]
  },
  {
   "cell_type": "code",
   "execution_count": 49,
   "id": "1ec4da56",
   "metadata": {},
   "outputs": [
    {
     "data": {
      "text/plain": [
       "(0.3556818435777583, 0.02195674388719155)"
      ]
     },
     "execution_count": 49,
     "metadata": {},
     "output_type": "execute_result"
    }
   ],
   "source": [
    "np.mean(cv_results_critic['test_score']), np.std(cv_results_critic['test_score'])"
   ]
  },
  {
   "cell_type": "code",
   "execution_count": 50,
   "id": "9ec108e9",
   "metadata": {},
   "outputs": [
    {
     "data": {
      "text/plain": [
       "-70710393.58129701"
      ]
     },
     "execution_count": 50,
     "metadata": {},
     "output_type": "execute_result"
    }
   ],
   "source": [
    "mae_critic = cross_val_score(reg_critic, X_train_critic, y_train, cv=5,scoring='neg_mean_absolute_error')\n",
    "np.mean(mae_critic)"
   ]
  },
  {
   "cell_type": "markdown",
   "id": "79ae659a",
   "metadata": {},
   "source": [
    "Now doing the same step by usuing the audience votes data."
   ]
  },
  {
   "cell_type": "code",
   "execution_count": 51,
   "id": "5e0e4e4a",
   "metadata": {},
   "outputs": [
    {
     "data": {
      "text/html": [
       "<div>\n",
       "<style scoped>\n",
       "    .dataframe tbody tr th:only-of-type {\n",
       "        vertical-align: middle;\n",
       "    }\n",
       "\n",
       "    .dataframe tbody tr th {\n",
       "        vertical-align: top;\n",
       "    }\n",
       "\n",
       "    .dataframe thead th {\n",
       "        text-align: right;\n",
       "    }\n",
       "</style>\n",
       "<table border=\"1\" class=\"dataframe\">\n",
       "  <thead>\n",
       "    <tr style=\"text-align: right;\">\n",
       "      <th></th>\n",
       "      <th>tom_aud_vote</th>\n",
       "      <th>tom_aud_num</th>\n",
       "      <th>met_aud_vote</th>\n",
       "      <th>met_aud_num</th>\n",
       "      <th>imdb_vote</th>\n",
       "      <th>imdb_num</th>\n",
       "      <th>imdb_us_vote</th>\n",
       "      <th>imdb_us_num</th>\n",
       "      <th>imdb_nus_vote</th>\n",
       "      <th>imdb_nus_num</th>\n",
       "      <th>imdb_fem_vote</th>\n",
       "      <th>imdb_fem_num</th>\n",
       "      <th>imdb_mal_vote</th>\n",
       "      <th>imdb_mal_num</th>\n",
       "    </tr>\n",
       "  </thead>\n",
       "  <tbody>\n",
       "    <tr>\n",
       "      <th>409</th>\n",
       "      <td>23</td>\n",
       "      <td>832</td>\n",
       "      <td>46</td>\n",
       "      <td>45</td>\n",
       "      <td>51</td>\n",
       "      <td>18373</td>\n",
       "      <td>50</td>\n",
       "      <td>2773</td>\n",
       "      <td>50</td>\n",
       "      <td>7711</td>\n",
       "      <td>53</td>\n",
       "      <td>1733</td>\n",
       "      <td>51</td>\n",
       "      <td>12040</td>\n",
       "    </tr>\n",
       "    <tr>\n",
       "      <th>837</th>\n",
       "      <td>62</td>\n",
       "      <td>50</td>\n",
       "      <td>91</td>\n",
       "      <td>9</td>\n",
       "      <td>70</td>\n",
       "      <td>260</td>\n",
       "      <td>73</td>\n",
       "      <td>89</td>\n",
       "      <td>66</td>\n",
       "      <td>102</td>\n",
       "      <td>66</td>\n",
       "      <td>21</td>\n",
       "      <td>69</td>\n",
       "      <td>188</td>\n",
       "    </tr>\n",
       "    <tr>\n",
       "      <th>936</th>\n",
       "      <td>44</td>\n",
       "      <td>171</td>\n",
       "      <td>58</td>\n",
       "      <td>14</td>\n",
       "      <td>55</td>\n",
       "      <td>3328</td>\n",
       "      <td>55</td>\n",
       "      <td>778</td>\n",
       "      <td>54</td>\n",
       "      <td>1410</td>\n",
       "      <td>55</td>\n",
       "      <td>357</td>\n",
       "      <td>55</td>\n",
       "      <td>2266</td>\n",
       "    </tr>\n",
       "    <tr>\n",
       "      <th>1155</th>\n",
       "      <td>32</td>\n",
       "      <td>100</td>\n",
       "      <td>76</td>\n",
       "      <td>14</td>\n",
       "      <td>62</td>\n",
       "      <td>4723</td>\n",
       "      <td>63</td>\n",
       "      <td>542</td>\n",
       "      <td>60</td>\n",
       "      <td>1736</td>\n",
       "      <td>64</td>\n",
       "      <td>483</td>\n",
       "      <td>58</td>\n",
       "      <td>2023</td>\n",
       "    </tr>\n",
       "    <tr>\n",
       "      <th>1873</th>\n",
       "      <td>52</td>\n",
       "      <td>41227</td>\n",
       "      <td>63</td>\n",
       "      <td>156</td>\n",
       "      <td>66</td>\n",
       "      <td>143295</td>\n",
       "      <td>65</td>\n",
       "      <td>18157</td>\n",
       "      <td>66</td>\n",
       "      <td>77268</td>\n",
       "      <td>68</td>\n",
       "      <td>19317</td>\n",
       "      <td>66</td>\n",
       "      <td>103218</td>\n",
       "    </tr>\n",
       "  </tbody>\n",
       "</table>\n",
       "</div>"
      ],
      "text/plain": [
       "      tom_aud_vote  tom_aud_num  met_aud_vote  met_aud_num  imdb_vote  \\\n",
       "409             23          832            46           45         51   \n",
       "837             62           50            91            9         70   \n",
       "936             44          171            58           14         55   \n",
       "1155            32          100            76           14         62   \n",
       "1873            52        41227            63          156         66   \n",
       "\n",
       "      imdb_num  imdb_us_vote  imdb_us_num  imdb_nus_vote  imdb_nus_num  \\\n",
       "409      18373            50         2773             50          7711   \n",
       "837        260            73           89             66           102   \n",
       "936       3328            55          778             54          1410   \n",
       "1155      4723            63          542             60          1736   \n",
       "1873    143295            65        18157             66         77268   \n",
       "\n",
       "      imdb_fem_vote  imdb_fem_num  imdb_mal_vote  imdb_mal_num  \n",
       "409              53          1733             51         12040  \n",
       "837              66            21             69           188  \n",
       "936              55           357             55          2266  \n",
       "1155             64           483             58          2023  \n",
       "1873             68         19317             66        103218  "
      ]
     },
     "execution_count": 51,
     "metadata": {},
     "output_type": "execute_result"
    }
   ],
   "source": [
    "#audience\n",
    "X_train_audience = X_train[['tom_aud_vote','tom_aud_num','met_aud_vote','met_aud_num','imdb_vote','imdb_num',\n",
    "                             'imdb_us_vote','imdb_us_num','imdb_nus_vote','imdb_nus_num','imdb_fem_vote',\n",
    "                             'imdb_fem_num','imdb_mal_vote','imdb_mal_num']]\n",
    "X_train_audience.head()"
   ]
  },
  {
   "cell_type": "code",
   "execution_count": 52,
   "id": "6d70d647",
   "metadata": {},
   "outputs": [],
   "source": [
    "reg_audience = LinearRegression()\n",
    "cv_results_audience = cross_validate(reg_audience, X_train_audience, y_train, cv=5)"
   ]
  },
  {
   "cell_type": "code",
   "execution_count": 53,
   "id": "870b733c",
   "metadata": {},
   "outputs": [
    {
     "data": {
      "text/plain": [
       "array([0.66530901, 0.07420447, 0.50175986, 0.63646941, 0.61390215])"
      ]
     },
     "execution_count": 53,
     "metadata": {},
     "output_type": "execute_result"
    }
   ],
   "source": [
    "cv_results_audience['test_score']"
   ]
  },
  {
   "cell_type": "code",
   "execution_count": 54,
   "id": "8cf484c5",
   "metadata": {},
   "outputs": [
    {
     "data": {
      "text/plain": [
       "(0.49832897953636746, 0.21918742675165642)"
      ]
     },
     "execution_count": 54,
     "metadata": {},
     "output_type": "execute_result"
    }
   ],
   "source": [
    "np.mean(cv_results_audience['test_score']), np.std(cv_results_audience['test_score'])"
   ]
  },
  {
   "cell_type": "code",
   "execution_count": 55,
   "id": "d99e1080",
   "metadata": {},
   "outputs": [
    {
     "data": {
      "text/plain": [
       "-53457579.847821236"
      ]
     },
     "execution_count": 55,
     "metadata": {},
     "output_type": "execute_result"
    }
   ],
   "source": [
    "mae_audience = cross_val_score(reg_audience, X_train_audience, y_train, cv=5,scoring='neg_mean_absolute_error')\n",
    "np.mean(mae_audience)"
   ]
  },
  {
   "cell_type": "markdown",
   "id": "391bcc36",
   "metadata": {},
   "source": [
    "The model that used the critics vote do way worse than the audience vote. critic model has R^2 of 0.3 and mae of 70 million. The audience model on the other hand has very close score to the general model using all data, while R^2 is slighltly lower but it has a better mae. The general model mae was 55 million and the audience mae is 53 million. \n",
    "\n",
    "The best Linear Regression model considering both the R^2 and mae would be the one with 10 features suggested by Gridsearch for having minimum mae ( all the Number of vote columns and one of the vote coulumns). That would gives us the R^2 of 0.5 and mae of 50 millons dollars.\n",
    "\n",
    "Now Let's try Random Forest Regressor!"
   ]
  },
  {
   "cell_type": "markdown",
   "id": "06207de7",
   "metadata": {},
   "source": [
    "### Random Forest"
   ]
  },
  {
   "cell_type": "markdown",
   "id": "b00c7cef",
   "metadata": {},
   "source": [
    "For start let's run a Gridesearch to chose best combination of tree number and maximum depth."
   ]
  },
  {
   "cell_type": "code",
   "execution_count": 56,
   "id": "fc470845",
   "metadata": {},
   "outputs": [],
   "source": [
    "pipe3 = make_pipeline(\n",
    "    StandardScaler(),\n",
    "    RandomForestRegressor(random_state=47)\n",
    ")"
   ]
  },
  {
   "cell_type": "code",
   "execution_count": 57,
   "id": "1536a922",
   "metadata": {},
   "outputs": [
    {
     "data": {
      "text/plain": [
       "{'standardscaler': [StandardScaler(), None],\n",
       " 'randomforestregressor__n_estimators': [50, 100, 150, 200, 300, 400],\n",
       " 'randomforestregressor__max_depth': [40, 60, 80],\n",
       " 'randomforestregressor__min_samples_leaf': [2],\n",
       " 'randomforestregressor__min_samples_split': [6]}"
      ]
     },
     "execution_count": 57,
     "metadata": {},
     "output_type": "execute_result"
    }
   ],
   "source": [
    "n_estimators = [50,100,150,200,300,400]\n",
    "max_depth = [40,60,80]\n",
    "min_samples_leaf = [2]\n",
    "min_samples_split = [6]\n",
    "random_grid = {'standardscaler':[StandardScaler(),None],\n",
    "               'randomforestregressor__n_estimators': n_estimators,\n",
    "               'randomforestregressor__max_depth': max_depth,\n",
    "               'randomforestregressor__min_samples_leaf': min_samples_leaf ,\n",
    "               'randomforestregressor__min_samples_split': min_samples_split\n",
    "               \n",
    "            }\n",
    "random_grid"
   ]
  },
  {
   "cell_type": "code",
   "execution_count": 58,
   "id": "5e82225b",
   "metadata": {},
   "outputs": [],
   "source": [
    "rf_grid_cv = GridSearchCV(pipe3, param_grid=random_grid, cv=5, n_jobs=-1)"
   ]
  },
  {
   "cell_type": "markdown",
   "id": "12c67c2b",
   "metadata": {},
   "source": [
    "#### (forsake of running the Gridesearch faster i disable the min_sample_leaf and min_sample_split. Chosing them made the Gridesearch to take 4 hours and gives a slightly better result at the end.)"
   ]
  },
  {
   "cell_type": "code",
   "execution_count": 59,
   "id": "db7e7c78",
   "metadata": {},
   "outputs": [
    {
     "data": {
      "text/plain": [
       "dict_keys(['memory', 'steps', 'verbose', 'standardscaler', 'randomforestregressor', 'standardscaler__copy', 'standardscaler__with_mean', 'standardscaler__with_std', 'randomforestregressor__bootstrap', 'randomforestregressor__ccp_alpha', 'randomforestregressor__criterion', 'randomforestregressor__max_depth', 'randomforestregressor__max_features', 'randomforestregressor__max_leaf_nodes', 'randomforestregressor__max_samples', 'randomforestregressor__min_impurity_decrease', 'randomforestregressor__min_impurity_split', 'randomforestregressor__min_samples_leaf', 'randomforestregressor__min_samples_split', 'randomforestregressor__min_weight_fraction_leaf', 'randomforestregressor__n_estimators', 'randomforestregressor__n_jobs', 'randomforestregressor__oob_score', 'randomforestregressor__random_state', 'randomforestregressor__verbose', 'randomforestregressor__warm_start'])"
      ]
     },
     "execution_count": 59,
     "metadata": {},
     "output_type": "execute_result"
    }
   ],
   "source": [
    "pipe3.get_params().keys()"
   ]
  },
  {
   "cell_type": "code",
   "execution_count": 60,
   "id": "3909f7c8",
   "metadata": {},
   "outputs": [
    {
     "data": {
      "text/plain": [
       "GridSearchCV(cv=5,\n",
       "             estimator=Pipeline(steps=[('standardscaler', StandardScaler()),\n",
       "                                       ('randomforestregressor',\n",
       "                                        RandomForestRegressor(random_state=47))]),\n",
       "             n_jobs=-1,\n",
       "             param_grid={'randomforestregressor__max_depth': [40, 60, 80],\n",
       "                         'randomforestregressor__min_samples_leaf': [2],\n",
       "                         'randomforestregressor__min_samples_split': [6],\n",
       "                         'randomforestregressor__n_estimators': [50, 100, 150,\n",
       "                                                                 200, 300,\n",
       "                                                                 400],\n",
       "                         'standardscaler': [StandardScaler(), None]})"
      ]
     },
     "execution_count": 60,
     "metadata": {},
     "output_type": "execute_result"
    }
   ],
   "source": [
    "rf_grid_cv.fit(X_train, y_train)"
   ]
  },
  {
   "cell_type": "code",
   "execution_count": null,
   "id": "141ca91a",
   "metadata": {},
   "outputs": [],
   "source": []
  },
  {
   "cell_type": "code",
   "execution_count": 61,
   "id": "567caa69",
   "metadata": {},
   "outputs": [
    {
     "data": {
      "text/plain": [
       "{'randomforestregressor__max_depth': 60,\n",
       " 'randomforestregressor__min_samples_leaf': 2,\n",
       " 'randomforestregressor__min_samples_split': 6,\n",
       " 'randomforestregressor__n_estimators': 50,\n",
       " 'standardscaler': None}"
      ]
     },
     "execution_count": 61,
     "metadata": {},
     "output_type": "execute_result"
    }
   ],
   "source": [
    "rf_grid_cv.best_params_"
   ]
  },
  {
   "cell_type": "code",
   "execution_count": 62,
   "id": "1e325593",
   "metadata": {},
   "outputs": [
    {
     "data": {
      "image/png": "[encoded data removed]",
      "text/plain": [
       "<Figure size 720x360 with 1 Axes>"
      ]
     },
     "metadata": {
      "needs_background": "light"
     },
     "output_type": "display_data"
    }
   ],
   "source": [
    "plt.subplots(figsize=(10, 5))\n",
    "imps = rf_grid_cv.best_estimator_.named_steps.randomforestregressor.feature_importances_\n",
    "rf_feat_imps = pd.Series(imps, index=X_train.columns).sort_values(ascending=False)\n",
    "rf_feat_imps.plot(kind='bar')\n",
    "plt.xlabel('features')\n",
    "plt.ylabel('importance')\n",
    "plt.title('Best random forest regressor feature importances');"
   ]
  },
  {
   "cell_type": "markdown",
   "id": "156b33e7",
   "metadata": {},
   "source": [
    "Vote Number still has more importance here in compare to vote average."
   ]
  },
  {
   "cell_type": "code",
   "execution_count": 63,
   "id": "2cc33709",
   "metadata": {},
   "outputs": [
    {
     "data": {
      "text/plain": [
       "array([0.75465605, 0.48267879, 0.61246999, 0.60850494, 0.71227   ])"
      ]
     },
     "execution_count": 63,
     "metadata": {},
     "output_type": "execute_result"
    }
   ],
   "source": [
    "rf_best_cv_results = cross_validate(rf_grid_cv.best_estimator_, X_train, y_train, cv=5)\n",
    "rf_best_scores = rf_best_cv_results['test_score']\n",
    "rf_best_scores"
   ]
  },
  {
   "cell_type": "code",
   "execution_count": 64,
   "id": "0b14c261",
   "metadata": {},
   "outputs": [
    {
     "data": {
      "text/plain": [
       "(0.634115954270267, 0.09454697816677798)"
      ]
     },
     "execution_count": 64,
     "metadata": {},
     "output_type": "execute_result"
    }
   ],
   "source": [
    "np.mean(rf_best_scores), np.std(rf_best_scores)"
   ]
  },
  {
   "cell_type": "code",
   "execution_count": 65,
   "id": "c7ffa177",
   "metadata": {},
   "outputs": [
    {
     "data": {
      "text/plain": [
       "-40822549.687326"
      ]
     },
     "execution_count": 65,
     "metadata": {},
     "output_type": "execute_result"
    }
   ],
   "source": [
    "rf_mae = cross_val_score(rf_grid_cv.best_estimator_, X_train, y_train, cv=5,scoring='neg_mean_absolute_error')\n",
    "np.mean(rf_mae)"
   ]
  },
  {
   "cell_type": "markdown",
   "id": "2f6260cf",
   "metadata": {},
   "source": [
    "Random Forest Regressor increase the R^2 to 0.62 and drop the mae to 41 millions. This is clearly a better model. \n",
    "How about if we chose the mae as a score for GrideSearch."
   ]
  },
  {
   "cell_type": "code",
   "execution_count": 66,
   "id": "1ece542b",
   "metadata": {},
   "outputs": [],
   "source": [
    "#chose mae as a score for GrideSearch\n",
    "rf_grid_cv_minmae = GridSearchCV(pipe3, param_grid=random_grid, cv=5, n_jobs=-1,scoring='neg_mean_absolute_error')"
   ]
  },
  {
   "cell_type": "code",
   "execution_count": 67,
   "id": "85a47038",
   "metadata": {},
   "outputs": [
    {
     "data": {
      "text/plain": [
       "GridSearchCV(cv=5,\n",
       "             estimator=Pipeline(steps=[('standardscaler', StandardScaler()),\n",
       "                                       ('randomforestregressor',\n",
       "                                        RandomForestRegressor(random_state=47))]),\n",
       "             n_jobs=-1,\n",
       "             param_grid={'randomforestregressor__max_depth': [40, 60, 80],\n",
       "                         'randomforestregressor__min_samples_leaf': [2],\n",
       "                         'randomforestregressor__min_samples_split': [6],\n",
       "                         'randomforestregressor__n_estimators': [50, 100, 150,\n",
       "                                                                 200, 300,\n",
       "                                                                 400],\n",
       "                         'standardscaler': [StandardScaler(), None]},\n",
       "             scoring='neg_mean_absolute_error')"
      ]
     },
     "execution_count": 67,
     "metadata": {},
     "output_type": "execute_result"
    }
   ],
   "source": [
    "rf_grid_cv_minmae.fit(X_train, y_train)"
   ]
  },
  {
   "cell_type": "code",
   "execution_count": 68,
   "id": "cf5cea79",
   "metadata": {},
   "outputs": [
    {
     "data": {
      "text/plain": [
       "{'randomforestregressor__max_depth': 60,\n",
       " 'randomforestregressor__min_samples_leaf': 2,\n",
       " 'randomforestregressor__min_samples_split': 6,\n",
       " 'randomforestregressor__n_estimators': 50,\n",
       " 'standardscaler': None}"
      ]
     },
     "execution_count": 68,
     "metadata": {},
     "output_type": "execute_result"
    }
   ],
   "source": [
    "rf_grid_cv_minmae.best_params_"
   ]
  },
  {
   "cell_type": "code",
   "execution_count": 69,
   "id": "b2094917",
   "metadata": {},
   "outputs": [
    {
     "data": {
      "image/png": "[encoded data removed]",
      "text/plain": [
       "<Figure size 720x360 with 1 Axes>"
      ]
     },
     "metadata": {
      "needs_background": "light"
     },
     "output_type": "display_data"
    }
   ],
   "source": [
    "plt.subplots(figsize=(10, 5))\n",
    "imps = rf_grid_cv_minmae.best_estimator_.named_steps.randomforestregressor.feature_importances_\n",
    "rf_feat_imps = pd.Series(imps, index=X_train.columns).sort_values(ascending=False)\n",
    "rf_feat_imps.plot(kind='bar')\n",
    "plt.xlabel('features')\n",
    "plt.ylabel('importance')\n",
    "plt.title('Best random forest regressor feature importances');"
   ]
  },
  {
   "cell_type": "code",
   "execution_count": 70,
   "id": "ba95a009",
   "metadata": {},
   "outputs": [
    {
     "data": {
      "text/plain": [
       "array([0.75465605, 0.48267879, 0.61246999, 0.60850494, 0.71227   ])"
      ]
     },
     "execution_count": 70,
     "metadata": {},
     "output_type": "execute_result"
    }
   ],
   "source": [
    "rf_best_cv_results_minmae = cross_validate(rf_grid_cv_minmae.best_estimator_, X_train, y_train, cv=5)\n",
    "rf_best_scores_minmae = rf_best_cv_results_minmae['test_score']\n",
    "rf_best_scores_minmae"
   ]
  },
  {
   "cell_type": "code",
   "execution_count": 71,
   "id": "f4dec7e7",
   "metadata": {},
   "outputs": [
    {
     "data": {
      "text/plain": [
       "(0.634115954270267, 0.09454697816677798)"
      ]
     },
     "execution_count": 71,
     "metadata": {},
     "output_type": "execute_result"
    }
   ],
   "source": [
    "np.mean(rf_best_scores_minmae), np.std(rf_best_scores_minmae)"
   ]
  },
  {
   "cell_type": "code",
   "execution_count": 72,
   "id": "60a96a10",
   "metadata": {},
   "outputs": [
    {
     "data": {
      "text/plain": [
       "-40822549.687326"
      ]
     },
     "execution_count": 72,
     "metadata": {},
     "output_type": "execute_result"
    }
   ],
   "source": [
    "rf_mae_minmae = cross_val_score(rf_grid_cv_minmae.best_estimator_, X_train, y_train, cv=5,scoring='neg_mean_absolute_error')\n",
    "np.mean(rf_mae_minmae)"
   ]
  },
  {
   "cell_type": "markdown",
   "id": "57873077",
   "metadata": {},
   "source": [
    "In Random Forest Regressor chosing mae as a score for Gridesearch didn't make much of a diffrence."
   ]
  },
  {
   "cell_type": "markdown",
   "id": "7c673220",
   "metadata": {},
   "source": [
    "### Random Forest on split data Critics vs Audience"
   ]
  },
  {
   "cell_type": "markdown",
   "id": "7289a9ef",
   "metadata": {},
   "source": [
    "Now let's run the same experiment of spliting data for critic and audience and see the result for Random Forest Regressor."
   ]
  },
  {
   "cell_type": "code",
   "execution_count": 73,
   "id": "1a0136b6",
   "metadata": {},
   "outputs": [],
   "source": [
    "#make a best model by using the Gridesearch result\n",
    "pipe4 = make_pipeline(\n",
    "    RandomForestRegressor(max_depth=60,n_estimators=50,random_state=47,min_samples_leaf= 2,min_samples_split= 6))\n"
   ]
  },
  {
   "cell_type": "code",
   "execution_count": null,
   "id": "c21755d3",
   "metadata": {},
   "outputs": [],
   "source": []
  },
  {
   "cell_type": "code",
   "execution_count": 74,
   "id": "4b215291",
   "metadata": {},
   "outputs": [],
   "source": [
    "#spliting the data for critic and do the cross validation on that set\n",
    "rf_cv_results_critic = cross_validate(pipe4, X_train_critic, y_train, cv=5)"
   ]
  },
  {
   "cell_type": "code",
   "execution_count": 75,
   "id": "eac94c9b",
   "metadata": {},
   "outputs": [
    {
     "data": {
      "text/plain": [
       "array([0.43392813, 0.29609609, 0.39306538, 0.38061837, 0.43335565])"
      ]
     },
     "execution_count": 75,
     "metadata": {},
     "output_type": "execute_result"
    }
   ],
   "source": [
    "rf_cv_results_critic['test_score']"
   ]
  },
  {
   "cell_type": "code",
   "execution_count": 76,
   "id": "822d038f",
   "metadata": {},
   "outputs": [
    {
     "data": {
      "text/plain": [
       "(0.3874127260542145, 0.050381103381540136)"
      ]
     },
     "execution_count": 76,
     "metadata": {},
     "output_type": "execute_result"
    }
   ],
   "source": [
    "np.mean(rf_cv_results_critic['test_score']),np.std(rf_cv_results_critic['test_score'])"
   ]
  },
  {
   "cell_type": "code",
   "execution_count": 77,
   "id": "9354c30e",
   "metadata": {},
   "outputs": [
    {
     "data": {
      "text/plain": [
       "-59186644.8412658"
      ]
     },
     "execution_count": 77,
     "metadata": {},
     "output_type": "execute_result"
    }
   ],
   "source": [
    "rf_mae_critic = cross_val_score(pipe4, X_train_critic, y_train, cv=5,scoring='neg_mean_absolute_error')\n",
    "np.mean(rf_mae_critic)"
   ]
  },
  {
   "cell_type": "code",
   "execution_count": 78,
   "id": "6be0fd38",
   "metadata": {},
   "outputs": [],
   "source": [
    "#spliting the audience data and cross validation to check the scores\n",
    "rf_cv_results_audience = cross_validate(pipe4, X_train_audience, y_train, cv=5)"
   ]
  },
  {
   "cell_type": "code",
   "execution_count": 79,
   "id": "9a1b904b",
   "metadata": {},
   "outputs": [
    {
     "data": {
      "text/plain": [
       "array([0.6908849 , 0.45072099, 0.52711067, 0.61787162, 0.65895158])"
      ]
     },
     "execution_count": 79,
     "metadata": {},
     "output_type": "execute_result"
    }
   ],
   "source": [
    "rf_cv_results_audience['test_score']"
   ]
  },
  {
   "cell_type": "code",
   "execution_count": 80,
   "id": "74b6d204",
   "metadata": {},
   "outputs": [
    {
     "data": {
      "text/plain": [
       "(0.5891079503164377, 0.08838398256335975)"
      ]
     },
     "execution_count": 80,
     "metadata": {},
     "output_type": "execute_result"
    }
   ],
   "source": [
    "np.mean(rf_cv_results_audience['test_score']),np.std(rf_cv_results_audience['test_score'])"
   ]
  },
  {
   "cell_type": "code",
   "execution_count": 81,
   "id": "c3bd3975",
   "metadata": {},
   "outputs": [
    {
     "data": {
      "text/plain": [
       "-42642499.0502774"
      ]
     },
     "execution_count": 81,
     "metadata": {},
     "output_type": "execute_result"
    }
   ],
   "source": [
    "rf_mae_audience = cross_val_score(pipe4, X_train_audience, y_train, cv=5,scoring='neg_mean_absolute_error')\n",
    "np.mean(rf_mae_audience)"
   ]
  },
  {
   "cell_type": "markdown",
   "id": "6352854a",
   "metadata": {},
   "source": [
    "Same result as Linear Regression. Audience data as a train set returns a result very close to whole data, but critic data on itself returns very bad scores."
   ]
  },
  {
   "cell_type": "markdown",
   "id": "70740a86",
   "metadata": {},
   "source": [
    "### Lasso Model:"
   ]
  },
  {
   "cell_type": "code",
   "execution_count": 82,
   "id": "9333f024",
   "metadata": {},
   "outputs": [
    {
     "data": {
      "text/plain": [
       "dict_keys(['memory', 'steps', 'verbose', 'standardscaler', 'selectkbest', 'lasso', 'standardscaler__copy', 'standardscaler__with_mean', 'standardscaler__with_std', 'selectkbest__k', 'selectkbest__score_func', 'lasso__alpha', 'lasso__copy_X', 'lasso__fit_intercept', 'lasso__max_iter', 'lasso__normalize', 'lasso__positive', 'lasso__precompute', 'lasso__random_state', 'lasso__selection', 'lasso__tol', 'lasso__warm_start'])"
      ]
     },
     "execution_count": 82,
     "metadata": {},
     "output_type": "execute_result"
    }
   ],
   "source": [
    "pipe5 = make_pipeline(\n",
    "    StandardScaler(),\n",
    "    SelectKBest(score_func=f_regression),\n",
    "    Lasso())\n",
    "\n",
    "pipe5.get_params().keys()"
   ]
  },
  {
   "cell_type": "code",
   "execution_count": 83,
   "id": "7506e8bf",
   "metadata": {},
   "outputs": [
    {
     "data": {
      "text/plain": [
       "{'lasso__alpha': array([0.  , 0.01, 0.02, 0.03, 0.04, 0.05, 0.06, 0.07, 0.08, 0.09, 0.1 ,\n",
       "        0.11, 0.12, 0.13, 0.14, 0.15, 0.16, 0.17, 0.18, 0.19, 0.2 ])}"
      ]
     },
     "execution_count": 83,
     "metadata": {},
     "output_type": "execute_result"
    }
   ],
   "source": [
    "k = [k+1 for k in range(len(X_train.columns))]\n",
    "alphas = np.linspace(0, 0.2, 21)\n",
    "grid_params = {\n",
    "                #'standardscaler':[StandardScaler(),None],\n",
    "                #'selectkbest__k' : k,\n",
    "                'lasso__alpha' : alphas,\n",
    "                \n",
    "}\n",
    "grid_params"
   ]
  },
  {
   "cell_type": "code",
   "execution_count": 84,
   "id": "b6d81299",
   "metadata": {},
   "outputs": [
    {
     "name": "stderr",
     "output_type": "stream",
     "text": [
      "/opt/anaconda3/lib/python3.8/site-packages/sklearn/linear_model/_coordinate_descent.py:530: ConvergenceWarning: Objective did not converge. You might want to increase the number of iterations. Duality gap: 1.7916351809715366e+19, tolerance: 8033922771110858.0\n",
      "  model = cd_fast.enet_coordinate_descent(\n"
     ]
    },
    {
     "data": {
      "text/plain": [
       "GridSearchCV(cv=5,\n",
       "             estimator=Pipeline(steps=[('standardscaler', StandardScaler()),\n",
       "                                       ('selectkbest',\n",
       "                                        SelectKBest(score_func=<function f_regression at 0x7ff59064ad30>)),\n",
       "                                       ('lasso', Lasso())]),\n",
       "             n_jobs=-1,\n",
       "             param_grid={'lasso__alpha': array([0.  , 0.01, 0.02, 0.03, 0.04, 0.05, 0.06, 0.07, 0.08, 0.09, 0.1 ,\n",
       "       0.11, 0.12, 0.13, 0.14, 0.15, 0.16, 0.17, 0.18, 0.19, 0.2 ])},\n",
       "             scoring='neg_mean_absolute_error')"
      ]
     },
     "execution_count": 84,
     "metadata": {},
     "output_type": "execute_result"
    }
   ],
   "source": [
    "lasso_grid_cv = GridSearchCV(pipe5, param_grid=grid_params, cv=5, n_jobs=-1,scoring='neg_mean_absolute_error')\n",
    "lasso_grid_cv.fit(X_train,y_train)"
   ]
  },
  {
   "cell_type": "code",
   "execution_count": 85,
   "id": "b8f36f8b",
   "metadata": {},
   "outputs": [
    {
     "data": {
      "text/plain": [
       "({'lasso__alpha': 0.2}, -50747032.87483515)"
      ]
     },
     "execution_count": 85,
     "metadata": {},
     "output_type": "execute_result"
    }
   ],
   "source": [
    "lasso_grid_cv.best_params_,lasso_grid_cv.best_score_"
   ]
  },
  {
   "cell_type": "markdown",
   "id": "3632f62c",
   "metadata": {},
   "source": [
    "### ElasticNet"
   ]
  },
  {
   "cell_type": "code",
   "execution_count": 86,
   "id": "de4f45ef",
   "metadata": {},
   "outputs": [
    {
     "data": {
      "text/plain": [
       "dict_keys(['memory', 'steps', 'verbose', 'standardscaler', 'selectkbest', 'elasticnet', 'standardscaler__copy', 'standardscaler__with_mean', 'standardscaler__with_std', 'selectkbest__k', 'selectkbest__score_func', 'elasticnet__alpha', 'elasticnet__copy_X', 'elasticnet__fit_intercept', 'elasticnet__l1_ratio', 'elasticnet__max_iter', 'elasticnet__normalize', 'elasticnet__positive', 'elasticnet__precompute', 'elasticnet__random_state', 'elasticnet__selection', 'elasticnet__tol', 'elasticnet__warm_start'])"
      ]
     },
     "execution_count": 86,
     "metadata": {},
     "output_type": "execute_result"
    }
   ],
   "source": [
    "pipe6 = make_pipeline(\n",
    "    StandardScaler(),\n",
    "    SelectKBest(score_func=f_regression),\n",
    "    ElasticNet())\n",
    "\n",
    "pipe6.get_params().keys()"
   ]
  },
  {
   "cell_type": "code",
   "execution_count": 87,
   "id": "0536f200",
   "metadata": {},
   "outputs": [
    {
     "data": {
      "text/plain": [
       "{'elasticnet__alpha': array([0.  , 0.01, 0.02, 0.03, 0.04, 0.05, 0.06, 0.07, 0.08, 0.09, 0.1 ,\n",
       "        0.11, 0.12, 0.13, 0.14, 0.15, 0.16, 0.17, 0.18, 0.19, 0.2 ]),\n",
       " 'elasticnet__l1_ratio': array([0. , 0.1, 0.2, 0.3, 0.4, 0.5, 0.6, 0.7, 0.8, 0.9])}"
      ]
     },
     "execution_count": 87,
     "metadata": {},
     "output_type": "execute_result"
    }
   ],
   "source": [
    "k = [k+1 for k in range(len(X_train.columns))]\n",
    "alphas = np.linspace(0, 0.2, 21)\n",
    "l1_ratio = np.arange(0, 1, 0.1)\n",
    "grid_params = {\n",
    "                #'standardscaler':[StandardScaler(),None],\n",
    "                #'selectkbest__k' : k,\n",
    "                'elasticnet__alpha' : alphas,\n",
    "                'elasticnet__l1_ratio': l1_ratio\n",
    "    \n",
    "                \n",
    "}\n",
    "grid_params"
   ]
  },
  {
   "cell_type": "code",
   "execution_count": 88,
   "id": "a201aafb",
   "metadata": {},
   "outputs": [
    {
     "name": "stderr",
     "output_type": "stream",
     "text": [
      "/opt/anaconda3/lib/python3.8/site-packages/sklearn/linear_model/_coordinate_descent.py:530: ConvergenceWarning: Objective did not converge. You might want to increase the number of iterations. Duality gap: 1.8368225485141449e+19, tolerance: 8033922771110858.0\n",
      "  model = cd_fast.enet_coordinate_descent(\n"
     ]
    },
    {
     "data": {
      "text/plain": [
       "GridSearchCV(cv=5,\n",
       "             estimator=Pipeline(steps=[('standardscaler', StandardScaler()),\n",
       "                                       ('selectkbest',\n",
       "                                        SelectKBest(score_func=<function f_regression at 0x7ff59064ad30>)),\n",
       "                                       ('elasticnet', ElasticNet())]),\n",
       "             n_jobs=-1,\n",
       "             param_grid={'elasticnet__alpha': array([0.  , 0.01, 0.02, 0.03, 0.04, 0.05, 0.06, 0.07, 0.08, 0.09, 0.1 ,\n",
       "       0.11, 0.12, 0.13, 0.14, 0.15, 0.16, 0.17, 0.18, 0.19, 0.2 ]),\n",
       "                         'elasticnet__l1_ratio': array([0. , 0.1, 0.2, 0.3, 0.4, 0.5, 0.6, 0.7, 0.8, 0.9])},\n",
       "             scoring='neg_mean_absolute_error')"
      ]
     },
     "execution_count": 88,
     "metadata": {},
     "output_type": "execute_result"
    }
   ],
   "source": [
    "elasticnet_grid_cv = GridSearchCV(pipe6, param_grid=grid_params, cv=5, n_jobs=-1,scoring='neg_mean_absolute_error')\n",
    "elasticnet_grid_cv.fit(X_train,y_train)"
   ]
  },
  {
   "cell_type": "code",
   "execution_count": 89,
   "id": "84b365fc",
   "metadata": {},
   "outputs": [
    {
     "data": {
      "text/plain": [
       "({'elasticnet__alpha': 0.04, 'elasticnet__l1_ratio': 0.9}, -50010670.458356306)"
      ]
     },
     "execution_count": 89,
     "metadata": {},
     "output_type": "execute_result"
    }
   ],
   "source": [
    "elasticnet_grid_cv.best_params_,elasticnet_grid_cv.best_score_"
   ]
  },
  {
   "cell_type": "markdown",
   "id": "0f5374b1",
   "metadata": {},
   "source": [
    "### Conclusion:\n",
    " \n",
    "* Amoung all the model I try for this dataset, Random Forest Regressor with tuned Hyperparameters returns the best result. R^2 Score = 0.63\n",
    "* Best model still has a mae of 40 million dollars when we perdict the box-office. ( the Dummy Reressor mae using the mean as a predictor was 95 million). This is a good margine of error if we try to perdict the box-office of a blockbuster or average movie. But for the Indie movie that the box-office is around 5 millions we cant use the vote data to do any perdiction.\n",
    "* Audience voting data that gathered from diffrent website on its own can perform as good as the whole vote dataset. But model result if we use only Critics voting data decreased drastically.\n",
    "* Number of vote also has a more weight in the model in compare to average of the given vote. We can observe that easily in most important feature of the Random Forest model."
   ]
  },
  {
   "cell_type": "code",
   "execution_count": null,
   "id": "f13f8901",
   "metadata": {},
   "outputs": [],
   "source": []
  }
 ],
 "metadata": {
  "kernelspec": {
   "display_name": "Python 3",
   "language": "python",
   "name": "python3"
  },
  "language_info": {
   "codemirror_mode": {
    "name": "ipython",
    "version": 3
   },
   "file_extension": ".py",
   "mimetype": "text/x-python",
   "name": "python",
   "nbconvert_exporter": "python",
   "pygments_lexer": "ipython3",
   "version": "3.8.8"
  }
 },
 "nbformat": 4,
 "nbformat_minor": 5
}
