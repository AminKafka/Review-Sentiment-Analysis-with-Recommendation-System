{
 "cells": [
  {
   "cell_type": "markdown",
   "id": "811f622b",
   "metadata": {},
   "source": [
    "## Data Wrangling for Review Sentimental Analysis and Recommnadation System "
   ]
  },
  {
   "cell_type": "markdown",
   "id": "35e36aab",
   "metadata": {},
   "source": [
    "Importing the library"
   ]
  },
  {
   "cell_type": "code",
   "execution_count": 1,
   "id": "dd7049d8",
   "metadata": {},
   "outputs": [],
   "source": [
    "import pandas as pd\n",
    "import numpy as np\n",
    "import re"
   ]
  },
  {
   "cell_type": "markdown",
   "id": "6bd3e2c9",
   "metadata": {},
   "source": [
    "First import the review dataset and making it ready for the next step."
   ]
  },
  {
   "cell_type": "code",
   "execution_count": 2,
   "id": "ff9f5b45",
   "metadata": {},
   "outputs": [],
   "source": [
    "review = pd.read_csv('/Users/Amin/Documents/GitHub/Review-Sentiment-Analysis-with-Recommendation-System/data/reviews.csv')"
   ]
  },
  {
   "cell_type": "code",
   "execution_count": 3,
   "id": "2c1bd5d8",
   "metadata": {},
   "outputs": [
    {
     "data": {
      "text/html": [
       "<div>\n",
       "<style scoped>\n",
       "    .dataframe tbody tr th:only-of-type {\n",
       "        vertical-align: middle;\n",
       "    }\n",
       "\n",
       "    .dataframe tbody tr th {\n",
       "        vertical-align: top;\n",
       "    }\n",
       "\n",
       "    .dataframe thead th {\n",
       "        text-align: right;\n",
       "    }\n",
       "</style>\n",
       "<table border=\"1\" class=\"dataframe\">\n",
       "  <thead>\n",
       "    <tr style=\"text-align: right;\">\n",
       "      <th></th>\n",
       "      <th>review_id</th>\n",
       "      <th>reviewer</th>\n",
       "      <th>movie</th>\n",
       "      <th>rating</th>\n",
       "      <th>review_summary</th>\n",
       "      <th>review_date</th>\n",
       "      <th>spoiler_tag</th>\n",
       "      <th>review_detail</th>\n",
       "      <th>helpful</th>\n",
       "    </tr>\n",
       "  </thead>\n",
       "  <tbody>\n",
       "    <tr>\n",
       "      <th>0</th>\n",
       "      <td>rw1133942</td>\n",
       "      <td>OriginalMovieBuff21</td>\n",
       "      <td>Kill Bill: Vol. 2 (2004)</td>\n",
       "      <td>8.0</td>\n",
       "      <td>Good follow up that answers all the questions</td>\n",
       "      <td>24 July 2005</td>\n",
       "      <td>0</td>\n",
       "      <td>After seeing Tarantino's Kill Bill Vol: 1, I g...</td>\n",
       "      <td>['0', '1']</td>\n",
       "    </tr>\n",
       "    <tr>\n",
       "      <th>1</th>\n",
       "      <td>rw1133959</td>\n",
       "      <td>lost-in-limbo</td>\n",
       "      <td>Feardotcom (2002)</td>\n",
       "      <td>3.0</td>\n",
       "      <td>\"I couldn't make much sense of it myself\". Too...</td>\n",
       "      <td>24 July 2005</td>\n",
       "      <td>0</td>\n",
       "      <td>There's a Website called FearDotCom and anyone...</td>\n",
       "      <td>['1', '4']</td>\n",
       "    </tr>\n",
       "    <tr>\n",
       "      <th>2</th>\n",
       "      <td>rw1133985</td>\n",
       "      <td>NateManD</td>\n",
       "      <td>Persona (1966)</td>\n",
       "      <td>10.0</td>\n",
       "      <td>Persona gives me all the reasons to love art-h...</td>\n",
       "      <td>24 July 2005</td>\n",
       "      <td>0</td>\n",
       "      <td>Long before \"Muholland Drive\" there was anothe...</td>\n",
       "      <td>['9', '23']</td>\n",
       "    </tr>\n",
       "    <tr>\n",
       "      <th>3</th>\n",
       "      <td>rw1133999</td>\n",
       "      <td>CAMACHO-4</td>\n",
       "      <td>War of the Worlds (2005)</td>\n",
       "      <td>3.0</td>\n",
       "      <td>A disappointing film from the team that you Mi...</td>\n",
       "      <td>24 July 2005</td>\n",
       "      <td>0</td>\n",
       "      <td>Spielberg said this film is based on the H.G. ...</td>\n",
       "      <td>['9', '14']</td>\n",
       "    </tr>\n",
       "    <tr>\n",
       "      <th>4</th>\n",
       "      <td>rw1134010</td>\n",
       "      <td>CAMACHO-4</td>\n",
       "      <td>Mr. &amp; Mrs. Smith (2005)</td>\n",
       "      <td>6.0</td>\n",
       "      <td>A fun action movie with great chemistry</td>\n",
       "      <td>24 July 2005</td>\n",
       "      <td>0</td>\n",
       "      <td>Director Doug Liman, who's gotten famous for m...</td>\n",
       "      <td>['1', '3']</td>\n",
       "    </tr>\n",
       "  </tbody>\n",
       "</table>\n",
       "</div>"
      ],
      "text/plain": [
       "   review_id             reviewer                     movie  rating  \\\n",
       "0  rw1133942  OriginalMovieBuff21  Kill Bill: Vol. 2 (2004)     8.0   \n",
       "1  rw1133959        lost-in-limbo         Feardotcom (2002)     3.0   \n",
       "2  rw1133985             NateManD            Persona (1966)    10.0   \n",
       "3  rw1133999            CAMACHO-4  War of the Worlds (2005)     3.0   \n",
       "4  rw1134010            CAMACHO-4   Mr. & Mrs. Smith (2005)     6.0   \n",
       "\n",
       "                                      review_summary   review_date  \\\n",
       "0      Good follow up that answers all the questions  24 July 2005   \n",
       "1  \"I couldn't make much sense of it myself\". Too...  24 July 2005   \n",
       "2  Persona gives me all the reasons to love art-h...  24 July 2005   \n",
       "3  A disappointing film from the team that you Mi...  24 July 2005   \n",
       "4            A fun action movie with great chemistry  24 July 2005   \n",
       "\n",
       "   spoiler_tag                                      review_detail      helpful  \n",
       "0            0  After seeing Tarantino's Kill Bill Vol: 1, I g...   ['0', '1']  \n",
       "1            0  There's a Website called FearDotCom and anyone...   ['1', '4']  \n",
       "2            0  Long before \"Muholland Drive\" there was anothe...  ['9', '23']  \n",
       "3            0  Spielberg said this film is based on the H.G. ...  ['9', '14']  \n",
       "4            0  Director Doug Liman, who's gotten famous for m...   ['1', '3']  "
      ]
     },
     "execution_count": 3,
     "metadata": {},
     "output_type": "execute_result"
    }
   ],
   "source": [
    "review.head()"
   ]
  },
  {
   "cell_type": "markdown",
   "id": "ab102cd1",
   "metadata": {},
   "source": [
    "It looks a clean dataset, with name of the reviewer, name of the movie, rating that reviewer gets to film, summary and detail of the review and date of the review. \n",
    "First, there are some columns that are not related to the project goal and some need to do some changes."
   ]
  },
  {
   "cell_type": "code",
   "execution_count": 4,
   "id": "ad3b5a24",
   "metadata": {},
   "outputs": [
    {
     "data": {
      "text/html": [
       "<div>\n",
       "<style scoped>\n",
       "    .dataframe tbody tr th:only-of-type {\n",
       "        vertical-align: middle;\n",
       "    }\n",
       "\n",
       "    .dataframe tbody tr th {\n",
       "        vertical-align: top;\n",
       "    }\n",
       "\n",
       "    .dataframe thead th {\n",
       "        text-align: right;\n",
       "    }\n",
       "</style>\n",
       "<table border=\"1\" class=\"dataframe\">\n",
       "  <thead>\n",
       "    <tr style=\"text-align: right;\">\n",
       "      <th></th>\n",
       "      <th>rating</th>\n",
       "      <th>spoiler_tag</th>\n",
       "    </tr>\n",
       "  </thead>\n",
       "  <tbody>\n",
       "    <tr>\n",
       "      <th>count</th>\n",
       "      <td>465661.000000</td>\n",
       "      <td>542461.000000</td>\n",
       "    </tr>\n",
       "    <tr>\n",
       "      <th>mean</th>\n",
       "      <td>6.955223</td>\n",
       "      <td>0.241282</td>\n",
       "    </tr>\n",
       "    <tr>\n",
       "      <th>std</th>\n",
       "      <td>2.306315</td>\n",
       "      <td>0.427861</td>\n",
       "    </tr>\n",
       "    <tr>\n",
       "      <th>min</th>\n",
       "      <td>1.000000</td>\n",
       "      <td>0.000000</td>\n",
       "    </tr>\n",
       "    <tr>\n",
       "      <th>25%</th>\n",
       "      <td>6.000000</td>\n",
       "      <td>0.000000</td>\n",
       "    </tr>\n",
       "    <tr>\n",
       "      <th>50%</th>\n",
       "      <td>7.000000</td>\n",
       "      <td>0.000000</td>\n",
       "    </tr>\n",
       "    <tr>\n",
       "      <th>75%</th>\n",
       "      <td>9.000000</td>\n",
       "      <td>0.000000</td>\n",
       "    </tr>\n",
       "    <tr>\n",
       "      <th>max</th>\n",
       "      <td>10.000000</td>\n",
       "      <td>1.000000</td>\n",
       "    </tr>\n",
       "  </tbody>\n",
       "</table>\n",
       "</div>"
      ],
      "text/plain": [
       "              rating    spoiler_tag\n",
       "count  465661.000000  542461.000000\n",
       "mean        6.955223       0.241282\n",
       "std         2.306315       0.427861\n",
       "min         1.000000       0.000000\n",
       "25%         6.000000       0.000000\n",
       "50%         7.000000       0.000000\n",
       "75%         9.000000       0.000000\n",
       "max        10.000000       1.000000"
      ]
     },
     "execution_count": 4,
     "metadata": {},
     "output_type": "execute_result"
    }
   ],
   "source": [
    "review.describe()"
   ]
  },
  {
   "cell_type": "code",
   "execution_count": 5,
   "id": "7bc687d7",
   "metadata": {},
   "outputs": [
    {
     "data": {
      "text/plain": [
       "review_id             0\n",
       "reviewer              0\n",
       "movie                 0\n",
       "rating            76800\n",
       "review_summary        1\n",
       "review_date           0\n",
       "spoiler_tag           0\n",
       "review_detail         1\n",
       "helpful               0\n",
       "dtype: int64"
      ]
     },
     "execution_count": 5,
     "metadata": {},
     "output_type": "execute_result"
    }
   ],
   "source": [
    "review.isnull().sum()"
   ]
  },
  {
   "cell_type": "code",
   "execution_count": 6,
   "id": "1e95795e",
   "metadata": {},
   "outputs": [],
   "source": [
    "review.dropna(inplace=True)"
   ]
  },
  {
   "cell_type": "markdown",
   "id": "b78c5d44",
   "metadata": {},
   "source": [
    "Some of the rows don't have the rating information. Becasue there is no way to fill these and there is enough data, those rows drop from the dataset."
   ]
  },
  {
   "cell_type": "code",
   "execution_count": 7,
   "id": "c857d660",
   "metadata": {},
   "outputs": [
    {
     "data": {
      "text/plain": [
       "11256"
      ]
     },
     "execution_count": 7,
     "metadata": {},
     "output_type": "execute_result"
    }
   ],
   "source": [
    "review.reviewer.nunique()"
   ]
  },
  {
   "cell_type": "markdown",
   "id": "a3539caa",
   "metadata": {},
   "source": [
    "After droping these NaN values, there are 11256 unique reviewer."
   ]
  },
  {
   "cell_type": "code",
   "execution_count": 8,
   "id": "36c03d31",
   "metadata": {},
   "outputs": [
    {
     "data": {
      "text/plain": [
       "review_id          object\n",
       "reviewer           object\n",
       "movie              object\n",
       "rating            float64\n",
       "review_summary     object\n",
       "review_date        object\n",
       "spoiler_tag         int64\n",
       "review_detail      object\n",
       "helpful            object\n",
       "dtype: object"
      ]
     },
     "execution_count": 8,
     "metadata": {},
     "output_type": "execute_result"
    }
   ],
   "source": [
    "#checking the type of the data\n",
    "review.dtypes"
   ]
  },
  {
   "cell_type": "markdown",
   "id": "8d1c2de5",
   "metadata": {},
   "source": [
    "Next, the data type needs to be check and change to do some of the adjustment for the review, date, and rating columns."
   ]
  },
  {
   "cell_type": "code",
   "execution_count": 9,
   "id": "0edd9c70",
   "metadata": {},
   "outputs": [],
   "source": [
    "#Droping the columns that are not related\n",
    "review.drop(columns=['review_id','spoiler_tag','helpful'],inplace=True)"
   ]
  },
  {
   "cell_type": "code",
   "execution_count": 10,
   "id": "a30dc81e",
   "metadata": {},
   "outputs": [
    {
     "data": {
      "text/html": [
       "<div>\n",
       "<style scoped>\n",
       "    .dataframe tbody tr th:only-of-type {\n",
       "        vertical-align: middle;\n",
       "    }\n",
       "\n",
       "    .dataframe tbody tr th {\n",
       "        vertical-align: top;\n",
       "    }\n",
       "\n",
       "    .dataframe thead th {\n",
       "        text-align: right;\n",
       "    }\n",
       "</style>\n",
       "<table border=\"1\" class=\"dataframe\">\n",
       "  <thead>\n",
       "    <tr style=\"text-align: right;\">\n",
       "      <th></th>\n",
       "      <th>reviewer</th>\n",
       "      <th>movie</th>\n",
       "      <th>rating</th>\n",
       "      <th>review_summary</th>\n",
       "      <th>review_date</th>\n",
       "      <th>review_detail</th>\n",
       "    </tr>\n",
       "  </thead>\n",
       "  <tbody>\n",
       "    <tr>\n",
       "      <th>0</th>\n",
       "      <td>OriginalMovieBuff21</td>\n",
       "      <td>Kill Bill: Vol. 2 (2004)</td>\n",
       "      <td>8.0</td>\n",
       "      <td>Good follow up that answers all the questions</td>\n",
       "      <td>24 July 2005</td>\n",
       "      <td>After seeing Tarantino's Kill Bill Vol: 1, I g...</td>\n",
       "    </tr>\n",
       "    <tr>\n",
       "      <th>1</th>\n",
       "      <td>lost-in-limbo</td>\n",
       "      <td>Feardotcom (2002)</td>\n",
       "      <td>3.0</td>\n",
       "      <td>\"I couldn't make much sense of it myself\". Too...</td>\n",
       "      <td>24 July 2005</td>\n",
       "      <td>There's a Website called FearDotCom and anyone...</td>\n",
       "    </tr>\n",
       "    <tr>\n",
       "      <th>2</th>\n",
       "      <td>NateManD</td>\n",
       "      <td>Persona (1966)</td>\n",
       "      <td>10.0</td>\n",
       "      <td>Persona gives me all the reasons to love art-h...</td>\n",
       "      <td>24 July 2005</td>\n",
       "      <td>Long before \"Muholland Drive\" there was anothe...</td>\n",
       "    </tr>\n",
       "    <tr>\n",
       "      <th>3</th>\n",
       "      <td>CAMACHO-4</td>\n",
       "      <td>War of the Worlds (2005)</td>\n",
       "      <td>3.0</td>\n",
       "      <td>A disappointing film from the team that you Mi...</td>\n",
       "      <td>24 July 2005</td>\n",
       "      <td>Spielberg said this film is based on the H.G. ...</td>\n",
       "    </tr>\n",
       "    <tr>\n",
       "      <th>4</th>\n",
       "      <td>CAMACHO-4</td>\n",
       "      <td>Mr. &amp; Mrs. Smith (2005)</td>\n",
       "      <td>6.0</td>\n",
       "      <td>A fun action movie with great chemistry</td>\n",
       "      <td>24 July 2005</td>\n",
       "      <td>Director Doug Liman, who's gotten famous for m...</td>\n",
       "    </tr>\n",
       "  </tbody>\n",
       "</table>\n",
       "</div>"
      ],
      "text/plain": [
       "              reviewer                     movie  rating  \\\n",
       "0  OriginalMovieBuff21  Kill Bill: Vol. 2 (2004)     8.0   \n",
       "1        lost-in-limbo         Feardotcom (2002)     3.0   \n",
       "2             NateManD            Persona (1966)    10.0   \n",
       "3            CAMACHO-4  War of the Worlds (2005)     3.0   \n",
       "4            CAMACHO-4   Mr. & Mrs. Smith (2005)     6.0   \n",
       "\n",
       "                                      review_summary   review_date  \\\n",
       "0      Good follow up that answers all the questions  24 July 2005   \n",
       "1  \"I couldn't make much sense of it myself\". Too...  24 July 2005   \n",
       "2  Persona gives me all the reasons to love art-h...  24 July 2005   \n",
       "3  A disappointing film from the team that you Mi...  24 July 2005   \n",
       "4            A fun action movie with great chemistry  24 July 2005   \n",
       "\n",
       "                                       review_detail  \n",
       "0  After seeing Tarantino's Kill Bill Vol: 1, I g...  \n",
       "1  There's a Website called FearDotCom and anyone...  \n",
       "2  Long before \"Muholland Drive\" there was anothe...  \n",
       "3  Spielberg said this film is based on the H.G. ...  \n",
       "4  Director Doug Liman, who's gotten famous for m...  "
      ]
     },
     "execution_count": 10,
     "metadata": {},
     "output_type": "execute_result"
    }
   ],
   "source": [
    "review.head()"
   ]
  },
  {
   "cell_type": "code",
   "execution_count": 11,
   "id": "158d15f7",
   "metadata": {},
   "outputs": [],
   "source": [
    "# Changing the type of the movie name and review details to a string.\n",
    "review.review_detail = review.review_detail.astype('string')\n",
    "review.movie = review.movie.astype('string')"
   ]
  },
  {
   "cell_type": "code",
   "execution_count": 12,
   "id": "56661da3",
   "metadata": {},
   "outputs": [
    {
     "data": {
      "text/plain": [
       "reviewer           object\n",
       "movie              string\n",
       "rating            float64\n",
       "review_summary     object\n",
       "review_date        object\n",
       "review_detail      string\n",
       "dtype: object"
      ]
     },
     "execution_count": 12,
     "metadata": {},
     "output_type": "execute_result"
    }
   ],
   "source": [
    "review.dtypes"
   ]
  },
  {
   "cell_type": "code",
   "execution_count": 13,
   "id": "37c7e1d8",
   "metadata": {},
   "outputs": [],
   "source": [
    "#Remove the comma and dot from the review\n",
    "review.review_detail = review.review_detail.str.replace(',','').replace('.','')\n",
    "review.review_summary = review.review_summary.str.replace(',','').replace('.','')"
   ]
  },
  {
   "cell_type": "code",
   "execution_count": 14,
   "id": "0daa0840",
   "metadata": {},
   "outputs": [],
   "source": [
    "#Makes all the review lowercase\n",
    "review.review_detail = review.review_detail.str.lower()\n",
    "review.review_summary = review.review_summary.str.lower()"
   ]
  },
  {
   "cell_type": "code",
   "execution_count": 15,
   "id": "928b724d",
   "metadata": {},
   "outputs": [],
   "source": [
    "#Change the type of the review date to datetime\n",
    "review.review_date = pd.to_datetime(review.review_date)"
   ]
  },
  {
   "cell_type": "code",
   "execution_count": 16,
   "id": "f3831754",
   "metadata": {},
   "outputs": [
    {
     "data": {
      "text/plain": [
       "reviewer                  object\n",
       "movie                     string\n",
       "rating                   float64\n",
       "review_summary            object\n",
       "review_date       datetime64[ns]\n",
       "review_detail             string\n",
       "dtype: object"
      ]
     },
     "execution_count": 16,
     "metadata": {},
     "output_type": "execute_result"
    }
   ],
   "source": [
    "review.dtypes"
   ]
  },
  {
   "cell_type": "code",
   "execution_count": 17,
   "id": "b2625c8e",
   "metadata": {},
   "outputs": [
    {
     "data": {
      "text/html": [
       "<div>\n",
       "<style scoped>\n",
       "    .dataframe tbody tr th:only-of-type {\n",
       "        vertical-align: middle;\n",
       "    }\n",
       "\n",
       "    .dataframe tbody tr th {\n",
       "        vertical-align: top;\n",
       "    }\n",
       "\n",
       "    .dataframe thead th {\n",
       "        text-align: right;\n",
       "    }\n",
       "</style>\n",
       "<table border=\"1\" class=\"dataframe\">\n",
       "  <thead>\n",
       "    <tr style=\"text-align: right;\">\n",
       "      <th></th>\n",
       "      <th>reviewer</th>\n",
       "      <th>movie</th>\n",
       "      <th>rating</th>\n",
       "      <th>review_summary</th>\n",
       "      <th>review_date</th>\n",
       "      <th>review_detail</th>\n",
       "    </tr>\n",
       "  </thead>\n",
       "  <tbody>\n",
       "    <tr>\n",
       "      <th>0</th>\n",
       "      <td>OriginalMovieBuff21</td>\n",
       "      <td>Kill Bill: Vol. 2 (2004)</td>\n",
       "      <td>8.0</td>\n",
       "      <td>good follow up that answers all the questions</td>\n",
       "      <td>2005-07-24</td>\n",
       "      <td>after seeing tarantino's kill bill vol: 1 i go...</td>\n",
       "    </tr>\n",
       "    <tr>\n",
       "      <th>1</th>\n",
       "      <td>lost-in-limbo</td>\n",
       "      <td>Feardotcom (2002)</td>\n",
       "      <td>3.0</td>\n",
       "      <td>\"i couldn't make much sense of it myself\". too...</td>\n",
       "      <td>2005-07-24</td>\n",
       "      <td>there's a website called feardotcom and anyone...</td>\n",
       "    </tr>\n",
       "    <tr>\n",
       "      <th>2</th>\n",
       "      <td>NateManD</td>\n",
       "      <td>Persona (1966)</td>\n",
       "      <td>10.0</td>\n",
       "      <td>persona gives me all the reasons to love art-h...</td>\n",
       "      <td>2005-07-24</td>\n",
       "      <td>long before \"muholland drive\" there was anothe...</td>\n",
       "    </tr>\n",
       "    <tr>\n",
       "      <th>3</th>\n",
       "      <td>CAMACHO-4</td>\n",
       "      <td>War of the Worlds (2005)</td>\n",
       "      <td>3.0</td>\n",
       "      <td>a disappointing film from the team that you mi...</td>\n",
       "      <td>2005-07-24</td>\n",
       "      <td>spielberg said this film is based on the h.g. ...</td>\n",
       "    </tr>\n",
       "    <tr>\n",
       "      <th>4</th>\n",
       "      <td>CAMACHO-4</td>\n",
       "      <td>Mr. &amp; Mrs. Smith (2005)</td>\n",
       "      <td>6.0</td>\n",
       "      <td>a fun action movie with great chemistry</td>\n",
       "      <td>2005-07-24</td>\n",
       "      <td>director doug liman who's gotten famous for ma...</td>\n",
       "    </tr>\n",
       "  </tbody>\n",
       "</table>\n",
       "</div>"
      ],
      "text/plain": [
       "              reviewer                     movie  rating  \\\n",
       "0  OriginalMovieBuff21  Kill Bill: Vol. 2 (2004)     8.0   \n",
       "1        lost-in-limbo         Feardotcom (2002)     3.0   \n",
       "2             NateManD            Persona (1966)    10.0   \n",
       "3            CAMACHO-4  War of the Worlds (2005)     3.0   \n",
       "4            CAMACHO-4   Mr. & Mrs. Smith (2005)     6.0   \n",
       "\n",
       "                                      review_summary review_date  \\\n",
       "0      good follow up that answers all the questions  2005-07-24   \n",
       "1  \"i couldn't make much sense of it myself\". too...  2005-07-24   \n",
       "2  persona gives me all the reasons to love art-h...  2005-07-24   \n",
       "3  a disappointing film from the team that you mi...  2005-07-24   \n",
       "4            a fun action movie with great chemistry  2005-07-24   \n",
       "\n",
       "                                       review_detail  \n",
       "0  after seeing tarantino's kill bill vol: 1 i go...  \n",
       "1  there's a website called feardotcom and anyone...  \n",
       "2  long before \"muholland drive\" there was anothe...  \n",
       "3  spielberg said this film is based on the h.g. ...  \n",
       "4  director doug liman who's gotten famous for ma...  "
      ]
     },
     "execution_count": 17,
     "metadata": {},
     "output_type": "execute_result"
    }
   ],
   "source": [
    "review.head()"
   ]
  },
  {
   "cell_type": "markdown",
   "id": "5f94b4a7",
   "metadata": {},
   "source": [
    "The rating needs to change to a lable for sentiment analysis. Because I am going to make a recommandation system after, two lable chosed. \" Love it\" or \"Not Love It\". If the user love the movie we going to make a recommandation."
   ]
  },
  {
   "cell_type": "code",
   "execution_count": 18,
   "id": "5ec17e73",
   "metadata": {},
   "outputs": [],
   "source": [
    "def conditions(review):\n",
    "    if (review.rating > 7.0):\n",
    "        return 'LOVE IT'\n",
    "\n",
    "    else:\n",
    "        return 'NOT LOVE IT'\n",
    "\n",
    "review['lable'] = review.apply(conditions, axis=1)"
   ]
  },
  {
   "cell_type": "code",
   "execution_count": 19,
   "id": "05af7a9e",
   "metadata": {},
   "outputs": [
    {
     "data": {
      "text/html": [
       "<div>\n",
       "<style scoped>\n",
       "    .dataframe tbody tr th:only-of-type {\n",
       "        vertical-align: middle;\n",
       "    }\n",
       "\n",
       "    .dataframe tbody tr th {\n",
       "        vertical-align: top;\n",
       "    }\n",
       "\n",
       "    .dataframe thead th {\n",
       "        text-align: right;\n",
       "    }\n",
       "</style>\n",
       "<table border=\"1\" class=\"dataframe\">\n",
       "  <thead>\n",
       "    <tr style=\"text-align: right;\">\n",
       "      <th></th>\n",
       "      <th>reviewer</th>\n",
       "      <th>movie</th>\n",
       "      <th>review_summary</th>\n",
       "      <th>review_date</th>\n",
       "      <th>review_detail</th>\n",
       "      <th>lable</th>\n",
       "    </tr>\n",
       "  </thead>\n",
       "  <tbody>\n",
       "    <tr>\n",
       "      <th>0</th>\n",
       "      <td>OriginalMovieBuff21</td>\n",
       "      <td>Kill Bill: Vol. 2 (2004)</td>\n",
       "      <td>good follow up that answers all the questions</td>\n",
       "      <td>2005-07-24</td>\n",
       "      <td>after seeing tarantino's kill bill vol: 1 i go...</td>\n",
       "      <td>LOVE IT</td>\n",
       "    </tr>\n",
       "    <tr>\n",
       "      <th>1</th>\n",
       "      <td>lost-in-limbo</td>\n",
       "      <td>Feardotcom (2002)</td>\n",
       "      <td>\"i couldn't make much sense of it myself\". too...</td>\n",
       "      <td>2005-07-24</td>\n",
       "      <td>there's a website called feardotcom and anyone...</td>\n",
       "      <td>NOT LOVE IT</td>\n",
       "    </tr>\n",
       "    <tr>\n",
       "      <th>2</th>\n",
       "      <td>NateManD</td>\n",
       "      <td>Persona (1966)</td>\n",
       "      <td>persona gives me all the reasons to love art-h...</td>\n",
       "      <td>2005-07-24</td>\n",
       "      <td>long before \"muholland drive\" there was anothe...</td>\n",
       "      <td>LOVE IT</td>\n",
       "    </tr>\n",
       "    <tr>\n",
       "      <th>3</th>\n",
       "      <td>CAMACHO-4</td>\n",
       "      <td>War of the Worlds (2005)</td>\n",
       "      <td>a disappointing film from the team that you mi...</td>\n",
       "      <td>2005-07-24</td>\n",
       "      <td>spielberg said this film is based on the h.g. ...</td>\n",
       "      <td>NOT LOVE IT</td>\n",
       "    </tr>\n",
       "    <tr>\n",
       "      <th>4</th>\n",
       "      <td>CAMACHO-4</td>\n",
       "      <td>Mr. &amp; Mrs. Smith (2005)</td>\n",
       "      <td>a fun action movie with great chemistry</td>\n",
       "      <td>2005-07-24</td>\n",
       "      <td>director doug liman who's gotten famous for ma...</td>\n",
       "      <td>NOT LOVE IT</td>\n",
       "    </tr>\n",
       "  </tbody>\n",
       "</table>\n",
       "</div>"
      ],
      "text/plain": [
       "              reviewer                     movie  \\\n",
       "0  OriginalMovieBuff21  Kill Bill: Vol. 2 (2004)   \n",
       "1        lost-in-limbo         Feardotcom (2002)   \n",
       "2             NateManD            Persona (1966)   \n",
       "3            CAMACHO-4  War of the Worlds (2005)   \n",
       "4            CAMACHO-4   Mr. & Mrs. Smith (2005)   \n",
       "\n",
       "                                      review_summary review_date  \\\n",
       "0      good follow up that answers all the questions  2005-07-24   \n",
       "1  \"i couldn't make much sense of it myself\". too...  2005-07-24   \n",
       "2  persona gives me all the reasons to love art-h...  2005-07-24   \n",
       "3  a disappointing film from the team that you mi...  2005-07-24   \n",
       "4            a fun action movie with great chemistry  2005-07-24   \n",
       "\n",
       "                                       review_detail        lable  \n",
       "0  after seeing tarantino's kill bill vol: 1 i go...      LOVE IT  \n",
       "1  there's a website called feardotcom and anyone...  NOT LOVE IT  \n",
       "2  long before \"muholland drive\" there was anothe...      LOVE IT  \n",
       "3  spielberg said this film is based on the h.g. ...  NOT LOVE IT  \n",
       "4  director doug liman who's gotten famous for ma...  NOT LOVE IT  "
      ]
     },
     "execution_count": 19,
     "metadata": {},
     "output_type": "execute_result"
    }
   ],
   "source": [
    "review.drop(columns=['rating'],inplace=True)\n",
    "review.head()"
   ]
  },
  {
   "cell_type": "code",
   "execution_count": 20,
   "id": "99d1b2a8",
   "metadata": {},
   "outputs": [
    {
     "data": {
      "text/plain": [
       "NOT LOVE IT    249026\n",
       "LOVE IT        216633\n",
       "Name: lable, dtype: int64"
      ]
     },
     "execution_count": 20,
     "metadata": {},
     "output_type": "execute_result"
    }
   ],
   "source": [
    "review.lable.value_counts()"
   ]
  },
  {
   "cell_type": "markdown",
   "id": "50c2c737",
   "metadata": {},
   "source": [
    "It seems there is a good distribution of the lable.\n",
    "\n",
    "Next the movies dataset will load so we can add the imdb Id to the dataset so we can use the IMDB dataset to add more information of the movie to the data."
   ]
  },
  {
   "cell_type": "code",
   "execution_count": 21,
   "id": "e5e69408",
   "metadata": {},
   "outputs": [],
   "source": [
    "movie = pd.read_csv('/Users/Amin/Documents/GitHub/Review-Sentiment-Analysis-with-Recommendation-System/data/movies.csv')"
   ]
  },
  {
   "cell_type": "code",
   "execution_count": 22,
   "id": "7aed5802",
   "metadata": {},
   "outputs": [
    {
     "data": {
      "text/html": [
       "<div>\n",
       "<style scoped>\n",
       "    .dataframe tbody tr th:only-of-type {\n",
       "        vertical-align: middle;\n",
       "    }\n",
       "\n",
       "    .dataframe tbody tr th {\n",
       "        vertical-align: top;\n",
       "    }\n",
       "\n",
       "    .dataframe thead th {\n",
       "        text-align: right;\n",
       "    }\n",
       "</style>\n",
       "<table border=\"1\" class=\"dataframe\">\n",
       "  <thead>\n",
       "    <tr style=\"text-align: right;\">\n",
       "      <th></th>\n",
       "      <th>imdbId</th>\n",
       "      <th>Imdb Link</th>\n",
       "      <th>Title</th>\n",
       "      <th>IMDB Score</th>\n",
       "      <th>Genre</th>\n",
       "      <th>local_image_path</th>\n",
       "    </tr>\n",
       "  </thead>\n",
       "  <tbody>\n",
       "    <tr>\n",
       "      <th>0</th>\n",
       "      <td>114709</td>\n",
       "      <td>http://www.imdb.com/title/tt114709</td>\n",
       "      <td>Toy Story (1995)</td>\n",
       "      <td>8.3</td>\n",
       "      <td>Animation;Adventure;Comedy</td>\n",
       "      <td>images/114709_.jpg</td>\n",
       "    </tr>\n",
       "    <tr>\n",
       "      <th>1</th>\n",
       "      <td>113497</td>\n",
       "      <td>http://www.imdb.com/title/tt113497</td>\n",
       "      <td>Jumanji (1995)</td>\n",
       "      <td>6.9</td>\n",
       "      <td>Action;Adventure;Family</td>\n",
       "      <td>images/113497_.jpg</td>\n",
       "    </tr>\n",
       "    <tr>\n",
       "      <th>2</th>\n",
       "      <td>113277</td>\n",
       "      <td>http://www.imdb.com/title/tt113277</td>\n",
       "      <td>Heat (1995)</td>\n",
       "      <td>8.2</td>\n",
       "      <td>Action;Crime;Drama</td>\n",
       "      <td>images/113277_.jpg</td>\n",
       "    </tr>\n",
       "    <tr>\n",
       "      <th>3</th>\n",
       "      <td>114319</td>\n",
       "      <td>http://www.imdb.com/title/tt114319</td>\n",
       "      <td>Sabrina (1995)</td>\n",
       "      <td>6.3</td>\n",
       "      <td>Comedy;Drama</td>\n",
       "      <td>images/114319_.jpg</td>\n",
       "    </tr>\n",
       "    <tr>\n",
       "      <th>4</th>\n",
       "      <td>114576</td>\n",
       "      <td>http://www.imdb.com/title/tt114576</td>\n",
       "      <td>Sudden Death (1995)</td>\n",
       "      <td>5.7</td>\n",
       "      <td>Action;Crime;Thriller</td>\n",
       "      <td>images/114576_.jpg</td>\n",
       "    </tr>\n",
       "  </tbody>\n",
       "</table>\n",
       "</div>"
      ],
      "text/plain": [
       "   imdbId                           Imdb Link                Title  \\\n",
       "0  114709  http://www.imdb.com/title/tt114709     Toy Story (1995)   \n",
       "1  113497  http://www.imdb.com/title/tt113497       Jumanji (1995)   \n",
       "2  113277  http://www.imdb.com/title/tt113277          Heat (1995)   \n",
       "3  114319  http://www.imdb.com/title/tt114319       Sabrina (1995)   \n",
       "4  114576  http://www.imdb.com/title/tt114576  Sudden Death (1995)   \n",
       "\n",
       "   IMDB Score                       Genre    local_image_path  \n",
       "0         8.3  Animation;Adventure;Comedy  images/114709_.jpg  \n",
       "1         6.9     Action;Adventure;Family  images/113497_.jpg  \n",
       "2         8.2          Action;Crime;Drama  images/113277_.jpg  \n",
       "3         6.3                Comedy;Drama  images/114319_.jpg  \n",
       "4         5.7       Action;Crime;Thriller  images/114576_.jpg  "
      ]
     },
     "execution_count": 22,
     "metadata": {},
     "output_type": "execute_result"
    }
   ],
   "source": [
    "movie.head()"
   ]
  },
  {
   "cell_type": "code",
   "execution_count": 23,
   "id": "db0f0704",
   "metadata": {},
   "outputs": [],
   "source": [
    "#Merge the review and movie\n",
    "df = review.merge(movie,left_on='movie',right_on='Title')"
   ]
  },
  {
   "cell_type": "code",
   "execution_count": 24,
   "id": "e6e166f0",
   "metadata": {},
   "outputs": [
    {
     "name": "stdout",
     "output_type": "stream",
     "text": [
      "<class 'pandas.core.frame.DataFrame'>\n",
      "Int64Index: 479565 entries, 0 to 479564\n",
      "Data columns (total 12 columns):\n",
      " #   Column            Non-Null Count   Dtype         \n",
      "---  ------            --------------   -----         \n",
      " 0   reviewer          479565 non-null  object        \n",
      " 1   movie             479565 non-null  object        \n",
      " 2   review_summary    479565 non-null  object        \n",
      " 3   review_date       479565 non-null  datetime64[ns]\n",
      " 4   review_detail     479565 non-null  string        \n",
      " 5   lable             479565 non-null  object        \n",
      " 6   imdbId            479565 non-null  int64         \n",
      " 7   Imdb Link         479565 non-null  object        \n",
      " 8   Title             479565 non-null  object        \n",
      " 9   IMDB Score        479452 non-null  float64       \n",
      " 10  Genre             479565 non-null  object        \n",
      " 11  local_image_path  479565 non-null  object        \n",
      "dtypes: datetime64[ns](1), float64(1), int64(1), object(8), string(1)\n",
      "memory usage: 47.6+ MB\n"
     ]
    }
   ],
   "source": [
    "df.info()"
   ]
  },
  {
   "cell_type": "markdown",
   "id": "b9c318d7",
   "metadata": {},
   "source": [
    "The dataset Imdb Id format is diffrent from the current ID which has a 7 digit format with \"tt\" in the beginning.\n",
    "Because we are going to use the ID to merge this data with IMDB data, this columns need to be adjust to the current standard. So we need to add \"tt\" and make it 7 digit but adding zero to the left."
   ]
  },
  {
   "cell_type": "code",
   "execution_count": 25,
   "id": "2b663682",
   "metadata": {},
   "outputs": [],
   "source": [
    "#make the imdbId to string,Add the \"tt\" and adjust the number of digit\n",
    "df['imdbId'] = df['imdbId'].astype('string')\n",
    "df['imdb_id'] = 'tt' + df['imdbId'].str.rjust(7, '0')"
   ]
  },
  {
   "cell_type": "code",
   "execution_count": 26,
   "id": "c272ba76",
   "metadata": {},
   "outputs": [
    {
     "data": {
      "text/html": [
       "<div>\n",
       "<style scoped>\n",
       "    .dataframe tbody tr th:only-of-type {\n",
       "        vertical-align: middle;\n",
       "    }\n",
       "\n",
       "    .dataframe tbody tr th {\n",
       "        vertical-align: top;\n",
       "    }\n",
       "\n",
       "    .dataframe thead th {\n",
       "        text-align: right;\n",
       "    }\n",
       "</style>\n",
       "<table border=\"1\" class=\"dataframe\">\n",
       "  <thead>\n",
       "    <tr style=\"text-align: right;\">\n",
       "      <th></th>\n",
       "      <th>reviewer</th>\n",
       "      <th>movie</th>\n",
       "      <th>review_summary</th>\n",
       "      <th>review_date</th>\n",
       "      <th>review_detail</th>\n",
       "      <th>lable</th>\n",
       "      <th>imdbId</th>\n",
       "      <th>Imdb Link</th>\n",
       "      <th>Title</th>\n",
       "      <th>IMDB Score</th>\n",
       "      <th>Genre</th>\n",
       "      <th>local_image_path</th>\n",
       "      <th>imdb_id</th>\n",
       "    </tr>\n",
       "  </thead>\n",
       "  <tbody>\n",
       "    <tr>\n",
       "      <th>0</th>\n",
       "      <td>OriginalMovieBuff21</td>\n",
       "      <td>Kill Bill: Vol. 2 (2004)</td>\n",
       "      <td>good follow up that answers all the questions</td>\n",
       "      <td>2005-07-24</td>\n",
       "      <td>after seeing tarantino's kill bill vol: 1 i go...</td>\n",
       "      <td>LOVE IT</td>\n",
       "      <td>378194</td>\n",
       "      <td>http://www.imdb.com/title/tt378194</td>\n",
       "      <td>Kill Bill: Vol. 2 (2004)</td>\n",
       "      <td>8.0</td>\n",
       "      <td>Action;Crime;Drama</td>\n",
       "      <td>images/378194_.jpg</td>\n",
       "      <td>tt0378194</td>\n",
       "    </tr>\n",
       "    <tr>\n",
       "      <th>1</th>\n",
       "      <td>Bogmeister</td>\n",
       "      <td>Kill Bill: Vol. 2 (2004)</td>\n",
       "      <td>the bride ends her rampage; we applaud</td>\n",
       "      <td>2005-08-15</td>\n",
       "      <td>the 2nd half of tarantino's tale of bloody rev...</td>\n",
       "      <td>LOVE IT</td>\n",
       "      <td>378194</td>\n",
       "      <td>http://www.imdb.com/title/tt378194</td>\n",
       "      <td>Kill Bill: Vol. 2 (2004)</td>\n",
       "      <td>8.0</td>\n",
       "      <td>Action;Crime;Drama</td>\n",
       "      <td>images/378194_.jpg</td>\n",
       "      <td>tt0378194</td>\n",
       "    </tr>\n",
       "    <tr>\n",
       "      <th>2</th>\n",
       "      <td>departed07</td>\n",
       "      <td>Kill Bill: Vol. 2 (2004)</td>\n",
       "      <td>quentin tarantino's best since pulp fiction</td>\n",
       "      <td>2005-08-26</td>\n",
       "      <td>the bride is back and ready to kick ass in thi...</td>\n",
       "      <td>LOVE IT</td>\n",
       "      <td>378194</td>\n",
       "      <td>http://www.imdb.com/title/tt378194</td>\n",
       "      <td>Kill Bill: Vol. 2 (2004)</td>\n",
       "      <td>8.0</td>\n",
       "      <td>Action;Crime;Drama</td>\n",
       "      <td>images/378194_.jpg</td>\n",
       "      <td>tt0378194</td>\n",
       "    </tr>\n",
       "    <tr>\n",
       "      <th>3</th>\n",
       "      <td>Angeneer</td>\n",
       "      <td>Kill Bill: Vol. 2 (2004)</td>\n",
       "      <td>quentin made me eat my hat</td>\n",
       "      <td>2005-09-08</td>\n",
       "      <td>i'm very happy to admit that tarantino proved ...</td>\n",
       "      <td>LOVE IT</td>\n",
       "      <td>378194</td>\n",
       "      <td>http://www.imdb.com/title/tt378194</td>\n",
       "      <td>Kill Bill: Vol. 2 (2004)</td>\n",
       "      <td>8.0</td>\n",
       "      <td>Action;Crime;Drama</td>\n",
       "      <td>images/378194_.jpg</td>\n",
       "      <td>tt0378194</td>\n",
       "    </tr>\n",
       "    <tr>\n",
       "      <th>4</th>\n",
       "      <td>LoneWolfAndCub</td>\n",
       "      <td>Kill Bill: Vol. 2 (2004)</td>\n",
       "      <td>great ending to qt's tale of revenge</td>\n",
       "      <td>2005-09-07</td>\n",
       "      <td>kill bill volume 2 (directed by quentin tarant...</td>\n",
       "      <td>LOVE IT</td>\n",
       "      <td>378194</td>\n",
       "      <td>http://www.imdb.com/title/tt378194</td>\n",
       "      <td>Kill Bill: Vol. 2 (2004)</td>\n",
       "      <td>8.0</td>\n",
       "      <td>Action;Crime;Drama</td>\n",
       "      <td>images/378194_.jpg</td>\n",
       "      <td>tt0378194</td>\n",
       "    </tr>\n",
       "  </tbody>\n",
       "</table>\n",
       "</div>"
      ],
      "text/plain": [
       "              reviewer                     movie  \\\n",
       "0  OriginalMovieBuff21  Kill Bill: Vol. 2 (2004)   \n",
       "1           Bogmeister  Kill Bill: Vol. 2 (2004)   \n",
       "2           departed07  Kill Bill: Vol. 2 (2004)   \n",
       "3             Angeneer  Kill Bill: Vol. 2 (2004)   \n",
       "4       LoneWolfAndCub  Kill Bill: Vol. 2 (2004)   \n",
       "\n",
       "                                  review_summary review_date  \\\n",
       "0  good follow up that answers all the questions  2005-07-24   \n",
       "1         the bride ends her rampage; we applaud  2005-08-15   \n",
       "2    quentin tarantino's best since pulp fiction  2005-08-26   \n",
       "3                     quentin made me eat my hat  2005-09-08   \n",
       "4           great ending to qt's tale of revenge  2005-09-07   \n",
       "\n",
       "                                       review_detail    lable  imdbId  \\\n",
       "0  after seeing tarantino's kill bill vol: 1 i go...  LOVE IT  378194   \n",
       "1  the 2nd half of tarantino's tale of bloody rev...  LOVE IT  378194   \n",
       "2  the bride is back and ready to kick ass in thi...  LOVE IT  378194   \n",
       "3  i'm very happy to admit that tarantino proved ...  LOVE IT  378194   \n",
       "4  kill bill volume 2 (directed by quentin tarant...  LOVE IT  378194   \n",
       "\n",
       "                            Imdb Link                     Title  IMDB Score  \\\n",
       "0  http://www.imdb.com/title/tt378194  Kill Bill: Vol. 2 (2004)         8.0   \n",
       "1  http://www.imdb.com/title/tt378194  Kill Bill: Vol. 2 (2004)         8.0   \n",
       "2  http://www.imdb.com/title/tt378194  Kill Bill: Vol. 2 (2004)         8.0   \n",
       "3  http://www.imdb.com/title/tt378194  Kill Bill: Vol. 2 (2004)         8.0   \n",
       "4  http://www.imdb.com/title/tt378194  Kill Bill: Vol. 2 (2004)         8.0   \n",
       "\n",
       "                Genre    local_image_path    imdb_id  \n",
       "0  Action;Crime;Drama  images/378194_.jpg  tt0378194  \n",
       "1  Action;Crime;Drama  images/378194_.jpg  tt0378194  \n",
       "2  Action;Crime;Drama  images/378194_.jpg  tt0378194  \n",
       "3  Action;Crime;Drama  images/378194_.jpg  tt0378194  \n",
       "4  Action;Crime;Drama  images/378194_.jpg  tt0378194  "
      ]
     },
     "execution_count": 26,
     "metadata": {},
     "output_type": "execute_result"
    }
   ],
   "source": [
    "df.head()"
   ]
  },
  {
   "cell_type": "code",
   "execution_count": 27,
   "id": "a41e1383",
   "metadata": {},
   "outputs": [
    {
     "name": "stderr",
     "output_type": "stream",
     "text": [
      "<ipython-input-27-2a1b919ccdba>:2: FutureWarning: The default value of regex will change from True to False in a future version.\n",
      "  df['movie'] = df['movie'].str.replace(r\"\\(.*\\)\",\"\")\n"
     ]
    }
   ],
   "source": [
    "#The Movie title has the date at the end which needs to be remove.\n",
    "df['movie'] = df['movie'].str.replace(r\"\\(.*\\)\",\"\")"
   ]
  },
  {
   "cell_type": "code",
   "execution_count": 28,
   "id": "de4c764d",
   "metadata": {},
   "outputs": [
    {
     "data": {
      "text/html": [
       "<div>\n",
       "<style scoped>\n",
       "    .dataframe tbody tr th:only-of-type {\n",
       "        vertical-align: middle;\n",
       "    }\n",
       "\n",
       "    .dataframe tbody tr th {\n",
       "        vertical-align: top;\n",
       "    }\n",
       "\n",
       "    .dataframe thead th {\n",
       "        text-align: right;\n",
       "    }\n",
       "</style>\n",
       "<table border=\"1\" class=\"dataframe\">\n",
       "  <thead>\n",
       "    <tr style=\"text-align: right;\">\n",
       "      <th></th>\n",
       "      <th>reviewer</th>\n",
       "      <th>movie</th>\n",
       "      <th>review_summary</th>\n",
       "      <th>review_date</th>\n",
       "      <th>review_detail</th>\n",
       "      <th>lable</th>\n",
       "      <th>imdbId</th>\n",
       "      <th>Imdb Link</th>\n",
       "      <th>Title</th>\n",
       "      <th>IMDB Score</th>\n",
       "      <th>Genre</th>\n",
       "      <th>local_image_path</th>\n",
       "      <th>imdb_id</th>\n",
       "    </tr>\n",
       "  </thead>\n",
       "  <tbody>\n",
       "    <tr>\n",
       "      <th>0</th>\n",
       "      <td>OriginalMovieBuff21</td>\n",
       "      <td>Kill Bill: Vol. 2</td>\n",
       "      <td>good follow up that answers all the questions</td>\n",
       "      <td>2005-07-24</td>\n",
       "      <td>after seeing tarantino's kill bill vol: 1 i go...</td>\n",
       "      <td>LOVE IT</td>\n",
       "      <td>378194</td>\n",
       "      <td>http://www.imdb.com/title/tt378194</td>\n",
       "      <td>Kill Bill: Vol. 2 (2004)</td>\n",
       "      <td>8.0</td>\n",
       "      <td>Action;Crime;Drama</td>\n",
       "      <td>images/378194_.jpg</td>\n",
       "      <td>tt0378194</td>\n",
       "    </tr>\n",
       "    <tr>\n",
       "      <th>1</th>\n",
       "      <td>Bogmeister</td>\n",
       "      <td>Kill Bill: Vol. 2</td>\n",
       "      <td>the bride ends her rampage; we applaud</td>\n",
       "      <td>2005-08-15</td>\n",
       "      <td>the 2nd half of tarantino's tale of bloody rev...</td>\n",
       "      <td>LOVE IT</td>\n",
       "      <td>378194</td>\n",
       "      <td>http://www.imdb.com/title/tt378194</td>\n",
       "      <td>Kill Bill: Vol. 2 (2004)</td>\n",
       "      <td>8.0</td>\n",
       "      <td>Action;Crime;Drama</td>\n",
       "      <td>images/378194_.jpg</td>\n",
       "      <td>tt0378194</td>\n",
       "    </tr>\n",
       "    <tr>\n",
       "      <th>2</th>\n",
       "      <td>departed07</td>\n",
       "      <td>Kill Bill: Vol. 2</td>\n",
       "      <td>quentin tarantino's best since pulp fiction</td>\n",
       "      <td>2005-08-26</td>\n",
       "      <td>the bride is back and ready to kick ass in thi...</td>\n",
       "      <td>LOVE IT</td>\n",
       "      <td>378194</td>\n",
       "      <td>http://www.imdb.com/title/tt378194</td>\n",
       "      <td>Kill Bill: Vol. 2 (2004)</td>\n",
       "      <td>8.0</td>\n",
       "      <td>Action;Crime;Drama</td>\n",
       "      <td>images/378194_.jpg</td>\n",
       "      <td>tt0378194</td>\n",
       "    </tr>\n",
       "    <tr>\n",
       "      <th>3</th>\n",
       "      <td>Angeneer</td>\n",
       "      <td>Kill Bill: Vol. 2</td>\n",
       "      <td>quentin made me eat my hat</td>\n",
       "      <td>2005-09-08</td>\n",
       "      <td>i'm very happy to admit that tarantino proved ...</td>\n",
       "      <td>LOVE IT</td>\n",
       "      <td>378194</td>\n",
       "      <td>http://www.imdb.com/title/tt378194</td>\n",
       "      <td>Kill Bill: Vol. 2 (2004)</td>\n",
       "      <td>8.0</td>\n",
       "      <td>Action;Crime;Drama</td>\n",
       "      <td>images/378194_.jpg</td>\n",
       "      <td>tt0378194</td>\n",
       "    </tr>\n",
       "    <tr>\n",
       "      <th>4</th>\n",
       "      <td>LoneWolfAndCub</td>\n",
       "      <td>Kill Bill: Vol. 2</td>\n",
       "      <td>great ending to qt's tale of revenge</td>\n",
       "      <td>2005-09-07</td>\n",
       "      <td>kill bill volume 2 (directed by quentin tarant...</td>\n",
       "      <td>LOVE IT</td>\n",
       "      <td>378194</td>\n",
       "      <td>http://www.imdb.com/title/tt378194</td>\n",
       "      <td>Kill Bill: Vol. 2 (2004)</td>\n",
       "      <td>8.0</td>\n",
       "      <td>Action;Crime;Drama</td>\n",
       "      <td>images/378194_.jpg</td>\n",
       "      <td>tt0378194</td>\n",
       "    </tr>\n",
       "  </tbody>\n",
       "</table>\n",
       "</div>"
      ],
      "text/plain": [
       "              reviewer               movie  \\\n",
       "0  OriginalMovieBuff21  Kill Bill: Vol. 2    \n",
       "1           Bogmeister  Kill Bill: Vol. 2    \n",
       "2           departed07  Kill Bill: Vol. 2    \n",
       "3             Angeneer  Kill Bill: Vol. 2    \n",
       "4       LoneWolfAndCub  Kill Bill: Vol. 2    \n",
       "\n",
       "                                  review_summary review_date  \\\n",
       "0  good follow up that answers all the questions  2005-07-24   \n",
       "1         the bride ends her rampage; we applaud  2005-08-15   \n",
       "2    quentin tarantino's best since pulp fiction  2005-08-26   \n",
       "3                     quentin made me eat my hat  2005-09-08   \n",
       "4           great ending to qt's tale of revenge  2005-09-07   \n",
       "\n",
       "                                       review_detail    lable  imdbId  \\\n",
       "0  after seeing tarantino's kill bill vol: 1 i go...  LOVE IT  378194   \n",
       "1  the 2nd half of tarantino's tale of bloody rev...  LOVE IT  378194   \n",
       "2  the bride is back and ready to kick ass in thi...  LOVE IT  378194   \n",
       "3  i'm very happy to admit that tarantino proved ...  LOVE IT  378194   \n",
       "4  kill bill volume 2 (directed by quentin tarant...  LOVE IT  378194   \n",
       "\n",
       "                            Imdb Link                     Title  IMDB Score  \\\n",
       "0  http://www.imdb.com/title/tt378194  Kill Bill: Vol. 2 (2004)         8.0   \n",
       "1  http://www.imdb.com/title/tt378194  Kill Bill: Vol. 2 (2004)         8.0   \n",
       "2  http://www.imdb.com/title/tt378194  Kill Bill: Vol. 2 (2004)         8.0   \n",
       "3  http://www.imdb.com/title/tt378194  Kill Bill: Vol. 2 (2004)         8.0   \n",
       "4  http://www.imdb.com/title/tt378194  Kill Bill: Vol. 2 (2004)         8.0   \n",
       "\n",
       "                Genre    local_image_path    imdb_id  \n",
       "0  Action;Crime;Drama  images/378194_.jpg  tt0378194  \n",
       "1  Action;Crime;Drama  images/378194_.jpg  tt0378194  \n",
       "2  Action;Crime;Drama  images/378194_.jpg  tt0378194  \n",
       "3  Action;Crime;Drama  images/378194_.jpg  tt0378194  \n",
       "4  Action;Crime;Drama  images/378194_.jpg  tt0378194  "
      ]
     },
     "execution_count": 28,
     "metadata": {},
     "output_type": "execute_result"
    }
   ],
   "source": [
    "df.head()"
   ]
  },
  {
   "cell_type": "code",
   "execution_count": 29,
   "id": "9267fbd1",
   "metadata": {},
   "outputs": [
    {
     "name": "stderr",
     "output_type": "stream",
     "text": [
      "/opt/anaconda3/lib/python3.8/site-packages/IPython/core/interactiveshell.py:3437: DtypeWarning: Columns (3) have mixed types.Specify dtype option on import or set low_memory=False.\n",
      "  exec(code_obj, self.user_global_ns, self.user_ns)\n"
     ]
    }
   ],
   "source": [
    "#Load the IMDB dataset to add more information to the data\n",
    "imdb_db = pd.read_csv('/Users/Amin/Documents/GitHub/Review-Sentiment-Analysis-with-Recommendation-System/data/IMDb movies.csv')"
   ]
  },
  {
   "cell_type": "code",
   "execution_count": 30,
   "id": "389b4fae",
   "metadata": {},
   "outputs": [
    {
     "data": {
      "text/html": [
       "<div>\n",
       "<style scoped>\n",
       "    .dataframe tbody tr th:only-of-type {\n",
       "        vertical-align: middle;\n",
       "    }\n",
       "\n",
       "    .dataframe tbody tr th {\n",
       "        vertical-align: top;\n",
       "    }\n",
       "\n",
       "    .dataframe thead th {\n",
       "        text-align: right;\n",
       "    }\n",
       "</style>\n",
       "<table border=\"1\" class=\"dataframe\">\n",
       "  <thead>\n",
       "    <tr style=\"text-align: right;\">\n",
       "      <th></th>\n",
       "      <th>imdb_title_id</th>\n",
       "      <th>title</th>\n",
       "      <th>original_title</th>\n",
       "      <th>year</th>\n",
       "      <th>date_published</th>\n",
       "      <th>genre</th>\n",
       "      <th>duration</th>\n",
       "      <th>country</th>\n",
       "      <th>language</th>\n",
       "      <th>director</th>\n",
       "      <th>...</th>\n",
       "      <th>actors</th>\n",
       "      <th>description</th>\n",
       "      <th>avg_vote</th>\n",
       "      <th>votes</th>\n",
       "      <th>budget</th>\n",
       "      <th>usa_gross_income</th>\n",
       "      <th>worlwide_gross_income</th>\n",
       "      <th>metascore</th>\n",
       "      <th>reviews_from_users</th>\n",
       "      <th>reviews_from_critics</th>\n",
       "    </tr>\n",
       "  </thead>\n",
       "  <tbody>\n",
       "    <tr>\n",
       "      <th>0</th>\n",
       "      <td>tt0000009</td>\n",
       "      <td>Miss Jerry</td>\n",
       "      <td>Miss Jerry</td>\n",
       "      <td>1894</td>\n",
       "      <td>1894-10-09</td>\n",
       "      <td>Romance</td>\n",
       "      <td>45</td>\n",
       "      <td>USA</td>\n",
       "      <td>None</td>\n",
       "      <td>Alexander Black</td>\n",
       "      <td>...</td>\n",
       "      <td>Blanche Bayliss, William Courtenay, Chauncey D...</td>\n",
       "      <td>The adventures of a female reporter in the 1890s.</td>\n",
       "      <td>5.9</td>\n",
       "      <td>154</td>\n",
       "      <td>NaN</td>\n",
       "      <td>NaN</td>\n",
       "      <td>NaN</td>\n",
       "      <td>NaN</td>\n",
       "      <td>1.0</td>\n",
       "      <td>2.0</td>\n",
       "    </tr>\n",
       "    <tr>\n",
       "      <th>1</th>\n",
       "      <td>tt0000574</td>\n",
       "      <td>The Story of the Kelly Gang</td>\n",
       "      <td>The Story of the Kelly Gang</td>\n",
       "      <td>1906</td>\n",
       "      <td>1906-12-26</td>\n",
       "      <td>Biography, Crime, Drama</td>\n",
       "      <td>70</td>\n",
       "      <td>Australia</td>\n",
       "      <td>None</td>\n",
       "      <td>Charles Tait</td>\n",
       "      <td>...</td>\n",
       "      <td>Elizabeth Tait, John Tait, Norman Campbell, Be...</td>\n",
       "      <td>True story of notorious Australian outlaw Ned ...</td>\n",
       "      <td>6.1</td>\n",
       "      <td>589</td>\n",
       "      <td>$ 2250</td>\n",
       "      <td>NaN</td>\n",
       "      <td>NaN</td>\n",
       "      <td>NaN</td>\n",
       "      <td>7.0</td>\n",
       "      <td>7.0</td>\n",
       "    </tr>\n",
       "    <tr>\n",
       "      <th>2</th>\n",
       "      <td>tt0001892</td>\n",
       "      <td>Den sorte drøm</td>\n",
       "      <td>Den sorte drøm</td>\n",
       "      <td>1911</td>\n",
       "      <td>1911-08-19</td>\n",
       "      <td>Drama</td>\n",
       "      <td>53</td>\n",
       "      <td>Germany, Denmark</td>\n",
       "      <td>NaN</td>\n",
       "      <td>Urban Gad</td>\n",
       "      <td>...</td>\n",
       "      <td>Asta Nielsen, Valdemar Psilander, Gunnar Helse...</td>\n",
       "      <td>Two men of high rank are both wooing the beaut...</td>\n",
       "      <td>5.8</td>\n",
       "      <td>188</td>\n",
       "      <td>NaN</td>\n",
       "      <td>NaN</td>\n",
       "      <td>NaN</td>\n",
       "      <td>NaN</td>\n",
       "      <td>5.0</td>\n",
       "      <td>2.0</td>\n",
       "    </tr>\n",
       "    <tr>\n",
       "      <th>3</th>\n",
       "      <td>tt0002101</td>\n",
       "      <td>Cleopatra</td>\n",
       "      <td>Cleopatra</td>\n",
       "      <td>1912</td>\n",
       "      <td>1912-11-13</td>\n",
       "      <td>Drama, History</td>\n",
       "      <td>100</td>\n",
       "      <td>USA</td>\n",
       "      <td>English</td>\n",
       "      <td>Charles L. Gaskill</td>\n",
       "      <td>...</td>\n",
       "      <td>Helen Gardner, Pearl Sindelar, Miss Fielding, ...</td>\n",
       "      <td>The fabled queen of Egypt's affair with Roman ...</td>\n",
       "      <td>5.2</td>\n",
       "      <td>446</td>\n",
       "      <td>$ 45000</td>\n",
       "      <td>NaN</td>\n",
       "      <td>NaN</td>\n",
       "      <td>NaN</td>\n",
       "      <td>25.0</td>\n",
       "      <td>3.0</td>\n",
       "    </tr>\n",
       "    <tr>\n",
       "      <th>4</th>\n",
       "      <td>tt0002130</td>\n",
       "      <td>L'Inferno</td>\n",
       "      <td>L'Inferno</td>\n",
       "      <td>1911</td>\n",
       "      <td>1911-03-06</td>\n",
       "      <td>Adventure, Drama, Fantasy</td>\n",
       "      <td>68</td>\n",
       "      <td>Italy</td>\n",
       "      <td>Italian</td>\n",
       "      <td>Francesco Bertolini, Adolfo Padovan</td>\n",
       "      <td>...</td>\n",
       "      <td>Salvatore Papa, Arturo Pirovano, Giuseppe de L...</td>\n",
       "      <td>Loosely adapted from Dante's Divine Comedy and...</td>\n",
       "      <td>7.0</td>\n",
       "      <td>2237</td>\n",
       "      <td>NaN</td>\n",
       "      <td>NaN</td>\n",
       "      <td>NaN</td>\n",
       "      <td>NaN</td>\n",
       "      <td>31.0</td>\n",
       "      <td>14.0</td>\n",
       "    </tr>\n",
       "  </tbody>\n",
       "</table>\n",
       "<p>5 rows × 22 columns</p>\n",
       "</div>"
      ],
      "text/plain": [
       "  imdb_title_id                        title               original_title  \\\n",
       "0     tt0000009                   Miss Jerry                   Miss Jerry   \n",
       "1     tt0000574  The Story of the Kelly Gang  The Story of the Kelly Gang   \n",
       "2     tt0001892               Den sorte drøm               Den sorte drøm   \n",
       "3     tt0002101                    Cleopatra                    Cleopatra   \n",
       "4     tt0002130                    L'Inferno                    L'Inferno   \n",
       "\n",
       "   year date_published                      genre  duration           country  \\\n",
       "0  1894     1894-10-09                    Romance        45               USA   \n",
       "1  1906     1906-12-26    Biography, Crime, Drama        70         Australia   \n",
       "2  1911     1911-08-19                      Drama        53  Germany, Denmark   \n",
       "3  1912     1912-11-13             Drama, History       100               USA   \n",
       "4  1911     1911-03-06  Adventure, Drama, Fantasy        68             Italy   \n",
       "\n",
       "  language                             director  ...  \\\n",
       "0     None                      Alexander Black  ...   \n",
       "1     None                         Charles Tait  ...   \n",
       "2      NaN                            Urban Gad  ...   \n",
       "3  English                   Charles L. Gaskill  ...   \n",
       "4  Italian  Francesco Bertolini, Adolfo Padovan  ...   \n",
       "\n",
       "                                              actors  \\\n",
       "0  Blanche Bayliss, William Courtenay, Chauncey D...   \n",
       "1  Elizabeth Tait, John Tait, Norman Campbell, Be...   \n",
       "2  Asta Nielsen, Valdemar Psilander, Gunnar Helse...   \n",
       "3  Helen Gardner, Pearl Sindelar, Miss Fielding, ...   \n",
       "4  Salvatore Papa, Arturo Pirovano, Giuseppe de L...   \n",
       "\n",
       "                                         description avg_vote votes   budget  \\\n",
       "0  The adventures of a female reporter in the 1890s.      5.9   154      NaN   \n",
       "1  True story of notorious Australian outlaw Ned ...      6.1   589   $ 2250   \n",
       "2  Two men of high rank are both wooing the beaut...      5.8   188      NaN   \n",
       "3  The fabled queen of Egypt's affair with Roman ...      5.2   446  $ 45000   \n",
       "4  Loosely adapted from Dante's Divine Comedy and...      7.0  2237      NaN   \n",
       "\n",
       "   usa_gross_income worlwide_gross_income metascore reviews_from_users  \\\n",
       "0               NaN                   NaN       NaN                1.0   \n",
       "1               NaN                   NaN       NaN                7.0   \n",
       "2               NaN                   NaN       NaN                5.0   \n",
       "3               NaN                   NaN       NaN               25.0   \n",
       "4               NaN                   NaN       NaN               31.0   \n",
       "\n",
       "   reviews_from_critics  \n",
       "0                   2.0  \n",
       "1                   7.0  \n",
       "2                   2.0  \n",
       "3                   3.0  \n",
       "4                  14.0  \n",
       "\n",
       "[5 rows x 22 columns]"
      ]
     },
     "execution_count": 30,
     "metadata": {},
     "output_type": "execute_result"
    }
   ],
   "source": [
    "imdb_db.head()"
   ]
  },
  {
   "cell_type": "code",
   "execution_count": 31,
   "id": "0ea95dc7",
   "metadata": {},
   "outputs": [],
   "source": [
    "#Merge the review data with imdb data on imdb ID\n",
    "final_db = df.merge(imdb_db,left_on='imdb_id',right_on='imdb_title_id')"
   ]
  },
  {
   "cell_type": "code",
   "execution_count": 32,
   "id": "18d3efe9",
   "metadata": {
    "scrolled": true
   },
   "outputs": [
    {
     "name": "stdout",
     "output_type": "stream",
     "text": [
      "<class 'pandas.core.frame.DataFrame'>\n",
      "Int64Index: 475111 entries, 0 to 475110\n",
      "Data columns (total 35 columns):\n",
      " #   Column                 Non-Null Count   Dtype         \n",
      "---  ------                 --------------   -----         \n",
      " 0   reviewer               475111 non-null  object        \n",
      " 1   movie                  475111 non-null  object        \n",
      " 2   review_summary         475111 non-null  object        \n",
      " 3   review_date            475111 non-null  datetime64[ns]\n",
      " 4   review_detail          475111 non-null  string        \n",
      " 5   lable                  475111 non-null  object        \n",
      " 6   imdbId                 475111 non-null  string        \n",
      " 7   Imdb Link              475111 non-null  object        \n",
      " 8   Title                  475111 non-null  object        \n",
      " 9   IMDB Score             474998 non-null  float64       \n",
      " 10  Genre                  475111 non-null  object        \n",
      " 11  local_image_path       475111 non-null  object        \n",
      " 12  imdb_id                475111 non-null  object        \n",
      " 13  imdb_title_id          475111 non-null  object        \n",
      " 14  title                  475111 non-null  object        \n",
      " 15  original_title         475111 non-null  object        \n",
      " 16  year                   475111 non-null  object        \n",
      " 17  date_published         475111 non-null  object        \n",
      " 18  genre                  475111 non-null  object        \n",
      " 19  duration               475111 non-null  int64         \n",
      " 20  country                475111 non-null  object        \n",
      " 21  language               474985 non-null  object        \n",
      " 22  director               475111 non-null  object        \n",
      " 23  writer                 474881 non-null  object        \n",
      " 24  production_company     475111 non-null  object        \n",
      " 25  actors                 475111 non-null  object        \n",
      " 26  description            474061 non-null  object        \n",
      " 27  avg_vote               475111 non-null  float64       \n",
      " 28  votes                  475111 non-null  int64         \n",
      " 29  budget                 441953 non-null  object        \n",
      " 30  usa_gross_income       423712 non-null  object        \n",
      " 31  worlwide_gross_income  436898 non-null  object        \n",
      " 32  metascore              438442 non-null  float64       \n",
      " 33  reviews_from_users     474969 non-null  float64       \n",
      " 34  reviews_from_critics   475111 non-null  float64       \n",
      "dtypes: datetime64[ns](1), float64(5), int64(2), object(25), string(2)\n",
      "memory usage: 130.5+ MB\n"
     ]
    }
   ],
   "source": [
    "final_db.info()"
   ]
  },
  {
   "cell_type": "markdown",
   "id": "7d947447",
   "metadata": {},
   "source": [
    "For the sake of the hybrid recommandation, I am going to keep the name of the director and genre of the movie."
   ]
  },
  {
   "cell_type": "code",
   "execution_count": 33,
   "id": "983da77f",
   "metadata": {},
   "outputs": [],
   "source": [
    "#Drop the unwanted columns\n",
    "final_db.drop(columns=['imdbId','Imdb Link','Title','IMDB Score','local_image_path','imdb_id',\n",
    "                      'imdb_title_id','title','original_title','date_published','duration','country',\n",
    "                      'language','writer','production_company','description','avg_vote','votes',\n",
    "                      'budget','usa_gross_income','worlwide_gross_income','metascore','reviews_from_users',\n",
    "                      'reviews_from_critics','Genre','year','actors'],inplace=True)"
   ]
  },
  {
   "cell_type": "markdown",
   "id": "4f3724ad",
   "metadata": {},
   "source": [
    "The genre columns include three value seperated by a comma. It needs to seperated to three columns for further use."
   ]
  },
  {
   "cell_type": "code",
   "execution_count": 34,
   "id": "584897c7",
   "metadata": {},
   "outputs": [],
   "source": [
    "final_db[['genre_1','genre_2','genre_3']] = final_db['genre'].str.split(', ', expand=True)"
   ]
  },
  {
   "cell_type": "code",
   "execution_count": 35,
   "id": "493b623f",
   "metadata": {},
   "outputs": [],
   "source": [
    "final_db.drop(columns=['genre'],inplace=True)"
   ]
  },
  {
   "cell_type": "markdown",
   "id": "c8b89618",
   "metadata": {},
   "source": [
    "Those movie that has only one genre, the other two columns will fill with the same genre."
   ]
  },
  {
   "cell_type": "code",
   "execution_count": 36,
   "id": "9992505f",
   "metadata": {},
   "outputs": [],
   "source": [
    "final_db['genre_2'].fillna(final_db['genre_1'],inplace=True)"
   ]
  },
  {
   "cell_type": "code",
   "execution_count": 37,
   "id": "317544f6",
   "metadata": {},
   "outputs": [],
   "source": [
    "final_db['genre_3'].fillna(final_db['genre_2'],inplace=True)"
   ]
  },
  {
   "cell_type": "code",
   "execution_count": 38,
   "id": "e7f61884",
   "metadata": {},
   "outputs": [
    {
     "data": {
      "text/html": [
       "<div>\n",
       "<style scoped>\n",
       "    .dataframe tbody tr th:only-of-type {\n",
       "        vertical-align: middle;\n",
       "    }\n",
       "\n",
       "    .dataframe tbody tr th {\n",
       "        vertical-align: top;\n",
       "    }\n",
       "\n",
       "    .dataframe thead th {\n",
       "        text-align: right;\n",
       "    }\n",
       "</style>\n",
       "<table border=\"1\" class=\"dataframe\">\n",
       "  <thead>\n",
       "    <tr style=\"text-align: right;\">\n",
       "      <th></th>\n",
       "      <th>reviewer</th>\n",
       "      <th>movie</th>\n",
       "      <th>review_summary</th>\n",
       "      <th>review_date</th>\n",
       "      <th>review_detail</th>\n",
       "      <th>lable</th>\n",
       "      <th>director</th>\n",
       "      <th>genre_1</th>\n",
       "      <th>genre_2</th>\n",
       "      <th>genre_3</th>\n",
       "    </tr>\n",
       "  </thead>\n",
       "  <tbody>\n",
       "    <tr>\n",
       "      <th>0</th>\n",
       "      <td>OriginalMovieBuff21</td>\n",
       "      <td>Kill Bill: Vol. 2</td>\n",
       "      <td>good follow up that answers all the questions</td>\n",
       "      <td>2005-07-24</td>\n",
       "      <td>after seeing tarantino's kill bill vol: 1 i go...</td>\n",
       "      <td>LOVE IT</td>\n",
       "      <td>Quentin Tarantino</td>\n",
       "      <td>Action</td>\n",
       "      <td>Crime</td>\n",
       "      <td>Thriller</td>\n",
       "    </tr>\n",
       "    <tr>\n",
       "      <th>1</th>\n",
       "      <td>Bogmeister</td>\n",
       "      <td>Kill Bill: Vol. 2</td>\n",
       "      <td>the bride ends her rampage; we applaud</td>\n",
       "      <td>2005-08-15</td>\n",
       "      <td>the 2nd half of tarantino's tale of bloody rev...</td>\n",
       "      <td>LOVE IT</td>\n",
       "      <td>Quentin Tarantino</td>\n",
       "      <td>Action</td>\n",
       "      <td>Crime</td>\n",
       "      <td>Thriller</td>\n",
       "    </tr>\n",
       "    <tr>\n",
       "      <th>2</th>\n",
       "      <td>departed07</td>\n",
       "      <td>Kill Bill: Vol. 2</td>\n",
       "      <td>quentin tarantino's best since pulp fiction</td>\n",
       "      <td>2005-08-26</td>\n",
       "      <td>the bride is back and ready to kick ass in thi...</td>\n",
       "      <td>LOVE IT</td>\n",
       "      <td>Quentin Tarantino</td>\n",
       "      <td>Action</td>\n",
       "      <td>Crime</td>\n",
       "      <td>Thriller</td>\n",
       "    </tr>\n",
       "    <tr>\n",
       "      <th>3</th>\n",
       "      <td>Angeneer</td>\n",
       "      <td>Kill Bill: Vol. 2</td>\n",
       "      <td>quentin made me eat my hat</td>\n",
       "      <td>2005-09-08</td>\n",
       "      <td>i'm very happy to admit that tarantino proved ...</td>\n",
       "      <td>LOVE IT</td>\n",
       "      <td>Quentin Tarantino</td>\n",
       "      <td>Action</td>\n",
       "      <td>Crime</td>\n",
       "      <td>Thriller</td>\n",
       "    </tr>\n",
       "    <tr>\n",
       "      <th>4</th>\n",
       "      <td>LoneWolfAndCub</td>\n",
       "      <td>Kill Bill: Vol. 2</td>\n",
       "      <td>great ending to qt's tale of revenge</td>\n",
       "      <td>2005-09-07</td>\n",
       "      <td>kill bill volume 2 (directed by quentin tarant...</td>\n",
       "      <td>LOVE IT</td>\n",
       "      <td>Quentin Tarantino</td>\n",
       "      <td>Action</td>\n",
       "      <td>Crime</td>\n",
       "      <td>Thriller</td>\n",
       "    </tr>\n",
       "  </tbody>\n",
       "</table>\n",
       "</div>"
      ],
      "text/plain": [
       "              reviewer               movie  \\\n",
       "0  OriginalMovieBuff21  Kill Bill: Vol. 2    \n",
       "1           Bogmeister  Kill Bill: Vol. 2    \n",
       "2           departed07  Kill Bill: Vol. 2    \n",
       "3             Angeneer  Kill Bill: Vol. 2    \n",
       "4       LoneWolfAndCub  Kill Bill: Vol. 2    \n",
       "\n",
       "                                  review_summary review_date  \\\n",
       "0  good follow up that answers all the questions  2005-07-24   \n",
       "1         the bride ends her rampage; we applaud  2005-08-15   \n",
       "2    quentin tarantino's best since pulp fiction  2005-08-26   \n",
       "3                     quentin made me eat my hat  2005-09-08   \n",
       "4           great ending to qt's tale of revenge  2005-09-07   \n",
       "\n",
       "                                       review_detail    lable  \\\n",
       "0  after seeing tarantino's kill bill vol: 1 i go...  LOVE IT   \n",
       "1  the 2nd half of tarantino's tale of bloody rev...  LOVE IT   \n",
       "2  the bride is back and ready to kick ass in thi...  LOVE IT   \n",
       "3  i'm very happy to admit that tarantino proved ...  LOVE IT   \n",
       "4  kill bill volume 2 (directed by quentin tarant...  LOVE IT   \n",
       "\n",
       "            director genre_1 genre_2   genre_3  \n",
       "0  Quentin Tarantino  Action   Crime  Thriller  \n",
       "1  Quentin Tarantino  Action   Crime  Thriller  \n",
       "2  Quentin Tarantino  Action   Crime  Thriller  \n",
       "3  Quentin Tarantino  Action   Crime  Thriller  \n",
       "4  Quentin Tarantino  Action   Crime  Thriller  "
      ]
     },
     "execution_count": 38,
     "metadata": {},
     "output_type": "execute_result"
    }
   ],
   "source": [
    "final_db.head()"
   ]
  },
  {
   "cell_type": "code",
   "execution_count": 39,
   "id": "19cf5987",
   "metadata": {},
   "outputs": [
    {
     "data": {
      "text/plain": [
       "reviewer                  object\n",
       "movie                     object\n",
       "review_summary            object\n",
       "review_date       datetime64[ns]\n",
       "review_detail             string\n",
       "lable                     object\n",
       "director                  object\n",
       "genre_1                   object\n",
       "genre_2                   object\n",
       "genre_3                   object\n",
       "dtype: object"
      ]
     },
     "execution_count": 39,
     "metadata": {},
     "output_type": "execute_result"
    }
   ],
   "source": [
    "#Checking the final dataset type\n",
    "final_db.dtypes"
   ]
  },
  {
   "cell_type": "code",
   "execution_count": 40,
   "id": "4967d95b",
   "metadata": {},
   "outputs": [
    {
     "data": {
      "text/plain": [
       "11251"
      ]
     },
     "execution_count": 40,
     "metadata": {},
     "output_type": "execute_result"
    }
   ],
   "source": [
    "#number of unique reviewer\n",
    "final_db.reviewer.nunique()"
   ]
  },
  {
   "cell_type": "code",
   "execution_count": 41,
   "id": "5a506026",
   "metadata": {},
   "outputs": [
    {
     "data": {
      "text/plain": [
       "3925"
      ]
     },
     "execution_count": 41,
     "metadata": {},
     "output_type": "execute_result"
    }
   ],
   "source": [
    "#Number of the unique movie\n",
    "final_db.movie.nunique()"
   ]
  },
  {
   "cell_type": "code",
   "execution_count": 42,
   "id": "e756391e",
   "metadata": {},
   "outputs": [
    {
     "data": {
      "text/plain": [
       "NOT LOVE IT    254791\n",
       "LOVE IT        220320\n",
       "Name: lable, dtype: int64"
      ]
     },
     "execution_count": 42,
     "metadata": {},
     "output_type": "execute_result"
    }
   ],
   "source": [
    "#The lable distribution\n",
    "final_db.lable.value_counts()"
   ]
  },
  {
   "cell_type": "code",
   "execution_count": 43,
   "id": "e6b13e54",
   "metadata": {},
   "outputs": [],
   "source": [
    "#saving the clean data \n",
    "final_db.to_csv('/Users/Amin/Documents/GitHub/Review-Sentiment-Analysis-with-Recommendation-System/data/clean_db.csv',index=False)"
   ]
  }
 ],
 "metadata": {
  "kernelspec": {
   "display_name": "Python 3",
   "language": "python",
   "name": "python3"
  },
  "language_info": {
   "codemirror_mode": {
    "name": "ipython",
    "version": 3
   },
   "file_extension": ".py",
   "mimetype": "text/x-python",
   "name": "python",
   "nbconvert_exporter": "python",
   "pygments_lexer": "ipython3",
   "version": "3.8.8"
  }
 },
 "nbformat": 4,
 "nbformat_minor": 5
}
