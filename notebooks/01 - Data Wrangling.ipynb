{
 "cells": [
  {
   "cell_type": "markdown",
   "id": "811f622b",
   "metadata": {},
   "source": [
    "## Data Wrangling for Review Sentimental Analysis and Recommnadation System "
   ]
  },
  {
   "cell_type": "markdown",
   "id": "35e36aab",
   "metadata": {},
   "source": [
    "Importing the library"
   ]
  },
  {
   "cell_type": "code",
   "execution_count": 53,
   "id": "dd7049d8",
   "metadata": {},
   "outputs": [],
   "source": [
    "import pandas as pd\n",
    "import numpy as np\n",
    "import re"
   ]
  },
  {
   "cell_type": "markdown",
   "id": "6bd3e2c9",
   "metadata": {},
   "source": [
    "First import the review dataset and making it ready for the next step."
   ]
  },
  {
   "cell_type": "code",
   "execution_count": 54,
   "id": "ff9f5b45",
   "metadata": {},
   "outputs": [],
   "source": [
    "review = pd.read_csv('/Users/Amin/Documents/GitHub/Review-Sentiment-Analysis-with-Recommendation-System/data/reviews.csv')"
   ]
  },
  {
   "cell_type": "code",
   "execution_count": 55,
   "id": "2c1bd5d8",
   "metadata": {},
   "outputs": [
    {
     "data": {
      "text/html": [
       "<div>\n",
       "<style scoped>\n",
       "    .dataframe tbody tr th:only-of-type {\n",
       "        vertical-align: middle;\n",
       "    }\n",
       "\n",
       "    .dataframe tbody tr th {\n",
       "        vertical-align: top;\n",
       "    }\n",
       "\n",
       "    .dataframe thead th {\n",
       "        text-align: right;\n",
       "    }\n",
       "</style>\n",
       "<table border=\"1\" class=\"dataframe\">\n",
       "  <thead>\n",
       "    <tr style=\"text-align: right;\">\n",
       "      <th></th>\n",
       "      <th>review_id</th>\n",
       "      <th>reviewer</th>\n",
       "      <th>movie</th>\n",
       "      <th>rating</th>\n",
       "      <th>review_summary</th>\n",
       "      <th>review_date</th>\n",
       "      <th>spoiler_tag</th>\n",
       "      <th>review_detail</th>\n",
       "      <th>helpful</th>\n",
       "    </tr>\n",
       "  </thead>\n",
       "  <tbody>\n",
       "    <tr>\n",
       "      <th>0</th>\n",
       "      <td>rw1133942</td>\n",
       "      <td>OriginalMovieBuff21</td>\n",
       "      <td>Kill Bill: Vol. 2 (2004)</td>\n",
       "      <td>8.0</td>\n",
       "      <td>Good follow up that answers all the questions</td>\n",
       "      <td>24 July 2005</td>\n",
       "      <td>0</td>\n",
       "      <td>After seeing Tarantino's Kill Bill Vol: 1, I g...</td>\n",
       "      <td>['0', '1']</td>\n",
       "    </tr>\n",
       "    <tr>\n",
       "      <th>1</th>\n",
       "      <td>rw1133959</td>\n",
       "      <td>lost-in-limbo</td>\n",
       "      <td>Feardotcom (2002)</td>\n",
       "      <td>3.0</td>\n",
       "      <td>\"I couldn't make much sense of it myself\". Too...</td>\n",
       "      <td>24 July 2005</td>\n",
       "      <td>0</td>\n",
       "      <td>There's a Website called FearDotCom and anyone...</td>\n",
       "      <td>['1', '4']</td>\n",
       "    </tr>\n",
       "    <tr>\n",
       "      <th>2</th>\n",
       "      <td>rw1133985</td>\n",
       "      <td>NateManD</td>\n",
       "      <td>Persona (1966)</td>\n",
       "      <td>10.0</td>\n",
       "      <td>Persona gives me all the reasons to love art-h...</td>\n",
       "      <td>24 July 2005</td>\n",
       "      <td>0</td>\n",
       "      <td>Long before \"Muholland Drive\" there was anothe...</td>\n",
       "      <td>['9', '23']</td>\n",
       "    </tr>\n",
       "    <tr>\n",
       "      <th>3</th>\n",
       "      <td>rw1133999</td>\n",
       "      <td>CAMACHO-4</td>\n",
       "      <td>War of the Worlds (2005)</td>\n",
       "      <td>3.0</td>\n",
       "      <td>A disappointing film from the team that you Mi...</td>\n",
       "      <td>24 July 2005</td>\n",
       "      <td>0</td>\n",
       "      <td>Spielberg said this film is based on the H.G. ...</td>\n",
       "      <td>['9', '14']</td>\n",
       "    </tr>\n",
       "    <tr>\n",
       "      <th>4</th>\n",
       "      <td>rw1134010</td>\n",
       "      <td>CAMACHO-4</td>\n",
       "      <td>Mr. &amp; Mrs. Smith (2005)</td>\n",
       "      <td>6.0</td>\n",
       "      <td>A fun action movie with great chemistry</td>\n",
       "      <td>24 July 2005</td>\n",
       "      <td>0</td>\n",
       "      <td>Director Doug Liman, who's gotten famous for m...</td>\n",
       "      <td>['1', '3']</td>\n",
       "    </tr>\n",
       "  </tbody>\n",
       "</table>\n",
       "</div>"
      ],
      "text/plain": [
       "   review_id             reviewer                     movie  rating  \\\n",
       "0  rw1133942  OriginalMovieBuff21  Kill Bill: Vol. 2 (2004)     8.0   \n",
       "1  rw1133959        lost-in-limbo         Feardotcom (2002)     3.0   \n",
       "2  rw1133985             NateManD            Persona (1966)    10.0   \n",
       "3  rw1133999            CAMACHO-4  War of the Worlds (2005)     3.0   \n",
       "4  rw1134010            CAMACHO-4   Mr. & Mrs. Smith (2005)     6.0   \n",
       "\n",
       "                                      review_summary   review_date  \\\n",
       "0      Good follow up that answers all the questions  24 July 2005   \n",
       "1  \"I couldn't make much sense of it myself\". Too...  24 July 2005   \n",
       "2  Persona gives me all the reasons to love art-h...  24 July 2005   \n",
       "3  A disappointing film from the team that you Mi...  24 July 2005   \n",
       "4            A fun action movie with great chemistry  24 July 2005   \n",
       "\n",
       "   spoiler_tag                                      review_detail      helpful  \n",
       "0            0  After seeing Tarantino's Kill Bill Vol: 1, I g...   ['0', '1']  \n",
       "1            0  There's a Website called FearDotCom and anyone...   ['1', '4']  \n",
       "2            0  Long before \"Muholland Drive\" there was anothe...  ['9', '23']  \n",
       "3            0  Spielberg said this film is based on the H.G. ...  ['9', '14']  \n",
       "4            0  Director Doug Liman, who's gotten famous for m...   ['1', '3']  "
      ]
     },
     "execution_count": 55,
     "metadata": {},
     "output_type": "execute_result"
    }
   ],
   "source": [
    "review.head()"
   ]
  },
  {
   "cell_type": "markdown",
   "id": "ab102cd1",
   "metadata": {},
   "source": [
    "It looks a clean dataset, with name of the reviewer, name of the movie, rating that reviewer gets to film, summary and detail of the review and date of the review. \n",
    "First, there are some columns that are not related to the project goal and some need to do some changes."
   ]
  },
  {
   "cell_type": "code",
   "execution_count": 4,
   "id": "ad3b5a24",
   "metadata": {},
   "outputs": [
    {
     "data": {
      "text/html": [
       "<div>\n",
       "<style scoped>\n",
       "    .dataframe tbody tr th:only-of-type {\n",
       "        vertical-align: middle;\n",
       "    }\n",
       "\n",
       "    .dataframe tbody tr th {\n",
       "        vertical-align: top;\n",
       "    }\n",
       "\n",
       "    .dataframe thead th {\n",
       "        text-align: right;\n",
       "    }\n",
       "</style>\n",
       "<table border=\"1\" class=\"dataframe\">\n",
       "  <thead>\n",
       "    <tr style=\"text-align: right;\">\n",
       "      <th></th>\n",
       "      <th>rating</th>\n",
       "      <th>spoiler_tag</th>\n",
       "    </tr>\n",
       "  </thead>\n",
       "  <tbody>\n",
       "    <tr>\n",
       "      <th>count</th>\n",
       "      <td>465661.000000</td>\n",
       "      <td>542461.000000</td>\n",
       "    </tr>\n",
       "    <tr>\n",
       "      <th>mean</th>\n",
       "      <td>6.955223</td>\n",
       "      <td>0.241282</td>\n",
       "    </tr>\n",
       "    <tr>\n",
       "      <th>std</th>\n",
       "      <td>2.306315</td>\n",
       "      <td>0.427861</td>\n",
       "    </tr>\n",
       "    <tr>\n",
       "      <th>min</th>\n",
       "      <td>1.000000</td>\n",
       "      <td>0.000000</td>\n",
       "    </tr>\n",
       "    <tr>\n",
       "      <th>25%</th>\n",
       "      <td>6.000000</td>\n",
       "      <td>0.000000</td>\n",
       "    </tr>\n",
       "    <tr>\n",
       "      <th>50%</th>\n",
       "      <td>7.000000</td>\n",
       "      <td>0.000000</td>\n",
       "    </tr>\n",
       "    <tr>\n",
       "      <th>75%</th>\n",
       "      <td>9.000000</td>\n",
       "      <td>0.000000</td>\n",
       "    </tr>\n",
       "    <tr>\n",
       "      <th>max</th>\n",
       "      <td>10.000000</td>\n",
       "      <td>1.000000</td>\n",
       "    </tr>\n",
       "  </tbody>\n",
       "</table>\n",
       "</div>"
      ],
      "text/plain": [
       "              rating    spoiler_tag\n",
       "count  465661.000000  542461.000000\n",
       "mean        6.955223       0.241282\n",
       "std         2.306315       0.427861\n",
       "min         1.000000       0.000000\n",
       "25%         6.000000       0.000000\n",
       "50%         7.000000       0.000000\n",
       "75%         9.000000       0.000000\n",
       "max        10.000000       1.000000"
      ]
     },
     "execution_count": 4,
     "metadata": {},
     "output_type": "execute_result"
    }
   ],
   "source": [
    "review.describe()"
   ]
  },
  {
   "cell_type": "code",
   "execution_count": 5,
   "id": "7bc687d7",
   "metadata": {},
   "outputs": [
    {
     "data": {
      "text/plain": [
       "review_id             0\n",
       "reviewer              0\n",
       "movie                 0\n",
       "rating            76800\n",
       "review_summary        1\n",
       "review_date           0\n",
       "spoiler_tag           0\n",
       "review_detail         1\n",
       "helpful               0\n",
       "dtype: int64"
      ]
     },
     "execution_count": 5,
     "metadata": {},
     "output_type": "execute_result"
    }
   ],
   "source": [
    "review.isnull().sum()"
   ]
  },
  {
   "cell_type": "code",
   "execution_count": 56,
   "id": "1e95795e",
   "metadata": {},
   "outputs": [],
   "source": [
    "review.dropna(inplace=True)"
   ]
  },
  {
   "cell_type": "markdown",
   "id": "b78c5d44",
   "metadata": {},
   "source": [
    "Some of the rows don't have the rating information. Becasue there is no way to fill these and there is enough data, those rows drop from the dataset."
   ]
  },
  {
   "cell_type": "code",
   "execution_count": 57,
   "id": "c857d660",
   "metadata": {},
   "outputs": [
    {
     "data": {
      "text/plain": [
       "11256"
      ]
     },
     "execution_count": 57,
     "metadata": {},
     "output_type": "execute_result"
    }
   ],
   "source": [
    "review.reviewer.nunique()"
   ]
  },
  {
   "cell_type": "markdown",
   "id": "a3539caa",
   "metadata": {},
   "source": [
    "After droping these NaN values, there are 11256 unique reviewer."
   ]
  },
  {
   "cell_type": "code",
   "execution_count": 8,
   "id": "36c03d31",
   "metadata": {},
   "outputs": [
    {
     "data": {
      "text/plain": [
       "review_id          object\n",
       "reviewer           object\n",
       "movie              object\n",
       "rating            float64\n",
       "review_summary     object\n",
       "review_date        object\n",
       "spoiler_tag         int64\n",
       "review_detail      object\n",
       "helpful            object\n",
       "dtype: object"
      ]
     },
     "execution_count": 8,
     "metadata": {},
     "output_type": "execute_result"
    }
   ],
   "source": [
    "#checking the type of the data\n",
    "review.dtypes"
   ]
  },
  {
   "cell_type": "markdown",
   "id": "8d1c2de5",
   "metadata": {},
   "source": [
    "Next, the data type needs to be check and change to do some of the adjustment for the review, date, and rating columns."
   ]
  },
  {
   "cell_type": "code",
   "execution_count": 58,
   "id": "0edd9c70",
   "metadata": {},
   "outputs": [],
   "source": [
    "#Droping the columns that are not related\n",
    "review.drop(columns=['review_id','spoiler_tag','helpful','review_summary'],inplace=True)"
   ]
  },
  {
   "cell_type": "code",
   "execution_count": 59,
   "id": "a30dc81e",
   "metadata": {},
   "outputs": [
    {
     "data": {
      "text/html": [
       "<div>\n",
       "<style scoped>\n",
       "    .dataframe tbody tr th:only-of-type {\n",
       "        vertical-align: middle;\n",
       "    }\n",
       "\n",
       "    .dataframe tbody tr th {\n",
       "        vertical-align: top;\n",
       "    }\n",
       "\n",
       "    .dataframe thead th {\n",
       "        text-align: right;\n",
       "    }\n",
       "</style>\n",
       "<table border=\"1\" class=\"dataframe\">\n",
       "  <thead>\n",
       "    <tr style=\"text-align: right;\">\n",
       "      <th></th>\n",
       "      <th>reviewer</th>\n",
       "      <th>movie</th>\n",
       "      <th>rating</th>\n",
       "      <th>review_date</th>\n",
       "      <th>review_detail</th>\n",
       "    </tr>\n",
       "  </thead>\n",
       "  <tbody>\n",
       "    <tr>\n",
       "      <th>0</th>\n",
       "      <td>OriginalMovieBuff21</td>\n",
       "      <td>Kill Bill: Vol. 2 (2004)</td>\n",
       "      <td>8.0</td>\n",
       "      <td>24 July 2005</td>\n",
       "      <td>After seeing Tarantino's Kill Bill Vol: 1, I g...</td>\n",
       "    </tr>\n",
       "    <tr>\n",
       "      <th>1</th>\n",
       "      <td>lost-in-limbo</td>\n",
       "      <td>Feardotcom (2002)</td>\n",
       "      <td>3.0</td>\n",
       "      <td>24 July 2005</td>\n",
       "      <td>There's a Website called FearDotCom and anyone...</td>\n",
       "    </tr>\n",
       "    <tr>\n",
       "      <th>2</th>\n",
       "      <td>NateManD</td>\n",
       "      <td>Persona (1966)</td>\n",
       "      <td>10.0</td>\n",
       "      <td>24 July 2005</td>\n",
       "      <td>Long before \"Muholland Drive\" there was anothe...</td>\n",
       "    </tr>\n",
       "    <tr>\n",
       "      <th>3</th>\n",
       "      <td>CAMACHO-4</td>\n",
       "      <td>War of the Worlds (2005)</td>\n",
       "      <td>3.0</td>\n",
       "      <td>24 July 2005</td>\n",
       "      <td>Spielberg said this film is based on the H.G. ...</td>\n",
       "    </tr>\n",
       "    <tr>\n",
       "      <th>4</th>\n",
       "      <td>CAMACHO-4</td>\n",
       "      <td>Mr. &amp; Mrs. Smith (2005)</td>\n",
       "      <td>6.0</td>\n",
       "      <td>24 July 2005</td>\n",
       "      <td>Director Doug Liman, who's gotten famous for m...</td>\n",
       "    </tr>\n",
       "  </tbody>\n",
       "</table>\n",
       "</div>"
      ],
      "text/plain": [
       "              reviewer                     movie  rating   review_date  \\\n",
       "0  OriginalMovieBuff21  Kill Bill: Vol. 2 (2004)     8.0  24 July 2005   \n",
       "1        lost-in-limbo         Feardotcom (2002)     3.0  24 July 2005   \n",
       "2             NateManD            Persona (1966)    10.0  24 July 2005   \n",
       "3            CAMACHO-4  War of the Worlds (2005)     3.0  24 July 2005   \n",
       "4            CAMACHO-4   Mr. & Mrs. Smith (2005)     6.0  24 July 2005   \n",
       "\n",
       "                                       review_detail  \n",
       "0  After seeing Tarantino's Kill Bill Vol: 1, I g...  \n",
       "1  There's a Website called FearDotCom and anyone...  \n",
       "2  Long before \"Muholland Drive\" there was anothe...  \n",
       "3  Spielberg said this film is based on the H.G. ...  \n",
       "4  Director Doug Liman, who's gotten famous for m...  "
      ]
     },
     "execution_count": 59,
     "metadata": {},
     "output_type": "execute_result"
    }
   ],
   "source": [
    "review.head()"
   ]
  },
  {
   "cell_type": "code",
   "execution_count": 9,
   "id": "158d15f7",
   "metadata": {},
   "outputs": [],
   "source": [
    "# Changing the type of the movie name and review details to a string.\n",
    "review.review_detail = review.review_detail.astype('string')\n",
    "review.movie = review.movie.astype('string')"
   ]
  },
  {
   "cell_type": "code",
   "execution_count": 10,
   "id": "56661da3",
   "metadata": {},
   "outputs": [
    {
     "data": {
      "text/plain": [
       "reviewer          object\n",
       "movie             string\n",
       "rating           float64\n",
       "review_date       object\n",
       "review_detail     string\n",
       "dtype: object"
      ]
     },
     "execution_count": 10,
     "metadata": {},
     "output_type": "execute_result"
    }
   ],
   "source": [
    "review.dtypes"
   ]
  },
  {
   "cell_type": "code",
   "execution_count": 11,
   "id": "37c7e1d8",
   "metadata": {},
   "outputs": [],
   "source": [
    "#Remove the comma and dot from the review\n",
    "review.review_detail = review.review_detail.str.replace(',','').replace('.','')"
   ]
  },
  {
   "cell_type": "code",
   "execution_count": 12,
   "id": "0daa0840",
   "metadata": {},
   "outputs": [],
   "source": [
    "#Makes all the review lowercase\n",
    "review.review_detail = review.review_detail.str.lower()"
   ]
  },
  {
   "cell_type": "code",
   "execution_count": 13,
   "id": "928b724d",
   "metadata": {},
   "outputs": [],
   "source": [
    "#Change the type of the review date to datetime\n",
    "review.review_date = pd.to_datetime(review.review_date)"
   ]
  },
  {
   "cell_type": "code",
   "execution_count": 16,
   "id": "f3831754",
   "metadata": {},
   "outputs": [
    {
     "data": {
      "text/plain": [
       "reviewer                 object\n",
       "movie                    string\n",
       "rating                  float64\n",
       "review_date      datetime64[ns]\n",
       "review_detail            string\n",
       "dtype: object"
      ]
     },
     "execution_count": 16,
     "metadata": {},
     "output_type": "execute_result"
    }
   ],
   "source": [
    "review.dtypes"
   ]
  },
  {
   "cell_type": "code",
   "execution_count": 14,
   "id": "b2625c8e",
   "metadata": {},
   "outputs": [
    {
     "data": {
      "text/html": [
       "<div>\n",
       "<style scoped>\n",
       "    .dataframe tbody tr th:only-of-type {\n",
       "        vertical-align: middle;\n",
       "    }\n",
       "\n",
       "    .dataframe tbody tr th {\n",
       "        vertical-align: top;\n",
       "    }\n",
       "\n",
       "    .dataframe thead th {\n",
       "        text-align: right;\n",
       "    }\n",
       "</style>\n",
       "<table border=\"1\" class=\"dataframe\">\n",
       "  <thead>\n",
       "    <tr style=\"text-align: right;\">\n",
       "      <th></th>\n",
       "      <th>reviewer</th>\n",
       "      <th>movie</th>\n",
       "      <th>rating</th>\n",
       "      <th>review_date</th>\n",
       "      <th>review_detail</th>\n",
       "    </tr>\n",
       "  </thead>\n",
       "  <tbody>\n",
       "    <tr>\n",
       "      <th>0</th>\n",
       "      <td>OriginalMovieBuff21</td>\n",
       "      <td>Kill Bill: Vol. 2 (2004)</td>\n",
       "      <td>8.0</td>\n",
       "      <td>24 July 2005</td>\n",
       "      <td>After seeing Tarantino's Kill Bill Vol: 1, I g...</td>\n",
       "    </tr>\n",
       "    <tr>\n",
       "      <th>1</th>\n",
       "      <td>lost-in-limbo</td>\n",
       "      <td>Feardotcom (2002)</td>\n",
       "      <td>3.0</td>\n",
       "      <td>24 July 2005</td>\n",
       "      <td>There's a Website called FearDotCom and anyone...</td>\n",
       "    </tr>\n",
       "    <tr>\n",
       "      <th>2</th>\n",
       "      <td>NateManD</td>\n",
       "      <td>Persona (1966)</td>\n",
       "      <td>10.0</td>\n",
       "      <td>24 July 2005</td>\n",
       "      <td>Long before \"Muholland Drive\" there was anothe...</td>\n",
       "    </tr>\n",
       "    <tr>\n",
       "      <th>3</th>\n",
       "      <td>CAMACHO-4</td>\n",
       "      <td>War of the Worlds (2005)</td>\n",
       "      <td>3.0</td>\n",
       "      <td>24 July 2005</td>\n",
       "      <td>Spielberg said this film is based on the H.G. ...</td>\n",
       "    </tr>\n",
       "    <tr>\n",
       "      <th>4</th>\n",
       "      <td>CAMACHO-4</td>\n",
       "      <td>Mr. &amp; Mrs. Smith (2005)</td>\n",
       "      <td>6.0</td>\n",
       "      <td>24 July 2005</td>\n",
       "      <td>Director Doug Liman, who's gotten famous for m...</td>\n",
       "    </tr>\n",
       "  </tbody>\n",
       "</table>\n",
       "</div>"
      ],
      "text/plain": [
       "              reviewer                     movie  rating   review_date  \\\n",
       "0  OriginalMovieBuff21  Kill Bill: Vol. 2 (2004)     8.0  24 July 2005   \n",
       "1        lost-in-limbo         Feardotcom (2002)     3.0  24 July 2005   \n",
       "2             NateManD            Persona (1966)    10.0  24 July 2005   \n",
       "3            CAMACHO-4  War of the Worlds (2005)     3.0  24 July 2005   \n",
       "4            CAMACHO-4   Mr. & Mrs. Smith (2005)     6.0  24 July 2005   \n",
       "\n",
       "                                       review_detail  \n",
       "0  After seeing Tarantino's Kill Bill Vol: 1, I g...  \n",
       "1  There's a Website called FearDotCom and anyone...  \n",
       "2  Long before \"Muholland Drive\" there was anothe...  \n",
       "3  Spielberg said this film is based on the H.G. ...  \n",
       "4  Director Doug Liman, who's gotten famous for m...  "
      ]
     },
     "execution_count": 14,
     "metadata": {},
     "output_type": "execute_result"
    }
   ],
   "source": [
    "review.head()"
   ]
  },
  {
   "cell_type": "markdown",
   "id": "5f94b4a7",
   "metadata": {},
   "source": [
    "The rating needs to change to a lable for sentiment analysis. Because I am going to make a recommandation system after, two lable chosed. \" Love it\" or \"Not Love It\". If the user love the movie we going to make a recommandation."
   ]
  },
  {
   "cell_type": "code",
   "execution_count": 18,
   "id": "5ec17e73",
   "metadata": {},
   "outputs": [],
   "source": [
    "def conditions(review):\n",
    "    if (review.rating > 7.0):\n",
    "        return 'LOVE IT'\n",
    "\n",
    "    else:\n",
    "        return 'NOT LOVE IT'\n",
    "\n",
    "review['lable'] = review.apply(conditions, axis=1)"
   ]
  },
  {
   "cell_type": "code",
   "execution_count": 19,
   "id": "05af7a9e",
   "metadata": {},
   "outputs": [
    {
     "data": {
      "text/html": [
       "<div>\n",
       "<style scoped>\n",
       "    .dataframe tbody tr th:only-of-type {\n",
       "        vertical-align: middle;\n",
       "    }\n",
       "\n",
       "    .dataframe tbody tr th {\n",
       "        vertical-align: top;\n",
       "    }\n",
       "\n",
       "    .dataframe thead th {\n",
       "        text-align: right;\n",
       "    }\n",
       "</style>\n",
       "<table border=\"1\" class=\"dataframe\">\n",
       "  <thead>\n",
       "    <tr style=\"text-align: right;\">\n",
       "      <th></th>\n",
       "      <th>reviewer</th>\n",
       "      <th>movie</th>\n",
       "      <th>rating</th>\n",
       "      <th>review_date</th>\n",
       "      <th>review_detail</th>\n",
       "      <th>lable</th>\n",
       "    </tr>\n",
       "  </thead>\n",
       "  <tbody>\n",
       "    <tr>\n",
       "      <th>0</th>\n",
       "      <td>OriginalMovieBuff21</td>\n",
       "      <td>Kill Bill: Vol. 2 (2004)</td>\n",
       "      <td>8.0</td>\n",
       "      <td>2005-07-24</td>\n",
       "      <td>after seeing tarantino's kill bill vol: 1 i go...</td>\n",
       "      <td>LOVE IT</td>\n",
       "    </tr>\n",
       "    <tr>\n",
       "      <th>1</th>\n",
       "      <td>lost-in-limbo</td>\n",
       "      <td>Feardotcom (2002)</td>\n",
       "      <td>3.0</td>\n",
       "      <td>2005-07-24</td>\n",
       "      <td>there's a website called feardotcom and anyone...</td>\n",
       "      <td>NOT LOVE IT</td>\n",
       "    </tr>\n",
       "    <tr>\n",
       "      <th>2</th>\n",
       "      <td>NateManD</td>\n",
       "      <td>Persona (1966)</td>\n",
       "      <td>10.0</td>\n",
       "      <td>2005-07-24</td>\n",
       "      <td>long before \"muholland drive\" there was anothe...</td>\n",
       "      <td>LOVE IT</td>\n",
       "    </tr>\n",
       "    <tr>\n",
       "      <th>3</th>\n",
       "      <td>CAMACHO-4</td>\n",
       "      <td>War of the Worlds (2005)</td>\n",
       "      <td>3.0</td>\n",
       "      <td>2005-07-24</td>\n",
       "      <td>spielberg said this film is based on the h.g. ...</td>\n",
       "      <td>NOT LOVE IT</td>\n",
       "    </tr>\n",
       "    <tr>\n",
       "      <th>4</th>\n",
       "      <td>CAMACHO-4</td>\n",
       "      <td>Mr. &amp; Mrs. Smith (2005)</td>\n",
       "      <td>6.0</td>\n",
       "      <td>2005-07-24</td>\n",
       "      <td>director doug liman who's gotten famous for ma...</td>\n",
       "      <td>NOT LOVE IT</td>\n",
       "    </tr>\n",
       "  </tbody>\n",
       "</table>\n",
       "</div>"
      ],
      "text/plain": [
       "              reviewer                     movie  rating review_date  \\\n",
       "0  OriginalMovieBuff21  Kill Bill: Vol. 2 (2004)     8.0  2005-07-24   \n",
       "1        lost-in-limbo         Feardotcom (2002)     3.0  2005-07-24   \n",
       "2             NateManD            Persona (1966)    10.0  2005-07-24   \n",
       "3            CAMACHO-4  War of the Worlds (2005)     3.0  2005-07-24   \n",
       "4            CAMACHO-4   Mr. & Mrs. Smith (2005)     6.0  2005-07-24   \n",
       "\n",
       "                                       review_detail        lable  \n",
       "0  after seeing tarantino's kill bill vol: 1 i go...      LOVE IT  \n",
       "1  there's a website called feardotcom and anyone...  NOT LOVE IT  \n",
       "2  long before \"muholland drive\" there was anothe...      LOVE IT  \n",
       "3  spielberg said this film is based on the h.g. ...  NOT LOVE IT  \n",
       "4  director doug liman who's gotten famous for ma...  NOT LOVE IT  "
      ]
     },
     "execution_count": 19,
     "metadata": {},
     "output_type": "execute_result"
    }
   ],
   "source": [
    "#review.drop(columns=['rating'],inplace=True)\n",
    "review.head()"
   ]
  },
  {
   "cell_type": "code",
   "execution_count": 20,
   "id": "99d1b2a8",
   "metadata": {},
   "outputs": [
    {
     "data": {
      "text/plain": [
       "NOT LOVE IT    249026\n",
       "LOVE IT        216633\n",
       "Name: lable, dtype: int64"
      ]
     },
     "execution_count": 20,
     "metadata": {},
     "output_type": "execute_result"
    }
   ],
   "source": [
    "review.lable.value_counts()"
   ]
  },
  {
   "cell_type": "markdown",
   "id": "50c2c737",
   "metadata": {},
   "source": [
    "It seems there is a good distribution of the lable.\n",
    "\n",
    "Next the movies dataset will load so we can add the imdb Id to the dataset so we can use the IMDB dataset to add more information of the movie to the data."
   ]
  },
  {
   "cell_type": "code",
   "execution_count": 60,
   "id": "e5e69408",
   "metadata": {},
   "outputs": [],
   "source": [
    "movie = pd.read_csv('/Users/Amin/Documents/GitHub/Review-Sentiment-Analysis-with-Recommendation-System/data/movies.csv')"
   ]
  },
  {
   "cell_type": "code",
   "execution_count": 61,
   "id": "7aed5802",
   "metadata": {},
   "outputs": [
    {
     "data": {
      "text/html": [
       "<div>\n",
       "<style scoped>\n",
       "    .dataframe tbody tr th:only-of-type {\n",
       "        vertical-align: middle;\n",
       "    }\n",
       "\n",
       "    .dataframe tbody tr th {\n",
       "        vertical-align: top;\n",
       "    }\n",
       "\n",
       "    .dataframe thead th {\n",
       "        text-align: right;\n",
       "    }\n",
       "</style>\n",
       "<table border=\"1\" class=\"dataframe\">\n",
       "  <thead>\n",
       "    <tr style=\"text-align: right;\">\n",
       "      <th></th>\n",
       "      <th>imdbId</th>\n",
       "      <th>Imdb Link</th>\n",
       "      <th>Title</th>\n",
       "      <th>IMDB Score</th>\n",
       "      <th>Genre</th>\n",
       "      <th>local_image_path</th>\n",
       "    </tr>\n",
       "  </thead>\n",
       "  <tbody>\n",
       "    <tr>\n",
       "      <th>0</th>\n",
       "      <td>114709</td>\n",
       "      <td>http://www.imdb.com/title/tt114709</td>\n",
       "      <td>Toy Story (1995)</td>\n",
       "      <td>8.3</td>\n",
       "      <td>Animation;Adventure;Comedy</td>\n",
       "      <td>images/114709_.jpg</td>\n",
       "    </tr>\n",
       "    <tr>\n",
       "      <th>1</th>\n",
       "      <td>113497</td>\n",
       "      <td>http://www.imdb.com/title/tt113497</td>\n",
       "      <td>Jumanji (1995)</td>\n",
       "      <td>6.9</td>\n",
       "      <td>Action;Adventure;Family</td>\n",
       "      <td>images/113497_.jpg</td>\n",
       "    </tr>\n",
       "    <tr>\n",
       "      <th>2</th>\n",
       "      <td>113277</td>\n",
       "      <td>http://www.imdb.com/title/tt113277</td>\n",
       "      <td>Heat (1995)</td>\n",
       "      <td>8.2</td>\n",
       "      <td>Action;Crime;Drama</td>\n",
       "      <td>images/113277_.jpg</td>\n",
       "    </tr>\n",
       "    <tr>\n",
       "      <th>3</th>\n",
       "      <td>114319</td>\n",
       "      <td>http://www.imdb.com/title/tt114319</td>\n",
       "      <td>Sabrina (1995)</td>\n",
       "      <td>6.3</td>\n",
       "      <td>Comedy;Drama</td>\n",
       "      <td>images/114319_.jpg</td>\n",
       "    </tr>\n",
       "    <tr>\n",
       "      <th>4</th>\n",
       "      <td>114576</td>\n",
       "      <td>http://www.imdb.com/title/tt114576</td>\n",
       "      <td>Sudden Death (1995)</td>\n",
       "      <td>5.7</td>\n",
       "      <td>Action;Crime;Thriller</td>\n",
       "      <td>images/114576_.jpg</td>\n",
       "    </tr>\n",
       "  </tbody>\n",
       "</table>\n",
       "</div>"
      ],
      "text/plain": [
       "   imdbId                           Imdb Link                Title  \\\n",
       "0  114709  http://www.imdb.com/title/tt114709     Toy Story (1995)   \n",
       "1  113497  http://www.imdb.com/title/tt113497       Jumanji (1995)   \n",
       "2  113277  http://www.imdb.com/title/tt113277          Heat (1995)   \n",
       "3  114319  http://www.imdb.com/title/tt114319       Sabrina (1995)   \n",
       "4  114576  http://www.imdb.com/title/tt114576  Sudden Death (1995)   \n",
       "\n",
       "   IMDB Score                       Genre    local_image_path  \n",
       "0         8.3  Animation;Adventure;Comedy  images/114709_.jpg  \n",
       "1         6.9     Action;Adventure;Family  images/113497_.jpg  \n",
       "2         8.2          Action;Crime;Drama  images/113277_.jpg  \n",
       "3         6.3                Comedy;Drama  images/114319_.jpg  \n",
       "4         5.7       Action;Crime;Thriller  images/114576_.jpg  "
      ]
     },
     "execution_count": 61,
     "metadata": {},
     "output_type": "execute_result"
    }
   ],
   "source": [
    "movie.head()"
   ]
  },
  {
   "cell_type": "code",
   "execution_count": 62,
   "id": "eab696ef",
   "metadata": {},
   "outputs": [],
   "source": [
    "movie['imdbId'] = movie['imdbId'].astype('string')\n",
    "movie['imdb_id'] = 'tt' + movie['imdbId'].str.rjust(7,'0')"
   ]
  },
  {
   "cell_type": "code",
   "execution_count": 22,
   "id": "86d8a247",
   "metadata": {},
   "outputs": [
    {
     "name": "stderr",
     "output_type": "stream",
     "text": [
      "<ipython-input-22-6001782a6d24>:1: FutureWarning: The default value of regex will change from True to False in a future version.\n",
      "  movie['Title'] = movie['Title'].str.replace(r\"\\(.*\\)\",\"\")\n"
     ]
    }
   ],
   "source": [
    "movie['Title'] = movie['Title'].str.replace(r\"\\(.*\\)\",\"\")"
   ]
  },
  {
   "cell_type": "code",
   "execution_count": 63,
   "id": "5cc87b67",
   "metadata": {},
   "outputs": [
    {
     "data": {
      "text/html": [
       "<div>\n",
       "<style scoped>\n",
       "    .dataframe tbody tr th:only-of-type {\n",
       "        vertical-align: middle;\n",
       "    }\n",
       "\n",
       "    .dataframe tbody tr th {\n",
       "        vertical-align: top;\n",
       "    }\n",
       "\n",
       "    .dataframe thead th {\n",
       "        text-align: right;\n",
       "    }\n",
       "</style>\n",
       "<table border=\"1\" class=\"dataframe\">\n",
       "  <thead>\n",
       "    <tr style=\"text-align: right;\">\n",
       "      <th></th>\n",
       "      <th>imdbId</th>\n",
       "      <th>Imdb Link</th>\n",
       "      <th>Title</th>\n",
       "      <th>IMDB Score</th>\n",
       "      <th>Genre</th>\n",
       "      <th>local_image_path</th>\n",
       "      <th>imdb_id</th>\n",
       "    </tr>\n",
       "  </thead>\n",
       "  <tbody>\n",
       "    <tr>\n",
       "      <th>0</th>\n",
       "      <td>114709</td>\n",
       "      <td>http://www.imdb.com/title/tt114709</td>\n",
       "      <td>Toy Story (1995)</td>\n",
       "      <td>8.3</td>\n",
       "      <td>Animation;Adventure;Comedy</td>\n",
       "      <td>images/114709_.jpg</td>\n",
       "      <td>tt0114709</td>\n",
       "    </tr>\n",
       "    <tr>\n",
       "      <th>1</th>\n",
       "      <td>113497</td>\n",
       "      <td>http://www.imdb.com/title/tt113497</td>\n",
       "      <td>Jumanji (1995)</td>\n",
       "      <td>6.9</td>\n",
       "      <td>Action;Adventure;Family</td>\n",
       "      <td>images/113497_.jpg</td>\n",
       "      <td>tt0113497</td>\n",
       "    </tr>\n",
       "    <tr>\n",
       "      <th>2</th>\n",
       "      <td>113277</td>\n",
       "      <td>http://www.imdb.com/title/tt113277</td>\n",
       "      <td>Heat (1995)</td>\n",
       "      <td>8.2</td>\n",
       "      <td>Action;Crime;Drama</td>\n",
       "      <td>images/113277_.jpg</td>\n",
       "      <td>tt0113277</td>\n",
       "    </tr>\n",
       "    <tr>\n",
       "      <th>3</th>\n",
       "      <td>114319</td>\n",
       "      <td>http://www.imdb.com/title/tt114319</td>\n",
       "      <td>Sabrina (1995)</td>\n",
       "      <td>6.3</td>\n",
       "      <td>Comedy;Drama</td>\n",
       "      <td>images/114319_.jpg</td>\n",
       "      <td>tt0114319</td>\n",
       "    </tr>\n",
       "    <tr>\n",
       "      <th>4</th>\n",
       "      <td>114576</td>\n",
       "      <td>http://www.imdb.com/title/tt114576</td>\n",
       "      <td>Sudden Death (1995)</td>\n",
       "      <td>5.7</td>\n",
       "      <td>Action;Crime;Thriller</td>\n",
       "      <td>images/114576_.jpg</td>\n",
       "      <td>tt0114576</td>\n",
       "    </tr>\n",
       "  </tbody>\n",
       "</table>\n",
       "</div>"
      ],
      "text/plain": [
       "   imdbId                           Imdb Link                Title  \\\n",
       "0  114709  http://www.imdb.com/title/tt114709     Toy Story (1995)   \n",
       "1  113497  http://www.imdb.com/title/tt113497       Jumanji (1995)   \n",
       "2  113277  http://www.imdb.com/title/tt113277          Heat (1995)   \n",
       "3  114319  http://www.imdb.com/title/tt114319       Sabrina (1995)   \n",
       "4  114576  http://www.imdb.com/title/tt114576  Sudden Death (1995)   \n",
       "\n",
       "   IMDB Score                       Genre    local_image_path    imdb_id  \n",
       "0         8.3  Animation;Adventure;Comedy  images/114709_.jpg  tt0114709  \n",
       "1         6.9     Action;Adventure;Family  images/113497_.jpg  tt0113497  \n",
       "2         8.2          Action;Crime;Drama  images/113277_.jpg  tt0113277  \n",
       "3         6.3                Comedy;Drama  images/114319_.jpg  tt0114319  \n",
       "4         5.7       Action;Crime;Thriller  images/114576_.jpg  tt0114576  "
      ]
     },
     "execution_count": 63,
     "metadata": {},
     "output_type": "execute_result"
    }
   ],
   "source": [
    "movie.head()"
   ]
  },
  {
   "cell_type": "code",
   "execution_count": 64,
   "id": "db0f0704",
   "metadata": {},
   "outputs": [],
   "source": [
    "#Merge the review and movie\n",
    "df = review.merge(movie,left_on='movie',right_on='Title')"
   ]
  },
  {
   "cell_type": "code",
   "execution_count": 65,
   "id": "e6e166f0",
   "metadata": {},
   "outputs": [
    {
     "name": "stdout",
     "output_type": "stream",
     "text": [
      "<class 'pandas.core.frame.DataFrame'>\n",
      "Int64Index: 479565 entries, 0 to 479564\n",
      "Data columns (total 12 columns):\n",
      " #   Column            Non-Null Count   Dtype  \n",
      "---  ------            --------------   -----  \n",
      " 0   reviewer          479565 non-null  object \n",
      " 1   movie             479565 non-null  object \n",
      " 2   rating            479565 non-null  float64\n",
      " 3   review_date       479565 non-null  object \n",
      " 4   review_detail     479565 non-null  object \n",
      " 5   imdbId            479565 non-null  string \n",
      " 6   Imdb Link         479565 non-null  object \n",
      " 7   Title             479565 non-null  object \n",
      " 8   IMDB Score        479452 non-null  float64\n",
      " 9   Genre             479565 non-null  object \n",
      " 10  local_image_path  479565 non-null  object \n",
      " 11  imdb_id           479565 non-null  string \n",
      "dtypes: float64(2), object(8), string(2)\n",
      "memory usage: 47.6+ MB\n"
     ]
    }
   ],
   "source": [
    "df.info()"
   ]
  },
  {
   "cell_type": "markdown",
   "id": "b9c318d7",
   "metadata": {},
   "source": [
    "The dataset Imdb Id format is diffrent from the current ID which has a 7 digit format with \"tt\" in the beginning.\n",
    "Because we are going to use the ID to merge this data with IMDB data, this columns need to be adjust to the current standard. So we need to add \"tt\" and make it 7 digit but adding zero to the left."
   ]
  },
  {
   "cell_type": "code",
   "execution_count": 66,
   "id": "2b663682",
   "metadata": {},
   "outputs": [],
   "source": [
    "#make the imdbId to string,Add the \"tt\" and adjust the number of digit\n",
    "df['imdbId'] = df['imdbId'].astype('string')\n",
    "df['imdb_id'] = 'tt' + df['imdbId'].str.rjust(7, '0')"
   ]
  },
  {
   "cell_type": "code",
   "execution_count": 67,
   "id": "c272ba76",
   "metadata": {},
   "outputs": [
    {
     "data": {
      "text/html": [
       "<div>\n",
       "<style scoped>\n",
       "    .dataframe tbody tr th:only-of-type {\n",
       "        vertical-align: middle;\n",
       "    }\n",
       "\n",
       "    .dataframe tbody tr th {\n",
       "        vertical-align: top;\n",
       "    }\n",
       "\n",
       "    .dataframe thead th {\n",
       "        text-align: right;\n",
       "    }\n",
       "</style>\n",
       "<table border=\"1\" class=\"dataframe\">\n",
       "  <thead>\n",
       "    <tr style=\"text-align: right;\">\n",
       "      <th></th>\n",
       "      <th>reviewer</th>\n",
       "      <th>movie</th>\n",
       "      <th>rating</th>\n",
       "      <th>review_date</th>\n",
       "      <th>review_detail</th>\n",
       "      <th>imdbId</th>\n",
       "      <th>Imdb Link</th>\n",
       "      <th>Title</th>\n",
       "      <th>IMDB Score</th>\n",
       "      <th>Genre</th>\n",
       "      <th>local_image_path</th>\n",
       "      <th>imdb_id</th>\n",
       "    </tr>\n",
       "  </thead>\n",
       "  <tbody>\n",
       "    <tr>\n",
       "      <th>0</th>\n",
       "      <td>OriginalMovieBuff21</td>\n",
       "      <td>Kill Bill: Vol. 2 (2004)</td>\n",
       "      <td>8.0</td>\n",
       "      <td>24 July 2005</td>\n",
       "      <td>After seeing Tarantino's Kill Bill Vol: 1, I g...</td>\n",
       "      <td>378194</td>\n",
       "      <td>http://www.imdb.com/title/tt378194</td>\n",
       "      <td>Kill Bill: Vol. 2 (2004)</td>\n",
       "      <td>8.0</td>\n",
       "      <td>Action;Crime;Drama</td>\n",
       "      <td>images/378194_.jpg</td>\n",
       "      <td>tt0378194</td>\n",
       "    </tr>\n",
       "    <tr>\n",
       "      <th>1</th>\n",
       "      <td>Bogmeister</td>\n",
       "      <td>Kill Bill: Vol. 2 (2004)</td>\n",
       "      <td>9.0</td>\n",
       "      <td>15 August 2005</td>\n",
       "      <td>The 2nd half of Tarantino's tale of bloody rev...</td>\n",
       "      <td>378194</td>\n",
       "      <td>http://www.imdb.com/title/tt378194</td>\n",
       "      <td>Kill Bill: Vol. 2 (2004)</td>\n",
       "      <td>8.0</td>\n",
       "      <td>Action;Crime;Drama</td>\n",
       "      <td>images/378194_.jpg</td>\n",
       "      <td>tt0378194</td>\n",
       "    </tr>\n",
       "    <tr>\n",
       "      <th>2</th>\n",
       "      <td>departed07</td>\n",
       "      <td>Kill Bill: Vol. 2 (2004)</td>\n",
       "      <td>10.0</td>\n",
       "      <td>26 August 2005</td>\n",
       "      <td>The Bride is back and ready to kick ass in thi...</td>\n",
       "      <td>378194</td>\n",
       "      <td>http://www.imdb.com/title/tt378194</td>\n",
       "      <td>Kill Bill: Vol. 2 (2004)</td>\n",
       "      <td>8.0</td>\n",
       "      <td>Action;Crime;Drama</td>\n",
       "      <td>images/378194_.jpg</td>\n",
       "      <td>tt0378194</td>\n",
       "    </tr>\n",
       "    <tr>\n",
       "      <th>3</th>\n",
       "      <td>Angeneer</td>\n",
       "      <td>Kill Bill: Vol. 2 (2004)</td>\n",
       "      <td>10.0</td>\n",
       "      <td>8 September 2005</td>\n",
       "      <td>I'm very happy to admit that Tarantino proved ...</td>\n",
       "      <td>378194</td>\n",
       "      <td>http://www.imdb.com/title/tt378194</td>\n",
       "      <td>Kill Bill: Vol. 2 (2004)</td>\n",
       "      <td>8.0</td>\n",
       "      <td>Action;Crime;Drama</td>\n",
       "      <td>images/378194_.jpg</td>\n",
       "      <td>tt0378194</td>\n",
       "    </tr>\n",
       "    <tr>\n",
       "      <th>4</th>\n",
       "      <td>LoneWolfAndCub</td>\n",
       "      <td>Kill Bill: Vol. 2 (2004)</td>\n",
       "      <td>10.0</td>\n",
       "      <td>7 September 2005</td>\n",
       "      <td>Kill Bill Volume 2 (directed by Quentin Tarant...</td>\n",
       "      <td>378194</td>\n",
       "      <td>http://www.imdb.com/title/tt378194</td>\n",
       "      <td>Kill Bill: Vol. 2 (2004)</td>\n",
       "      <td>8.0</td>\n",
       "      <td>Action;Crime;Drama</td>\n",
       "      <td>images/378194_.jpg</td>\n",
       "      <td>tt0378194</td>\n",
       "    </tr>\n",
       "  </tbody>\n",
       "</table>\n",
       "</div>"
      ],
      "text/plain": [
       "              reviewer                     movie  rating       review_date  \\\n",
       "0  OriginalMovieBuff21  Kill Bill: Vol. 2 (2004)     8.0      24 July 2005   \n",
       "1           Bogmeister  Kill Bill: Vol. 2 (2004)     9.0    15 August 2005   \n",
       "2           departed07  Kill Bill: Vol. 2 (2004)    10.0    26 August 2005   \n",
       "3             Angeneer  Kill Bill: Vol. 2 (2004)    10.0  8 September 2005   \n",
       "4       LoneWolfAndCub  Kill Bill: Vol. 2 (2004)    10.0  7 September 2005   \n",
       "\n",
       "                                       review_detail  imdbId  \\\n",
       "0  After seeing Tarantino's Kill Bill Vol: 1, I g...  378194   \n",
       "1  The 2nd half of Tarantino's tale of bloody rev...  378194   \n",
       "2  The Bride is back and ready to kick ass in thi...  378194   \n",
       "3  I'm very happy to admit that Tarantino proved ...  378194   \n",
       "4  Kill Bill Volume 2 (directed by Quentin Tarant...  378194   \n",
       "\n",
       "                            Imdb Link                     Title  IMDB Score  \\\n",
       "0  http://www.imdb.com/title/tt378194  Kill Bill: Vol. 2 (2004)         8.0   \n",
       "1  http://www.imdb.com/title/tt378194  Kill Bill: Vol. 2 (2004)         8.0   \n",
       "2  http://www.imdb.com/title/tt378194  Kill Bill: Vol. 2 (2004)         8.0   \n",
       "3  http://www.imdb.com/title/tt378194  Kill Bill: Vol. 2 (2004)         8.0   \n",
       "4  http://www.imdb.com/title/tt378194  Kill Bill: Vol. 2 (2004)         8.0   \n",
       "\n",
       "                Genre    local_image_path    imdb_id  \n",
       "0  Action;Crime;Drama  images/378194_.jpg  tt0378194  \n",
       "1  Action;Crime;Drama  images/378194_.jpg  tt0378194  \n",
       "2  Action;Crime;Drama  images/378194_.jpg  tt0378194  \n",
       "3  Action;Crime;Drama  images/378194_.jpg  tt0378194  \n",
       "4  Action;Crime;Drama  images/378194_.jpg  tt0378194  "
      ]
     },
     "execution_count": 67,
     "metadata": {},
     "output_type": "execute_result"
    }
   ],
   "source": [
    "df.head()"
   ]
  },
  {
   "cell_type": "code",
   "execution_count": 30,
   "id": "a41e1383",
   "metadata": {},
   "outputs": [
    {
     "name": "stderr",
     "output_type": "stream",
     "text": [
      "<ipython-input-30-2a1b919ccdba>:2: FutureWarning: The default value of regex will change from True to False in a future version.\n",
      "  df['movie'] = df['movie'].str.replace(r\"\\(.*\\)\",\"\")\n"
     ]
    }
   ],
   "source": [
    "#The Movie title has the date at the end which needs to be remove.\n",
    "df['movie'] = df['movie'].str.replace(r\"\\(.*\\)\",\"\")"
   ]
  },
  {
   "cell_type": "code",
   "execution_count": 68,
   "id": "de4c764d",
   "metadata": {},
   "outputs": [
    {
     "data": {
      "text/html": [
       "<div>\n",
       "<style scoped>\n",
       "    .dataframe tbody tr th:only-of-type {\n",
       "        vertical-align: middle;\n",
       "    }\n",
       "\n",
       "    .dataframe tbody tr th {\n",
       "        vertical-align: top;\n",
       "    }\n",
       "\n",
       "    .dataframe thead th {\n",
       "        text-align: right;\n",
       "    }\n",
       "</style>\n",
       "<table border=\"1\" class=\"dataframe\">\n",
       "  <thead>\n",
       "    <tr style=\"text-align: right;\">\n",
       "      <th></th>\n",
       "      <th>reviewer</th>\n",
       "      <th>movie</th>\n",
       "      <th>rating</th>\n",
       "      <th>review_date</th>\n",
       "      <th>review_detail</th>\n",
       "      <th>imdbId</th>\n",
       "      <th>Imdb Link</th>\n",
       "      <th>Title</th>\n",
       "      <th>IMDB Score</th>\n",
       "      <th>Genre</th>\n",
       "      <th>local_image_path</th>\n",
       "      <th>imdb_id</th>\n",
       "    </tr>\n",
       "  </thead>\n",
       "  <tbody>\n",
       "    <tr>\n",
       "      <th>0</th>\n",
       "      <td>OriginalMovieBuff21</td>\n",
       "      <td>Kill Bill: Vol. 2 (2004)</td>\n",
       "      <td>8.0</td>\n",
       "      <td>24 July 2005</td>\n",
       "      <td>After seeing Tarantino's Kill Bill Vol: 1, I g...</td>\n",
       "      <td>378194</td>\n",
       "      <td>http://www.imdb.com/title/tt378194</td>\n",
       "      <td>Kill Bill: Vol. 2 (2004)</td>\n",
       "      <td>8.0</td>\n",
       "      <td>Action;Crime;Drama</td>\n",
       "      <td>images/378194_.jpg</td>\n",
       "      <td>tt0378194</td>\n",
       "    </tr>\n",
       "    <tr>\n",
       "      <th>1</th>\n",
       "      <td>Bogmeister</td>\n",
       "      <td>Kill Bill: Vol. 2 (2004)</td>\n",
       "      <td>9.0</td>\n",
       "      <td>15 August 2005</td>\n",
       "      <td>The 2nd half of Tarantino's tale of bloody rev...</td>\n",
       "      <td>378194</td>\n",
       "      <td>http://www.imdb.com/title/tt378194</td>\n",
       "      <td>Kill Bill: Vol. 2 (2004)</td>\n",
       "      <td>8.0</td>\n",
       "      <td>Action;Crime;Drama</td>\n",
       "      <td>images/378194_.jpg</td>\n",
       "      <td>tt0378194</td>\n",
       "    </tr>\n",
       "    <tr>\n",
       "      <th>2</th>\n",
       "      <td>departed07</td>\n",
       "      <td>Kill Bill: Vol. 2 (2004)</td>\n",
       "      <td>10.0</td>\n",
       "      <td>26 August 2005</td>\n",
       "      <td>The Bride is back and ready to kick ass in thi...</td>\n",
       "      <td>378194</td>\n",
       "      <td>http://www.imdb.com/title/tt378194</td>\n",
       "      <td>Kill Bill: Vol. 2 (2004)</td>\n",
       "      <td>8.0</td>\n",
       "      <td>Action;Crime;Drama</td>\n",
       "      <td>images/378194_.jpg</td>\n",
       "      <td>tt0378194</td>\n",
       "    </tr>\n",
       "    <tr>\n",
       "      <th>3</th>\n",
       "      <td>Angeneer</td>\n",
       "      <td>Kill Bill: Vol. 2 (2004)</td>\n",
       "      <td>10.0</td>\n",
       "      <td>8 September 2005</td>\n",
       "      <td>I'm very happy to admit that Tarantino proved ...</td>\n",
       "      <td>378194</td>\n",
       "      <td>http://www.imdb.com/title/tt378194</td>\n",
       "      <td>Kill Bill: Vol. 2 (2004)</td>\n",
       "      <td>8.0</td>\n",
       "      <td>Action;Crime;Drama</td>\n",
       "      <td>images/378194_.jpg</td>\n",
       "      <td>tt0378194</td>\n",
       "    </tr>\n",
       "    <tr>\n",
       "      <th>4</th>\n",
       "      <td>LoneWolfAndCub</td>\n",
       "      <td>Kill Bill: Vol. 2 (2004)</td>\n",
       "      <td>10.0</td>\n",
       "      <td>7 September 2005</td>\n",
       "      <td>Kill Bill Volume 2 (directed by Quentin Tarant...</td>\n",
       "      <td>378194</td>\n",
       "      <td>http://www.imdb.com/title/tt378194</td>\n",
       "      <td>Kill Bill: Vol. 2 (2004)</td>\n",
       "      <td>8.0</td>\n",
       "      <td>Action;Crime;Drama</td>\n",
       "      <td>images/378194_.jpg</td>\n",
       "      <td>tt0378194</td>\n",
       "    </tr>\n",
       "  </tbody>\n",
       "</table>\n",
       "</div>"
      ],
      "text/plain": [
       "              reviewer                     movie  rating       review_date  \\\n",
       "0  OriginalMovieBuff21  Kill Bill: Vol. 2 (2004)     8.0      24 July 2005   \n",
       "1           Bogmeister  Kill Bill: Vol. 2 (2004)     9.0    15 August 2005   \n",
       "2           departed07  Kill Bill: Vol. 2 (2004)    10.0    26 August 2005   \n",
       "3             Angeneer  Kill Bill: Vol. 2 (2004)    10.0  8 September 2005   \n",
       "4       LoneWolfAndCub  Kill Bill: Vol. 2 (2004)    10.0  7 September 2005   \n",
       "\n",
       "                                       review_detail  imdbId  \\\n",
       "0  After seeing Tarantino's Kill Bill Vol: 1, I g...  378194   \n",
       "1  The 2nd half of Tarantino's tale of bloody rev...  378194   \n",
       "2  The Bride is back and ready to kick ass in thi...  378194   \n",
       "3  I'm very happy to admit that Tarantino proved ...  378194   \n",
       "4  Kill Bill Volume 2 (directed by Quentin Tarant...  378194   \n",
       "\n",
       "                            Imdb Link                     Title  IMDB Score  \\\n",
       "0  http://www.imdb.com/title/tt378194  Kill Bill: Vol. 2 (2004)         8.0   \n",
       "1  http://www.imdb.com/title/tt378194  Kill Bill: Vol. 2 (2004)         8.0   \n",
       "2  http://www.imdb.com/title/tt378194  Kill Bill: Vol. 2 (2004)         8.0   \n",
       "3  http://www.imdb.com/title/tt378194  Kill Bill: Vol. 2 (2004)         8.0   \n",
       "4  http://www.imdb.com/title/tt378194  Kill Bill: Vol. 2 (2004)         8.0   \n",
       "\n",
       "                Genre    local_image_path    imdb_id  \n",
       "0  Action;Crime;Drama  images/378194_.jpg  tt0378194  \n",
       "1  Action;Crime;Drama  images/378194_.jpg  tt0378194  \n",
       "2  Action;Crime;Drama  images/378194_.jpg  tt0378194  \n",
       "3  Action;Crime;Drama  images/378194_.jpg  tt0378194  \n",
       "4  Action;Crime;Drama  images/378194_.jpg  tt0378194  "
      ]
     },
     "execution_count": 68,
     "metadata": {},
     "output_type": "execute_result"
    }
   ],
   "source": [
    "df.head()"
   ]
  },
  {
   "cell_type": "code",
   "execution_count": 69,
   "id": "16881483",
   "metadata": {},
   "outputs": [],
   "source": [
    "df.drop(columns=['imdbId','Imdb Link','Title','IMDB Score','Genre','local_image_path'],inplace=True)"
   ]
  },
  {
   "cell_type": "code",
   "execution_count": 70,
   "id": "040905ac",
   "metadata": {},
   "outputs": [
    {
     "data": {
      "text/html": [
       "<div>\n",
       "<style scoped>\n",
       "    .dataframe tbody tr th:only-of-type {\n",
       "        vertical-align: middle;\n",
       "    }\n",
       "\n",
       "    .dataframe tbody tr th {\n",
       "        vertical-align: top;\n",
       "    }\n",
       "\n",
       "    .dataframe thead th {\n",
       "        text-align: right;\n",
       "    }\n",
       "</style>\n",
       "<table border=\"1\" class=\"dataframe\">\n",
       "  <thead>\n",
       "    <tr style=\"text-align: right;\">\n",
       "      <th></th>\n",
       "      <th>reviewer</th>\n",
       "      <th>movie</th>\n",
       "      <th>rating</th>\n",
       "      <th>review_date</th>\n",
       "      <th>review_detail</th>\n",
       "      <th>imdb_id</th>\n",
       "    </tr>\n",
       "  </thead>\n",
       "  <tbody>\n",
       "    <tr>\n",
       "      <th>0</th>\n",
       "      <td>OriginalMovieBuff21</td>\n",
       "      <td>Kill Bill: Vol. 2 (2004)</td>\n",
       "      <td>8.0</td>\n",
       "      <td>24 July 2005</td>\n",
       "      <td>After seeing Tarantino's Kill Bill Vol: 1, I g...</td>\n",
       "      <td>tt0378194</td>\n",
       "    </tr>\n",
       "    <tr>\n",
       "      <th>1</th>\n",
       "      <td>Bogmeister</td>\n",
       "      <td>Kill Bill: Vol. 2 (2004)</td>\n",
       "      <td>9.0</td>\n",
       "      <td>15 August 2005</td>\n",
       "      <td>The 2nd half of Tarantino's tale of bloody rev...</td>\n",
       "      <td>tt0378194</td>\n",
       "    </tr>\n",
       "    <tr>\n",
       "      <th>2</th>\n",
       "      <td>departed07</td>\n",
       "      <td>Kill Bill: Vol. 2 (2004)</td>\n",
       "      <td>10.0</td>\n",
       "      <td>26 August 2005</td>\n",
       "      <td>The Bride is back and ready to kick ass in thi...</td>\n",
       "      <td>tt0378194</td>\n",
       "    </tr>\n",
       "    <tr>\n",
       "      <th>3</th>\n",
       "      <td>Angeneer</td>\n",
       "      <td>Kill Bill: Vol. 2 (2004)</td>\n",
       "      <td>10.0</td>\n",
       "      <td>8 September 2005</td>\n",
       "      <td>I'm very happy to admit that Tarantino proved ...</td>\n",
       "      <td>tt0378194</td>\n",
       "    </tr>\n",
       "    <tr>\n",
       "      <th>4</th>\n",
       "      <td>LoneWolfAndCub</td>\n",
       "      <td>Kill Bill: Vol. 2 (2004)</td>\n",
       "      <td>10.0</td>\n",
       "      <td>7 September 2005</td>\n",
       "      <td>Kill Bill Volume 2 (directed by Quentin Tarant...</td>\n",
       "      <td>tt0378194</td>\n",
       "    </tr>\n",
       "  </tbody>\n",
       "</table>\n",
       "</div>"
      ],
      "text/plain": [
       "              reviewer                     movie  rating       review_date  \\\n",
       "0  OriginalMovieBuff21  Kill Bill: Vol. 2 (2004)     8.0      24 July 2005   \n",
       "1           Bogmeister  Kill Bill: Vol. 2 (2004)     9.0    15 August 2005   \n",
       "2           departed07  Kill Bill: Vol. 2 (2004)    10.0    26 August 2005   \n",
       "3             Angeneer  Kill Bill: Vol. 2 (2004)    10.0  8 September 2005   \n",
       "4       LoneWolfAndCub  Kill Bill: Vol. 2 (2004)    10.0  7 September 2005   \n",
       "\n",
       "                                       review_detail    imdb_id  \n",
       "0  After seeing Tarantino's Kill Bill Vol: 1, I g...  tt0378194  \n",
       "1  The 2nd half of Tarantino's tale of bloody rev...  tt0378194  \n",
       "2  The Bride is back and ready to kick ass in thi...  tt0378194  \n",
       "3  I'm very happy to admit that Tarantino proved ...  tt0378194  \n",
       "4  Kill Bill Volume 2 (directed by Quentin Tarant...  tt0378194  "
      ]
     },
     "execution_count": 70,
     "metadata": {},
     "output_type": "execute_result"
    }
   ],
   "source": [
    "df.head()"
   ]
  },
  {
   "cell_type": "code",
   "execution_count": 51,
   "id": "20eb7452",
   "metadata": {},
   "outputs": [],
   "source": [
    "df.to_csv('/Users/Amin/Documents/GitHub/Review-Sentiment-Analysis-with-Recommendation-System/data/review_db.csv',index=False)"
   ]
  },
  {
   "cell_type": "code",
   "execution_count": 71,
   "id": "9267fbd1",
   "metadata": {},
   "outputs": [
    {
     "name": "stderr",
     "output_type": "stream",
     "text": [
      "/opt/anaconda3/lib/python3.8/site-packages/IPython/core/interactiveshell.py:3437: DtypeWarning: Columns (3) have mixed types.Specify dtype option on import or set low_memory=False.\n",
      "  exec(code_obj, self.user_global_ns, self.user_ns)\n"
     ]
    }
   ],
   "source": [
    "#Load the IMDB dataset to add more information to the data\n",
    "imdb_db = pd.read_csv('/Users/Amin/Documents/GitHub/Review-Sentiment-Analysis-with-Recommendation-System/data/IMDb movies.csv')"
   ]
  },
  {
   "cell_type": "code",
   "execution_count": 72,
   "id": "389b4fae",
   "metadata": {},
   "outputs": [
    {
     "data": {
      "text/plain": [
       "Index(['imdb_title_id', 'title', 'original_title', 'year', 'date_published',\n",
       "       'genre', 'duration', 'country', 'language', 'director', 'writer',\n",
       "       'production_company', 'actors', 'description', 'avg_vote', 'votes',\n",
       "       'budget', 'usa_gross_income', 'worlwide_gross_income', 'metascore',\n",
       "       'reviews_from_users', 'reviews_from_critics'],\n",
       "      dtype='object')"
      ]
     },
     "execution_count": 72,
     "metadata": {},
     "output_type": "execute_result"
    }
   ],
   "source": [
    "imdb_db.columns"
   ]
  },
  {
   "cell_type": "code",
   "execution_count": 73,
   "id": "0ea95dc7",
   "metadata": {},
   "outputs": [
    {
     "data": {
      "text/plain": [
       "(4013, 22)"
      ]
     },
     "execution_count": 73,
     "metadata": {},
     "output_type": "execute_result"
    }
   ],
   "source": [
    "#Merge the review data with imdb data on imdb ID\n",
    "#imdb_db = df.merge(imdb_db,left_on='imdb_id',right_on='imdb_title_id')\n",
    "imdb_db = imdb_db[imdb_db.imdb_title_id.isin(df.imdb_id)]\n",
    "imdb_db.shape"
   ]
  },
  {
   "cell_type": "code",
   "execution_count": 74,
   "id": "893e0602",
   "metadata": {},
   "outputs": [
    {
     "data": {
      "text/html": [
       "<div>\n",
       "<style scoped>\n",
       "    .dataframe tbody tr th:only-of-type {\n",
       "        vertical-align: middle;\n",
       "    }\n",
       "\n",
       "    .dataframe tbody tr th {\n",
       "        vertical-align: top;\n",
       "    }\n",
       "\n",
       "    .dataframe thead th {\n",
       "        text-align: right;\n",
       "    }\n",
       "</style>\n",
       "<table border=\"1\" class=\"dataframe\">\n",
       "  <thead>\n",
       "    <tr style=\"text-align: right;\">\n",
       "      <th></th>\n",
       "      <th>year</th>\n",
       "      <th>genre</th>\n",
       "      <th>director</th>\n",
       "      <th>actors</th>\n",
       "      <th>description</th>\n",
       "      <th>Title</th>\n",
       "      <th>imdb_id</th>\n",
       "    </tr>\n",
       "  </thead>\n",
       "  <tbody>\n",
       "    <tr>\n",
       "      <th>0</th>\n",
       "      <td>1915</td>\n",
       "      <td>Drama, History, War</td>\n",
       "      <td>D.W. Griffith</td>\n",
       "      <td>Henry B. Walthall, Lillian Gish, Mae Marsh, Mi...</td>\n",
       "      <td>The Stoneman family finds its friendship with ...</td>\n",
       "      <td>The Birth of a Nation</td>\n",
       "      <td>tt0004972</td>\n",
       "    </tr>\n",
       "    <tr>\n",
       "      <th>1</th>\n",
       "      <td>1920</td>\n",
       "      <td>Fantasy, Horror, Mystery</td>\n",
       "      <td>Robert Wiene</td>\n",
       "      <td>Werner Krauss, Conrad Veidt, Friedrich Feher, ...</td>\n",
       "      <td>Hypnotist Dr. Caligari uses a somnambulist, Ce...</td>\n",
       "      <td>The Cabinet of Dr. Caligari</td>\n",
       "      <td>tt0010323</td>\n",
       "    </tr>\n",
       "    <tr>\n",
       "      <th>2</th>\n",
       "      <td>1921</td>\n",
       "      <td>Comedy, Drama, Family</td>\n",
       "      <td>Charles Chaplin</td>\n",
       "      <td>Carl Miller, Edna Purviance, Jackie Coogan, Ch...</td>\n",
       "      <td>The Tramp cares for an abandoned child, but ev...</td>\n",
       "      <td>The Kid</td>\n",
       "      <td>tt0012349</td>\n",
       "    </tr>\n",
       "    <tr>\n",
       "      <th>3</th>\n",
       "      <td>1922</td>\n",
       "      <td>Fantasy, Horror</td>\n",
       "      <td>F.W. Murnau</td>\n",
       "      <td>Max Schreck, Gustav von Wangenheim, Greta Schr...</td>\n",
       "      <td>Vampire Count Orlok expresses interest in a ne...</td>\n",
       "      <td>Nosferatu</td>\n",
       "      <td>tt0013442</td>\n",
       "    </tr>\n",
       "    <tr>\n",
       "      <th>4</th>\n",
       "      <td>1923</td>\n",
       "      <td>Action, Comedy, Thriller</td>\n",
       "      <td>Fred C. Newmeyer, Sam Taylor</td>\n",
       "      <td>Harold Lloyd, Mildred Davis, Bill Strother, No...</td>\n",
       "      <td>A boy leaves his small country town and heads ...</td>\n",
       "      <td>Safety Last!</td>\n",
       "      <td>tt0014429</td>\n",
       "    </tr>\n",
       "  </tbody>\n",
       "</table>\n",
       "</div>"
      ],
      "text/plain": [
       "   year                     genre                      director  \\\n",
       "0  1915       Drama, History, War                 D.W. Griffith   \n",
       "1  1920  Fantasy, Horror, Mystery                  Robert Wiene   \n",
       "2  1921     Comedy, Drama, Family               Charles Chaplin   \n",
       "3  1922           Fantasy, Horror                   F.W. Murnau   \n",
       "4  1923  Action, Comedy, Thriller  Fred C. Newmeyer, Sam Taylor   \n",
       "\n",
       "                                              actors  \\\n",
       "0  Henry B. Walthall, Lillian Gish, Mae Marsh, Mi...   \n",
       "1  Werner Krauss, Conrad Veidt, Friedrich Feher, ...   \n",
       "2  Carl Miller, Edna Purviance, Jackie Coogan, Ch...   \n",
       "3  Max Schreck, Gustav von Wangenheim, Greta Schr...   \n",
       "4  Harold Lloyd, Mildred Davis, Bill Strother, No...   \n",
       "\n",
       "                                         description  \\\n",
       "0  The Stoneman family finds its friendship with ...   \n",
       "1  Hypnotist Dr. Caligari uses a somnambulist, Ce...   \n",
       "2  The Tramp cares for an abandoned child, but ev...   \n",
       "3  Vampire Count Orlok expresses interest in a ne...   \n",
       "4  A boy leaves his small country town and heads ...   \n",
       "\n",
       "                          Title    imdb_id  \n",
       "0        The Birth of a Nation   tt0004972  \n",
       "1  The Cabinet of Dr. Caligari   tt0010323  \n",
       "2                      The Kid   tt0012349  \n",
       "3                    Nosferatu   tt0013442  \n",
       "4                 Safety Last!   tt0014429  "
      ]
     },
     "execution_count": 74,
     "metadata": {},
     "output_type": "execute_result"
    }
   ],
   "source": [
    "imdb.head()"
   ]
  },
  {
   "cell_type": "code",
   "execution_count": 45,
   "id": "4d4a574a",
   "metadata": {},
   "outputs": [
    {
     "name": "stderr",
     "output_type": "stream",
     "text": [
      "<ipython-input-45-d021763a97f5>:1: FutureWarning: The default value of regex will change from True to False in a future version.\n",
      "  imdb['Title'] = imdb['Title'].str.replace(r\"\\(.*\\)\",\"\")\n"
     ]
    }
   ],
   "source": [
    "imdb['Title'] = imdb['Title'].str.replace(r\"\\(.*\\)\",\"\")"
   ]
  },
  {
   "cell_type": "code",
   "execution_count": 75,
   "id": "8b8bdc09",
   "metadata": {},
   "outputs": [],
   "source": [
    "imdb = pd.merge(imdb_db,movie.drop_duplicates(),right_on='imdb_id',left_on='imdb_title_id',how='inner')"
   ]
  },
  {
   "cell_type": "code",
   "execution_count": 76,
   "id": "8f62f550",
   "metadata": {},
   "outputs": [
    {
     "data": {
      "text/plain": [
       "(4013, 29)"
      ]
     },
     "execution_count": 76,
     "metadata": {},
     "output_type": "execute_result"
    }
   ],
   "source": [
    "imdb.shape"
   ]
  },
  {
   "cell_type": "code",
   "execution_count": 77,
   "id": "18d3efe9",
   "metadata": {
    "scrolled": true
   },
   "outputs": [
    {
     "data": {
      "text/html": [
       "<div>\n",
       "<style scoped>\n",
       "    .dataframe tbody tr th:only-of-type {\n",
       "        vertical-align: middle;\n",
       "    }\n",
       "\n",
       "    .dataframe tbody tr th {\n",
       "        vertical-align: top;\n",
       "    }\n",
       "\n",
       "    .dataframe thead th {\n",
       "        text-align: right;\n",
       "    }\n",
       "</style>\n",
       "<table border=\"1\" class=\"dataframe\">\n",
       "  <thead>\n",
       "    <tr style=\"text-align: right;\">\n",
       "      <th></th>\n",
       "      <th>imdb_title_id</th>\n",
       "      <th>title</th>\n",
       "      <th>original_title</th>\n",
       "      <th>year</th>\n",
       "      <th>date_published</th>\n",
       "      <th>genre</th>\n",
       "      <th>duration</th>\n",
       "      <th>country</th>\n",
       "      <th>language</th>\n",
       "      <th>director</th>\n",
       "      <th>...</th>\n",
       "      <th>metascore</th>\n",
       "      <th>reviews_from_users</th>\n",
       "      <th>reviews_from_critics</th>\n",
       "      <th>imdbId</th>\n",
       "      <th>Imdb Link</th>\n",
       "      <th>Title</th>\n",
       "      <th>IMDB Score</th>\n",
       "      <th>Genre</th>\n",
       "      <th>local_image_path</th>\n",
       "      <th>imdb_id</th>\n",
       "    </tr>\n",
       "  </thead>\n",
       "  <tbody>\n",
       "    <tr>\n",
       "      <th>0</th>\n",
       "      <td>tt0004972</td>\n",
       "      <td>Nascita di una nazione</td>\n",
       "      <td>The Birth of a Nation</td>\n",
       "      <td>1915</td>\n",
       "      <td>1915-03-21</td>\n",
       "      <td>Drama, History, War</td>\n",
       "      <td>195</td>\n",
       "      <td>USA</td>\n",
       "      <td>None</td>\n",
       "      <td>D.W. Griffith</td>\n",
       "      <td>...</td>\n",
       "      <td>NaN</td>\n",
       "      <td>368.0</td>\n",
       "      <td>97.0</td>\n",
       "      <td>4972</td>\n",
       "      <td>http://www.imdb.com/title/tt4972</td>\n",
       "      <td>The Birth of a Nation (1915)</td>\n",
       "      <td>6.7</td>\n",
       "      <td>Drama;History;War</td>\n",
       "      <td>images/4972_.jpg</td>\n",
       "      <td>tt0004972</td>\n",
       "    </tr>\n",
       "    <tr>\n",
       "      <th>1</th>\n",
       "      <td>tt0010323</td>\n",
       "      <td>Il gabinetto del dottor Caligari</td>\n",
       "      <td>Das Cabinet des Dr. Caligari</td>\n",
       "      <td>1920</td>\n",
       "      <td>1920-02-27</td>\n",
       "      <td>Fantasy, Horror, Mystery</td>\n",
       "      <td>76</td>\n",
       "      <td>Germany</td>\n",
       "      <td>German</td>\n",
       "      <td>Robert Wiene</td>\n",
       "      <td>...</td>\n",
       "      <td>NaN</td>\n",
       "      <td>237.0</td>\n",
       "      <td>160.0</td>\n",
       "      <td>10323</td>\n",
       "      <td>http://www.imdb.com/title/tt10323</td>\n",
       "      <td>The Cabinet of Dr. Caligari (1920)</td>\n",
       "      <td>8.1</td>\n",
       "      <td>Fantasy;Horror;Mystery</td>\n",
       "      <td>images/10323_.jpg</td>\n",
       "      <td>tt0010323</td>\n",
       "    </tr>\n",
       "    <tr>\n",
       "      <th>2</th>\n",
       "      <td>tt0012349</td>\n",
       "      <td>Il monello</td>\n",
       "      <td>The Kid</td>\n",
       "      <td>1921</td>\n",
       "      <td>1923-11-26</td>\n",
       "      <td>Comedy, Drama, Family</td>\n",
       "      <td>68</td>\n",
       "      <td>USA</td>\n",
       "      <td>English, None</td>\n",
       "      <td>Charles Chaplin</td>\n",
       "      <td>...</td>\n",
       "      <td>NaN</td>\n",
       "      <td>173.0</td>\n",
       "      <td>105.0</td>\n",
       "      <td>12349</td>\n",
       "      <td>http://www.imdb.com/title/tt12349</td>\n",
       "      <td>The Kid (1921)</td>\n",
       "      <td>8.3</td>\n",
       "      <td>Comedy;Drama;Family</td>\n",
       "      <td>images/12349_.jpg</td>\n",
       "      <td>tt0012349</td>\n",
       "    </tr>\n",
       "    <tr>\n",
       "      <th>3</th>\n",
       "      <td>tt0013442</td>\n",
       "      <td>Nosferatu - Il vampiro</td>\n",
       "      <td>Nosferatu, eine Symphonie des Grauens</td>\n",
       "      <td>1922</td>\n",
       "      <td>1922-03-04</td>\n",
       "      <td>Fantasy, Horror</td>\n",
       "      <td>94</td>\n",
       "      <td>Germany</td>\n",
       "      <td>German</td>\n",
       "      <td>F.W. Murnau</td>\n",
       "      <td>...</td>\n",
       "      <td>NaN</td>\n",
       "      <td>419.0</td>\n",
       "      <td>202.0</td>\n",
       "      <td>13442</td>\n",
       "      <td>http://www.imdb.com/title/tt13442</td>\n",
       "      <td>Nosferatu (1922)</td>\n",
       "      <td>8.0</td>\n",
       "      <td>Fantasy;Horror</td>\n",
       "      <td>images/13442_.jpg</td>\n",
       "      <td>tt0013442</td>\n",
       "    </tr>\n",
       "    <tr>\n",
       "      <th>4</th>\n",
       "      <td>tt0014429</td>\n",
       "      <td>Preferisco l'ascensore</td>\n",
       "      <td>Safety Last!</td>\n",
       "      <td>1923</td>\n",
       "      <td>1924-12-08</td>\n",
       "      <td>Action, Comedy, Thriller</td>\n",
       "      <td>74</td>\n",
       "      <td>USA</td>\n",
       "      <td>English</td>\n",
       "      <td>Fred C. Newmeyer, Sam Taylor</td>\n",
       "      <td>...</td>\n",
       "      <td>NaN</td>\n",
       "      <td>91.0</td>\n",
       "      <td>93.0</td>\n",
       "      <td>14429</td>\n",
       "      <td>http://www.imdb.com/title/tt14429</td>\n",
       "      <td>Safety Last! (1923)</td>\n",
       "      <td>8.2</td>\n",
       "      <td>Comedy;Thriller</td>\n",
       "      <td>images/14429_.jpg</td>\n",
       "      <td>tt0014429</td>\n",
       "    </tr>\n",
       "  </tbody>\n",
       "</table>\n",
       "<p>5 rows × 29 columns</p>\n",
       "</div>"
      ],
      "text/plain": [
       "  imdb_title_id                             title  \\\n",
       "0     tt0004972            Nascita di una nazione   \n",
       "1     tt0010323  Il gabinetto del dottor Caligari   \n",
       "2     tt0012349                        Il monello   \n",
       "3     tt0013442            Nosferatu - Il vampiro   \n",
       "4     tt0014429            Preferisco l'ascensore   \n",
       "\n",
       "                          original_title  year date_published  \\\n",
       "0                  The Birth of a Nation  1915     1915-03-21   \n",
       "1           Das Cabinet des Dr. Caligari  1920     1920-02-27   \n",
       "2                                The Kid  1921     1923-11-26   \n",
       "3  Nosferatu, eine Symphonie des Grauens  1922     1922-03-04   \n",
       "4                           Safety Last!  1923     1924-12-08   \n",
       "\n",
       "                      genre  duration  country       language  \\\n",
       "0       Drama, History, War       195      USA           None   \n",
       "1  Fantasy, Horror, Mystery        76  Germany         German   \n",
       "2     Comedy, Drama, Family        68      USA  English, None   \n",
       "3           Fantasy, Horror        94  Germany         German   \n",
       "4  Action, Comedy, Thriller        74      USA        English   \n",
       "\n",
       "                       director  ... metascore reviews_from_users  \\\n",
       "0                 D.W. Griffith  ...       NaN              368.0   \n",
       "1                  Robert Wiene  ...       NaN              237.0   \n",
       "2               Charles Chaplin  ...       NaN              173.0   \n",
       "3                   F.W. Murnau  ...       NaN              419.0   \n",
       "4  Fred C. Newmeyer, Sam Taylor  ...       NaN               91.0   \n",
       "\n",
       "  reviews_from_critics imdbId                          Imdb Link  \\\n",
       "0                 97.0   4972   http://www.imdb.com/title/tt4972   \n",
       "1                160.0  10323  http://www.imdb.com/title/tt10323   \n",
       "2                105.0  12349  http://www.imdb.com/title/tt12349   \n",
       "3                202.0  13442  http://www.imdb.com/title/tt13442   \n",
       "4                 93.0  14429  http://www.imdb.com/title/tt14429   \n",
       "\n",
       "                                Title IMDB Score                   Genre  \\\n",
       "0        The Birth of a Nation (1915)        6.7       Drama;History;War   \n",
       "1  The Cabinet of Dr. Caligari (1920)        8.1  Fantasy;Horror;Mystery   \n",
       "2                      The Kid (1921)        8.3     Comedy;Drama;Family   \n",
       "3                    Nosferatu (1922)        8.0          Fantasy;Horror   \n",
       "4                 Safety Last! (1923)        8.2         Comedy;Thriller   \n",
       "\n",
       "    local_image_path    imdb_id  \n",
       "0   images/4972_.jpg  tt0004972  \n",
       "1  images/10323_.jpg  tt0010323  \n",
       "2  images/12349_.jpg  tt0012349  \n",
       "3  images/13442_.jpg  tt0013442  \n",
       "4  images/14429_.jpg  tt0014429  \n",
       "\n",
       "[5 rows x 29 columns]"
      ]
     },
     "execution_count": 77,
     "metadata": {},
     "output_type": "execute_result"
    }
   ],
   "source": [
    "imdb.head()"
   ]
  },
  {
   "cell_type": "markdown",
   "id": "7d947447",
   "metadata": {},
   "source": [
    "For the sake of the hybrid recommandation, I am going to keep the name of the director and genre of the movie."
   ]
  },
  {
   "cell_type": "code",
   "execution_count": 78,
   "id": "983da77f",
   "metadata": {},
   "outputs": [],
   "source": [
    "#Drop the unwanted columns\n",
    "imdb.drop(columns=['imdbId','Imdb Link','IMDB Score','Genre','local_image_path',\n",
    "                      'imdb_title_id','title','original_title','date_published','duration','country',\n",
    "                      'language','writer','production_company','avg_vote','votes',\n",
    "                      'budget','usa_gross_income','worlwide_gross_income','metascore','reviews_from_users',\n",
    "                      'reviews_from_critics'],inplace=True)"
   ]
  },
  {
   "cell_type": "code",
   "execution_count": 34,
   "id": "8b57afd6",
   "metadata": {},
   "outputs": [],
   "source": [
    "imdb.drop(columns=['actors'],inplace=True)"
   ]
  },
  {
   "cell_type": "code",
   "execution_count": 79,
   "id": "84db02a8",
   "metadata": {},
   "outputs": [],
   "source": [
    "imdb.to_csv('/Users/Amin/Documents/GitHub/Review-Sentiment-Analysis-with-Recommendation-System/data/imdb_subset.csv',index=False)"
   ]
  },
  {
   "cell_type": "markdown",
   "id": "4f3724ad",
   "metadata": {},
   "source": [
    "The genre columns include three value seperated by a comma. It needs to seperated to three columns for further use."
   ]
  },
  {
   "cell_type": "code",
   "execution_count": 34,
   "id": "584897c7",
   "metadata": {},
   "outputs": [],
   "source": [
    "final_db[['genre_1','genre_2','genre_3']] = final_db['genre'].str.split(', ', expand=True)"
   ]
  },
  {
   "cell_type": "code",
   "execution_count": 35,
   "id": "493b623f",
   "metadata": {},
   "outputs": [],
   "source": [
    "final_db.drop(columns=['genre'],inplace=True)"
   ]
  },
  {
   "cell_type": "markdown",
   "id": "c8b89618",
   "metadata": {},
   "source": [
    "Those movie that has only one genre, the other two columns will fill with the same genre."
   ]
  },
  {
   "cell_type": "code",
   "execution_count": 36,
   "id": "9992505f",
   "metadata": {},
   "outputs": [],
   "source": [
    "final_db['genre_2'].fillna(final_db['genre_1'],inplace=True)"
   ]
  },
  {
   "cell_type": "code",
   "execution_count": 37,
   "id": "317544f6",
   "metadata": {},
   "outputs": [],
   "source": [
    "final_db['genre_3'].fillna(final_db['genre_2'],inplace=True)"
   ]
  },
  {
   "cell_type": "code",
   "execution_count": 38,
   "id": "e7f61884",
   "metadata": {},
   "outputs": [
    {
     "data": {
      "text/html": [
       "<div>\n",
       "<style scoped>\n",
       "    .dataframe tbody tr th:only-of-type {\n",
       "        vertical-align: middle;\n",
       "    }\n",
       "\n",
       "    .dataframe tbody tr th {\n",
       "        vertical-align: top;\n",
       "    }\n",
       "\n",
       "    .dataframe thead th {\n",
       "        text-align: right;\n",
       "    }\n",
       "</style>\n",
       "<table border=\"1\" class=\"dataframe\">\n",
       "  <thead>\n",
       "    <tr style=\"text-align: right;\">\n",
       "      <th></th>\n",
       "      <th>reviewer</th>\n",
       "      <th>movie</th>\n",
       "      <th>review_summary</th>\n",
       "      <th>review_date</th>\n",
       "      <th>review_detail</th>\n",
       "      <th>lable</th>\n",
       "      <th>director</th>\n",
       "      <th>genre_1</th>\n",
       "      <th>genre_2</th>\n",
       "      <th>genre_3</th>\n",
       "    </tr>\n",
       "  </thead>\n",
       "  <tbody>\n",
       "    <tr>\n",
       "      <th>0</th>\n",
       "      <td>OriginalMovieBuff21</td>\n",
       "      <td>Kill Bill: Vol. 2</td>\n",
       "      <td>good follow up that answers all the questions</td>\n",
       "      <td>2005-07-24</td>\n",
       "      <td>after seeing tarantino's kill bill vol: 1 i go...</td>\n",
       "      <td>LOVE IT</td>\n",
       "      <td>Quentin Tarantino</td>\n",
       "      <td>Action</td>\n",
       "      <td>Crime</td>\n",
       "      <td>Thriller</td>\n",
       "    </tr>\n",
       "    <tr>\n",
       "      <th>1</th>\n",
       "      <td>Bogmeister</td>\n",
       "      <td>Kill Bill: Vol. 2</td>\n",
       "      <td>the bride ends her rampage; we applaud</td>\n",
       "      <td>2005-08-15</td>\n",
       "      <td>the 2nd half of tarantino's tale of bloody rev...</td>\n",
       "      <td>LOVE IT</td>\n",
       "      <td>Quentin Tarantino</td>\n",
       "      <td>Action</td>\n",
       "      <td>Crime</td>\n",
       "      <td>Thriller</td>\n",
       "    </tr>\n",
       "    <tr>\n",
       "      <th>2</th>\n",
       "      <td>departed07</td>\n",
       "      <td>Kill Bill: Vol. 2</td>\n",
       "      <td>quentin tarantino's best since pulp fiction</td>\n",
       "      <td>2005-08-26</td>\n",
       "      <td>the bride is back and ready to kick ass in thi...</td>\n",
       "      <td>LOVE IT</td>\n",
       "      <td>Quentin Tarantino</td>\n",
       "      <td>Action</td>\n",
       "      <td>Crime</td>\n",
       "      <td>Thriller</td>\n",
       "    </tr>\n",
       "    <tr>\n",
       "      <th>3</th>\n",
       "      <td>Angeneer</td>\n",
       "      <td>Kill Bill: Vol. 2</td>\n",
       "      <td>quentin made me eat my hat</td>\n",
       "      <td>2005-09-08</td>\n",
       "      <td>i'm very happy to admit that tarantino proved ...</td>\n",
       "      <td>LOVE IT</td>\n",
       "      <td>Quentin Tarantino</td>\n",
       "      <td>Action</td>\n",
       "      <td>Crime</td>\n",
       "      <td>Thriller</td>\n",
       "    </tr>\n",
       "    <tr>\n",
       "      <th>4</th>\n",
       "      <td>LoneWolfAndCub</td>\n",
       "      <td>Kill Bill: Vol. 2</td>\n",
       "      <td>great ending to qt's tale of revenge</td>\n",
       "      <td>2005-09-07</td>\n",
       "      <td>kill bill volume 2 (directed by quentin tarant...</td>\n",
       "      <td>LOVE IT</td>\n",
       "      <td>Quentin Tarantino</td>\n",
       "      <td>Action</td>\n",
       "      <td>Crime</td>\n",
       "      <td>Thriller</td>\n",
       "    </tr>\n",
       "  </tbody>\n",
       "</table>\n",
       "</div>"
      ],
      "text/plain": [
       "              reviewer               movie  \\\n",
       "0  OriginalMovieBuff21  Kill Bill: Vol. 2    \n",
       "1           Bogmeister  Kill Bill: Vol. 2    \n",
       "2           departed07  Kill Bill: Vol. 2    \n",
       "3             Angeneer  Kill Bill: Vol. 2    \n",
       "4       LoneWolfAndCub  Kill Bill: Vol. 2    \n",
       "\n",
       "                                  review_summary review_date  \\\n",
       "0  good follow up that answers all the questions  2005-07-24   \n",
       "1         the bride ends her rampage; we applaud  2005-08-15   \n",
       "2    quentin tarantino's best since pulp fiction  2005-08-26   \n",
       "3                     quentin made me eat my hat  2005-09-08   \n",
       "4           great ending to qt's tale of revenge  2005-09-07   \n",
       "\n",
       "                                       review_detail    lable  \\\n",
       "0  after seeing tarantino's kill bill vol: 1 i go...  LOVE IT   \n",
       "1  the 2nd half of tarantino's tale of bloody rev...  LOVE IT   \n",
       "2  the bride is back and ready to kick ass in thi...  LOVE IT   \n",
       "3  i'm very happy to admit that tarantino proved ...  LOVE IT   \n",
       "4  kill bill volume 2 (directed by quentin tarant...  LOVE IT   \n",
       "\n",
       "            director genre_1 genre_2   genre_3  \n",
       "0  Quentin Tarantino  Action   Crime  Thriller  \n",
       "1  Quentin Tarantino  Action   Crime  Thriller  \n",
       "2  Quentin Tarantino  Action   Crime  Thriller  \n",
       "3  Quentin Tarantino  Action   Crime  Thriller  \n",
       "4  Quentin Tarantino  Action   Crime  Thriller  "
      ]
     },
     "execution_count": 38,
     "metadata": {},
     "output_type": "execute_result"
    }
   ],
   "source": [
    "final_db.head()"
   ]
  },
  {
   "cell_type": "code",
   "execution_count": 39,
   "id": "19cf5987",
   "metadata": {},
   "outputs": [
    {
     "data": {
      "text/plain": [
       "reviewer                  object\n",
       "movie                     object\n",
       "review_summary            object\n",
       "review_date       datetime64[ns]\n",
       "review_detail             string\n",
       "lable                     object\n",
       "director                  object\n",
       "genre_1                   object\n",
       "genre_2                   object\n",
       "genre_3                   object\n",
       "dtype: object"
      ]
     },
     "execution_count": 39,
     "metadata": {},
     "output_type": "execute_result"
    }
   ],
   "source": [
    "#Checking the final dataset type\n",
    "final_db.dtypes"
   ]
  },
  {
   "cell_type": "code",
   "execution_count": 40,
   "id": "4967d95b",
   "metadata": {},
   "outputs": [
    {
     "data": {
      "text/plain": [
       "11251"
      ]
     },
     "execution_count": 40,
     "metadata": {},
     "output_type": "execute_result"
    }
   ],
   "source": [
    "#number of unique reviewer\n",
    "final_db.reviewer.nunique()"
   ]
  },
  {
   "cell_type": "code",
   "execution_count": 41,
   "id": "5a506026",
   "metadata": {},
   "outputs": [
    {
     "data": {
      "text/plain": [
       "3925"
      ]
     },
     "execution_count": 41,
     "metadata": {},
     "output_type": "execute_result"
    }
   ],
   "source": [
    "#Number of the unique movie\n",
    "final_db.movie.nunique()"
   ]
  },
  {
   "cell_type": "code",
   "execution_count": 42,
   "id": "e756391e",
   "metadata": {},
   "outputs": [
    {
     "data": {
      "text/plain": [
       "NOT LOVE IT    254791\n",
       "LOVE IT        220320\n",
       "Name: lable, dtype: int64"
      ]
     },
     "execution_count": 42,
     "metadata": {},
     "output_type": "execute_result"
    }
   ],
   "source": [
    "#The lable distribution\n",
    "final_db.lable.value_counts()"
   ]
  },
  {
   "cell_type": "code",
   "execution_count": 43,
   "id": "e6b13e54",
   "metadata": {},
   "outputs": [],
   "source": [
    "#saving the clean data \n",
    "final_db.to_csv('/Users/Amin/Documents/GitHub/Review-Sentiment-Analysis-with-Recommendation-System/data/clean_db.csv',index=False)"
   ]
  }
 ],
 "metadata": {
  "kernelspec": {
   "display_name": "Python 3",
   "language": "python",
   "name": "python3"
  },
  "language_info": {
   "codemirror_mode": {
    "name": "ipython",
    "version": 3
   },
   "file_extension": ".py",
   "mimetype": "text/x-python",
   "name": "python",
   "nbconvert_exporter": "python",
   "pygments_lexer": "ipython3",
   "version": "3.8.8"
  }
 },
 "nbformat": 4,
 "nbformat_minor": 5
}
