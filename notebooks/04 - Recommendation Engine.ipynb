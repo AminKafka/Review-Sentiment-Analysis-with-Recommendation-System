{
 "cells": [
  {
   "cell_type": "markdown",
   "id": "12e23816",
   "metadata": {},
   "source": [
    "# 04 - Making a Movie Recommandation Engine using Collaboration-based Filtering\n",
    "\n",
    "#### Amin Khoeini\n",
    "\n",
    "***"
   ]
  },
  {
   "cell_type": "code",
   "execution_count": 1,
   "id": "63a238be",
   "metadata": {},
   "outputs": [],
   "source": [
    "from sklearn.metrics.pairwise import cosine_similarity\n",
    "import pandas as pd\n",
    "import numpy as np"
   ]
  },
  {
   "cell_type": "code",
   "execution_count": 2,
   "id": "695b5420",
   "metadata": {},
   "outputs": [],
   "source": [
    "review = pd.read_csv('/Users/Amin/Documents/GitHub/Review-Sentiment-Analysis-with-Recommendation-System/data/process_db.csv')"
   ]
  },
  {
   "cell_type": "markdown",
   "id": "b7d79aa8",
   "metadata": {},
   "source": [
    "### Create a movie-movie based collaboration filter"
   ]
  },
  {
   "cell_type": "code",
   "execution_count": 3,
   "id": "7c4608ab",
   "metadata": {},
   "outputs": [],
   "source": [
    "def recommendation_movie(movie_title):\n",
    "\n",
    "    # Delete any duplicate for each user. If user review a movie more than once, only keep the last review\n",
    "    review_db = review.drop_duplicates(subset=['User_ID', 'movie'], keep='last')\n",
    "    \n",
    "    # Make a pivot table of the User and movie and set the rating as a score\n",
    "    user_ratings_table = review_db.pivot(index='User_ID', columns='movie', values='rating')\n",
    "    \n",
    "    # Because not all the user review all the movie, the table need to be normalized and then fill the NA with 0\n",
    "    avg_ratings = user_ratings_table.mean(axis=1)\n",
    "\n",
    "    user_ratings_table_centered = user_ratings_table.sub(avg_ratings, axis=0)\n",
    "\n",
    "    user_ratings_table_normed = user_ratings_table_centered.fillna(0)\n",
    "\n",
    "    # For movie-movie based recommender, the similarity matrix between movies has to be created, therefore the Table need to be transpose.\n",
    "    movie_ratings_centered = user_ratings_table_normed.T\n",
    "\n",
    "    # Generate the similarity matrix\n",
    "    similarities = cosine_similarity(movie_ratings_centered)\n",
    "\n",
    "    # Wrap the similarities in a DataFrame\n",
    "    cosine_similarity_df = pd.DataFrame(similarities, index=movie_ratings_centered.index, columns=movie_ratings_centered.index)\n",
    "    \n",
    "    # Selecting the target movie similarity matrix\n",
    "    cosine_similarity_series = cosine_similarity_df.loc[movie_title]\n",
    "\n",
    "    # Sort these values highest to lowest and pick the first 30 movie.\n",
    "    ordered_similarities = cosine_similarity_series.sort_values(ascending=False)[1:31]\n",
    "\n",
    "    return(ordered_similarities.index.tolist())"
   ]
  },
  {
   "cell_type": "markdown",
   "id": "7eb3b692",
   "metadata": {},
   "source": [
    "### Create a user-user based collaboration filter"
   ]
  },
  {
   "cell_type": "code",
   "execution_count": 4,
   "id": "74c2e0f2",
   "metadata": {},
   "outputs": [],
   "source": [
    "def recommendation_user(user_id):\n",
    "    \n",
    "    # Delete any duplicate for each user. If user review a movie more than once, only keep the last review\n",
    "    review_db = review.drop_duplicates(subset=['User_ID', 'movie'], keep='last')\n",
    "    \n",
    "    # Make a pivot table of the User and movie and set the rating as a score\n",
    "    user_ratings_table = review_db.pivot(index='User_ID', columns='movie', values='rating')\n",
    "    \n",
    "    # Because not all the user review all the movie, the table need to be normalized and then fill the NA with 0\n",
    "    avg_ratings = user_ratings_table.mean(axis=1)\n",
    "\n",
    "    user_ratings_table_centered = user_ratings_table.sub(avg_ratings, axis=0)\n",
    "\n",
    "    user_ratings_table_normed = user_ratings_table_centered.fillna(0)\n",
    "    \n",
    "    # Generate the similarity matrix\n",
    "    similarities_user = cosine_similarity(user_ratings_table_normed)\n",
    "\n",
    "    # Wrap the similarities in a DataFrame\n",
    "    user_cosine_similarity_df = pd.DataFrame(similarities_user, index=user_ratings_table_normed.index, columns=user_ratings_table_normed.index)\n",
    "    \n",
    "    user_cosine_similarity_series = user_cosine_similarity_df.loc[user_id]\n",
    "\n",
    "    # Sort these values highest to lowest\n",
    "    similar_users = user_cosine_similarity_series.sort_values(ascending=False)[1:51]\n",
    "    similar_movie_df = user_ratings_table_normed[user_ratings_table_normed.index.isin(similar_users.index)]\n",
    "\n",
    "\n",
    "    item_score = {}\n",
    "    for i in similar_movie_df.columns:\n",
    "      # Get the ratings for movie i\n",
    "      movie_rating = similar_movie_df[i]\n",
    "      # Create a variable to store the score\n",
    "      total = 0\n",
    "      # Create a variable to store the number of scores\n",
    "      count = 0\n",
    "      # Loop through similar users\n",
    "      for u in similar_users.index:\n",
    "        # If the movie has rating\n",
    "        if pd.isna(movie_rating[u]) == False:\n",
    "          # Score is the sum of user similarity score multiply by the movie rating\n",
    "          score = similar_users[u] * movie_rating[u]\n",
    "          # Add the score to the total score for the movie so far\n",
    "          total += score\n",
    "          # Add 1 to the count\n",
    "          count +=1\n",
    "      # Get the average score for the item\n",
    "      item_score[i] = total / count\n",
    "    # Convert dictionary to pandas dataframe\n",
    "    item_score = pd.DataFrame(item_score.items(), columns=['movie', 'movie_score'])\n",
    "\n",
    "    # Sort the movies by score\n",
    "    ranked_item_score = item_score.sort_values(by='movie_score', ascending=False)\n",
    "    # Select top m movies\n",
    "    \n",
    "    return(ranked_item_score.movie[0:31].tolist())"
   ]
  },
  {
   "cell_type": "markdown",
   "id": "70922e8a",
   "metadata": {},
   "source": [
    "### Combine the result of two filter togeter:"
   ]
  },
  {
   "cell_type": "code",
   "execution_count": 25,
   "id": "b1ac16c0",
   "metadata": {},
   "outputs": [],
   "source": [
    "def recommender(user_id,movie_title):\n",
    "    # chose the similar movie form the user-user and movie-movie recommended list as a final recommendation\n",
    "    final = list(set(recommendation_movie(movie_title)).intersection(set(recommendation_user(user_id))))\n",
    "    \n",
    "    if final :\n",
    "        return final \n",
    "    # If there is not enough review from users the user-user filter recommender return empty list\n",
    "    # In that case model return only re movie-movie list ( or add movie-movie to user-user in case there is any movie in that list)\n",
    "    return ((recommendation_movie(movie_title)) + list(recommendation_user(user_id)))[0:6]\n"
   ]
  },
  {
   "cell_type": "code",
   "execution_count": 24,
   "id": "b7e63ed8",
   "metadata": {},
   "outputs": [
    {
     "data": {
      "text/plain": [
       "['Scary Movie 4 ',\n",
       " 'Sleepaway Camp III: Teenage Wasteland ',\n",
       " 'Gothika ',\n",
       " 'Scary Movie 2 ',\n",
       " 'Paranormal Activity 3 ',\n",
       " 'The Texas Chainsaw Massacre ']"
      ]
     },
     "execution_count": 24,
     "metadata": {},
     "output_type": "execute_result"
    }
   ],
   "source": [
    "recommender(2343,'Scary Movie 3 ')"
   ]
  },
  {
   "cell_type": "code",
   "execution_count": null,
   "id": "918f20c8",
   "metadata": {},
   "outputs": [],
   "source": []
  }
 ],
 "metadata": {
  "kernelspec": {
   "display_name": "Python 3",
   "language": "python",
   "name": "python3"
  },
  "language_info": {
   "codemirror_mode": {
    "name": "ipython",
    "version": 3
   },
   "file_extension": ".py",
   "mimetype": "text/x-python",
   "name": "python",
   "nbconvert_exporter": "python",
   "pygments_lexer": "ipython3",
   "version": "3.8.8"
  }
 },
 "nbformat": 4,
 "nbformat_minor": 5
}
