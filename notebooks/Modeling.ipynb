{
 "cells": [
  {
   "cell_type": "markdown",
   "id": "752e62e9",
   "metadata": {},
   "source": [
    "# Modeling:\n",
    "\n",
    "Amin Khoeini\n",
    "\n",
    "---\n",
    "\n",
    "As we see in the last step, Random Forest Regressor with the Hyperparameters that the GrideSearch pick, is the model with best R2 score and least mean absolute error.\n",
    "With the R2 of 0.63 and mae of 40 million dollar for the box-office, we can already assume that this model won't be able to get a perfect prediction of the box-office.\n",
    "Here I try to make the same model, train i ton train set, then use the test set to see the performance of the model for the diffrent class of film."
   ]
  },
  {
   "cell_type": "code",
   "execution_count": 1,
   "id": "cc7b0a87",
   "metadata": {},
   "outputs": [],
   "source": [
    "#importing the necessary libraries\n",
    "import pandas as pd\n",
    "import numpy as np\n",
    "import matplotlib.pyplot as plt\n",
    "import seaborn as sns\n",
    "import sklearn\n",
    "from sklearn.model_selection import train_test_split, cross_validate, GridSearchCV,cross_val_score\n",
    "from sklearn.linear_model import LinearRegression,Lasso,ElasticNet\n",
    "from sklearn.ensemble import RandomForestRegressor\n",
    "from sklearn.dummy import DummyRegressor\n",
    "from sklearn.preprocessing import StandardScaler\n",
    "from sklearn.feature_selection import SelectKBest, f_regression\n",
    "from sklearn.pipeline import make_pipeline\n",
    "from sklearn.metrics import r2_score, mean_squared_error, mean_absolute_error,explained_variance_score\n"
   ]
  },
  {
   "cell_type": "code",
   "execution_count": 2,
   "id": "f374e166",
   "metadata": {},
   "outputs": [],
   "source": [
    "# Read the process csv file from EDA\n",
    "movie_score = pd.read_csv('/Users/Amin/Documents/GitHub/Movie_boxoffice_reviews/data/processed/pre_process_movie.csv')"
   ]
  },
  {
   "cell_type": "code",
   "execution_count": 3,
   "id": "97ff6000",
   "metadata": {},
   "outputs": [],
   "source": [
    "#Save the class of the movies as movie_class then drop it from the data\n",
    "\n",
    "movie_class = movie_score['class']\n",
    "movie_score.drop(columns='class',inplace=True)"
   ]
  },
  {
   "cell_type": "code",
   "execution_count": 4,
   "id": "a5a6515e",
   "metadata": {},
   "outputs": [],
   "source": [
    "#split the data to train/test set. 70% train and 30% test.\n",
    "X_train, X_test, y_train, y_test = train_test_split(movie_score.drop(columns='All_time_gross'), \n",
    "                                                    movie_score.All_time_gross, test_size=0.2, \n",
    "                                                    random_state=47)"
   ]
  },
  {
   "cell_type": "code",
   "execution_count": 5,
   "id": "9c0c920a",
   "metadata": {},
   "outputs": [
    {
     "data": {
      "text/plain": [
       "((2620, 18), (2620,))"
      ]
     },
     "execution_count": 5,
     "metadata": {},
     "output_type": "execute_result"
    }
   ],
   "source": [
    "#check the train and test data shape\n",
    "\n",
    "X_train.shape,y_train.shape"
   ]
  },
  {
   "cell_type": "code",
   "execution_count": 6,
   "id": "e80645d0",
   "metadata": {},
   "outputs": [
    {
     "data": {
      "text/plain": [
       "((656, 18), (656,))"
      ]
     },
     "execution_count": 6,
     "metadata": {},
     "output_type": "execute_result"
    }
   ],
   "source": [
    "X_test.shape,y_test.shape"
   ]
  },
  {
   "cell_type": "code",
   "execution_count": 7,
   "id": "f75061db",
   "metadata": {},
   "outputs": [],
   "source": [
    "#Making the Random Forest Regressor model with the same HyperParameters from Pre-Process GridSearch\n",
    "rf_model = RandomForestRegressor(max_depth=60,n_estimators=50,\n",
    "                                 min_samples_leaf= 2,min_samples_split= 6,random_state=47)"
   ]
  },
  {
   "cell_type": "code",
   "execution_count": 8,
   "id": "34cf99dc",
   "metadata": {},
   "outputs": [
    {
     "data": {
      "text/plain": [
       "RandomForestRegressor(max_depth=60, min_samples_leaf=2, min_samples_split=6,\n",
       "                      n_estimators=50, random_state=47)"
      ]
     },
     "execution_count": 8,
     "metadata": {},
     "output_type": "execute_result"
    }
   ],
   "source": [
    "rf_model.fit(X_train,y_train)"
   ]
  },
  {
   "cell_type": "code",
   "execution_count": 9,
   "id": "3e9fed7f",
   "metadata": {},
   "outputs": [],
   "source": [
    "cv_results = cross_validate(rf_model, X_train, y_train, scoring='neg_mean_absolute_error', cv=5, n_jobs=-1)"
   ]
  },
  {
   "cell_type": "code",
   "execution_count": 10,
   "id": "ce24b217",
   "metadata": {},
   "outputs": [
    {
     "data": {
      "text/plain": [
       "-40822549.687326"
      ]
     },
     "execution_count": 10,
     "metadata": {},
     "output_type": "execute_result"
    }
   ],
   "source": [
    "np.mean(cv_results['test_score'])"
   ]
  },
  {
   "cell_type": "markdown",
   "id": "9e216aca",
   "metadata": {},
   "source": [
    "Now let's get the prediction for the test set and see the model performance."
   ]
  },
  {
   "cell_type": "code",
   "execution_count": 11,
   "id": "be8a5f2c",
   "metadata": {},
   "outputs": [],
   "source": [
    "#get the prediction for the test set\n",
    "y_pred = rf_model.predict(X_test)"
   ]
  },
  {
   "cell_type": "code",
   "execution_count": 12,
   "id": "4cd29e1d",
   "metadata": {},
   "outputs": [
    {
     "data": {
      "text/plain": [
       "54962296.970882215"
      ]
     },
     "execution_count": 12,
     "metadata": {},
     "output_type": "execute_result"
    }
   ],
   "source": [
    "mean_absolute_error(y_test,y_pred)"
   ]
  },
  {
   "cell_type": "code",
   "execution_count": 13,
   "id": "4f3c2d94",
   "metadata": {},
   "outputs": [
    {
     "data": {
      "text/plain": [
       "0.6105810264206532"
      ]
     },
     "execution_count": 13,
     "metadata": {},
     "output_type": "execute_result"
    }
   ],
   "source": [
    "explained_variance_score(y_test,y_pred)"
   ]
  },
  {
   "cell_type": "markdown",
   "id": "3e0af398",
   "metadata": {},
   "source": [
    "The mean absolute error for the test set is much higher.\n",
    "\n",
    "Let's create some metrics for each perdiction and analyze the perdiction for each class."
   ]
  },
  {
   "cell_type": "code",
   "execution_count": 14,
   "id": "c8564caa",
   "metadata": {},
   "outputs": [
    {
     "data": {
      "text/html": [
       "<div>\n",
       "<style scoped>\n",
       "    .dataframe tbody tr th:only-of-type {\n",
       "        vertical-align: middle;\n",
       "    }\n",
       "\n",
       "    .dataframe tbody tr th {\n",
       "        vertical-align: top;\n",
       "    }\n",
       "\n",
       "    .dataframe thead th {\n",
       "        text-align: right;\n",
       "    }\n",
       "</style>\n",
       "<table border=\"1\" class=\"dataframe\">\n",
       "  <thead>\n",
       "    <tr style=\"text-align: right;\">\n",
       "      <th></th>\n",
       "      <th>index</th>\n",
       "      <th>0</th>\n",
       "      <th>class</th>\n",
       "    </tr>\n",
       "  </thead>\n",
       "  <tbody>\n",
       "    <tr>\n",
       "      <th>0</th>\n",
       "      <td>4.946669e+06</td>\n",
       "      <td>1473445.0</td>\n",
       "      <td>Average</td>\n",
       "    </tr>\n",
       "    <tr>\n",
       "      <th>1</th>\n",
       "      <td>1.360670e+08</td>\n",
       "      <td>47275717.0</td>\n",
       "      <td>Blockbuster</td>\n",
       "    </tr>\n",
       "    <tr>\n",
       "      <th>2</th>\n",
       "      <td>5.355489e+06</td>\n",
       "      <td>7078.0</td>\n",
       "      <td>Average</td>\n",
       "    </tr>\n",
       "    <tr>\n",
       "      <th>3</th>\n",
       "      <td>1.999655e+07</td>\n",
       "      <td>4552970.0</td>\n",
       "      <td>Indie</td>\n",
       "    </tr>\n",
       "    <tr>\n",
       "      <th>4</th>\n",
       "      <td>1.997942e+07</td>\n",
       "      <td>13313581.0</td>\n",
       "      <td>Blockbuster</td>\n",
       "    </tr>\n",
       "    <tr>\n",
       "      <th>...</th>\n",
       "      <td>...</td>\n",
       "      <td>...</td>\n",
       "      <td>...</td>\n",
       "    </tr>\n",
       "    <tr>\n",
       "      <th>651</th>\n",
       "      <td>7.887841e+05</td>\n",
       "      <td>155215.0</td>\n",
       "      <td>Indie</td>\n",
       "    </tr>\n",
       "    <tr>\n",
       "      <th>652</th>\n",
       "      <td>8.440713e+05</td>\n",
       "      <td>507914.0</td>\n",
       "      <td>Blockbuster</td>\n",
       "    </tr>\n",
       "    <tr>\n",
       "      <th>653</th>\n",
       "      <td>5.099886e+05</td>\n",
       "      <td>61465.0</td>\n",
       "      <td>Indie</td>\n",
       "    </tr>\n",
       "    <tr>\n",
       "      <th>654</th>\n",
       "      <td>9.560158e+07</td>\n",
       "      <td>112983889.0</td>\n",
       "      <td>Indie</td>\n",
       "    </tr>\n",
       "    <tr>\n",
       "      <th>655</th>\n",
       "      <td>1.664407e+08</td>\n",
       "      <td>207039844.0</td>\n",
       "      <td>Indie</td>\n",
       "    </tr>\n",
       "  </tbody>\n",
       "</table>\n",
       "<p>656 rows × 3 columns</p>\n",
       "</div>"
      ],
      "text/plain": [
       "            index            0        class\n",
       "0    4.946669e+06    1473445.0      Average\n",
       "1    1.360670e+08   47275717.0  Blockbuster\n",
       "2    5.355489e+06       7078.0      Average\n",
       "3    1.999655e+07    4552970.0        Indie\n",
       "4    1.997942e+07   13313581.0  Blockbuster\n",
       "..            ...          ...          ...\n",
       "651  7.887841e+05     155215.0        Indie\n",
       "652  8.440713e+05     507914.0  Blockbuster\n",
       "653  5.099886e+05      61465.0        Indie\n",
       "654  9.560158e+07  112983889.0        Indie\n",
       "655  1.664407e+08  207039844.0        Indie\n",
       "\n",
       "[656 rows x 3 columns]"
      ]
     },
     "execution_count": 14,
     "metadata": {},
     "output_type": "execute_result"
    }
   ],
   "source": [
    "# make a result df and create some metrics for the predictions.\n",
    "\n",
    "result = pd.DataFrame(y_test.values,y_pred).reset_index() \n",
    "result = pd.concat([result,movie_class],axis=1).dropna()\n",
    "result"
   ]
  },
  {
   "cell_type": "code",
   "execution_count": 15,
   "id": "e89da1f6",
   "metadata": {},
   "outputs": [],
   "source": [
    "result = result.rename(columns={'index':'box-office',0:'prediction'})\n",
    "result['absolute_error'] = np.abs(result['prediction'] - result['box-office'])\n",
    "result['acuracy_of_perdiction'] =100 - ((result['absolute_error']/result['box-office']*100))\n",
    "result['prediction_error'] = (np.abs((result['box-office']-result['prediction']))/result['box-office']) * 100"
   ]
  },
  {
   "cell_type": "code",
   "execution_count": 16,
   "id": "dce1c8c4",
   "metadata": {},
   "outputs": [
    {
     "data": {
      "text/html": [
       "<div>\n",
       "<style scoped>\n",
       "    .dataframe tbody tr th:only-of-type {\n",
       "        vertical-align: middle;\n",
       "    }\n",
       "\n",
       "    .dataframe tbody tr th {\n",
       "        vertical-align: top;\n",
       "    }\n",
       "\n",
       "    .dataframe thead th {\n",
       "        text-align: right;\n",
       "    }\n",
       "</style>\n",
       "<table border=\"1\" class=\"dataframe\">\n",
       "  <thead>\n",
       "    <tr style=\"text-align: right;\">\n",
       "      <th></th>\n",
       "      <th>box-office</th>\n",
       "      <th>prediction</th>\n",
       "      <th>class</th>\n",
       "      <th>absolute_error</th>\n",
       "      <th>acuracy_of_perdiction</th>\n",
       "      <th>prediction_error</th>\n",
       "    </tr>\n",
       "  </thead>\n",
       "  <tbody>\n",
       "    <tr>\n",
       "      <th>0</th>\n",
       "      <td>4.946669e+06</td>\n",
       "      <td>1473445.0</td>\n",
       "      <td>Average</td>\n",
       "      <td>3.473224e+06</td>\n",
       "      <td>29.786608</td>\n",
       "      <td>70.213392</td>\n",
       "    </tr>\n",
       "    <tr>\n",
       "      <th>1</th>\n",
       "      <td>1.360670e+08</td>\n",
       "      <td>47275717.0</td>\n",
       "      <td>Blockbuster</td>\n",
       "      <td>8.879130e+07</td>\n",
       "      <td>34.744434</td>\n",
       "      <td>65.255566</td>\n",
       "    </tr>\n",
       "    <tr>\n",
       "      <th>2</th>\n",
       "      <td>5.355489e+06</td>\n",
       "      <td>7078.0</td>\n",
       "      <td>Average</td>\n",
       "      <td>5.348411e+06</td>\n",
       "      <td>0.132163</td>\n",
       "      <td>99.867837</td>\n",
       "    </tr>\n",
       "    <tr>\n",
       "      <th>3</th>\n",
       "      <td>1.999655e+07</td>\n",
       "      <td>4552970.0</td>\n",
       "      <td>Indie</td>\n",
       "      <td>1.544358e+07</td>\n",
       "      <td>22.768774</td>\n",
       "      <td>77.231226</td>\n",
       "    </tr>\n",
       "    <tr>\n",
       "      <th>4</th>\n",
       "      <td>1.997942e+07</td>\n",
       "      <td>13313581.0</td>\n",
       "      <td>Blockbuster</td>\n",
       "      <td>6.665839e+06</td>\n",
       "      <td>66.636475</td>\n",
       "      <td>33.363525</td>\n",
       "    </tr>\n",
       "  </tbody>\n",
       "</table>\n",
       "</div>"
      ],
      "text/plain": [
       "     box-office  prediction        class  absolute_error  \\\n",
       "0  4.946669e+06   1473445.0      Average    3.473224e+06   \n",
       "1  1.360670e+08  47275717.0  Blockbuster    8.879130e+07   \n",
       "2  5.355489e+06      7078.0      Average    5.348411e+06   \n",
       "3  1.999655e+07   4552970.0        Indie    1.544358e+07   \n",
       "4  1.997942e+07  13313581.0  Blockbuster    6.665839e+06   \n",
       "\n",
       "   acuracy_of_perdiction  prediction_error  \n",
       "0              29.786608         70.213392  \n",
       "1              34.744434         65.255566  \n",
       "2               0.132163         99.867837  \n",
       "3              22.768774         77.231226  \n",
       "4              66.636475         33.363525  "
      ]
     },
     "execution_count": 16,
     "metadata": {},
     "output_type": "execute_result"
    }
   ],
   "source": [
    "result.head()"
   ]
  },
  {
   "cell_type": "code",
   "execution_count": 17,
   "id": "94f1d99c",
   "metadata": {},
   "outputs": [
    {
     "data": {
      "text/plain": [
       "count       656.000000\n",
       "mean       -267.121505\n",
       "std        6823.041557\n",
       "min     -174584.328616\n",
       "25%           2.625052\n",
       "50%          22.266784\n",
       "75%          58.885457\n",
       "max          99.922214\n",
       "Name: acuracy_of_perdiction, dtype: float64"
      ]
     },
     "execution_count": 17,
     "metadata": {},
     "output_type": "execute_result"
    }
   ],
   "source": [
    "result.acuracy_of_perdiction.describe()"
   ]
  },
  {
   "cell_type": "code",
   "execution_count": 18,
   "id": "bcda7374",
   "metadata": {},
   "outputs": [
    {
     "data": {
      "text/plain": [
       "5       -32.756295\n",
       "9      -325.964230\n",
       "10      -76.342430\n",
       "13     -604.923508\n",
       "54     -284.130433\n",
       "          ...     \n",
       "622    -194.434409\n",
       "633    -323.876210\n",
       "636    -125.897783\n",
       "639     -10.511615\n",
       "643   -1843.008060\n",
       "Name: acuracy_of_perdiction, Length: 69, dtype: float64"
      ]
     },
     "execution_count": 18,
     "metadata": {},
     "output_type": "execute_result"
    }
   ],
   "source": [
    "result.acuracy_of_perdiction[result.acuracy_of_perdiction<0]"
   ]
  },
  {
   "cell_type": "markdown",
   "id": "e3b87d6f",
   "metadata": {},
   "source": [
    "As we can see, sometime the error of prediction is more than the box-office itself ( specially for the Blockbuster) and that wil cause the acuracy be a negative percentage.\n",
    "We can set that to zero and assume in that cases acuracy percnetage is zero."
   ]
  },
  {
   "cell_type": "code",
   "execution_count": 19,
   "id": "65b5c2e8",
   "metadata": {},
   "outputs": [],
   "source": [
    "result.loc[result.acuracy_of_perdiction<0,'acuracy_of_perdiction'] = 0"
   ]
  },
  {
   "cell_type": "code",
   "execution_count": 20,
   "id": "dbd7eea4",
   "metadata": {},
   "outputs": [
    {
     "data": {
      "text/html": [
       "<div>\n",
       "<style scoped>\n",
       "    .dataframe tbody tr th:only-of-type {\n",
       "        vertical-align: middle;\n",
       "    }\n",
       "\n",
       "    .dataframe tbody tr th {\n",
       "        vertical-align: top;\n",
       "    }\n",
       "\n",
       "    .dataframe thead th {\n",
       "        text-align: right;\n",
       "    }\n",
       "</style>\n",
       "<table border=\"1\" class=\"dataframe\">\n",
       "  <thead>\n",
       "    <tr style=\"text-align: right;\">\n",
       "      <th></th>\n",
       "      <th>box-office</th>\n",
       "      <th>prediction</th>\n",
       "      <th>class</th>\n",
       "      <th>absolute_error</th>\n",
       "      <th>acuracy_of_perdiction</th>\n",
       "      <th>prediction_error</th>\n",
       "    </tr>\n",
       "  </thead>\n",
       "  <tbody>\n",
       "    <tr>\n",
       "      <th>0</th>\n",
       "      <td>4.946669e+06</td>\n",
       "      <td>1473445.0</td>\n",
       "      <td>Average</td>\n",
       "      <td>3.473224e+06</td>\n",
       "      <td>29.786608</td>\n",
       "      <td>70.213392</td>\n",
       "    </tr>\n",
       "    <tr>\n",
       "      <th>1</th>\n",
       "      <td>1.360670e+08</td>\n",
       "      <td>47275717.0</td>\n",
       "      <td>Blockbuster</td>\n",
       "      <td>8.879130e+07</td>\n",
       "      <td>34.744434</td>\n",
       "      <td>65.255566</td>\n",
       "    </tr>\n",
       "    <tr>\n",
       "      <th>2</th>\n",
       "      <td>5.355489e+06</td>\n",
       "      <td>7078.0</td>\n",
       "      <td>Average</td>\n",
       "      <td>5.348411e+06</td>\n",
       "      <td>0.132163</td>\n",
       "      <td>99.867837</td>\n",
       "    </tr>\n",
       "    <tr>\n",
       "      <th>3</th>\n",
       "      <td>1.999655e+07</td>\n",
       "      <td>4552970.0</td>\n",
       "      <td>Indie</td>\n",
       "      <td>1.544358e+07</td>\n",
       "      <td>22.768774</td>\n",
       "      <td>77.231226</td>\n",
       "    </tr>\n",
       "    <tr>\n",
       "      <th>4</th>\n",
       "      <td>1.997942e+07</td>\n",
       "      <td>13313581.0</td>\n",
       "      <td>Blockbuster</td>\n",
       "      <td>6.665839e+06</td>\n",
       "      <td>66.636475</td>\n",
       "      <td>33.363525</td>\n",
       "    </tr>\n",
       "    <tr>\n",
       "      <th>5</th>\n",
       "      <td>1.033331e+06</td>\n",
       "      <td>2405143.0</td>\n",
       "      <td>Average</td>\n",
       "      <td>1.371812e+06</td>\n",
       "      <td>0.000000</td>\n",
       "      <td>132.756295</td>\n",
       "    </tr>\n",
       "    <tr>\n",
       "      <th>6</th>\n",
       "      <td>4.454658e+06</td>\n",
       "      <td>428752.0</td>\n",
       "      <td>Indie</td>\n",
       "      <td>4.025906e+06</td>\n",
       "      <td>9.624803</td>\n",
       "      <td>90.375197</td>\n",
       "    </tr>\n",
       "    <tr>\n",
       "      <th>7</th>\n",
       "      <td>1.200517e+08</td>\n",
       "      <td>94019120.0</td>\n",
       "      <td>Blockbuster</td>\n",
       "      <td>2.603257e+07</td>\n",
       "      <td>78.315532</td>\n",
       "      <td>21.684468</td>\n",
       "    </tr>\n",
       "    <tr>\n",
       "      <th>8</th>\n",
       "      <td>7.531574e+07</td>\n",
       "      <td>246985.0</td>\n",
       "      <td>Blockbuster</td>\n",
       "      <td>7.506876e+07</td>\n",
       "      <td>0.327933</td>\n",
       "      <td>99.672067</td>\n",
       "    </tr>\n",
       "    <tr>\n",
       "      <th>9</th>\n",
       "      <td>1.720607e+07</td>\n",
       "      <td>90497778.0</td>\n",
       "      <td>Indie</td>\n",
       "      <td>7.329171e+07</td>\n",
       "      <td>0.000000</td>\n",
       "      <td>425.964230</td>\n",
       "    </tr>\n",
       "  </tbody>\n",
       "</table>\n",
       "</div>"
      ],
      "text/plain": [
       "     box-office  prediction        class  absolute_error  \\\n",
       "0  4.946669e+06   1473445.0      Average    3.473224e+06   \n",
       "1  1.360670e+08  47275717.0  Blockbuster    8.879130e+07   \n",
       "2  5.355489e+06      7078.0      Average    5.348411e+06   \n",
       "3  1.999655e+07   4552970.0        Indie    1.544358e+07   \n",
       "4  1.997942e+07  13313581.0  Blockbuster    6.665839e+06   \n",
       "5  1.033331e+06   2405143.0      Average    1.371812e+06   \n",
       "6  4.454658e+06    428752.0        Indie    4.025906e+06   \n",
       "7  1.200517e+08  94019120.0  Blockbuster    2.603257e+07   \n",
       "8  7.531574e+07    246985.0  Blockbuster    7.506876e+07   \n",
       "9  1.720607e+07  90497778.0        Indie    7.329171e+07   \n",
       "\n",
       "   acuracy_of_perdiction  prediction_error  \n",
       "0              29.786608         70.213392  \n",
       "1              34.744434         65.255566  \n",
       "2               0.132163         99.867837  \n",
       "3              22.768774         77.231226  \n",
       "4              66.636475         33.363525  \n",
       "5               0.000000        132.756295  \n",
       "6               9.624803         90.375197  \n",
       "7              78.315532         21.684468  \n",
       "8               0.327933         99.672067  \n",
       "9               0.000000        425.964230  "
      ]
     },
     "execution_count": 20,
     "metadata": {},
     "output_type": "execute_result"
    }
   ],
   "source": [
    "result.head(10)"
   ]
  },
  {
   "cell_type": "code",
   "execution_count": 21,
   "id": "a376fedc",
   "metadata": {},
   "outputs": [
    {
     "data": {
      "text/plain": [
       "count    467.000000\n",
       "mean      33.659831\n",
       "std       32.096484\n",
       "min        0.000000\n",
       "25%        3.741718\n",
       "50%       22.768774\n",
       "75%       60.499122\n",
       "max       99.868207\n",
       "Name: acuracy_of_perdiction, dtype: float64"
      ]
     },
     "execution_count": 21,
     "metadata": {},
     "output_type": "execute_result"
    }
   ],
   "source": [
    "result_indie = result[result['class'] == 'Indie']\n",
    "result_indie.acuracy_of_perdiction.describe()"
   ]
  },
  {
   "cell_type": "code",
   "execution_count": 22,
   "id": "5bf763b2",
   "metadata": {},
   "outputs": [
    {
     "data": {
      "text/plain": [
       "count    127.000000\n",
       "mean      29.445574\n",
       "std       30.809234\n",
       "min        0.000000\n",
       "25%        1.699448\n",
       "50%       16.246474\n",
       "75%       53.782972\n",
       "max       99.922214\n",
       "Name: acuracy_of_perdiction, dtype: float64"
      ]
     },
     "execution_count": 22,
     "metadata": {},
     "output_type": "execute_result"
    }
   ],
   "source": [
    "result_average = result[result['class'] == 'Average']\n",
    "result_average.acuracy_of_perdiction.describe()"
   ]
  },
  {
   "cell_type": "code",
   "execution_count": 23,
   "id": "fab31139",
   "metadata": {},
   "outputs": [
    {
     "data": {
      "text/plain": [
       "count    62.000000\n",
       "mean     31.002420\n",
       "std      30.808591\n",
       "min       0.000000\n",
       "25%       0.991108\n",
       "50%      19.636594\n",
       "75%      57.399442\n",
       "max      93.005933\n",
       "Name: acuracy_of_perdiction, dtype: float64"
      ]
     },
     "execution_count": 23,
     "metadata": {},
     "output_type": "execute_result"
    }
   ],
   "source": [
    "result_blockbuster = result[result['class'] == 'Blockbuster']\n",
    "result_blockbuster.acuracy_of_perdiction.describe()"
   ]
  },
  {
   "cell_type": "markdown",
   "id": "55c88934",
   "metadata": {},
   "source": [
    "Based on the predicted box-office we can calculate which class of film predicted by the model and use it to evalute the model performance."
   ]
  },
  {
   "cell_type": "code",
   "execution_count": 24,
   "id": "1615fef4",
   "metadata": {},
   "outputs": [],
   "source": [
    "def conditions(result):\n",
    "    if (result.prediction > 250000000):\n",
    "        return 'Blockbuster'\n",
    "    elif ( result.prediction < 25000000):\n",
    "        return 'Indie'\n",
    "    else:\n",
    "        return 'Average'\n",
    "\n",
    "result['predicted_class'] = result.apply(conditions, axis=1) "
   ]
  },
  {
   "cell_type": "code",
   "execution_count": 25,
   "id": "2137e402",
   "metadata": {},
   "outputs": [],
   "source": [
    "result['class_prediction_acc'] = np.where( result['class'] == result['predicted_class'] , 'True', 'False')"
   ]
  },
  {
   "cell_type": "code",
   "execution_count": 26,
   "id": "afc57128",
   "metadata": {},
   "outputs": [
    {
     "data": {
      "text/html": [
       "<div>\n",
       "<style scoped>\n",
       "    .dataframe tbody tr th:only-of-type {\n",
       "        vertical-align: middle;\n",
       "    }\n",
       "\n",
       "    .dataframe tbody tr th {\n",
       "        vertical-align: top;\n",
       "    }\n",
       "\n",
       "    .dataframe thead th {\n",
       "        text-align: right;\n",
       "    }\n",
       "</style>\n",
       "<table border=\"1\" class=\"dataframe\">\n",
       "  <thead>\n",
       "    <tr style=\"text-align: right;\">\n",
       "      <th></th>\n",
       "      <th>box-office</th>\n",
       "      <th>prediction</th>\n",
       "      <th>class</th>\n",
       "      <th>absolute_error</th>\n",
       "      <th>acuracy_of_perdiction</th>\n",
       "      <th>prediction_error</th>\n",
       "      <th>predicted_class</th>\n",
       "      <th>class_prediction_acc</th>\n",
       "    </tr>\n",
       "  </thead>\n",
       "  <tbody>\n",
       "    <tr>\n",
       "      <th>0</th>\n",
       "      <td>4.946669e+06</td>\n",
       "      <td>1473445.0</td>\n",
       "      <td>Average</td>\n",
       "      <td>3.473224e+06</td>\n",
       "      <td>29.786608</td>\n",
       "      <td>70.213392</td>\n",
       "      <td>Indie</td>\n",
       "      <td>False</td>\n",
       "    </tr>\n",
       "    <tr>\n",
       "      <th>1</th>\n",
       "      <td>1.360670e+08</td>\n",
       "      <td>47275717.0</td>\n",
       "      <td>Blockbuster</td>\n",
       "      <td>8.879130e+07</td>\n",
       "      <td>34.744434</td>\n",
       "      <td>65.255566</td>\n",
       "      <td>Average</td>\n",
       "      <td>False</td>\n",
       "    </tr>\n",
       "    <tr>\n",
       "      <th>2</th>\n",
       "      <td>5.355489e+06</td>\n",
       "      <td>7078.0</td>\n",
       "      <td>Average</td>\n",
       "      <td>5.348411e+06</td>\n",
       "      <td>0.132163</td>\n",
       "      <td>99.867837</td>\n",
       "      <td>Indie</td>\n",
       "      <td>False</td>\n",
       "    </tr>\n",
       "    <tr>\n",
       "      <th>3</th>\n",
       "      <td>1.999655e+07</td>\n",
       "      <td>4552970.0</td>\n",
       "      <td>Indie</td>\n",
       "      <td>1.544358e+07</td>\n",
       "      <td>22.768774</td>\n",
       "      <td>77.231226</td>\n",
       "      <td>Indie</td>\n",
       "      <td>True</td>\n",
       "    </tr>\n",
       "    <tr>\n",
       "      <th>4</th>\n",
       "      <td>1.997942e+07</td>\n",
       "      <td>13313581.0</td>\n",
       "      <td>Blockbuster</td>\n",
       "      <td>6.665839e+06</td>\n",
       "      <td>66.636475</td>\n",
       "      <td>33.363525</td>\n",
       "      <td>Indie</td>\n",
       "      <td>False</td>\n",
       "    </tr>\n",
       "  </tbody>\n",
       "</table>\n",
       "</div>"
      ],
      "text/plain": [
       "     box-office  prediction        class  absolute_error  \\\n",
       "0  4.946669e+06   1473445.0      Average    3.473224e+06   \n",
       "1  1.360670e+08  47275717.0  Blockbuster    8.879130e+07   \n",
       "2  5.355489e+06      7078.0      Average    5.348411e+06   \n",
       "3  1.999655e+07   4552970.0        Indie    1.544358e+07   \n",
       "4  1.997942e+07  13313581.0  Blockbuster    6.665839e+06   \n",
       "\n",
       "   acuracy_of_perdiction  prediction_error predicted_class  \\\n",
       "0              29.786608         70.213392           Indie   \n",
       "1              34.744434         65.255566         Average   \n",
       "2               0.132163         99.867837           Indie   \n",
       "3              22.768774         77.231226           Indie   \n",
       "4              66.636475         33.363525           Indie   \n",
       "\n",
       "  class_prediction_acc  \n",
       "0                False  \n",
       "1                False  \n",
       "2                False  \n",
       "3                 True  \n",
       "4                False  "
      ]
     },
     "execution_count": 26,
     "metadata": {},
     "output_type": "execute_result"
    }
   ],
   "source": [
    "result.head()"
   ]
  },
  {
   "cell_type": "code",
   "execution_count": 27,
   "id": "53af0527",
   "metadata": {},
   "outputs": [
    {
     "data": {
      "image/png": "[encoded data removed]",
      "text/plain": [
       "<Figure size 576x720 with 1 Axes>"
      ]
     },
     "metadata": {},
     "output_type": "display_data"
    }
   ],
   "source": [
    "sns.set(rc={'figure.figsize':(8,10)})\n",
    "_ = sns.boxplot(y='acuracy_of_perdiction',data=result,x='class')"
   ]
  },
  {
   "cell_type": "code",
   "execution_count": 28,
   "id": "0cf5b581",
   "metadata": {},
   "outputs": [
    {
     "data": {
      "image/png": "[encoded data removed]",
      "text/plain": [
       "<Figure size 576x720 with 1 Axes>"
      ]
     },
     "metadata": {},
     "output_type": "display_data"
    }
   ],
   "source": [
    "sns.set(rc={'figure.figsize':(8,10)})\n",
    "_ = sns.boxplot(y='absolute_error',data=result,x='class')"
   ]
  },
  {
   "cell_type": "code",
   "execution_count": 29,
   "id": "e77203fb",
   "metadata": {},
   "outputs": [
    {
     "data": {
      "image/png": "[encoded data removed]",
      "text/plain": [
       "<Figure size 576x720 with 1 Axes>"
      ]
     },
     "metadata": {},
     "output_type": "display_data"
    }
   ],
   "source": [
    "sns.set(rc={'figure.figsize':(8,10)})\n",
    "_ = sns.countplot(x='class',data=result,hue='class_prediction_acc')"
   ]
  },
  {
   "cell_type": "markdown",
   "id": "902cd67e",
   "metadata": {},
   "source": [
    "We can see the acuracy for the Blockbuster is worse among the clases and that is mainly because box-office for those film has a very high number, and even if the prediction is in close range of the real value the diffrence still be a high number and that would cause the acuracy percentage drop.\n",
    "beside that we see what we expect from the R2 score. Acuracy arond 20 to 60 percent with the median around 30 depands on the class.\n",
    "While the model won't be able to get us a perfect prediction, but we can assume it will classify the film class with high acuracy. \n",
    "We can examine that with some real vote data that are more recent and are not in our original dataset.\n",
    "\n",
    "The absoulate error on the other hand is around 50 to 10 millions for the most cases, which is a good number for the Blockbuster and Average class. Althought there are some outlier in Indie and average class with very high error.\n",
    "\n",
    "\n",
    "\n",
    "## Spider-Man : No Way Home (2021)\n",
    "---\n",
    "\n",
    "let's start with a big movie in 2021. __Spider-Man : No Way Home.__"
   ]
  },
  {
   "cell_type": "code",
   "execution_count": 30,
   "id": "a2b5e572",
   "metadata": {},
   "outputs": [],
   "source": [
    "spider = pd.DataFrame({     'tom_cri_vote':[93],\n",
    "                            'tom_cri_num':[385],\n",
    "                            'tom_aud_vote':[98],\n",
    "                            'tom_aud_num':[25000],\n",
    "                            'met_cri_vote':[71],\n",
    "                            'met_cri_num':[59],\n",
    "                            'met_aud_vote':[89],\n",
    "                            'met_aud_num':[2013],\n",
    "                            'imdb_vote':[87],\n",
    "                            'imdb_num':[451025],\n",
    "                            'imdb_us_vote':[87],\n",
    "                            'imdb_us_num':[34371],\n",
    "                            'imdb_nus_vote':[84],\n",
    "                            'imdb_nus_num':[87342],\n",
    "                            'imdb_fem_vote':[88],\n",
    "                            'imdb_fem_num':[26676],\n",
    "                            'imdb_mal_vote':[86],\n",
    "                            'imdb_mal_num':[162657]\n",
    "                 })"
   ]
  },
  {
   "cell_type": "code",
   "execution_count": 31,
   "id": "1a58a58c",
   "metadata": {},
   "outputs": [],
   "source": [
    "spider_box_predict = rf_model.predict(spider.iloc[0].array.reshape(1, -1))"
   ]
  },
  {
   "cell_type": "code",
   "execution_count": 32,
   "id": "5e4c56fd",
   "metadata": {},
   "outputs": [
    {
     "data": {
      "text/plain": [
       "array([8.58447524e+08])"
      ]
     },
     "execution_count": 32,
     "metadata": {},
     "output_type": "execute_result"
    }
   ],
   "source": [
    "spider_box_predict"
   ]
  },
  {
   "cell_type": "markdown",
   "id": "22f37170",
   "metadata": {},
   "source": [
    "The model predict that this film box-office will be 850 million dollars based on the vote data that we provide.\n",
    "The film end up with 1.7 Bilion dollar in box-office. There is a very large error in the model prediction ( around 900 million dollar) but the model succesfuly predict that this film going to be a big Blockbuster with very high box-office gross.\n",
    "\n",
    "__Spider-Man : No Way Home__\n",
    "\n",
    "__Real Box-office : 1.7 Billion Dollars__\n",
    "\n",
    "\n",
    "__Perdicted box office : 850 Million Dollars__\n",
    "\n",
    "\n",
    "\n",
    "\n",
    "## Dune (2021):\n",
    "---\n",
    "\n",
    "Let's check another promising film in 2021: __Dune__. althoght it is not a Super Hero or a Marvel movie, but with very well-known casts, huge advertisment campain and pick the chrismas time relese, the producer hope to gain a good gross in box-office, number close to a billion."
   ]
  },
  {
   "cell_type": "code",
   "execution_count": 33,
   "id": "4906a7ba",
   "metadata": {},
   "outputs": [],
   "source": [
    "dune = pd.DataFrame({      'tom_cri_vote':[83],\n",
    "                            'tom_cri_num':[456],\n",
    "                            'tom_aud_vote':[90],\n",
    "                            'tom_aud_num':[5000],\n",
    "                            'met_cri_vote':[74],\n",
    "                            'met_cri_num':[67],\n",
    "                            'met_aud_vote':[80],\n",
    "                            'met_aud_num':[1371],\n",
    "                            'imdb_vote':[81],\n",
    "                            'imdb_num':[478505],\n",
    "                            'imdb_us_vote':[81],\n",
    "                            'imdb_us_num':[44798],\n",
    "                            'imdb_nus_vote':[80],\n",
    "                            'imdb_nus_num':[142364],\n",
    "                            'imdb_fem_vote':[81],\n",
    "                            'imdb_fem_num':[39777],\n",
    "                            'imdb_mal_vote':[81],\n",
    "                            'imdb_mal_num':[224114]\n",
    "                 })"
   ]
  },
  {
   "cell_type": "code",
   "execution_count": 34,
   "id": "d00e298e",
   "metadata": {},
   "outputs": [],
   "source": [
    "dune_box_predict = rf_model.predict(dune.iloc[0].array.reshape(1, -1))"
   ]
  },
  {
   "cell_type": "code",
   "execution_count": 35,
   "id": "79583c23",
   "metadata": {},
   "outputs": [
    {
     "data": {
      "text/plain": [
       "array([6.38620198e+08])"
      ]
     },
     "execution_count": 35,
     "metadata": {},
     "output_type": "execute_result"
    }
   ],
   "source": [
    "dune_box_predict"
   ]
  },
  {
   "cell_type": "markdown",
   "id": "df7d8045",
   "metadata": {},
   "source": [
    "Model predicts 650 million dollar box-office for Dune and in reality it gained 400 millions. This is even a closer prediction and succeful classification of the movie as a Blockbuster. Seems if the box-office is less than a billion we will have a closer prediction.\n",
    "\n",
    "__Dune:__\n",
    "\n",
    "__Real Box Office: 400 Million Dollars__\n",
    "\n",
    "__Predicted Box Office: 650 Million Dollars__\n",
    "\n",
    "\n",
    "\n",
    "## House of Gucci (2021):\n",
    "---\n",
    "\n",
    "Now let's check another promising film, it is not a Marvel Super Hero or a Sci-fi movie, but it has a very famouse director, and Al Pacino and Lady Gaga as a cast and an interesting story. __House of Gucci__"
   ]
  },
  {
   "cell_type": "code",
   "execution_count": 36,
   "id": "1eac0dc0",
   "metadata": {},
   "outputs": [],
   "source": [
    "house_of_gucci = pd.DataFrame({     'tom_cri_vote':[63],\n",
    "                                    'tom_cri_num':[335],\n",
    "                                    'tom_aud_vote':[83],\n",
    "                                    'tom_aud_num':[2500],\n",
    "                                    'met_cri_vote':[59],\n",
    "                                    'met_cri_num':[57],\n",
    "                                    'met_aud_vote':[80],\n",
    "                                    'met_aud_num':[857],\n",
    "                                    'imdb_vote':[68],\n",
    "                                    'imdb_num':[64497],\n",
    "                                    'imdb_us_vote':[67],\n",
    "                                    'imdb_us_num':[6084],\n",
    "                                    'imdb_nus_vote':[67],\n",
    "                                    'imdb_nus_num':[20533],\n",
    "                                    'imdb_fem_vote':[69],\n",
    "                                    'imdb_fem_num':[8867],\n",
    "                                    'imdb_mal_vote':[67],\n",
    "                                    'imdb_mal_num':[27604]\n",
    "                 })"
   ]
  },
  {
   "cell_type": "code",
   "execution_count": 37,
   "id": "6deb7725",
   "metadata": {},
   "outputs": [],
   "source": [
    "house_of_gucci_box_predict = rf_model.predict(house_of_gucci.iloc[0].array.reshape(1, -1))"
   ]
  },
  {
   "cell_type": "code",
   "execution_count": 38,
   "id": "45811066",
   "metadata": {},
   "outputs": [
    {
     "data": {
      "text/plain": [
       "array([2.70107102e+08])"
      ]
     },
     "execution_count": 38,
     "metadata": {},
     "output_type": "execute_result"
    }
   ],
   "source": [
    "house_of_gucci_box_predict"
   ]
  },
  {
   "cell_type": "markdown",
   "id": "908a1a72",
   "metadata": {},
   "source": [
    "Model predicts a 270 million dollar box-office for the film which is less than we expect form this cast and director.\n",
    "In reality it gains only 150 millions dollars, people didn't like it even with the big cast and famous Ridly Scott as a director.\n",
    "\n",
    "Model classify it sussefuly as an average movie acording to the vote number we used and predict a close box-office for the film.\n",
    "\n",
    "__House of Gucci:__\n",
    "\n",
    "__Real Box Office: 150 Million Dollars__\n",
    "\n",
    "__Predicted Box Office: 270 Million Dollars__\n",
    "\n",
    "\n",
    "## Spencer (2021):\n",
    "---\n",
    "\n",
    "Now Let's try the Independent film with a low budget that critics loved it. Story about princess diana that seems still is hot a story specially in 2021. __Spencer__\n",
    "\n"
   ]
  },
  {
   "cell_type": "code",
   "execution_count": 39,
   "id": "bf5d4e54",
   "metadata": {},
   "outputs": [],
   "source": [
    "spencer = pd.DataFrame({    'tom_cri_vote':[83],\n",
    "                            'tom_cri_num':[321],\n",
    "                            'tom_aud_vote':[52],\n",
    "                            'tom_aud_num':[500],\n",
    "                            'met_cri_vote':[76],\n",
    "                            'met_cri_num':[53],\n",
    "                            'met_aud_vote':[67],\n",
    "                            'met_aud_num':[260],\n",
    "                            'imdb_vote':[68],\n",
    "                            'imdb_num':[36549],\n",
    "                            'imdb_us_vote':[69],\n",
    "                            'imdb_us_num':[4371],\n",
    "                            'imdb_nus_vote':[67],\n",
    "                            'imdb_nus_num':[12148],\n",
    "                            'imdb_fem_vote':[65],\n",
    "                            'imdb_fem_num':[5724],\n",
    "                            'imdb_mal_vote':[68],\n",
    "                            'imdb_mal_num':[15806]\n",
    "                 })"
   ]
  },
  {
   "cell_type": "code",
   "execution_count": 40,
   "id": "947fe2f2",
   "metadata": {},
   "outputs": [],
   "source": [
    "spencer_box_predict = rf_model.predict(spencer.iloc[0].array.reshape(1, -1))"
   ]
  },
  {
   "cell_type": "code",
   "execution_count": 41,
   "id": "83bdd96f",
   "metadata": {},
   "outputs": [
    {
     "data": {
      "text/plain": [
       "array([44707359.11635715])"
      ]
     },
     "execution_count": 41,
     "metadata": {},
     "output_type": "execute_result"
    }
   ],
   "source": [
    "spencer_box_predict"
   ]
  },
  {
   "cell_type": "markdown",
   "id": "1072807c",
   "metadata": {},
   "source": [
    "This film gets a high vote from the critics and nominate for oscars season, but it ends up with 20 millions dollars at box-office.\n",
    "\n",
    "Model perdict 44 millions, very close number and classify correctly as an indie film.\n",
    "\n",
    "__Spencer:__\n",
    "\n",
    "__Real Box Office: 20 Million Dollars__\n",
    "\n",
    "__Predicted Box Office: 44 Million Dollars__\n",
    "\n",
    "\n",
    "## Bergman Island (2021):\n",
    "---\n",
    "\n",
    "Let's try a more independent film, agained loved by critics at Cann film festival, but this one doesn't even have a hot story or interesting cast."
   ]
  },
  {
   "cell_type": "code",
   "execution_count": 42,
   "id": "893a9232",
   "metadata": {},
   "outputs": [],
   "source": [
    "bergman_island = pd.DataFrame({     'tom_cri_vote':[86],\n",
    "                                    'tom_cri_num':[118],\n",
    "                                    'tom_aud_vote':[52],\n",
    "                                    'tom_aud_num':[50],\n",
    "                                    'met_cri_vote':[81],\n",
    "                                    'met_cri_num':[26],\n",
    "                                    'met_aud_vote':[66],\n",
    "                                    'met_aud_num':[20],\n",
    "                                    'imdb_vote':[68],\n",
    "                                    'imdb_num':[3878],\n",
    "                                    'imdb_us_vote':[68],\n",
    "                                    'imdb_us_num':[556],\n",
    "                                    'imdb_nus_vote':[67],\n",
    "                                    'imdb_nus_num':[1727],\n",
    "                                    'imdb_fem_vote':[66],\n",
    "                                    'imdb_fem_num':[475],\n",
    "                                    'imdb_mal_vote':[68],\n",
    "                                    'imdb_mal_num':[2268]\n",
    "                 })"
   ]
  },
  {
   "cell_type": "code",
   "execution_count": 43,
   "id": "f1d67995",
   "metadata": {},
   "outputs": [],
   "source": [
    "bergman_island_box_predict = rf_model.predict(bergman_island.iloc[0].array.reshape(1, -1))"
   ]
  },
  {
   "cell_type": "code",
   "execution_count": 44,
   "id": "6e0da5b2",
   "metadata": {},
   "outputs": [
    {
     "data": {
      "text/plain": [
       "array([2367437.25487446])"
      ]
     },
     "execution_count": 44,
     "metadata": {},
     "output_type": "execute_result"
    }
   ],
   "source": [
    "bergman_island_box_predict"
   ]
  },
  {
   "cell_type": "markdown",
   "id": "a920a9b9",
   "metadata": {},
   "source": [
    "Model predict only 2 million dollars for this film based on the vote data and it actually ends up gain only 700 thousend dollars in real life.\n",
    "\n",
    "__Bergman Island:__\n",
    "\n",
    "__Real Box Office: 700 Thousend Dollars__\n",
    "\n",
    "__Predicted Box Office: 2 Millions Dollars__\n",
    "\n",
    "\n",
    "## The Last Execution (2021):\n",
    "___\n",
    "\n",
    "Now let's check a independent german film that did not great in box-office and is not known to international audience and see how the model perform on that>"
   ]
  },
  {
   "cell_type": "code",
   "execution_count": 45,
   "id": "18fb57fe",
   "metadata": {},
   "outputs": [],
   "source": [
    "the_last_execution = pd.DataFrame({     'tom_cri_vote':[10],\n",
    "                                    'tom_cri_num':[2],\n",
    "                                    'tom_aud_vote':[0],\n",
    "                                    'tom_aud_num':[0],\n",
    "                                    'met_cri_vote':[0],\n",
    "                                    'met_cri_num':[0],\n",
    "                                    'met_aud_vote':[0],\n",
    "                                    'met_aud_num':[0],\n",
    "                                    'imdb_vote':[68],\n",
    "                                    'imdb_num':[208],\n",
    "                                    'imdb_us_vote':[80],\n",
    "                                    'imdb_us_num':[3],\n",
    "                                    'imdb_nus_vote':[68],\n",
    "                                    'imdb_nus_num':[112],\n",
    "                                    'imdb_fem_vote':[75],\n",
    "                                    'imdb_fem_num':[16],\n",
    "                                    'imdb_mal_vote':[75],\n",
    "                                    'imdb_mal_num':[16]\n",
    "                 })"
   ]
  },
  {
   "cell_type": "code",
   "execution_count": 46,
   "id": "4b40ab9c",
   "metadata": {},
   "outputs": [],
   "source": [
    "the_last_execution_box_predict = rf_model.predict(the_last_execution.iloc[0].array.reshape(1, -1))"
   ]
  },
  {
   "cell_type": "code",
   "execution_count": 47,
   "id": "0fed4064",
   "metadata": {},
   "outputs": [
    {
     "data": {
      "text/plain": [
       "array([39526565.66665079])"
      ]
     },
     "execution_count": 47,
     "metadata": {},
     "output_type": "execute_result"
    }
   ],
   "source": [
    "the_last_execution_box_predict"
   ]
  },
  {
   "cell_type": "markdown",
   "id": "0137f4f7",
   "metadata": {},
   "source": [
    "For this small foreign film,model failed to do a close prediction. \n",
    "\n",
    "__The Last Execution:__\n",
    "\n",
    "__Real Box Office: 70 thousend Dollars__\n",
    "\n",
    "__Predicted Box Office: 40 Million Dollars__"
   ]
  },
  {
   "cell_type": "markdown",
   "id": "89c83ac3",
   "metadata": {},
   "source": [
    "\n",
    "## Conclusion:\n",
    "\n",
    "1. The acuracy of prediction of the model is not greate therefore this model won't predict a very acurate box-office of the movie. This is mostly because the Box-Office value which was the model target value is not a constat value and has a very big range. Also we have lots of the data for the indie movie with very small box-office and very few ( less than 10) Blockbuster with the box-office over a billion dollars.\n",
    "\n",
    "2. The model in the other hand, can successfully predict the class of the movie. For all the movie of 2021 that we manually get a prediction, the model was very acurate on class prediction.\n",
    "\n",
    "3. The origianl class of the movie consist of three distinctive class : Indie,Average and Blockbuster. From the absoulute error we saw on the prediction, the model can probably do better classification. For examle, if we devide the box-office into 10 to 12 buckets instead of original 3, the model still can do a good classifiction for the movie.\n",
    "\n",
    "4. For the independent Forign film that are not known to international audience, Vote data is not a good predictor. The model was not successful to do ay close prediction even for the class for those movie.\n"
   ]
  },
  {
   "cell_type": "markdown",
   "id": "ba3bd8f5",
   "metadata": {},
   "source": [
    "## Early critic vote as a perdictor :"
   ]
  },
  {
   "cell_type": "markdown",
   "id": "7470b353",
   "metadata": {},
   "source": [
    "The initial purpose of this project was trying to perdict the movie box-office with the critics early votes. We already saw that with having a full vote dataset that gathered after the release of the movie, we were able to perdict a box-office with good margine of error and also clasify the box-office gross category with high accuracy.\n",
    "\n",
    "But what happens if we only use the pre-release critics vote?\n",
    "\n",
    "These data already exist in the dataset as Rotten tomatto critics vote and number and metacritics votes and number."
   ]
  },
  {
   "cell_type": "markdown",
   "id": "e8a0501c",
   "metadata": {},
   "source": [
    "Let's create a dataset with critics early vote. Then make a train test set."
   ]
  },
  {
   "cell_type": "code",
   "execution_count": 48,
   "id": "d1b0d8e4",
   "metadata": {},
   "outputs": [
    {
     "data": {
      "text/html": [
       "<div>\n",
       "<style scoped>\n",
       "    .dataframe tbody tr th:only-of-type {\n",
       "        vertical-align: middle;\n",
       "    }\n",
       "\n",
       "    .dataframe tbody tr th {\n",
       "        vertical-align: top;\n",
       "    }\n",
       "\n",
       "    .dataframe thead th {\n",
       "        text-align: right;\n",
       "    }\n",
       "</style>\n",
       "<table border=\"1\" class=\"dataframe\">\n",
       "  <thead>\n",
       "    <tr style=\"text-align: right;\">\n",
       "      <th></th>\n",
       "      <th>tom_cri_vote</th>\n",
       "      <th>tom_cri_num</th>\n",
       "      <th>met_cri_vote</th>\n",
       "      <th>met_cri_num</th>\n",
       "    </tr>\n",
       "  </thead>\n",
       "  <tbody>\n",
       "    <tr>\n",
       "      <th>409</th>\n",
       "      <td>47</td>\n",
       "      <td>59</td>\n",
       "      <td>35</td>\n",
       "      <td>12</td>\n",
       "    </tr>\n",
       "    <tr>\n",
       "      <th>837</th>\n",
       "      <td>100</td>\n",
       "      <td>30</td>\n",
       "      <td>91</td>\n",
       "      <td>9</td>\n",
       "    </tr>\n",
       "    <tr>\n",
       "      <th>936</th>\n",
       "      <td>77</td>\n",
       "      <td>44</td>\n",
       "      <td>60</td>\n",
       "      <td>9</td>\n",
       "    </tr>\n",
       "    <tr>\n",
       "      <th>1155</th>\n",
       "      <td>67</td>\n",
       "      <td>63</td>\n",
       "      <td>63</td>\n",
       "      <td>19</td>\n",
       "    </tr>\n",
       "    <tr>\n",
       "      <th>1873</th>\n",
       "      <td>32</td>\n",
       "      <td>160</td>\n",
       "      <td>40</td>\n",
       "      <td>32</td>\n",
       "    </tr>\n",
       "  </tbody>\n",
       "</table>\n",
       "</div>"
      ],
      "text/plain": [
       "      tom_cri_vote  tom_cri_num  met_cri_vote  met_cri_num\n",
       "409             47           59            35           12\n",
       "837            100           30            91            9\n",
       "936             77           44            60            9\n",
       "1155            67           63            63           19\n",
       "1873            32          160            40           32"
      ]
     },
     "execution_count": 48,
     "metadata": {},
     "output_type": "execute_result"
    }
   ],
   "source": [
    "#create a dataset from the critics vote and do train test split\n",
    "X_train_critic = X_train[['tom_cri_vote','tom_cri_num','met_cri_vote','met_cri_num']]\n",
    "X_train_critic.head()"
   ]
  },
  {
   "cell_type": "code",
   "execution_count": 49,
   "id": "63e18bcc",
   "metadata": {},
   "outputs": [
    {
     "data": {
      "text/html": [
       "<div>\n",
       "<style scoped>\n",
       "    .dataframe tbody tr th:only-of-type {\n",
       "        vertical-align: middle;\n",
       "    }\n",
       "\n",
       "    .dataframe tbody tr th {\n",
       "        vertical-align: top;\n",
       "    }\n",
       "\n",
       "    .dataframe thead th {\n",
       "        text-align: right;\n",
       "    }\n",
       "</style>\n",
       "<table border=\"1\" class=\"dataframe\">\n",
       "  <thead>\n",
       "    <tr style=\"text-align: right;\">\n",
       "      <th></th>\n",
       "      <th>tom_cri_vote</th>\n",
       "      <th>tom_cri_num</th>\n",
       "      <th>met_cri_vote</th>\n",
       "      <th>met_cri_num</th>\n",
       "    </tr>\n",
       "  </thead>\n",
       "  <tbody>\n",
       "    <tr>\n",
       "      <th>2304</th>\n",
       "      <td>23</td>\n",
       "      <td>26</td>\n",
       "      <td>29</td>\n",
       "      <td>11</td>\n",
       "    </tr>\n",
       "    <tr>\n",
       "      <th>2948</th>\n",
       "      <td>12</td>\n",
       "      <td>110</td>\n",
       "      <td>27</td>\n",
       "      <td>21</td>\n",
       "    </tr>\n",
       "    <tr>\n",
       "      <th>2546</th>\n",
       "      <td>37</td>\n",
       "      <td>51</td>\n",
       "      <td>39</td>\n",
       "      <td>13</td>\n",
       "    </tr>\n",
       "    <tr>\n",
       "      <th>1772</th>\n",
       "      <td>66</td>\n",
       "      <td>127</td>\n",
       "      <td>60</td>\n",
       "      <td>28</td>\n",
       "    </tr>\n",
       "    <tr>\n",
       "      <th>552</th>\n",
       "      <td>58</td>\n",
       "      <td>177</td>\n",
       "      <td>58</td>\n",
       "      <td>36</td>\n",
       "    </tr>\n",
       "  </tbody>\n",
       "</table>\n",
       "</div>"
      ],
      "text/plain": [
       "      tom_cri_vote  tom_cri_num  met_cri_vote  met_cri_num\n",
       "2304            23           26            29           11\n",
       "2948            12          110            27           21\n",
       "2546            37           51            39           13\n",
       "1772            66          127            60           28\n",
       "552             58          177            58           36"
      ]
     },
     "execution_count": 49,
     "metadata": {},
     "output_type": "execute_result"
    }
   ],
   "source": [
    "X_test_critic = X_test[['tom_cri_vote','tom_cri_num','met_cri_vote','met_cri_num']]\n",
    "X_test_critic.head()"
   ]
  },
  {
   "cell_type": "code",
   "execution_count": 50,
   "id": "579993f3",
   "metadata": {},
   "outputs": [],
   "source": [
    "#make a pipline with the scaler and RandomForestRegressor as the model for this project\n",
    "pipe_critic = make_pipeline(\n",
    "    StandardScaler(),\n",
    "    RandomForestRegressor(random_state=47)\n",
    ")"
   ]
  },
  {
   "cell_type": "code",
   "execution_count": 51,
   "id": "f21dd27b",
   "metadata": {},
   "outputs": [
    {
     "data": {
      "text/plain": [
       "{'standardscaler': [StandardScaler(), None],\n",
       " 'randomforestregressor__n_estimators': [50, 100, 150, 200, 300, 400],\n",
       " 'randomforestregressor__max_depth': [40, 60, 80]}"
      ]
     },
     "execution_count": 51,
     "metadata": {},
     "output_type": "execute_result"
    }
   ],
   "source": [
    "#run the GrideSearch to find the best Hyperparameters\n",
    "n_estimators = [50,100,150,200,300,400]\n",
    "max_depth = [40,60,80]\n",
    "\n",
    "random_grid = {'standardscaler':[StandardScaler(),None],\n",
    "               'randomforestregressor__n_estimators': n_estimators,\n",
    "               'randomforestregressor__max_depth': max_depth,\n",
    "               \n",
    "            }\n",
    "random_grid"
   ]
  },
  {
   "cell_type": "code",
   "execution_count": 52,
   "id": "18761050",
   "metadata": {},
   "outputs": [],
   "source": [
    "rf_critic_model = GridSearchCV(pipe_critic, param_grid=random_grid, cv=5, n_jobs=-1)"
   ]
  },
  {
   "cell_type": "code",
   "execution_count": 53,
   "id": "48669997",
   "metadata": {},
   "outputs": [
    {
     "data": {
      "text/plain": [
       "GridSearchCV(cv=5,\n",
       "             estimator=Pipeline(steps=[('standardscaler', StandardScaler()),\n",
       "                                       ('randomforestregressor',\n",
       "                                        RandomForestRegressor(random_state=47))]),\n",
       "             n_jobs=-1,\n",
       "             param_grid={'randomforestregressor__max_depth': [40, 60, 80],\n",
       "                         'randomforestregressor__n_estimators': [50, 100, 150,\n",
       "                                                                 200, 300,\n",
       "                                                                 400],\n",
       "                         'standardscaler': [StandardScaler(), None]})"
      ]
     },
     "execution_count": 53,
     "metadata": {},
     "output_type": "execute_result"
    }
   ],
   "source": [
    "rf_critic_model.fit(X_train_critic,y_train)"
   ]
  },
  {
   "cell_type": "code",
   "execution_count": 54,
   "id": "9199e906",
   "metadata": {},
   "outputs": [
    {
     "data": {
      "text/plain": [
       "{'randomforestregressor__max_depth': 40,\n",
       " 'randomforestregressor__n_estimators': 100,\n",
       " 'standardscaler': None}"
      ]
     },
     "execution_count": 54,
     "metadata": {},
     "output_type": "execute_result"
    }
   ],
   "source": [
    "rf_critic_model.best_params_"
   ]
  },
  {
   "cell_type": "markdown",
   "id": "6dd59f51",
   "metadata": {},
   "source": [
    "The model that only used the critics data has very close HyperParameters as the original model."
   ]
  },
  {
   "cell_type": "code",
   "execution_count": 55,
   "id": "c647347f",
   "metadata": {},
   "outputs": [
    {
     "data": {
      "image/png": "[encoded data removed]",
      "text/plain": [
       "<Figure size 720x360 with 1 Axes>"
      ]
     },
     "metadata": {},
     "output_type": "display_data"
    }
   ],
   "source": [
    "#find the importance of the features in the dataset\n",
    "plt.subplots(figsize=(10, 5))\n",
    "imps = rf_critic_model.best_estimator_.named_steps.randomforestregressor.feature_importances_\n",
    "rf_feat_imps = pd.Series(imps, index=X_train_critic.columns).sort_values(ascending=False)\n",
    "rf_feat_imps.plot(kind='bar')\n",
    "plt.xlabel('features')\n",
    "plt.ylabel('importance')\n",
    "plt.title('Best random forest regressor feature importances form critic vote');"
   ]
  },
  {
   "cell_type": "markdown",
   "id": "cf455619",
   "metadata": {},
   "source": [
    "__Rotten Tomatto critic's number of vote__ appears to be the most importent features and has 60% perdiction power in this model. We can already assume that the box-office perdiction will be highly coorolates with this number."
   ]
  },
  {
   "cell_type": "code",
   "execution_count": 56,
   "id": "0570b349",
   "metadata": {},
   "outputs": [],
   "source": [
    "#checking the mae result for this new model.\n",
    "cv_results_critic = cross_validate(rf_critic_model.best_estimator_, X_train_critic, y_train, scoring='neg_mean_absolute_error', cv=5, n_jobs=-1)"
   ]
  },
  {
   "cell_type": "code",
   "execution_count": 57,
   "id": "7688b75c",
   "metadata": {},
   "outputs": [
    {
     "data": {
      "text/plain": [
       "array([-56795012.39140544, -67071735.80844904, -60029404.29113171,\n",
       "       -62304704.11894775, -60945249.28724737])"
      ]
     },
     "execution_count": 57,
     "metadata": {},
     "output_type": "execute_result"
    }
   ],
   "source": [
    "cv_results_critic['test_score']"
   ]
  },
  {
   "cell_type": "code",
   "execution_count": 58,
   "id": "632f4427",
   "metadata": {},
   "outputs": [
    {
     "data": {
      "text/plain": [
       "-61429221.17943625"
      ]
     },
     "execution_count": 58,
     "metadata": {},
     "output_type": "execute_result"
    }
   ],
   "source": [
    "np.mean(cv_results_critic['test_score'])"
   ]
  },
  {
   "cell_type": "code",
   "execution_count": 59,
   "id": "526231ab",
   "metadata": {},
   "outputs": [],
   "source": [
    "y_pred_critic = rf_critic_model.best_estimator_.predict(X_test_critic)"
   ]
  },
  {
   "cell_type": "code",
   "execution_count": 60,
   "id": "4054f42b",
   "metadata": {},
   "outputs": [
    {
     "data": {
      "text/plain": [
       "78345049.64632103"
      ]
     },
     "execution_count": 60,
     "metadata": {},
     "output_type": "execute_result"
    }
   ],
   "source": [
    "mean_absolute_error(y_test,y_pred_critic)"
   ]
  },
  {
   "cell_type": "code",
   "execution_count": 61,
   "id": "1eb41c0d",
   "metadata": {},
   "outputs": [
    {
     "data": {
      "text/plain": [
       "0.3555687680190446"
      ]
     },
     "execution_count": 61,
     "metadata": {},
     "output_type": "execute_result"
    }
   ],
   "source": [
    "explained_variance_score(y_test,y_pred_critic)"
   ]
  },
  {
   "cell_type": "markdown",
   "id": "a671b4d6",
   "metadata": {},
   "source": [
    "Obviously the model performance decrese a lot and we have a larger margin of error as we already saw in pre-process step. Let's creates the same metrics as the original model and compare those "
   ]
  },
  {
   "cell_type": "code",
   "execution_count": 62,
   "id": "d6228eae",
   "metadata": {},
   "outputs": [
    {
     "data": {
      "text/html": [
       "<div>\n",
       "<style scoped>\n",
       "    .dataframe tbody tr th:only-of-type {\n",
       "        vertical-align: middle;\n",
       "    }\n",
       "\n",
       "    .dataframe tbody tr th {\n",
       "        vertical-align: top;\n",
       "    }\n",
       "\n",
       "    .dataframe thead th {\n",
       "        text-align: right;\n",
       "    }\n",
       "</style>\n",
       "<table border=\"1\" class=\"dataframe\">\n",
       "  <thead>\n",
       "    <tr style=\"text-align: right;\">\n",
       "      <th></th>\n",
       "      <th>index</th>\n",
       "      <th>0</th>\n",
       "      <th>class</th>\n",
       "    </tr>\n",
       "  </thead>\n",
       "  <tbody>\n",
       "    <tr>\n",
       "      <th>0</th>\n",
       "      <td>1.467360e+06</td>\n",
       "      <td>1473445.0</td>\n",
       "      <td>Average</td>\n",
       "    </tr>\n",
       "    <tr>\n",
       "      <th>1</th>\n",
       "      <td>1.119725e+08</td>\n",
       "      <td>47275717.0</td>\n",
       "      <td>Blockbuster</td>\n",
       "    </tr>\n",
       "    <tr>\n",
       "      <th>2</th>\n",
       "      <td>7.174748e+06</td>\n",
       "      <td>7078.0</td>\n",
       "      <td>Average</td>\n",
       "    </tr>\n",
       "    <tr>\n",
       "      <th>3</th>\n",
       "      <td>2.924293e+07</td>\n",
       "      <td>4552970.0</td>\n",
       "      <td>Indie</td>\n",
       "    </tr>\n",
       "    <tr>\n",
       "      <th>4</th>\n",
       "      <td>8.878110e+07</td>\n",
       "      <td>13313581.0</td>\n",
       "      <td>Blockbuster</td>\n",
       "    </tr>\n",
       "    <tr>\n",
       "      <th>...</th>\n",
       "      <td>...</td>\n",
       "      <td>...</td>\n",
       "      <td>...</td>\n",
       "    </tr>\n",
       "    <tr>\n",
       "      <th>651</th>\n",
       "      <td>7.075386e+06</td>\n",
       "      <td>155215.0</td>\n",
       "      <td>Indie</td>\n",
       "    </tr>\n",
       "    <tr>\n",
       "      <th>652</th>\n",
       "      <td>2.705214e+06</td>\n",
       "      <td>507914.0</td>\n",
       "      <td>Blockbuster</td>\n",
       "    </tr>\n",
       "    <tr>\n",
       "      <th>653</th>\n",
       "      <td>1.412271e+06</td>\n",
       "      <td>61465.0</td>\n",
       "      <td>Indie</td>\n",
       "    </tr>\n",
       "    <tr>\n",
       "      <th>654</th>\n",
       "      <td>8.268102e+07</td>\n",
       "      <td>112983889.0</td>\n",
       "      <td>Indie</td>\n",
       "    </tr>\n",
       "    <tr>\n",
       "      <th>655</th>\n",
       "      <td>3.052807e+07</td>\n",
       "      <td>207039844.0</td>\n",
       "      <td>Indie</td>\n",
       "    </tr>\n",
       "  </tbody>\n",
       "</table>\n",
       "<p>656 rows × 3 columns</p>\n",
       "</div>"
      ],
      "text/plain": [
       "            index            0        class\n",
       "0    1.467360e+06    1473445.0      Average\n",
       "1    1.119725e+08   47275717.0  Blockbuster\n",
       "2    7.174748e+06       7078.0      Average\n",
       "3    2.924293e+07    4552970.0        Indie\n",
       "4    8.878110e+07   13313581.0  Blockbuster\n",
       "..            ...          ...          ...\n",
       "651  7.075386e+06     155215.0        Indie\n",
       "652  2.705214e+06     507914.0  Blockbuster\n",
       "653  1.412271e+06      61465.0        Indie\n",
       "654  8.268102e+07  112983889.0        Indie\n",
       "655  3.052807e+07  207039844.0        Indie\n",
       "\n",
       "[656 rows x 3 columns]"
      ]
     },
     "execution_count": 62,
     "metadata": {},
     "output_type": "execute_result"
    }
   ],
   "source": [
    "result_critic = pd.DataFrame(y_test.values,y_pred_critic).reset_index() \n",
    "result_critic = pd.concat([result_critic,movie_class],axis=1).dropna()\n",
    "result_critic"
   ]
  },
  {
   "cell_type": "code",
   "execution_count": 63,
   "id": "e7d85e63",
   "metadata": {},
   "outputs": [],
   "source": [
    "result_critic = result_critic.rename(columns={'index':'box-office',0:'prediction'})\n",
    "result_critic['absolute_error'] = np.abs(result_critic['prediction'] - result_critic['box-office'])\n",
    "result_critic['acuracy_of_perdiction'] =100 - ((result_critic['absolute_error']/result_critic['box-office']*100))\n",
    "result_critic['prediction_error'] = (np.abs((result_critic['box-office']-result_critic['prediction']))/result_critic['box-office']) * 100"
   ]
  },
  {
   "cell_type": "code",
   "execution_count": 64,
   "id": "3278b49f",
   "metadata": {},
   "outputs": [
    {
     "data": {
      "text/html": [
       "<div>\n",
       "<style scoped>\n",
       "    .dataframe tbody tr th:only-of-type {\n",
       "        vertical-align: middle;\n",
       "    }\n",
       "\n",
       "    .dataframe tbody tr th {\n",
       "        vertical-align: top;\n",
       "    }\n",
       "\n",
       "    .dataframe thead th {\n",
       "        text-align: right;\n",
       "    }\n",
       "</style>\n",
       "<table border=\"1\" class=\"dataframe\">\n",
       "  <thead>\n",
       "    <tr style=\"text-align: right;\">\n",
       "      <th></th>\n",
       "      <th>box-office</th>\n",
       "      <th>prediction</th>\n",
       "      <th>class</th>\n",
       "      <th>absolute_error</th>\n",
       "      <th>acuracy_of_perdiction</th>\n",
       "      <th>prediction_error</th>\n",
       "    </tr>\n",
       "  </thead>\n",
       "  <tbody>\n",
       "    <tr>\n",
       "      <th>0</th>\n",
       "      <td>1.467360e+06</td>\n",
       "      <td>1473445.0</td>\n",
       "      <td>Average</td>\n",
       "      <td>6.084750e+03</td>\n",
       "      <td>99.585327</td>\n",
       "      <td>0.414673</td>\n",
       "    </tr>\n",
       "    <tr>\n",
       "      <th>1</th>\n",
       "      <td>1.119725e+08</td>\n",
       "      <td>47275717.0</td>\n",
       "      <td>Blockbuster</td>\n",
       "      <td>6.469681e+07</td>\n",
       "      <td>42.220817</td>\n",
       "      <td>57.779183</td>\n",
       "    </tr>\n",
       "    <tr>\n",
       "      <th>2</th>\n",
       "      <td>7.174748e+06</td>\n",
       "      <td>7078.0</td>\n",
       "      <td>Average</td>\n",
       "      <td>7.167670e+06</td>\n",
       "      <td>0.098652</td>\n",
       "      <td>99.901348</td>\n",
       "    </tr>\n",
       "    <tr>\n",
       "      <th>3</th>\n",
       "      <td>2.924293e+07</td>\n",
       "      <td>4552970.0</td>\n",
       "      <td>Indie</td>\n",
       "      <td>2.468996e+07</td>\n",
       "      <td>15.569474</td>\n",
       "      <td>84.430526</td>\n",
       "    </tr>\n",
       "    <tr>\n",
       "      <th>4</th>\n",
       "      <td>8.878110e+07</td>\n",
       "      <td>13313581.0</td>\n",
       "      <td>Blockbuster</td>\n",
       "      <td>7.546751e+07</td>\n",
       "      <td>14.995964</td>\n",
       "      <td>85.004036</td>\n",
       "    </tr>\n",
       "    <tr>\n",
       "      <th>...</th>\n",
       "      <td>...</td>\n",
       "      <td>...</td>\n",
       "      <td>...</td>\n",
       "      <td>...</td>\n",
       "      <td>...</td>\n",
       "      <td>...</td>\n",
       "    </tr>\n",
       "    <tr>\n",
       "      <th>651</th>\n",
       "      <td>7.075386e+06</td>\n",
       "      <td>155215.0</td>\n",
       "      <td>Indie</td>\n",
       "      <td>6.920171e+06</td>\n",
       "      <td>2.193732</td>\n",
       "      <td>97.806268</td>\n",
       "    </tr>\n",
       "    <tr>\n",
       "      <th>652</th>\n",
       "      <td>2.705214e+06</td>\n",
       "      <td>507914.0</td>\n",
       "      <td>Blockbuster</td>\n",
       "      <td>2.197300e+06</td>\n",
       "      <td>18.775373</td>\n",
       "      <td>81.224627</td>\n",
       "    </tr>\n",
       "    <tr>\n",
       "      <th>653</th>\n",
       "      <td>1.412271e+06</td>\n",
       "      <td>61465.0</td>\n",
       "      <td>Indie</td>\n",
       "      <td>1.350806e+06</td>\n",
       "      <td>4.352211</td>\n",
       "      <td>95.647789</td>\n",
       "    </tr>\n",
       "    <tr>\n",
       "      <th>654</th>\n",
       "      <td>8.268102e+07</td>\n",
       "      <td>112983889.0</td>\n",
       "      <td>Indie</td>\n",
       "      <td>3.030287e+07</td>\n",
       "      <td>63.349659</td>\n",
       "      <td>36.650341</td>\n",
       "    </tr>\n",
       "    <tr>\n",
       "      <th>655</th>\n",
       "      <td>3.052807e+07</td>\n",
       "      <td>207039844.0</td>\n",
       "      <td>Indie</td>\n",
       "      <td>1.765118e+08</td>\n",
       "      <td>-478.194964</td>\n",
       "      <td>578.194964</td>\n",
       "    </tr>\n",
       "  </tbody>\n",
       "</table>\n",
       "<p>656 rows × 6 columns</p>\n",
       "</div>"
      ],
      "text/plain": [
       "       box-office   prediction        class  absolute_error  \\\n",
       "0    1.467360e+06    1473445.0      Average    6.084750e+03   \n",
       "1    1.119725e+08   47275717.0  Blockbuster    6.469681e+07   \n",
       "2    7.174748e+06       7078.0      Average    7.167670e+06   \n",
       "3    2.924293e+07    4552970.0        Indie    2.468996e+07   \n",
       "4    8.878110e+07   13313581.0  Blockbuster    7.546751e+07   \n",
       "..            ...          ...          ...             ...   \n",
       "651  7.075386e+06     155215.0        Indie    6.920171e+06   \n",
       "652  2.705214e+06     507914.0  Blockbuster    2.197300e+06   \n",
       "653  1.412271e+06      61465.0        Indie    1.350806e+06   \n",
       "654  8.268102e+07  112983889.0        Indie    3.030287e+07   \n",
       "655  3.052807e+07  207039844.0        Indie    1.765118e+08   \n",
       "\n",
       "     acuracy_of_perdiction  prediction_error  \n",
       "0                99.585327          0.414673  \n",
       "1                42.220817         57.779183  \n",
       "2                 0.098652         99.901348  \n",
       "3                15.569474         84.430526  \n",
       "4                14.995964         85.004036  \n",
       "..                     ...               ...  \n",
       "651               2.193732         97.806268  \n",
       "652              18.775373         81.224627  \n",
       "653               4.352211         95.647789  \n",
       "654              63.349659         36.650341  \n",
       "655            -478.194964        578.194964  \n",
       "\n",
       "[656 rows x 6 columns]"
      ]
     },
     "execution_count": 64,
     "metadata": {},
     "output_type": "execute_result"
    }
   ],
   "source": [
    "result_critic"
   ]
  },
  {
   "cell_type": "code",
   "execution_count": 65,
   "id": "87f044b7",
   "metadata": {},
   "outputs": [],
   "source": [
    "result_critic.loc[result_critic.acuracy_of_perdiction<0,'acuracy_of_perdiction'] = 0"
   ]
  },
  {
   "cell_type": "code",
   "execution_count": 66,
   "id": "8b99638e",
   "metadata": {},
   "outputs": [],
   "source": [
    "result_critic['predicted_class'] = result_critic.apply(conditions, axis=1) "
   ]
  },
  {
   "cell_type": "code",
   "execution_count": 67,
   "id": "69685b04",
   "metadata": {},
   "outputs": [],
   "source": [
    "result_critic['class_prediction_acc'] = np.where( result_critic['class'] == result_critic['predicted_class'] , 'True', 'False')"
   ]
  },
  {
   "cell_type": "code",
   "execution_count": 68,
   "id": "d0a3c827",
   "metadata": {},
   "outputs": [
    {
     "data": {
      "text/html": [
       "<div>\n",
       "<style scoped>\n",
       "    .dataframe tbody tr th:only-of-type {\n",
       "        vertical-align: middle;\n",
       "    }\n",
       "\n",
       "    .dataframe tbody tr th {\n",
       "        vertical-align: top;\n",
       "    }\n",
       "\n",
       "    .dataframe thead th {\n",
       "        text-align: right;\n",
       "    }\n",
       "</style>\n",
       "<table border=\"1\" class=\"dataframe\">\n",
       "  <thead>\n",
       "    <tr style=\"text-align: right;\">\n",
       "      <th></th>\n",
       "      <th>box-office</th>\n",
       "      <th>prediction</th>\n",
       "      <th>class</th>\n",
       "      <th>absolute_error</th>\n",
       "      <th>acuracy_of_perdiction</th>\n",
       "      <th>prediction_error</th>\n",
       "      <th>predicted_class</th>\n",
       "      <th>class_prediction_acc</th>\n",
       "    </tr>\n",
       "  </thead>\n",
       "  <tbody>\n",
       "    <tr>\n",
       "      <th>0</th>\n",
       "      <td>1.467360e+06</td>\n",
       "      <td>1473445.0</td>\n",
       "      <td>Average</td>\n",
       "      <td>6.084750e+03</td>\n",
       "      <td>99.585327</td>\n",
       "      <td>0.414673</td>\n",
       "      <td>Indie</td>\n",
       "      <td>False</td>\n",
       "    </tr>\n",
       "    <tr>\n",
       "      <th>1</th>\n",
       "      <td>1.119725e+08</td>\n",
       "      <td>47275717.0</td>\n",
       "      <td>Blockbuster</td>\n",
       "      <td>6.469681e+07</td>\n",
       "      <td>42.220817</td>\n",
       "      <td>57.779183</td>\n",
       "      <td>Average</td>\n",
       "      <td>False</td>\n",
       "    </tr>\n",
       "    <tr>\n",
       "      <th>2</th>\n",
       "      <td>7.174748e+06</td>\n",
       "      <td>7078.0</td>\n",
       "      <td>Average</td>\n",
       "      <td>7.167670e+06</td>\n",
       "      <td>0.098652</td>\n",
       "      <td>99.901348</td>\n",
       "      <td>Indie</td>\n",
       "      <td>False</td>\n",
       "    </tr>\n",
       "    <tr>\n",
       "      <th>3</th>\n",
       "      <td>2.924293e+07</td>\n",
       "      <td>4552970.0</td>\n",
       "      <td>Indie</td>\n",
       "      <td>2.468996e+07</td>\n",
       "      <td>15.569474</td>\n",
       "      <td>84.430526</td>\n",
       "      <td>Indie</td>\n",
       "      <td>True</td>\n",
       "    </tr>\n",
       "    <tr>\n",
       "      <th>4</th>\n",
       "      <td>8.878110e+07</td>\n",
       "      <td>13313581.0</td>\n",
       "      <td>Blockbuster</td>\n",
       "      <td>7.546751e+07</td>\n",
       "      <td>14.995964</td>\n",
       "      <td>85.004036</td>\n",
       "      <td>Indie</td>\n",
       "      <td>False</td>\n",
       "    </tr>\n",
       "  </tbody>\n",
       "</table>\n",
       "</div>"
      ],
      "text/plain": [
       "     box-office  prediction        class  absolute_error  \\\n",
       "0  1.467360e+06   1473445.0      Average    6.084750e+03   \n",
       "1  1.119725e+08  47275717.0  Blockbuster    6.469681e+07   \n",
       "2  7.174748e+06      7078.0      Average    7.167670e+06   \n",
       "3  2.924293e+07   4552970.0        Indie    2.468996e+07   \n",
       "4  8.878110e+07  13313581.0  Blockbuster    7.546751e+07   \n",
       "\n",
       "   acuracy_of_perdiction  prediction_error predicted_class  \\\n",
       "0              99.585327          0.414673           Indie   \n",
       "1              42.220817         57.779183         Average   \n",
       "2               0.098652         99.901348           Indie   \n",
       "3              15.569474         84.430526           Indie   \n",
       "4              14.995964         85.004036           Indie   \n",
       "\n",
       "  class_prediction_acc  \n",
       "0                False  \n",
       "1                False  \n",
       "2                False  \n",
       "3                 True  \n",
       "4                False  "
      ]
     },
     "execution_count": 68,
     "metadata": {},
     "output_type": "execute_result"
    }
   ],
   "source": [
    "result_critic.head()"
   ]
  },
  {
   "cell_type": "code",
   "execution_count": 69,
   "id": "95ec7884",
   "metadata": {},
   "outputs": [
    {
     "data": {
      "image/png": "[encoded data removed]",
      "text/plain": [
       "<Figure size 576x720 with 1 Axes>"
      ]
     },
     "metadata": {},
     "output_type": "display_data"
    }
   ],
   "source": [
    "sns.set(rc={'figure.figsize':(8,10)})\n",
    "_ = sns.boxplot(y='acuracy_of_perdiction',data=result_critic,x='class')"
   ]
  },
  {
   "cell_type": "code",
   "execution_count": 70,
   "id": "24238ff2",
   "metadata": {},
   "outputs": [
    {
     "data": {
      "image/png": "[encoded data removed]",
      "text/plain": [
       "<Figure size 576x720 with 1 Axes>"
      ]
     },
     "metadata": {},
     "output_type": "display_data"
    }
   ],
   "source": [
    "sns.set(rc={'figure.figsize':(8,10)})\n",
    "_ = sns.boxplot(y='absolute_error',data=result_critic,x='class')"
   ]
  },
  {
   "cell_type": "code",
   "execution_count": 71,
   "id": "5f675fe9",
   "metadata": {},
   "outputs": [
    {
     "data": {
      "image/png": "[encoded data removed]",
      "text/plain": [
       "<Figure size 576x720 with 1 Axes>"
      ]
     },
     "metadata": {},
     "output_type": "display_data"
    }
   ],
   "source": [
    "sns.set(rc={'figure.figsize':(8,10)})\n",
    "_ = sns.countplot(x='class',data=result_critic,hue='class_prediction_acc')"
   ]
  },
  {
   "cell_type": "markdown",
   "id": "f29eb007",
   "metadata": {},
   "source": [
    "The mean acuracy for the test set drop to 20% (from the 35% of the original model) and mae also show a decrese but it is difinitly not as abvious as the acuracy drop.\n",
    "\n",
    "Let's now check the perdiction for the 2021 movies that we used for the original model and see how critics early vote model can perdicts the box-office."
   ]
  },
  {
   "cell_type": "markdown",
   "id": "d4c68bf9",
   "metadata": {},
   "source": [
    "## Spider-Man : No Way Home (2021)\n",
    "---\n"
   ]
  },
  {
   "cell_type": "code",
   "execution_count": 72,
   "id": "dcd6d888",
   "metadata": {},
   "outputs": [],
   "source": [
    "spider_critic = pd.DataFrame({     'tom_cri_vote':[93],\n",
    "                                   'tom_cri_num':[385],\n",
    "                                   'met_cri_vote':[71],\n",
    "                                   'met_cri_num':[59]\n",
    "                        \n",
    "                            \n",
    "                 })"
   ]
  },
  {
   "cell_type": "code",
   "execution_count": 73,
   "id": "ff3d82b8",
   "metadata": {},
   "outputs": [],
   "source": [
    "spider_box_predict_critic = rf_critic_model.best_estimator_.predict(spider_critic.iloc[0].array.reshape(1, -1))"
   ]
  },
  {
   "cell_type": "code",
   "execution_count": 74,
   "id": "c7607490",
   "metadata": {},
   "outputs": [
    {
     "data": {
      "text/plain": [
       "array([5.45726251e+08])"
      ]
     },
     "execution_count": 74,
     "metadata": {},
     "output_type": "execute_result"
    }
   ],
   "source": [
    "spider_box_predict_critic"
   ]
  },
  {
   "cell_type": "markdown",
   "id": "3b941fdd",
   "metadata": {},
   "source": [
    "__Spider-Man : No Way Home__\n",
    "\n",
    "__Real Box-office : 1.7 Billion Dollars__\n",
    "\n",
    "\n",
    "__Perdicted box office : 540 Million Dollars__\n",
    "\n",
    "\n",
    "Although the model still perdict the class of the movie as a Blockbuster but the box-office perdiction has a larger error margine.\n",
    "\n",
    "## Dune (2021):\n",
    "---"
   ]
  },
  {
   "cell_type": "code",
   "execution_count": 75,
   "id": "3d58ac66",
   "metadata": {},
   "outputs": [],
   "source": [
    "dune_critic = pd.DataFrame({      'tom_cri_vote':[83],\n",
    "                                  'tom_cri_num':[456],\n",
    "                                  'met_cri_vote':[74],\n",
    "                                  'met_cri_num':[67],\n",
    "                            \n",
    "                            \n",
    "                 })"
   ]
  },
  {
   "cell_type": "code",
   "execution_count": 76,
   "id": "557a91d1",
   "metadata": {},
   "outputs": [],
   "source": [
    "dune_box_predict_critic = rf_critic_model.best_estimator_.predict(dune_critic.iloc[0].array.reshape(1, -1))"
   ]
  },
  {
   "cell_type": "code",
   "execution_count": 77,
   "id": "91d3ff1b",
   "metadata": {},
   "outputs": [
    {
     "data": {
      "text/plain": [
       "array([9.66674761e+08])"
      ]
     },
     "execution_count": 77,
     "metadata": {},
     "output_type": "execute_result"
    }
   ],
   "source": [
    "dune_box_predict_critic"
   ]
  },
  {
   "cell_type": "markdown",
   "id": "8e7eb5ce",
   "metadata": {},
   "source": [
    "__Dune:__\n",
    "\n",
    "__Real Box Office: 400 Million Dollars__\n",
    "\n",
    "__Predicted Box Office: 966 Million Dollars__\n",
    "\n",
    "Because critics love this film and vote more for it, we saw higher than what the film actually made in box-office. While the mae is still large but we still perdict the film class.\n",
    "\n",
    "## House of Gucci (2021):\n",
    "---"
   ]
  },
  {
   "cell_type": "code",
   "execution_count": 78,
   "id": "b6eef2f9",
   "metadata": {},
   "outputs": [],
   "source": [
    "house_of_gucci_critic = pd.DataFrame({     'tom_cri_vote':[63],\n",
    "                                    'tom_cri_num':[335],\n",
    "                                    \n",
    "                                    'met_cri_vote':[59],\n",
    "                                    'met_cri_num':[57],\n",
    "\n",
    "                 })"
   ]
  },
  {
   "cell_type": "code",
   "execution_count": 79,
   "id": "e1f27b99",
   "metadata": {},
   "outputs": [],
   "source": [
    "house_of_gucci_critic = rf_critic_model.best_estimator_.predict(house_of_gucci_critic.iloc[0].array.reshape(1, -1))"
   ]
  },
  {
   "cell_type": "code",
   "execution_count": 80,
   "id": "8cd0af87",
   "metadata": {},
   "outputs": [
    {
     "data": {
      "text/plain": [
       "array([4.25527951e+08])"
      ]
     },
     "execution_count": 80,
     "metadata": {},
     "output_type": "execute_result"
    }
   ],
   "source": [
    "house_of_gucci_critic"
   ]
  },
  {
   "cell_type": "markdown",
   "id": "632fa6f5",
   "metadata": {},
   "source": [
    "__House of Gucci:__\n",
    "\n",
    "__Real Box Office: 150 Million Dollars__\n",
    "\n",
    "__Predicted Box Office: 425 Million Dollars__\n",
    "\n",
    "Same effect happens for this film. Critics loved it more than audience therefore the critic model perdict bigger box-office for the film, still right class perdict for the film as and average film.\n",
    "\n",
    "## Spencer (2021):\n",
    "---"
   ]
  },
  {
   "cell_type": "code",
   "execution_count": 81,
   "id": "87e8ce61",
   "metadata": {},
   "outputs": [],
   "source": [
    "spencer_critic = pd.DataFrame({    'tom_cri_vote':[83],\n",
    "                                   'tom_cri_num':[321],\n",
    "                            'met_cri_vote':[76],\n",
    "                            'met_cri_num':[53],\n",
    "                            \n",
    "                 })"
   ]
  },
  {
   "cell_type": "code",
   "execution_count": 82,
   "id": "2c3454b6",
   "metadata": {},
   "outputs": [],
   "source": [
    "spencer_critic = rf_critic_model.best_estimator_.predict(spencer_critic.iloc[0].array.reshape(1, -1))"
   ]
  },
  {
   "cell_type": "code",
   "execution_count": 83,
   "id": "ff86501b",
   "metadata": {},
   "outputs": [
    {
     "data": {
      "text/plain": [
       "array([2.18386513e+08])"
      ]
     },
     "execution_count": 83,
     "metadata": {},
     "output_type": "execute_result"
    }
   ],
   "source": [
    "spencer_critic"
   ]
  },
  {
   "cell_type": "markdown",
   "id": "fd5900dc",
   "metadata": {},
   "source": [
    "__Spencer:__\n",
    "\n",
    "__Real Box Office: 20 Million Dollars__\n",
    "\n",
    "__Predicted Box Office: 210 Million Dollars__\n",
    "\n",
    "\n",
    "## Bergman Island (2021):\n",
    "---"
   ]
  },
  {
   "cell_type": "code",
   "execution_count": 84,
   "id": "2322e9d1",
   "metadata": {},
   "outputs": [],
   "source": [
    "bergman_island_critic = pd.DataFrame({     'tom_cri_vote':[86],\n",
    "                                    'tom_cri_num':[118],\n",
    "                                    'met_cri_vote':[81],\n",
    "                                    'met_cri_num':[26],\n",
    "                                    \n",
    "                 })"
   ]
  },
  {
   "cell_type": "code",
   "execution_count": 85,
   "id": "aab0905c",
   "metadata": {},
   "outputs": [],
   "source": [
    "bergman_island_critic = rf_critic_model.best_estimator_.predict(bergman_island_critic.iloc[0].array.reshape(1, -1))"
   ]
  },
  {
   "cell_type": "code",
   "execution_count": 86,
   "id": "4ecd5d29",
   "metadata": {},
   "outputs": [
    {
     "data": {
      "text/plain": [
       "array([4966480.37])"
      ]
     },
     "execution_count": 86,
     "metadata": {},
     "output_type": "execute_result"
    }
   ],
   "source": [
    "bergman_island_critic"
   ]
  },
  {
   "cell_type": "markdown",
   "id": "99776b7c",
   "metadata": {},
   "source": [
    "__Bergman Island:__\n",
    "\n",
    "__Real Box Office: 700 Thousend Dollars__\n",
    "\n",
    "__Predicted Box Office: 4 Million Dollars__\n",
    "\n",
    "\n",
    "## The Last Execution (2021):"
   ]
  },
  {
   "cell_type": "code",
   "execution_count": 87,
   "id": "f1dad824",
   "metadata": {},
   "outputs": [],
   "source": [
    "the_last_execution_critic = pd.DataFrame({     'tom_cri_vote':[10],\n",
    "                                    'tom_cri_num':[2],\n",
    "                                    'met_cri_vote':[0],\n",
    "                                    'met_cri_num':[0],\n",
    "                                   \n",
    "                 })"
   ]
  },
  {
   "cell_type": "code",
   "execution_count": 88,
   "id": "c64594f8",
   "metadata": {},
   "outputs": [],
   "source": [
    "the_last_execution_critic = rf_critic_model.best_estimator_.predict(the_last_execution_critic.iloc[0].array.reshape(1, -1))"
   ]
  },
  {
   "cell_type": "code",
   "execution_count": 89,
   "id": "6415a051",
   "metadata": {},
   "outputs": [
    {
     "data": {
      "text/plain": [
       "array([271098.92])"
      ]
     },
     "execution_count": 89,
     "metadata": {},
     "output_type": "execute_result"
    }
   ],
   "source": [
    "the_last_execution_critic"
   ]
  },
  {
   "cell_type": "markdown",
   "id": "cb2a7d7b",
   "metadata": {},
   "source": [
    "__The Last Execution:__\n",
    "\n",
    "__Real Box Office: 70 thousend Dollars__\n",
    "\n",
    "__Predicted Box Office: 210 thousend Dollars__\n",
    "\n",
    "## My Wonderful Wanda (2021):\n",
    "---\n",
    "\n"
   ]
  },
  {
   "cell_type": "code",
   "execution_count": 90,
   "id": "49fc6164",
   "metadata": {},
   "outputs": [],
   "source": [
    "my_wonderful_wanda_critic = pd.DataFrame({     'tom_cri_vote':[70],\n",
    "                                               'tom_cri_num':[20],\n",
    "                                               'met_cri_vote':[54],\n",
    "                                               'met_cri_num':[8],\n",
    "                                   \n",
    "                 })"
   ]
  },
  {
   "cell_type": "code",
   "execution_count": 91,
   "id": "b37d6538",
   "metadata": {},
   "outputs": [],
   "source": [
    "my_wonderful_wanda_critic = rf_critic_model.best_estimator_.predict(my_wonderful_wanda_critic.iloc[0].array.reshape(1, -1))"
   ]
  },
  {
   "cell_type": "code",
   "execution_count": 92,
   "id": "4567af62",
   "metadata": {},
   "outputs": [
    {
     "data": {
      "text/plain": [
       "array([1273054.])"
      ]
     },
     "execution_count": 92,
     "metadata": {},
     "output_type": "execute_result"
    }
   ],
   "source": [
    "my_wonderful_wanda_critic"
   ]
  },
  {
   "cell_type": "markdown",
   "id": "6f2bc74e",
   "metadata": {},
   "source": [
    "__My Wonderful Wanda:__\n",
    "\n",
    "__Real Box Office: 200 thousend Dollars__\n",
    "\n",
    "__Predicted Box Office: 1 Million Dollars__\n",
    "\n",
    "## Between Two World (2021):\n",
    "---"
   ]
  },
  {
   "cell_type": "code",
   "execution_count": 93,
   "id": "d910d1ee",
   "metadata": {},
   "outputs": [],
   "source": [
    "between_two_world_critic = pd.DataFrame({     'tom_cri_vote':[70],\n",
    "                                               'tom_cri_num':[10],\n",
    "                                               'met_cri_vote':[63],\n",
    "                                               'met_cri_num':[6],\n",
    "                                   \n",
    "                 })"
   ]
  },
  {
   "cell_type": "code",
   "execution_count": 94,
   "id": "4f96f55b",
   "metadata": {},
   "outputs": [],
   "source": [
    "between_two_world_critic = rf_critic_model.best_estimator_.predict(between_two_world_critic.iloc[0].array.reshape(1, -1))"
   ]
  },
  {
   "cell_type": "code",
   "execution_count": 95,
   "id": "2da12e54",
   "metadata": {},
   "outputs": [
    {
     "data": {
      "text/plain": [
       "array([31654093.93])"
      ]
     },
     "execution_count": 95,
     "metadata": {},
     "output_type": "execute_result"
    }
   ],
   "source": [
    "between_two_world_critic"
   ]
  },
  {
   "cell_type": "markdown",
   "id": "376030d6",
   "metadata": {},
   "source": [
    "__Between Two World:__\n",
    "\n",
    "__Real Box Office: 4 Million Dollars__\n",
    "\n",
    "__Predicted Box Office: 31 Million Dollars__\n"
   ]
  },
  {
   "cell_type": "code",
   "execution_count": null,
   "id": "61c0595e",
   "metadata": {},
   "outputs": [],
   "source": []
  }
 ],
 "metadata": {
  "kernelspec": {
   "display_name": "Python 3",
   "language": "python",
   "name": "python3"
  },
  "language_info": {
   "codemirror_mode": {
    "name": "ipython",
    "version": 3
   },
   "file_extension": ".py",
   "mimetype": "text/x-python",
   "name": "python",
   "nbconvert_exporter": "python",
   "pygments_lexer": "ipython3",
   "version": "3.8.8"
  }
 },
 "nbformat": 4,
 "nbformat_minor": 5
}
