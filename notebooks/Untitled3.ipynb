{
 "cells": [
  {
   "cell_type": "markdown",
   "id": "195dd6fc",
   "metadata": {},
   "source": [
    "# Modeling:\n",
    "\n",
    "Amin Khoeini\n",
    "\n",
    "---\n",
    "\n",
    "As we see in the last step, Random Forest Regressor with the Hyperparameters that the GrideSearch pick, is the model with best R2 score and least mean absolute error.\n",
    "With the R2 of 0.63 and mae of 40 million dollar for the box-office, we can already assume that this model won't be able to get a perfect prediction of the box-office.\n",
    "Here I try to make the same model, train i ton train set, then use the test set to see the performance of the model for the diffrent class of film."
   ]
  },
  {
   "cell_type": "code",
   "execution_count": 1,
   "id": "e0323c67",
   "metadata": {},
   "outputs": [],
   "source": [
    "#importing the necessary libraries\n",
    "import pandas as pd\n",
    "import numpy as np\n",
    "import matplotlib.pyplot as plt\n",
    "import seaborn as sns\n",
    "import sklearn\n",
    "from sklearn.model_selection import train_test_split, cross_validate, GridSearchCV,cross_val_score\n",
    "from sklearn.linear_model import LinearRegression,Lasso,ElasticNet\n",
    "from sklearn.ensemble import RandomForestRegressor\n",
    "from sklearn.dummy import DummyRegressor\n",
    "from sklearn.preprocessing import StandardScaler\n",
    "from sklearn.feature_selection import SelectKBest, f_regression\n",
    "from sklearn.pipeline import make_pipeline\n",
    "from sklearn.metrics import r2_score, mean_squared_error, mean_absolute_error,explained_variance_score\n"
   ]
  },
  {
   "cell_type": "code",
   "execution_count": 2,
   "id": "95fbe037",
   "metadata": {},
   "outputs": [],
   "source": [
    "# Read the process csv file from EDA\n",
    "movie_score = pd.read_csv('/Users/Amin/Documents/GitHub/Movie_boxoffice_reviews/data/processed/pre_process_movie.csv')"
   ]
  },
  {
   "cell_type": "code",
   "execution_count": 3,
   "id": "0d15ead8",
   "metadata": {},
   "outputs": [],
   "source": [
    "#Save the class of the movies as movie_class then drop it from the data\n",
    "\n",
    "movie_class = movie_score['class']\n",
    "movie_score.drop(columns='class',inplace=True)"
   ]
  },
  {
   "cell_type": "code",
   "execution_count": 4,
   "id": "510f20db",
   "metadata": {},
   "outputs": [],
   "source": [
    "#split the data to train/test set. 70% train and 30% test.\n",
    "X_train, X_test, y_train, y_test = train_test_split(movie_score.drop(columns='All_time_gross'), \n",
    "                                                    movie_score.All_time_gross, test_size=0.2, \n",
    "                                                    random_state=47)"
   ]
  },
  {
   "cell_type": "code",
   "execution_count": 5,
   "id": "a1320101",
   "metadata": {},
   "outputs": [
    {
     "data": {
      "text/plain": [
       "((2620, 18), (2620,))"
      ]
     },
     "execution_count": 5,
     "metadata": {},
     "output_type": "execute_result"
    }
   ],
   "source": [
    "#check the train and test data shape\n",
    "\n",
    "X_train.shape,y_train.shape"
   ]
  },
  {
   "cell_type": "code",
   "execution_count": 6,
   "id": "3f7fc4e1",
   "metadata": {},
   "outputs": [
    {
     "data": {
      "text/plain": [
       "((656, 18), (656,))"
      ]
     },
     "execution_count": 6,
     "metadata": {},
     "output_type": "execute_result"
    }
   ],
   "source": [
    "X_test.shape,y_test.shape"
   ]
  },
  {
   "cell_type": "code",
   "execution_count": 7,
   "id": "65afa7d6",
   "metadata": {},
   "outputs": [],
   "source": [
    "#Making the Random Forest Regressor model with the same HyperParameters from Pre-Process GridSearch\n",
    "rf_model = RandomForestRegressor(max_depth=60,n_estimators=50,\n",
    "                                 min_samples_leaf= 2,min_samples_split= 6,random_state=47)"
   ]
  },
  {
   "cell_type": "code",
   "execution_count": 8,
   "id": "23f67aa0",
   "metadata": {},
   "outputs": [
    {
     "data": {
      "text/plain": [
       "RandomForestRegressor(max_depth=60, min_samples_leaf=2, min_samples_split=6,\n",
       "                      n_estimators=50, random_state=47)"
      ]
     },
     "execution_count": 8,
     "metadata": {},
     "output_type": "execute_result"
    }
   ],
   "source": [
    "rf_model.fit(X_train,y_train)"
   ]
  },
  {
   "cell_type": "code",
   "execution_count": 9,
   "id": "b878d3c4",
   "metadata": {},
   "outputs": [],
   "source": [
    "cv_results = cross_validate(rf_model, X_train, y_train, scoring='neg_mean_absolute_error', cv=5, n_jobs=-1)"
   ]
  },
  {
   "cell_type": "code",
   "execution_count": 10,
   "id": "433ec03e",
   "metadata": {},
   "outputs": [
    {
     "data": {
      "text/plain": [
       "-40822549.687326"
      ]
     },
     "execution_count": 10,
     "metadata": {},
     "output_type": "execute_result"
    }
   ],
   "source": [
    "np.mean(cv_results['test_score'])"
   ]
  },
  {
   "cell_type": "markdown",
   "id": "acfd1612",
   "metadata": {},
   "source": [
    "Now let's get the prediction for the test set and see the model performance."
   ]
  },
  {
   "cell_type": "code",
   "execution_count": 11,
   "id": "b8f62701",
   "metadata": {},
   "outputs": [],
   "source": [
    "#get the prediction for the test set\n",
    "y_pred = rf_model.predict(X_test)"
   ]
  },
  {
   "cell_type": "code",
   "execution_count": 12,
   "id": "04f4f718",
   "metadata": {},
   "outputs": [
    {
     "data": {
      "text/plain": [
       "54962296.970882215"
      ]
     },
     "execution_count": 12,
     "metadata": {},
     "output_type": "execute_result"
    }
   ],
   "source": [
    "mean_absolute_error(y_test,y_pred)"
   ]
  },
  {
   "cell_type": "code",
   "execution_count": 13,
   "id": "27f17efd",
   "metadata": {},
   "outputs": [
    {
     "data": {
      "text/plain": [
       "0.6105810264206532"
      ]
     },
     "execution_count": 13,
     "metadata": {},
     "output_type": "execute_result"
    }
   ],
   "source": [
    "explained_variance_score(y_test,y_pred)"
   ]
  },
  {
   "cell_type": "markdown",
   "id": "3dc03df6",
   "metadata": {},
   "source": [
    "The mean absolute error for the test set is much higher.\n",
    "\n",
    "Let's create some metrics for each perdiction and analyze the perdiction for each class."
   ]
  },
  {
   "cell_type": "code",
   "execution_count": 14,
   "id": "7ddb1aeb",
   "metadata": {},
   "outputs": [
    {
     "data": {
      "text/html": [
       "<div>\n",
       "<style scoped>\n",
       "    .dataframe tbody tr th:only-of-type {\n",
       "        vertical-align: middle;\n",
       "    }\n",
       "\n",
       "    .dataframe tbody tr th {\n",
       "        vertical-align: top;\n",
       "    }\n",
       "\n",
       "    .dataframe thead th {\n",
       "        text-align: right;\n",
       "    }\n",
       "</style>\n",
       "<table border=\"1\" class=\"dataframe\">\n",
       "  <thead>\n",
       "    <tr style=\"text-align: right;\">\n",
       "      <th></th>\n",
       "      <th>index</th>\n",
       "      <th>0</th>\n",
       "      <th>class</th>\n",
       "    </tr>\n",
       "  </thead>\n",
       "  <tbody>\n",
       "    <tr>\n",
       "      <th>0</th>\n",
       "      <td>4.946669e+06</td>\n",
       "      <td>1473445.0</td>\n",
       "      <td>Average</td>\n",
       "    </tr>\n",
       "    <tr>\n",
       "      <th>1</th>\n",
       "      <td>1.360670e+08</td>\n",
       "      <td>47275717.0</td>\n",
       "      <td>Average</td>\n",
       "    </tr>\n",
       "    <tr>\n",
       "      <th>2</th>\n",
       "      <td>5.355489e+06</td>\n",
       "      <td>7078.0</td>\n",
       "      <td>Average</td>\n",
       "    </tr>\n",
       "    <tr>\n",
       "      <th>3</th>\n",
       "      <td>1.999655e+07</td>\n",
       "      <td>4552970.0</td>\n",
       "      <td>Indie</td>\n",
       "    </tr>\n",
       "    <tr>\n",
       "      <th>4</th>\n",
       "      <td>1.997942e+07</td>\n",
       "      <td>13313581.0</td>\n",
       "      <td>Blockbuster</td>\n",
       "    </tr>\n",
       "    <tr>\n",
       "      <th>...</th>\n",
       "      <td>...</td>\n",
       "      <td>...</td>\n",
       "      <td>...</td>\n",
       "    </tr>\n",
       "    <tr>\n",
       "      <th>651</th>\n",
       "      <td>7.887841e+05</td>\n",
       "      <td>155215.0</td>\n",
       "      <td>Indie</td>\n",
       "    </tr>\n",
       "    <tr>\n",
       "      <th>652</th>\n",
       "      <td>8.440713e+05</td>\n",
       "      <td>507914.0</td>\n",
       "      <td>Average</td>\n",
       "    </tr>\n",
       "    <tr>\n",
       "      <th>653</th>\n",
       "      <td>5.099886e+05</td>\n",
       "      <td>61465.0</td>\n",
       "      <td>Indie</td>\n",
       "    </tr>\n",
       "    <tr>\n",
       "      <th>654</th>\n",
       "      <td>9.560158e+07</td>\n",
       "      <td>112983889.0</td>\n",
       "      <td>Indie</td>\n",
       "    </tr>\n",
       "    <tr>\n",
       "      <th>655</th>\n",
       "      <td>1.664407e+08</td>\n",
       "      <td>207039844.0</td>\n",
       "      <td>Indie</td>\n",
       "    </tr>\n",
       "  </tbody>\n",
       "</table>\n",
       "<p>656 rows × 3 columns</p>\n",
       "</div>"
      ],
      "text/plain": [
       "            index            0        class\n",
       "0    4.946669e+06    1473445.0      Average\n",
       "1    1.360670e+08   47275717.0      Average\n",
       "2    5.355489e+06       7078.0      Average\n",
       "3    1.999655e+07    4552970.0        Indie\n",
       "4    1.997942e+07   13313581.0  Blockbuster\n",
       "..            ...          ...          ...\n",
       "651  7.887841e+05     155215.0        Indie\n",
       "652  8.440713e+05     507914.0      Average\n",
       "653  5.099886e+05      61465.0        Indie\n",
       "654  9.560158e+07  112983889.0        Indie\n",
       "655  1.664407e+08  207039844.0        Indie\n",
       "\n",
       "[656 rows x 3 columns]"
      ]
     },
     "execution_count": 14,
     "metadata": {},
     "output_type": "execute_result"
    }
   ],
   "source": [
    "# make a result df and create some metrics for the predictions.\n",
    "\n",
    "result = pd.DataFrame(y_test.values,y_pred).reset_index() \n",
    "result = pd.concat([result,movie_class],axis=1).dropna()\n",
    "result"
   ]
  },
  {
   "cell_type": "code",
   "execution_count": 15,
   "id": "3fe43c68",
   "metadata": {},
   "outputs": [
    {
     "ename": "KeyError",
     "evalue": "'diff'",
     "output_type": "error",
     "traceback": [
      "\u001b[0;31m---------------------------------------------------------------------------\u001b[0m",
      "\u001b[0;31mKeyError\u001b[0m                                  Traceback (most recent call last)",
      "\u001b[0;32m/opt/anaconda3/lib/python3.8/site-packages/pandas/core/indexes/base.py\u001b[0m in \u001b[0;36mget_loc\u001b[0;34m(self, key, method, tolerance)\u001b[0m\n\u001b[1;32m   3360\u001b[0m             \u001b[0;32mtry\u001b[0m\u001b[0;34m:\u001b[0m\u001b[0;34m\u001b[0m\u001b[0;34m\u001b[0m\u001b[0m\n\u001b[0;32m-> 3361\u001b[0;31m                 \u001b[0;32mreturn\u001b[0m \u001b[0mself\u001b[0m\u001b[0;34m.\u001b[0m\u001b[0m_engine\u001b[0m\u001b[0;34m.\u001b[0m\u001b[0mget_loc\u001b[0m\u001b[0;34m(\u001b[0m\u001b[0mcasted_key\u001b[0m\u001b[0;34m)\u001b[0m\u001b[0;34m\u001b[0m\u001b[0;34m\u001b[0m\u001b[0m\n\u001b[0m\u001b[1;32m   3362\u001b[0m             \u001b[0;32mexcept\u001b[0m \u001b[0mKeyError\u001b[0m \u001b[0;32mas\u001b[0m \u001b[0merr\u001b[0m\u001b[0;34m:\u001b[0m\u001b[0;34m\u001b[0m\u001b[0;34m\u001b[0m\u001b[0m\n",
      "\u001b[0;32m/opt/anaconda3/lib/python3.8/site-packages/pandas/_libs/index.pyx\u001b[0m in \u001b[0;36mpandas._libs.index.IndexEngine.get_loc\u001b[0;34m()\u001b[0m\n",
      "\u001b[0;32m/opt/anaconda3/lib/python3.8/site-packages/pandas/_libs/index.pyx\u001b[0m in \u001b[0;36mpandas._libs.index.IndexEngine.get_loc\u001b[0;34m()\u001b[0m\n",
      "\u001b[0;32mpandas/_libs/hashtable_class_helper.pxi\u001b[0m in \u001b[0;36mpandas._libs.hashtable.PyObjectHashTable.get_item\u001b[0;34m()\u001b[0m\n",
      "\u001b[0;32mpandas/_libs/hashtable_class_helper.pxi\u001b[0m in \u001b[0;36mpandas._libs.hashtable.PyObjectHashTable.get_item\u001b[0;34m()\u001b[0m\n",
      "\u001b[0;31mKeyError\u001b[0m: 'diff'",
      "\nThe above exception was the direct cause of the following exception:\n",
      "\u001b[0;31mKeyError\u001b[0m                                  Traceback (most recent call last)",
      "\u001b[0;32m<ipython-input-15-0e10ccaf1807>\u001b[0m in \u001b[0;36m<module>\u001b[0;34m\u001b[0m\n\u001b[1;32m      1\u001b[0m \u001b[0mresult\u001b[0m \u001b[0;34m=\u001b[0m \u001b[0mresult\u001b[0m\u001b[0;34m.\u001b[0m\u001b[0mrename\u001b[0m\u001b[0;34m(\u001b[0m\u001b[0mcolumns\u001b[0m\u001b[0;34m=\u001b[0m\u001b[0;34m{\u001b[0m\u001b[0;34m'index'\u001b[0m\u001b[0;34m:\u001b[0m\u001b[0;34m'box-office'\u001b[0m\u001b[0;34m,\u001b[0m\u001b[0;36m0\u001b[0m\u001b[0;34m:\u001b[0m\u001b[0;34m'prediction'\u001b[0m\u001b[0;34m}\u001b[0m\u001b[0;34m)\u001b[0m\u001b[0;34m\u001b[0m\u001b[0;34m\u001b[0m\u001b[0m\n\u001b[1;32m      2\u001b[0m \u001b[0mresult\u001b[0m\u001b[0;34m[\u001b[0m\u001b[0;34m'absolute_error'\u001b[0m\u001b[0;34m]\u001b[0m \u001b[0;34m=\u001b[0m \u001b[0mnp\u001b[0m\u001b[0;34m.\u001b[0m\u001b[0mabs\u001b[0m\u001b[0;34m(\u001b[0m\u001b[0mresult\u001b[0m\u001b[0;34m[\u001b[0m\u001b[0;34m'prediction'\u001b[0m\u001b[0;34m]\u001b[0m \u001b[0;34m-\u001b[0m \u001b[0mresult\u001b[0m\u001b[0;34m[\u001b[0m\u001b[0;34m'box-office'\u001b[0m\u001b[0;34m]\u001b[0m\u001b[0;34m)\u001b[0m\u001b[0;34m\u001b[0m\u001b[0;34m\u001b[0m\u001b[0m\n\u001b[0;32m----> 3\u001b[0;31m \u001b[0mresult\u001b[0m\u001b[0;34m[\u001b[0m\u001b[0;34m'acuracy_of_perdiction'\u001b[0m\u001b[0;34m]\u001b[0m \u001b[0;34m=\u001b[0m \u001b[0;36m100\u001b[0m \u001b[0;34m-\u001b[0m \u001b[0;34m(\u001b[0m\u001b[0;34m(\u001b[0m\u001b[0mresult\u001b[0m\u001b[0;34m[\u001b[0m\u001b[0;34m'diff'\u001b[0m\u001b[0;34m]\u001b[0m\u001b[0;34m/\u001b[0m\u001b[0mresult\u001b[0m\u001b[0;34m[\u001b[0m\u001b[0;34m'box-office'\u001b[0m\u001b[0;34m]\u001b[0m\u001b[0;34m*\u001b[0m\u001b[0;36m100\u001b[0m\u001b[0;34m)\u001b[0m\u001b[0;34m)\u001b[0m\u001b[0;34m\u001b[0m\u001b[0;34m\u001b[0m\u001b[0m\n\u001b[0m",
      "\u001b[0;32m/opt/anaconda3/lib/python3.8/site-packages/pandas/core/frame.py\u001b[0m in \u001b[0;36m__getitem__\u001b[0;34m(self, key)\u001b[0m\n\u001b[1;32m   3456\u001b[0m             \u001b[0;32mif\u001b[0m \u001b[0mself\u001b[0m\u001b[0;34m.\u001b[0m\u001b[0mcolumns\u001b[0m\u001b[0;34m.\u001b[0m\u001b[0mnlevels\u001b[0m \u001b[0;34m>\u001b[0m \u001b[0;36m1\u001b[0m\u001b[0;34m:\u001b[0m\u001b[0;34m\u001b[0m\u001b[0;34m\u001b[0m\u001b[0m\n\u001b[1;32m   3457\u001b[0m                 \u001b[0;32mreturn\u001b[0m \u001b[0mself\u001b[0m\u001b[0;34m.\u001b[0m\u001b[0m_getitem_multilevel\u001b[0m\u001b[0;34m(\u001b[0m\u001b[0mkey\u001b[0m\u001b[0;34m)\u001b[0m\u001b[0;34m\u001b[0m\u001b[0;34m\u001b[0m\u001b[0m\n\u001b[0;32m-> 3458\u001b[0;31m             \u001b[0mindexer\u001b[0m \u001b[0;34m=\u001b[0m \u001b[0mself\u001b[0m\u001b[0;34m.\u001b[0m\u001b[0mcolumns\u001b[0m\u001b[0;34m.\u001b[0m\u001b[0mget_loc\u001b[0m\u001b[0;34m(\u001b[0m\u001b[0mkey\u001b[0m\u001b[0;34m)\u001b[0m\u001b[0;34m\u001b[0m\u001b[0;34m\u001b[0m\u001b[0m\n\u001b[0m\u001b[1;32m   3459\u001b[0m             \u001b[0;32mif\u001b[0m \u001b[0mis_integer\u001b[0m\u001b[0;34m(\u001b[0m\u001b[0mindexer\u001b[0m\u001b[0;34m)\u001b[0m\u001b[0;34m:\u001b[0m\u001b[0;34m\u001b[0m\u001b[0;34m\u001b[0m\u001b[0m\n\u001b[1;32m   3460\u001b[0m                 \u001b[0mindexer\u001b[0m \u001b[0;34m=\u001b[0m \u001b[0;34m[\u001b[0m\u001b[0mindexer\u001b[0m\u001b[0;34m]\u001b[0m\u001b[0;34m\u001b[0m\u001b[0;34m\u001b[0m\u001b[0m\n",
      "\u001b[0;32m/opt/anaconda3/lib/python3.8/site-packages/pandas/core/indexes/base.py\u001b[0m in \u001b[0;36mget_loc\u001b[0;34m(self, key, method, tolerance)\u001b[0m\n\u001b[1;32m   3361\u001b[0m                 \u001b[0;32mreturn\u001b[0m \u001b[0mself\u001b[0m\u001b[0;34m.\u001b[0m\u001b[0m_engine\u001b[0m\u001b[0;34m.\u001b[0m\u001b[0mget_loc\u001b[0m\u001b[0;34m(\u001b[0m\u001b[0mcasted_key\u001b[0m\u001b[0;34m)\u001b[0m\u001b[0;34m\u001b[0m\u001b[0;34m\u001b[0m\u001b[0m\n\u001b[1;32m   3362\u001b[0m             \u001b[0;32mexcept\u001b[0m \u001b[0mKeyError\u001b[0m \u001b[0;32mas\u001b[0m \u001b[0merr\u001b[0m\u001b[0;34m:\u001b[0m\u001b[0;34m\u001b[0m\u001b[0;34m\u001b[0m\u001b[0m\n\u001b[0;32m-> 3363\u001b[0;31m                 \u001b[0;32mraise\u001b[0m \u001b[0mKeyError\u001b[0m\u001b[0;34m(\u001b[0m\u001b[0mkey\u001b[0m\u001b[0;34m)\u001b[0m \u001b[0;32mfrom\u001b[0m \u001b[0merr\u001b[0m\u001b[0;34m\u001b[0m\u001b[0;34m\u001b[0m\u001b[0m\n\u001b[0m\u001b[1;32m   3364\u001b[0m \u001b[0;34m\u001b[0m\u001b[0m\n\u001b[1;32m   3365\u001b[0m         \u001b[0;32mif\u001b[0m \u001b[0mis_scalar\u001b[0m\u001b[0;34m(\u001b[0m\u001b[0mkey\u001b[0m\u001b[0;34m)\u001b[0m \u001b[0;32mand\u001b[0m \u001b[0misna\u001b[0m\u001b[0;34m(\u001b[0m\u001b[0mkey\u001b[0m\u001b[0;34m)\u001b[0m \u001b[0;32mand\u001b[0m \u001b[0;32mnot\u001b[0m \u001b[0mself\u001b[0m\u001b[0;34m.\u001b[0m\u001b[0mhasnans\u001b[0m\u001b[0;34m:\u001b[0m\u001b[0;34m\u001b[0m\u001b[0;34m\u001b[0m\u001b[0m\n",
      "\u001b[0;31mKeyError\u001b[0m: 'diff'"
     ]
    }
   ],
   "source": [
    "result = result.rename(columns={'index':'box-office',0:'prediction'})\n",
    "result['absolute_error'] = np.abs(result['prediction'] - result['box-office'])\n",
    "result['acuracy_of_perdiction'] = 100 - ((result['diff']/result['box-office']*100))"
   ]
  },
  {
   "cell_type": "code",
   "execution_count": null,
   "id": "fc3517e2",
   "metadata": {},
   "outputs": [],
   "source": [
    "result.head(10)"
   ]
  },
  {
   "cell_type": "code",
   "execution_count": null,
   "id": "40ff822e",
   "metadata": {},
   "outputs": [],
   "source": [
    "result.acuracy_of_perdiction.describe()"
   ]
  },
  {
   "cell_type": "code",
   "execution_count": null,
   "id": "6ec04c33",
   "metadata": {},
   "outputs": [],
   "source": [
    "result.acuracy_of_perdiction[result.acuracy_of_perdiction<0]"
   ]
  },
  {
   "cell_type": "markdown",
   "id": "2ce1fe4a",
   "metadata": {},
   "source": [
    "As we can see, sometime the error of prediction is more than the box-office itself ( specially for the Blockbuster) and that wil cause the acuracy be a negative percentage.\n",
    "We can set that to zero and assume in that cases acuracy percnetage is zero."
   ]
  },
  {
   "cell_type": "code",
   "execution_count": null,
   "id": "1c90ad62",
   "metadata": {},
   "outputs": [],
   "source": [
    "result.loc[result.acuracy_of_perdiction<0,'acuracy_of_perdiction'] = 0"
   ]
  },
  {
   "cell_type": "code",
   "execution_count": null,
   "id": "5a275653",
   "metadata": {},
   "outputs": [],
   "source": [
    "result.head(10)"
   ]
  },
  {
   "cell_type": "code",
   "execution_count": null,
   "id": "910dcad4",
   "metadata": {},
   "outputs": [],
   "source": [
    "result_indie = result[result['class'] == 'Indie']\n",
    "result_indie.acuracy_of_perdiction.describe()"
   ]
  },
  {
   "cell_type": "code",
   "execution_count": null,
   "id": "2d109a69",
   "metadata": {},
   "outputs": [],
   "source": [
    "result_average = result[result['class'] == 'Average']\n",
    "result_average.acuracy_of_perdiction.describe()"
   ]
  },
  {
   "cell_type": "code",
   "execution_count": null,
   "id": "a2e10423",
   "metadata": {},
   "outputs": [],
   "source": [
    "result_blockbuster = result[result['class'] == 'Blockbuster']\n",
    "result_blockbuster.acuracy_of_perdiction.describe()"
   ]
  },
  {
   "cell_type": "code",
   "execution_count": null,
   "id": "c6cd6aaa",
   "metadata": {},
   "outputs": [],
   "source": [
    "sns.set(rc={'figure.figsize':(8,10)})\n",
    "_ = sns.boxplot(y='acuracy_of_perdiction',data=result,x='class')"
   ]
  },
  {
   "cell_type": "code",
   "execution_count": null,
   "id": "a7d487b6",
   "metadata": {},
   "outputs": [],
   "source": [
    "sns.set(rc={'figure.figsize':(8,10)})\n",
    "_ = sns.boxplot(y='absolute_error',data=result,x='class')"
   ]
  },
  {
   "cell_type": "markdown",
   "id": "43cabbd8",
   "metadata": {},
   "source": [
    "We can see the acuracy for the Blockbuster is worse among the clases and that is mainly because box-office for those film has a very high number, and even if the prediction is in close range of the real value the diffrence still be a high number and that would cause the acuracy percentage drop.\n",
    "beside that we see what we expect from the R2 score. Acuracy arond 20 to 60 percent with the median around 30 depands on the class.\n",
    "While the model won't be able to get us a perfect prediction, but we can assume it will classify the film class with high acuracy. \n",
    "We can examine that with some real vote data that are more recent and are not in our original dataset.\n",
    "\n",
    "The absoulate error on the other hand is around 50 to 10 millions for the most cases, which is a good number for the Blockbuster and Average class. Althought there are some outlier in Indie and average class with very high error.\n",
    "\n",
    "let's start with a big movie in 2021. __Spider-Man : No Way Home.__"
   ]
  },
  {
   "cell_type": "code",
   "execution_count": null,
   "id": "13665c32",
   "metadata": {},
   "outputs": [],
   "source": [
    "spider = pd.DataFrame({     'tom_cri_vote':[93],\n",
    "                            'tom_cri_num':[385],\n",
    "                            'tom_aud_vote':[98],\n",
    "                            'tom_aud_num':[25000],\n",
    "                            'met_cri_vote':[71],\n",
    "                            'met_cri_num':[59],\n",
    "                            'met_aud_vote':[89],\n",
    "                            'met_aud_num':[2013],\n",
    "                            'imdb_vote':[87],\n",
    "                            'imdb_num':[451025],\n",
    "                            'imdb_us_vote':[87],\n",
    "                            'imdb_us_num':[34371],\n",
    "                            'imdb_nus_vote':[84],\n",
    "                            'imdb_nus_num':[87342],\n",
    "                            'imdb_fem_vote':[88],\n",
    "                            'imdb_fem_num':[26676],\n",
    "                            'imdb_mal_vote':[86],\n",
    "                            'imdb_mal_num':[162657]\n",
    "                 })"
   ]
  },
  {
   "cell_type": "code",
   "execution_count": null,
   "id": "b87ae787",
   "metadata": {},
   "outputs": [],
   "source": [
    "spider_box_predict = rf_model.predict(spider.iloc[0].array.reshape(1, -1))"
   ]
  },
  {
   "cell_type": "code",
   "execution_count": null,
   "id": "7e7000cf",
   "metadata": {},
   "outputs": [],
   "source": [
    "spider_box_predict"
   ]
  },
  {
   "cell_type": "markdown",
   "id": "ca82888f",
   "metadata": {},
   "source": [
    "The model predict that this film box-office will be 850 million dollars based on the vote data that we provide.\n",
    "The film end up with 1.7 Bilion dollar in box-office. There is a very large error in the model prediction ( around 900 million dollar) but the model succesfuly predict that this film going to be a big Blockbuster with very high box-office gross.\n",
    "\n",
    "Let's check another promising film in 2021: __Dune__. althoght it is not a Super Hero or a Marvel movie, but with very well-known casts, huge advertisment campain and pick the chrismas time relese, the producer hope to gain a good gross in box-office, number close to a billion."
   ]
  },
  {
   "cell_type": "code",
   "execution_count": null,
   "id": "ec909dfc",
   "metadata": {},
   "outputs": [],
   "source": [
    "dune = pd.DataFrame({      'tom_cri_vote':[83],\n",
    "                            'tom_cri_num':[456],\n",
    "                            'tom_aud_vote':[90],\n",
    "                            'tom_aud_num':[5000],\n",
    "                            'met_cri_vote':[74],\n",
    "                            'met_cri_num':[67],\n",
    "                            'met_aud_vote':[80],\n",
    "                            'met_aud_num':[1371],\n",
    "                            'imdb_vote':[81],\n",
    "                            'imdb_num':[478505],\n",
    "                            'imdb_us_vote':[81],\n",
    "                            'imdb_us_num':[44798],\n",
    "                            'imdb_nus_vote':[80],\n",
    "                            'imdb_nus_num':[142364],\n",
    "                            'imdb_fem_vote':[81],\n",
    "                            'imdb_fem_num':[39777],\n",
    "                            'imdb_mal_vote':[81],\n",
    "                            'imdb_mal_num':[224114]\n",
    "                 })"
   ]
  },
  {
   "cell_type": "code",
   "execution_count": null,
   "id": "aa9dcd98",
   "metadata": {},
   "outputs": [],
   "source": [
    "dune_box_predict = rf_model.predict(dune.iloc[0].array.reshape(1, -1))"
   ]
  },
  {
   "cell_type": "code",
   "execution_count": null,
   "id": "bcefb559",
   "metadata": {},
   "outputs": [],
   "source": [
    "dune_box_predict"
   ]
  },
  {
   "cell_type": "markdown",
   "id": "353e0015",
   "metadata": {},
   "source": [
    "Model predicts 650 million dollar box-office for Dune and in reality it gained 400 millions. This is even a closer prediction and succeful classification of the movie as a Blockbuster. Seems if the box-office is less than a billion we will have a closer prediction.\n",
    "\n",
    "Now let's check another promising film, it is not a Marvel Super Hero or a Sci-fi movie, but it has a very famouse director, and Al Pacino and Lady Gaga as a cast and an interesting story. __House of Gucci__"
   ]
  },
  {
   "cell_type": "code",
   "execution_count": null,
   "id": "bbee65e0",
   "metadata": {},
   "outputs": [],
   "source": [
    "house_of_gucci = pd.DataFrame({     'tom_cri_vote':[63],\n",
    "                                    'tom_cri_num':[335],\n",
    "                                    'tom_aud_vote':[83],\n",
    "                                    'tom_aud_num':[2500],\n",
    "                                    'met_cri_vote':[59],\n",
    "                                    'met_cri_num':[57],\n",
    "                                    'met_aud_vote':[80],\n",
    "                                    'met_aud_num':[857],\n",
    "                                    'imdb_vote':[68],\n",
    "                                    'imdb_num':[64497],\n",
    "                                    'imdb_us_vote':[67],\n",
    "                                    'imdb_us_num':[6084],\n",
    "                                    'imdb_nus_vote':[67],\n",
    "                                    'imdb_nus_num':[20533],\n",
    "                                    'imdb_fem_vote':[69],\n",
    "                                    'imdb_fem_num':[8867],\n",
    "                                    'imdb_mal_vote':[67],\n",
    "                                    'imdb_mal_num':[27604]\n",
    "                 })"
   ]
  },
  {
   "cell_type": "code",
   "execution_count": null,
   "id": "4f76d848",
   "metadata": {},
   "outputs": [],
   "source": [
    "house_of_gucci_box_predict = rf_model.predict(house_of_gucci.iloc[0].array.reshape(1, -1))"
   ]
  },
  {
   "cell_type": "code",
   "execution_count": null,
   "id": "7d41f7f4",
   "metadata": {},
   "outputs": [],
   "source": [
    "house_of_gucci_box_predict"
   ]
  },
  {
   "cell_type": "markdown",
   "id": "ff4aa82d",
   "metadata": {},
   "source": [
    "Model predicts a 270 million dollar box-office for the film which is less than we expect form this cast and director.\n",
    "In reality it gains only 150 millions dollars, people didn't like it even with the big cast and famous Ridly Scott as a director.\n",
    "\n",
    "Model classify it sussefuly as an average movie acording to the vote number we used and predict a close box-office for the film.\n",
    "\n",
    "Now Let's try the Independent film with a low budget that critics loved it. Story about princess diana that seems still is hot a story specially in 2021. __Spencer__\n",
    "\n"
   ]
  },
  {
   "cell_type": "code",
   "execution_count": null,
   "id": "abdc0b91",
   "metadata": {},
   "outputs": [],
   "source": [
    "spencer = pd.DataFrame({    'tom_cri_vote':[83],\n",
    "                            'tom_cri_num':[321],\n",
    "                            'tom_aud_vote':[52],\n",
    "                            'tom_aud_num':[500],\n",
    "                            'met_cri_vote':[76],\n",
    "                            'met_cri_num':[53],\n",
    "                            'met_aud_vote':[67],\n",
    "                            'met_aud_num':[260],\n",
    "                            'imdb_vote':[68],\n",
    "                            'imdb_num':[36549],\n",
    "                            'imdb_us_vote':[69],\n",
    "                            'imdb_us_num':[4371],\n",
    "                            'imdb_nus_vote':[67],\n",
    "                            'imdb_nus_num':[12148],\n",
    "                            'imdb_fem_vote':[65],\n",
    "                            'imdb_fem_num':[5724],\n",
    "                            'imdb_mal_vote':[68],\n",
    "                            'imdb_mal_num':[15806]\n",
    "                 })"
   ]
  },
  {
   "cell_type": "code",
   "execution_count": null,
   "id": "45257d4d",
   "metadata": {},
   "outputs": [],
   "source": [
    "spencer_box_predict = rf_model.predict(spencer.iloc[0].array.reshape(1, -1))"
   ]
  },
  {
   "cell_type": "code",
   "execution_count": null,
   "id": "8daea12f",
   "metadata": {},
   "outputs": [],
   "source": [
    "spencer_box_predict"
   ]
  },
  {
   "cell_type": "markdown",
   "id": "488e0595",
   "metadata": {},
   "source": [
    "This film gets a high vote from the critics and nominate for oscars season, but it ends up with 20 millions dollars at box-office.\n",
    "\n",
    "Model perdict 44 millions, very close number and classify correctly as an indie film.\n",
    "\n",
    "Let's try a more independent film, agained loved by critics at Cann film festival, but this one doesn't even have a hot story or interesting cast."
   ]
  },
  {
   "cell_type": "code",
   "execution_count": null,
   "id": "cc27186d",
   "metadata": {},
   "outputs": [],
   "source": [
    "bergman_island = pd.DataFrame({     'tom_cri_vote':[86],\n",
    "                                    'tom_cri_num':[118],\n",
    "                                    'tom_aud_vote':[52],\n",
    "                                    'tom_aud_num':[50],\n",
    "                                    'met_cri_vote':[81],\n",
    "                                    'met_cri_num':[26],\n",
    "                                    'met_aud_vote':[66],\n",
    "                                    'met_aud_num':[20],\n",
    "                                    'imdb_vote':[68],\n",
    "                                    'imdb_num':[3878],\n",
    "                                    'imdb_us_vote':[68],\n",
    "                                    'imdb_us_num':[556],\n",
    "                                    'imdb_nus_vote':[67],\n",
    "                                    'imdb_nus_num':[1727],\n",
    "                                    'imdb_fem_vote':[66],\n",
    "                                    'imdb_fem_num':[475],\n",
    "                                    'imdb_mal_vote':[68],\n",
    "                                    'imdb_mal_num':[2268]\n",
    "                 })"
   ]
  },
  {
   "cell_type": "code",
   "execution_count": null,
   "id": "00cba1ef",
   "metadata": {},
   "outputs": [],
   "source": [
    "bergman_island_box_predict = rf_model.predict(bergman_island.iloc[0].array.reshape(1, -1))"
   ]
  },
  {
   "cell_type": "code",
   "execution_count": null,
   "id": "4a441412",
   "metadata": {},
   "outputs": [],
   "source": [
    "bergman_island_box_predict"
   ]
  },
  {
   "cell_type": "markdown",
   "id": "08936d53",
   "metadata": {},
   "source": [
    "Model predict only 2 million dollars for this film based on the vote data and it actually ends up gain only 700 thousend dollars in real life.\n",
    "Even if we create a movie classes with smaller margine ( in compare to the original three class that I made), this model would be abale to recognize the movie class with high accuracy, and predict a close number for the box-office.\n"
   ]
  },
  {
   "cell_type": "code",
   "execution_count": null,
   "id": "d5275ddc",
   "metadata": {},
   "outputs": [],
   "source": [
    "first_cow = pd.DataFrame({     'tom_cri_vote':[96],\n",
    "                                    'tom_cri_num':[210],\n",
    "                                    'tom_aud_vote':[63],\n",
    "                                    'tom_aud_num':[500],\n",
    "                                    'met_cri_vote':[89],\n",
    "                                    'met_cri_num':[44],\n",
    "                                    'met_aud_vote':[70],\n",
    "                                    'met_aud_num':[114],\n",
    "                                    'imdb_vote':[71],\n",
    "                                    'imdb_num':[16957],\n",
    "                                    'imdb_us_vote':[71],\n",
    "                                    'imdb_us_num':[2907],\n",
    "                                    'imdb_nus_vote':[71],\n",
    "                                    'imdb_nus_num':[7091],\n",
    "                                    'imdb_fem_vote':[70],\n",
    "                                    'imdb_fem_num':[1440],\n",
    "                                    'imdb_mal_vote':[72],\n",
    "                                    'imdb_mal_num':[10606]\n",
    "                 })"
   ]
  },
  {
   "cell_type": "code",
   "execution_count": null,
   "id": "6c62aca3",
   "metadata": {},
   "outputs": [],
   "source": [
    "first_cow_box_predict = rf_model.predict(first_cow.iloc[0].array.reshape(1, -1))"
   ]
  },
  {
   "cell_type": "code",
   "execution_count": null,
   "id": "dd3ac452",
   "metadata": {},
   "outputs": [],
   "source": [
    "first_cow_box_predict"
   ]
  },
  {
   "cell_type": "code",
   "execution_count": null,
   "id": "f6c85271",
   "metadata": {},
   "outputs": [],
   "source": []
  }
 ],
 "metadata": {
  "kernelspec": {
   "display_name": "Python 3",
   "language": "python",
   "name": "python3"
  },
  "language_info": {
   "codemirror_mode": {
    "name": "ipython",
    "version": 3
   },
   "file_extension": ".py",
   "mimetype": "text/x-python",
   "name": "python",
   "nbconvert_exporter": "python",
   "pygments_lexer": "ipython3",
   "version": "3.8.8"
  }
 },
 "nbformat": 4,
 "nbformat_minor": 5
}
