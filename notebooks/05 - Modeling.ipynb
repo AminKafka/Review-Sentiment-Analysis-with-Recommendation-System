{
 "cells": [
  {
   "cell_type": "markdown",
   "id": "80150499",
   "metadata": {},
   "source": [
    "# 5- Modeling using Sentiment Prediction and Recommender:\n",
    "#### Amin Khoeini\n",
    "\n",
    "---"
   ]
  },
  {
   "cell_type": "markdown",
   "id": "7e449621",
   "metadata": {},
   "source": [
    "In the final step of this project, we combine the Sentiment prediction model with the hybrid movie recommendation.\n",
    "\n",
    "The final goal of this project was to recieve a review from a user, and find out how much he love the movie.\n",
    "Then if we predict that the user love the movie, we suggest a list of movie to the user to watch. That will be possible\n",
    "by combining our models.\n",
    "\n",
    "Therefore our imput will be:\n",
    "- User ID\n",
    "- Movie Title\n",
    "- Review\n",
    "\n",
    "We used this input, and feeds it to the function that we create to combine our two models. This function first predict the sentiment of the review:\n",
    "- If the review wasn't positive our input will states that this user didn't enjoy this movie.\n",
    "- If the review was positive then we enter the next level:\n",
    " * We feed the user ID and movie title to the hybrid recommder\n",
    " * The recommnder will provide the top movies suggestion for this user.\n",
    " \n",
    " \n",
    "So in case of the user enjoied the movie, our output will be the movie suggestion list."
   ]
  },
  {
   "cell_type": "code",
   "execution_count": 1,
   "id": "9a9983eb",
   "metadata": {},
   "outputs": [
    {
     "name": "stdout",
     "output_type": "stream",
     "text": [
      "Estimating biases using sgd...\n",
      "Computing the msd similarity matrix...\n",
      "Done computing similarity matrix.\n"
     ]
    }
   ],
   "source": [
    "# Import the recommender\n",
    "import Hybrid_Recommender"
   ]
  },
  {
   "cell_type": "code",
   "execution_count": 2,
   "id": "c71f239e",
   "metadata": {},
   "outputs": [],
   "source": [
    "# Import the libraries\n",
    "import pandas as pd\n",
    "import numpy as np\n",
    "import nltk\n",
    "from nltk import word_tokenize\n",
    "from nltk.tokenize import word_tokenize\n",
    "from nltk.corpus import stopwords\n",
    "from nltk.stem import WordNetLemmatizer\n",
    "import pickle\n",
    "from sklearn.feature_extraction.text import TfidfVectorizer\n",
    "from sklearn.svm import LinearSVC"
   ]
  },
  {
   "cell_type": "code",
   "execution_count": 3,
   "id": "238b352f",
   "metadata": {},
   "outputs": [],
   "source": [
    "# create a function for cleaning the new reviews\n",
    "w_tokenizer = nltk.tokenize.WhitespaceTokenizer()\n",
    "lemmatizer = WordNetLemmatizer()\n",
    "import string as st\n",
    "def clean(text):\n",
    "    text = text.lower()\n",
    "    t1 = [w for w in text if w not in st.punctuation]\n",
    "    t1 = ''.join(t1)\n",
    "    stopword= nltk.corpus.stopwords.words('english')\n",
    "    stopword.remove('not')\n",
    "    t2 =' '.join(w for w in nltk.word_tokenize(t1) if w not in stopword)\n",
    "    return ' '.join([lemmatizer.lemmatize(w) for w in w_tokenizer.tokenize(t2)])\n",
    "    "
   ]
  },
  {
   "cell_type": "code",
   "execution_count": 4,
   "id": "56a3adf3",
   "metadata": {},
   "outputs": [],
   "source": [
    "# Import the Tfidf vectorizer and Sentiment Prediction model\n",
    "model = pickle.load(open('sentiment_model.sav','rb'))\n",
    "tfidf = pickle.load(open('tfidf.sav','rb'))"
   ]
  },
  {
   "cell_type": "code",
   "execution_count": 23,
   "id": "1b716154",
   "metadata": {},
   "outputs": [],
   "source": [
    "# Create a function to apply both sentiment prediciton and recommender to a new review\n",
    "def sentiment_recommender(user_id,movie_title,review):\n",
    "    ''' This function will combine the two model we create before. The input is the User_id,Movie title and\n",
    "    The review that user write for the movie.\n",
    "        \n",
    "        First step, we use the sentiment prediction model to see if the user enjoy the movie or not.\n",
    "        If not the function just print that user didn't enjoy this movie.\n",
    "        If the model predict the user enjoy the movie, we go to the next level.\n",
    "        In next level, we use the user ID and movie title and our hybrid movie recommendition engine\n",
    "        to produce a top movie suggestion for the user and print it as the final output.\n",
    "    '''\n",
    "    \n",
    "    review = clean(review)\n",
    "    vector = tfidf.transform([review])\n",
    "    s =  model.predict(vector)\n",
    "    if s == 'NOT LOVE IT':\n",
    "        print (\"The user did not enjoy\",movie_title,\"therefor the system has no recomandation based on that review.\")\n",
    "        return\n",
    "    else:\n",
    "        print(\"Based on the review, This user loved the\",movie_title,\"therefor the system recommand the below list for the user to watch: \\n\\n\",\n",
    "             Hybrid_Recommender.recommender(user_id,movie_title).tolist())\n",
    "        return"
   ]
  },
  {
   "cell_type": "markdown",
   "id": "e664e450",
   "metadata": {},
   "source": [
    "### Using the final model,create some example, and evalute the performance:\n",
    "___\n",
    "\n",
    "First we use two review that the sentement is strong. First positive then negetive and use a same user_id and see how the model works."
   ]
  },
  {
   "cell_type": "code",
   "execution_count": 24,
   "id": "5f67e24a",
   "metadata": {},
   "outputs": [
    {
     "name": "stdout",
     "output_type": "stream",
     "text": [
      "Based on the review, This user loved the Kill Bill: Vol. 2 (2004) therefor the system recommand the below list for the user to watch: \n",
      "\n",
      " ['Jackie Brown (1997)', 'Pulp Fiction (1994)', 'Sin City (2005)', 'Inglourious Basterds (2009)', 'Kill Bill: Vol. 1 (2003)', 'Reservoir Dogs (1992)', 'The Hateful Eight (2015)', 'Django Unchained (2012)', 'The China Syndrome (1979)', 'From Dusk Till Dawn (1996)']\n"
     ]
    }
   ],
   "source": [
    "user_id= 20\n",
    "movie_title= 'Kill Bill: Vol. 2 (2004)'\n",
    "review = \"After killing O-Ren Ishii (Lucy Liu) and Vernita Green (Vivica A. Fox), \\\n",
    "          The Bride chases Budd (Michael Madsen) and Elle (Daryl Hanna). Then, \\\n",
    "          she finds Bill (David Carradine), where a surprise waits for her. \\\n",
    "          The second part of Kill Bill is a disappointing and overrated sequel. \\\n",
    "          The reason and the massacre in the Texas church are finally presented and is the best part \\\n",
    "          of this volume 2. The first part (Vol. 1) of this story was full of action and very funny, \\\n",
    "          but there is too much comic book cheap philosophy talk and a corny conclusion in this second part. \\\n",
    "          In Brazil, `Kill Bill Vol. 2' has not been released in the movie theaters yet. \\\n",
    "          I saw it in an imported DVD and I really did not like it, since I expected much more from \\\n",
    "          Quentin Tarantino. My vote is six.\"\n",
    "\n",
    "sentiment_recommender(user_id,movie_title,review)"
   ]
  },
  {
   "cell_type": "code",
   "execution_count": 25,
   "id": "8e01bcda",
   "metadata": {},
   "outputs": [
    {
     "name": "stdout",
     "output_type": "stream",
     "text": [
      "The user did not enjoy Kill Bill: Vol. 2 (2004) therefor the system has no recomandation based on that review.\n"
     ]
    }
   ],
   "source": [
    "user_id= 20\n",
    "movie_title= 'Kill Bill: Vol. 2 (2004)'\n",
    "review = \"OK, I don't really want Quentin Tarantino to be killed - actually, I am a big fan of his earlier films. \\\n",
    "But the 'Kill Bill' films are not in their league, all style and no substance. Volume 1 at least had a fast pace, \\\n",
    "its innovations coming quick and fast; but Volume 2 of this over-long project seems to add nothing new except for\\\n",
    "a layer of emotional interpretation that its grotesque, cartoonish characters can scarcely sustain. \\\n",
    "Volume 1 pastiched a huge range of different styles of film; Volume 2, at times, appears simply as a pastiche \\\n",
    "of a bad movie (and very hard to distinguish from a genuinely bad film to boot). Yet I can't help but feel that \\\n",
    "within these two movies (originally conceived as one very long film) there's a highly original shorter film that \\\n",
    "should have been made. When the saga ends with a credits sequence in which Tarantino appears to pay homage to \\\n",
    "himself, one can't help but wonder whether even the most talented of individuals don't sometimes benefit when \\\n",
    "someone else has the final cut.\"\n",
    "\n",
    "\n",
    "sentiment_recommender(user_id,movie_title,review)"
   ]
  },
  {
   "cell_type": "markdown",
   "id": "d4a13c51",
   "metadata": {},
   "source": [
    "The model working fine for the obvious review, and in the case a positive review recommands a good list, mostly from same director and other action movie for the user.\n",
    "\n",
    "What if the user ID will change? "
   ]
  },
  {
   "cell_type": "code",
   "execution_count": 26,
   "id": "c214d75e",
   "metadata": {},
   "outputs": [
    {
     "name": "stdout",
     "output_type": "stream",
     "text": [
      "Based on the review, This user loved the Kill Bill: Vol. 2 (2004) therefor the system recommand the below list for the user to watch: \n",
      "\n",
      " ['Hamburger Hill (1987)', 'The China Syndrome (1979)', 'Pulp Fiction (1994)', 'Reservoir Dogs (1992)', 'Sin City (2005)', 'Jackie Brown (1997)', 'Django Unchained (2012)', 'Inglourious Basterds (2009)', 'Grindhouse (2007)', 'The Hateful Eight (2015)']\n"
     ]
    }
   ],
   "source": [
    "user_id= 40\n",
    "movie_title= 'Kill Bill: Vol. 2 (2004)'\n",
    "review = \"After killing O-Ren Ishii (Lucy Liu) and Vernita Green (Vivica A. Fox), \\\n",
    "          The Bride chases Budd (Michael Madsen) and Elle (Daryl Hanna). Then, \\\n",
    "          she finds Bill (David Carradine), where a surprise waits for her. \\\n",
    "          The second part of Kill Bill is a disappointing and overrated sequel. \\\n",
    "          The reason and the massacre in the Texas church are finally presented and is the best part \\\n",
    "          of this volume 2. The first part (Vol. 1) of this story was full of action and very funny, \\\n",
    "          but there is too much comic book cheap philosophy talk and a corny conclusion in this second part. \\\n",
    "          In Brazil, `Kill Bill Vol. 2' has not been released in the movie theaters yet. \\\n",
    "          I saw it in an imported DVD and I really did not like it, since I expected much more from \\\n",
    "          Quentin Tarantino. My vote is six.\"\n",
    "\n",
    "sentiment_recommender(user_id,movie_title,review)"
   ]
  },
  {
   "cell_type": "markdown",
   "id": "c6f9c35b",
   "metadata": {},
   "source": [
    "Interestingly, the model suggest another two movies the top choice for this user, following the other films of the director. So the collaborative filter works fine too to include the taste of the user in the suggestion too."
   ]
  },
  {
   "cell_type": "markdown",
   "id": "1b3c43cb",
   "metadata": {},
   "source": [
    "---\n",
    "\n",
    "Now let's get the recommendation for a classic movie that does not have lots of review in the database and see how the recommandation works.\n"
   ]
  },
  {
   "cell_type": "code",
   "execution_count": 27,
   "id": "9550a401",
   "metadata": {},
   "outputs": [
    {
     "name": "stdout",
     "output_type": "stream",
     "text": [
      "Based on the review, This user loved the The Cabinet of Dr. Caligari (1920) therefor the system recommand the below list for the user to watch: \n",
      "\n",
      " ['Enter the Dragon (1973)', 'What Ever Happened to Baby Jane? (1962)', 'The Natural (1984)', 'Murder by Death (1976)', 'Short Cuts (1993)', 'The Curse of the Cat People (1944)', 'Lions for Lambs (2007)', 'The VVitch: A New-England Folktale (2015)', 'The Spiral Staircase (1946)', 'Psycho II (1983)']\n"
     ]
    }
   ],
   "source": [
    "# Use a real review with 8/10 score. And there is not a literall words in review (like Bad, Worse,Good,Best)\n",
    "# still model predict it right and recommend a good list for it.\n",
    "\n",
    "user_id= 450\n",
    "movie_title= 'The Cabinet of Dr. Caligari (1920)'\n",
    "review = \"With a story as twisted, buckled and demented as the scenery and set design, and a tortured score \\\n",
    "to boot, was the lunatic in charge of the asylum? Must have been a moment to remember coming across this \\\n",
    "cinematic marvel back in 1920. I wonder how many of today's pieces of cinema will stand the test of 100 years,\\\n",
    "albeit with a lot more competition.\"\n",
    "\n",
    "sentiment_recommender(user_id,movie_title,review)"
   ]
  },
  {
   "cell_type": "code",
   "execution_count": 9,
   "id": "bc5ea408",
   "metadata": {},
   "outputs": [
    {
     "name": "stdout",
     "output_type": "stream",
     "text": [
      "The user did not enjoy The Cabinet of Dr. Caligari (1920) therefor the system has no recomandation based on that review.\n"
     ]
    }
   ],
   "source": [
    "# Another review with 6/10 score. and model correctly lable it as NOT LOVE IT.\n",
    "user_id= 4566\n",
    "movie_title= 'The Cabinet of Dr. Caligari (1920)'\n",
    "review = \"The Cabinet of Dr Caligari is upheld as one of cinema's greats, and in a number of regards,\\\n",
    "I can understand why. It is hauntingly beautiful and wonderfully stylised. It's Expressionistic cinematography \\\n",
    "is wonderful and suspenseful; it's no wonder that this film has influenced many subsequent directors and \\\n",
    "producers many years later.However, whilst it surely wouldn't have seemed like this back in 1920, it is rather \\\n",
    "boring through contemporary eyes. I'm sorry if this makes me sound ignorant, but today it plays rather \\\n",
    "slow-paced and un-scary, even compared to some of the other greats of Weimar cinema (such as Nosferatu)\\\n",
    ".Not a bad film by any means (I would recommend it), but Caligari seems more something of historical value \\\n",
    "and academic study to me.\"\n",
    "\n",
    "\n",
    "sentiment_recommender(user_id,movie_title,review)"
   ]
  },
  {
   "cell_type": "markdown",
   "id": "bc17e426",
   "metadata": {},
   "source": [
    "Here for the positive review, we get the recommandation with the similar genre and content of the movie. There is only one classic film is in the recommadation list, probably beacase there are not many of the classic movie in the database and from the classic directors. Still the recommendation list is interesting and close to the target movie.\n",
    "\n",
    "---\n",
    "\n",
    "Now try a movie that is a part of a series and see the recommendation for it."
   ]
  },
  {
   "cell_type": "code",
   "execution_count": 28,
   "id": "58c203fa",
   "metadata": {},
   "outputs": [
    {
     "name": "stdout",
     "output_type": "stream",
     "text": [
      "Based on the review, This user loved the Rocky IV (1985) therefor the system recommand the below list for the user to watch: \n",
      "\n",
      " ['Rocky (1976)', 'Antz (1998)', 'Rocky II (1979)', 'Rocky Balboa (2006)', 'First Blood (1982)', 'Nighthawks (1981)', 'Cop Land (1997)', 'Death Race 2000 (1975)', 'Rocky III (1982)', 'Demolition Man (1993)']\n"
     ]
    }
   ],
   "source": [
    "# 8/10 review.\n",
    "user_id= 112\n",
    "movie_title= 'Rocky IV (1985)'\n",
    "review = \"The peaks of the Rocky franchise are the first movie and the fourth movie. \\\n",
    "Rocky is the Academy Award-winning drama and Rocky IV is the exhilarating, montage-driven 80s popcorn flick. \\\n",
    "Yes, this is a silly movie, but Ivan Drago is an intimidating opponent, and I think we all shed a tear or two \\\n",
    "when Apollo died. If nothing else, this movie gave us one of the best workout soundtracks ever - thanks, Rocky IV!\"\n",
    "\n",
    "\n",
    "sentiment_recommender(user_id,movie_title,review)"
   ]
  },
  {
   "cell_type": "markdown",
   "id": "5cb3a1fe",
   "metadata": {},
   "source": [
    "Get the most of the film on the series, plus other movies from the main actor.\n",
    "\n",
    "---\n",
    "\n",
    "Next we try to a less known movie from a super hero series, which got lots of negetive review from the user and see how the model perform on that."
   ]
  },
  {
   "cell_type": "code",
   "execution_count": 29,
   "id": "3d51c113",
   "metadata": {},
   "outputs": [
    {
     "name": "stdout",
     "output_type": "stream",
     "text": [
      "The user did not enjoy Superman IV: The Quest for Peace (1987) therefor the system has no recomandation based on that review.\n"
     ]
    }
   ],
   "source": [
    "#5/10 review.\n",
    "user_id= 9877\n",
    "movie_title= 'Superman IV: The Quest for Peace (1987)'\n",
    "review = \"Superman IV is not nearly as bad as the reviews suggest. The actors try really hard, \\\n",
    "particularly Christopher Reeve, Gene Hackman, and Margot Kidder, to make it work. The movie is watchable \\\n",
    "and the musical score is good. The movie is an improvement over the disappointing Superman III. \\\n",
    "However, Superman IV has major problems. The movie has obviously been cut from its original length \\\n",
    "make it incoherent at times. The special effects are below the standards set in the first two movies \\\n",
    "(even the third movie had decent effects). Maybe if the movie were restored to its original length, \\\n",
    "it would be better. I can only give this movie a 5/10. I wished it were better and hope someday they \\\n",
    "do restore this movie to its original length.\"\n",
    "\n",
    "\n",
    "sentiment_recommender(user_id,movie_title,review)"
   ]
  },
  {
   "cell_type": "code",
   "execution_count": 30,
   "id": "0aa2af24",
   "metadata": {},
   "outputs": [
    {
     "name": "stdout",
     "output_type": "stream",
     "text": [
      "The user did not enjoy Superman IV: The Quest for Peace (1987) therefor the system has no recomandation based on that review.\n"
     ]
    }
   ],
   "source": [
    "# 8/10 review. the review brings up all the bad things about the movie but still say he loved it \n",
    "# because it is superman movie. Model can't detect that.\n",
    "user_id= 458\n",
    "movie_title= 'Superman IV: The Quest for Peace (1987)'\n",
    "review = \"I cannot stand public opinion about the fourth and final Christopher Reeve Superman outing. \\\n",
    "Superman IV: The Quest for Peace, while not the best of the entire series, is better than Superman III \\\n",
    "and better than Richard Lester's cartoonish Superman II (in which Lois Lane actually says, I'm going to \\\n",
    "change into something more comfortable).First of all, people have claimed that IV is the most physically \\\n",
    "ridiculous of all four. This is not true. Yes, for a human to fly in space, they would have to survive being\\\n",
    "burned up leaving Earth's atmosphere, then survive the vacuum of space (in other words, two people would have \\\n",
    "been dead by the end of the movie). However, let's revisit the 1978 original, in which the Man of Steel \\\n",
    "flies around the world, making it spin backwards, which also makes time reverse. If that really happened, \\\n",
    "every living thing and object on the planet's face would be flung off into the cold depths of space.\\\n",
    "I won't linger on this anymore. Yes, The Quest for Peace has unbearable dialogue (in places), \\\n",
    "but it's classic Superman-- the cheese, the cheap effects, and the general cartoon feel. \\\n",
    "Plus, it does have Jon Cryer, in what is oddly his best performance of all time (you'd better believe it), \\\n",
    "and a solid message people still need to think about. In other words, come to believe a man can fly, \\\n",
    "stay for the inherent message of the movie: we would have to be very stupid to nuke our own planet.\"\n",
    "\n",
    "sentiment_recommender(user_id,movie_title,review)"
   ]
  },
  {
   "cell_type": "code",
   "execution_count": 31,
   "id": "8d737e50",
   "metadata": {},
   "outputs": [
    {
     "name": "stdout",
     "output_type": "stream",
     "text": [
      "Based on the review, This user loved the Superman IV: The Quest for Peace (1987) therefor the system recommand the below list for the user to watch: \n",
      "\n",
      " ['Raiders of the Lost Ark (1981)', '2001: A Space Odyssey (1968)', 'Predator (1987)', 'Iron Man (2008)', 'Spider-Man (2002)', 'Captain America: Civil War (2016)', 'Dead Man (1995)', 'The Ipcress File (1965)', 'Star Trek VI: The Undiscovered Country (1991)', 'Hot Shots! (1991)']\n"
     ]
    }
   ],
   "source": [
    "#7/10 review.\n",
    "user_id= 5675\n",
    "movie_title= 'Superman IV: The Quest for Peace (1987)'\n",
    "review = \"This is the fourth and final Superman film with Christopher Reeve taking on the role, \\\n",
    "where he tries to stop the spread of nuclear weapons and battles Lex Luther (Gene Hackman) and his \\\n",
    "super-powered sidekick, Nuclear Man (Mark Pillow).Though the level of excitement and intrigue of this \\\n",
    "film doesn't match the first two, it is almost on par with the third and is still fun and fast-paced \\\n",
    "with neat special effects that showcase Superman's powers and great action scenes, something that sorely \\\n",
    "lacks in Superman Returns.The nuclear weapons plot I thought was clever and unique to a Superman movie. \\\n",
    "Total disarmament of nuclear weapons may not be feasible in the real world, but Superman's quest for \\\n",
    "peace among all countries is well-intended in the film. Reeve is great as Superman and Gene Hackman gave \\\n",
    "us another thrilling performance as super villain Lex Luther. In addition, the fight scenes between \\\n",
    "Nuclear Man and Superman were awesome - Nuclear Man looked like a force to be reckon with as he possessed \\\n",
    "the same level of powers and same physique as Superman.Overall, I think this film is a fitting ending to \\\n",
    "the Christopher Reeve saga.\"\n",
    "\n",
    "sentiment_recommender(user_id,movie_title,review)"
   ]
  },
  {
   "cell_type": "code",
   "execution_count": 34,
   "id": "7710c27e",
   "metadata": {},
   "outputs": [
    {
     "name": "stdout",
     "output_type": "stream",
     "text": [
      "Based on the review, This user loved the Superman IV: The Quest for Peace (1987) therefor the system recommand the below list for the user to watch: \n",
      "\n",
      " ['2001: A Space Odyssey (1968)', 'Raiders of the Lost Ark (1981)', 'Captain America: Civil War (2016)', 'Predator (1987)', 'Iron Man (2008)', 'Spider-Man (2002)', 'Star Trek VI: The Undiscovered Country (1991)', 'The Ipcress File (1965)', 'Dead Man (1995)', 'Rumble in the Bronx (1995)']\n"
     ]
    }
   ],
   "source": [
    "# Same Review but changing the user_id to see a diffrence in the recommendation.\n",
    "user_id= 3434\n",
    "movie_title= 'Superman IV: The Quest for Peace (1987)'\n",
    "review = \"This is the fourth and final Superman film with Christopher Reeve taking on the role, \\\n",
    "where he tries to stop the spread of nuclear weapons and battles Lex Luther (Gene Hackman) and his \\\n",
    "super-powered sidekick, Nuclear Man (Mark Pillow).Though the level of excitement and intrigue of this \\\n",
    "film doesn't match the first two, it is almost on par with the third and is still fun and fast-paced with \\\n",
    "neat special effects that showcase Superman's powers and great action scenes, something that sorely lacks\\\n",
    "in Superman Returns.The nuclear weapons plot I thought was clever and unique to a Superman movie. \\\n",
    "Total disarmament of nuclear weapons may not be feasible in the real world, but Superman's quest for \\\n",
    "peace among all countries is well-intended in the film. Reeve is great as Superman and Gene Hackman \\\n",
    "gave us another thrilling performance as super villain Lex Luther. In addition, the fight scenes between \\\n",
    "Nuclear Man and Superman were awesome - Nuclear Man looked like a force to be reckon with as he possessed \\\n",
    "the same level of powers and same physique as Superman.Overall, I think this film is a fitting ending to the \\\n",
    "Christopher Reeve saga.\"\n",
    "\n",
    "sentiment_recommender(user_id,movie_title,review)"
   ]
  },
  {
   "cell_type": "markdown",
   "id": "5bcf6fb0",
   "metadata": {},
   "source": [
    "The only time the model predict the wrong sentiment for the review was for this film.\n",
    "The secound reviewer brough all the negetive feed-back for this movie but at the end he said he loves this film because it is another super-man movie. Because there are lots of negetive words in the review model predict that user did not like it.\n",
    "\n",
    "For the positive review, we got the interesting suggestion. Another super hero movie mostly from recent time, combine with some similar genre movie. And it is slightly diffrent for the diffrent user."
   ]
  },
  {
   "cell_type": "code",
   "execution_count": null,
   "id": "74d419bf",
   "metadata": {},
   "outputs": [],
   "source": []
  }
 ],
 "metadata": {
  "kernelspec": {
   "display_name": "Python 3",
   "language": "python",
   "name": "python3"
  },
  "language_info": {
   "codemirror_mode": {
    "name": "ipython",
    "version": 3
   },
   "file_extension": ".py",
   "mimetype": "text/x-python",
   "name": "python",
   "nbconvert_exporter": "python",
   "pygments_lexer": "ipython3",
   "version": "3.8.8"
  }
 },
 "nbformat": 4,
 "nbformat_minor": 5
}
