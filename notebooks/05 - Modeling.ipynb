{
 "cells": [
  {
   "cell_type": "markdown",
   "id": "80150499",
   "metadata": {},
   "source": [
    "# 5- Modeling using Sentiment Prediction and Recommender:\n",
    "#### Amin Khoeini\n",
    "\n",
    "---"
   ]
  },
  {
   "cell_type": "code",
   "execution_count": 17,
   "id": "9a9983eb",
   "metadata": {},
   "outputs": [],
   "source": [
    "# Import the recommender\n",
    "import Amin_Recommender"
   ]
  },
  {
   "cell_type": "code",
   "execution_count": 18,
   "id": "c71f239e",
   "metadata": {},
   "outputs": [],
   "source": [
    "# Import the libraries\n",
    "import pandas as pd\n",
    "import numpy as np\n",
    "import nltk\n",
    "from nltk import word_tokenize\n",
    "from nltk.tokenize import word_tokenize\n",
    "from nltk.corpus import stopwords\n",
    "from nltk.stem import WordNetLemmatizer\n",
    "import pickle\n",
    "from sklearn.feature_extraction.text import TfidfVectorizer\n",
    "from sklearn.svm import LinearSVC"
   ]
  },
  {
   "cell_type": "code",
   "execution_count": 19,
   "id": "238b352f",
   "metadata": {},
   "outputs": [],
   "source": [
    "# create a function for cleaning the new reviews\n",
    "w_tokenizer = nltk.tokenize.WhitespaceTokenizer()\n",
    "lemmatizer = WordNetLemmatizer()\n",
    "import string as st\n",
    "def clean(text):\n",
    "    text = text.lower()\n",
    "    t1 = [w for w in text if w not in st.punctuation]\n",
    "    t1 = ''.join(t1)\n",
    "    stopword= nltk.corpus.stopwords.words('english')\n",
    "    stopword.remove('not')\n",
    "    t2 =' '.join(w for w in nltk.word_tokenize(t1) if w not in stopword)\n",
    "    return ' '.join([lemmatizer.lemmatize(w) for w in w_tokenizer.tokenize(t2)])\n",
    "    "
   ]
  },
  {
   "cell_type": "code",
   "execution_count": 20,
   "id": "56a3adf3",
   "metadata": {},
   "outputs": [],
   "source": [
    "# Import the Tfidf vectorizer and Sentiment Prediction model\n",
    "model = pickle.load(open('sentiment_model.sav','rb'))\n",
    "tfidf = pickle.load(open('tfidf.sav','rb'))"
   ]
  },
  {
   "cell_type": "code",
   "execution_count": 21,
   "id": "1b716154",
   "metadata": {},
   "outputs": [],
   "source": [
    "# Create a function to apply both sentiment prediciton and recommender to a new review\n",
    "def sentiment_recommender(user_id,movie_title,review):\n",
    "    review = clean(review)\n",
    "    vector = tfidf.transform([review])\n",
    "    s =  model.predict(vector)\n",
    "    if s == 'NOT LOVE IT':\n",
    "        print (\"Based on the review, This user didn't loved the \",movie_title,\"therefor the system has no recomandation based on that review.\")\n",
    "        return\n",
    "    else:\n",
    "        print(\"Based on the review, This user loved the\",movie_title,\"therefor the system recommand the below list for the user to watch\",\n",
    "             Amin_Recommender.recommender(user_id,movie_title))\n",
    "        return"
   ]
  },
  {
   "cell_type": "markdown",
   "id": "e664e450",
   "metadata": {},
   "source": [
    "### Writing review and get a recommandation for it:"
   ]
  },
  {
   "cell_type": "code",
   "execution_count": 22,
   "id": "5f67e24a",
   "metadata": {},
   "outputs": [
    {
     "name": "stdout",
     "output_type": "stream",
     "text": [
      "Based on the review, This user loved the Kill Bill: Vol. 2  therefor the system recommand the below list for the user to watch ['Django Unchained ']\n"
     ]
    }
   ],
   "source": [
    "user_id= 20\n",
    "movie_title= 'Kill Bill: Vol. 2 '\n",
    "review = \"After killing O-Ren Ishii (Lucy Liu) and Vernita Green (Vivica A. Fox), The Bride chases Budd (Michael Madsen) and Elle (Daryl Hanna). Then, she finds Bill (David Carradine), where a surprise waits for her. The second part of Kill Bill is a disappointing and overrated sequel. The reason and the massacre in the Texas church are finally presented and is the best part of this volume 2. The first part (Vol. 1) of this story was full of action and very funny, but there is too much comic book cheap philosophy talk and a corny conclusion in this second part. In Brazil, `Kill Bill Vol. 2' has not been released in the movie theaters yet. I saw it in an imported DVD and I really did not like it, since I expected much more from Quentin Tarantino. My vote is six.\"\n",
    "sentiment_recommender(user_id,movie_title,review)"
   ]
  },
  {
   "cell_type": "code",
   "execution_count": 23,
   "id": "8e01bcda",
   "metadata": {},
   "outputs": [
    {
     "name": "stdout",
     "output_type": "stream",
     "text": [
      "Based on the review, This user didn't loved the  Kill Bill: Vol. 2  therefor the system has no recomandation based on that review.\n"
     ]
    }
   ],
   "source": [
    "user_id= 55\n",
    "movie_title= 'Kill Bill: Vol. 2 '\n",
    "review = \"OK, I don't really want Quentin Tarantino to be killed - actually, I am a big fan of his earlier films. But the 'Kill Bill' films are not in their league, all style and no substance. Volume 1 at least had a fast pace, its innovations coming quick and fast; but Volume 2 of this over-long project seems to add nothing new except for a layer of emotional interpretation that its grotesque, cartoonish characters can scarcely sustain. Volume 1 pastiched a huge range of different styles of film; Volume 2, at times, appears simply as a pastiche of a bad movie (and very hard to distinguish from a genuinely bad film to boot). Yet I can't help but feel that within these two movies (originally conceived as one very long film) there's a highly original shorter film that should have been made. When the saga ends with a credits sequence in which Tarantino appears to pay homage to himself, one can't help but wonder whether even the most talented of individuals don't sometimes benefit when someone else has the final cut.\"\n",
    "sentiment_recommender(user_id,movie_title,review)"
   ]
  },
  {
   "cell_type": "markdown",
   "id": "d4a13c51",
   "metadata": {},
   "source": [
    "Let's try a classic movie."
   ]
  },
  {
   "cell_type": "code",
   "execution_count": 24,
   "id": "9550a401",
   "metadata": {},
   "outputs": [
    {
     "name": "stdout",
     "output_type": "stream",
     "text": [
      "Based on the review, This user loved the The Cabinet of Dr. Caligari  therefor the system recommand the below list for the user to watch ['Battleship Potemkin ', 'Race with the Devil ', 'The Haunted Palace ', 'I Walked with a Zombie ', 'The Body Snatcher ', 'Invasion of the Body Snatchers ']\n"
     ]
    }
   ],
   "source": [
    "# Use a real review with 8/10 score. And there is not a literall words in review (like Bad, Worse,Good,Best), still model predict it right and recommend a good list for it.\n",
    "user_id= 450\n",
    "movie_title= 'The Cabinet of Dr. Caligari '\n",
    "review = \"With a story as twisted, buckled and demented as the scenery and set design, and a tortured score to boot, was the lunatic in charge of the asylum? Must have been a moment to remember coming across this cinematic marvel back in 1920. I wonder how many of today's pieces of cinema will stand the test of 100 years, albeit with a lot more competition.\"\n",
    "sentiment_recommender(user_id,movie_title,review)"
   ]
  },
  {
   "cell_type": "code",
   "execution_count": 25,
   "id": "bc5ea408",
   "metadata": {},
   "outputs": [
    {
     "name": "stdout",
     "output_type": "stream",
     "text": [
      "Based on the review, This user didn't loved the  The Cabinet of Dr. Caligari  therefor the system has no recomandation based on that review.\n"
     ]
    }
   ],
   "source": [
    "# Another review with 6/10 score. and model correctly lable it as NOT LOVE IT.\n",
    "user_id= 4566\n",
    "movie_title= 'The Cabinet of Dr. Caligari '\n",
    "review = \"The Cabinet of Dr Caligari is upheld as one of cinema's greats, and in a number of regards, I can understand why. It is hauntingly beautiful and wonderfully stylised. It's Expressionistic cinematography is wonderful and suspenseful; it's no wonder that this film has influenced many subsequent directors and producers many years later.However, whilst it surely wouldn't have seemed like this back in 1920, it is rather boring through contemporary eyes. I'm sorry if this makes me sound ignorant, but today it plays rather slow-paced and un-scary, even compared to some of the other greats of Weimar cinema (such as Nosferatu).Not a bad film by any means (I would recommend it), but Caligari seems more something of historical value and academic study to me.\"\n",
    "sentiment_recommender(user_id,movie_title,review)"
   ]
  },
  {
   "cell_type": "markdown",
   "id": "bc17e426",
   "metadata": {},
   "source": [
    "Try a movie that is a part of a series and see the recommendation for it."
   ]
  },
  {
   "cell_type": "code",
   "execution_count": 26,
   "id": "58c203fa",
   "metadata": {},
   "outputs": [
    {
     "name": "stdout",
     "output_type": "stream",
     "text": [
      "Based on the review, This user loved the Rocky IV  therefor the system recommand the below list for the user to watch ['Rocky III ', 'Rocky II ', 'Rambo: First Blood Part II ', 'Innerspace ', 'Kindergarten Cop ', 'Rocky V ']\n"
     ]
    }
   ],
   "source": [
    "# 8/10 review.\n",
    "user_id= 112\n",
    "movie_title= 'Rocky IV '\n",
    "review = \"The peaks of the Rocky franchise are the first movie and the fourth movie. Rocky is the Academy Award-winning drama and Rocky IV is the exhilarating, montage-driven 80s popcorn flick. Yes, this is a silly movie, but Ivan Drago is an intimidating opponent, and I think we all shed a tear or two when Apollo died. If nothing else, this movie gave us one of the best workout soundtracks ever - thanks, Rocky IV!\"\n",
    "sentiment_recommender(user_id,movie_title,review)"
   ]
  },
  {
   "cell_type": "markdown",
   "id": "5cb3a1fe",
   "metadata": {},
   "source": [
    "Seems good recommendation, it contains another film from same series and some from same actor."
   ]
  },
  {
   "cell_type": "code",
   "execution_count": 28,
   "id": "3d51c113",
   "metadata": {},
   "outputs": [
    {
     "name": "stdout",
     "output_type": "stream",
     "text": [
      "Based on the review, This user didn't loved the  Superman IV: The Quest for Peace  therefor the system has no recomandation based on that review.\n"
     ]
    }
   ],
   "source": [
    "#5/10 review.\n",
    "user_id= 9877\n",
    "movie_title= 'Superman IV: The Quest for Peace '\n",
    "review = \"Superman IV is not nearly as bad as the reviews suggest. The actors try really hard, particularly Christopher Reeve, Gene Hackman, and Margot Kidder, to make it work. The movie is watchable and the musical score is good. The movie is an improvement over the disappointing Superman III. However, Superman IV has major problems. The movie has obviously been cut from its original length make it incoherent at times. The special effects are below the standards set in the first two movies (even the third movie had decent effects). Maybe if the movie were restored to its original length, it would be better. I can only give this movie a 5/10. I wished it were better and hope someday they do restore this movie to its original length.\"\n",
    "sentiment_recommender(user_id,movie_title,review)"
   ]
  },
  {
   "cell_type": "code",
   "execution_count": 30,
   "id": "0aa2af24",
   "metadata": {},
   "outputs": [
    {
     "name": "stdout",
     "output_type": "stream",
     "text": [
      "Based on the review, This user didn't loved the  Superman IV: The Quest for Peace  therefor the system has no recomandation based on that review.\n"
     ]
    }
   ],
   "source": [
    "# 8/10 review. the review brings up all the bad things about the movie but still say he loved it because it is superman movie. Model can't detect that.\n",
    "user_id= 458\n",
    "movie_title= 'Superman IV: The Quest for Peace '\n",
    "review = \"I cannot stand public opinion about the fourth and final Christopher Reeve Superman outing. Superman IV: The Quest for Peace, while not the best of the entire series, is better than Superman III and better than Richard Lester's cartoonish Superman II (in which Lois Lane actually says, I'm going to change into something more comfortable).First of all, people have claimed that IV is the most physically ridiculous of all four. This is not true. Yes, for a human to fly in space, they would have to survive being burned up leaving Earth's atmosphere, then survive the vacuum of space (in other words, two people would have been dead by the end of the movie). However, let's revisit the 1978 original, in which the Man of Steel flies around the world, making it spin backwards, which also makes time reverse. If that really happened, every living thing and object on the planet's face would be flung off into the cold depths of space.I won't linger on this anymore. Yes, The Quest for Peace has unbearable dialogue (in places), but it's classic Superman-- the cheese, the cheap effects, and the general cartoon feel. Plus, it does have Jon Cryer, in what is oddly his best performance of all time (you'd better believe it), and a solid message people still need to think about. In other words, come to believe a man can fly, stay for the inherent message of the movie: we would have to be very stupid to nuke our own planet.\"\n",
    "sentiment_recommender(user_id,movie_title,review)"
   ]
  },
  {
   "cell_type": "code",
   "execution_count": 31,
   "id": "8d737e50",
   "metadata": {},
   "outputs": [
    {
     "name": "stdout",
     "output_type": "stream",
     "text": [
      "Based on the review, This user loved the Superman IV: The Quest for Peace  therefor the system recommand the below list for the user to watch ['Star Trek V: The Final Frontier ']\n"
     ]
    }
   ],
   "source": [
    "#7/10 review.\n",
    "user_id= 5675\n",
    "movie_title= 'Superman IV: The Quest for Peace '\n",
    "review = \"This is the fourth and final Superman film with Christopher Reeve taking on the role, where he tries to stop the spread of nuclear weapons and battles Lex Luther (Gene Hackman) and his super-powered sidekick, Nuclear Man (Mark Pillow).Though the level of excitement and intrigue of this film doesn't match the first two, it is almost on par with the third and is still fun and fast-paced with neat special effects that showcase Superman's powers and great action scenes, something that sorely lacks in Superman Returns.The nuclear weapons plot I thought was clever and unique to a Superman movie. Total disarmament of nuclear weapons may not be feasible in the real world, but Superman's quest for peace among all countries is well-intended in the film. Reeve is great as Superman and Gene Hackman gave us another thrilling performance as super villain Lex Luther. In addition, the fight scenes between Nuclear Man and Superman were awesome - Nuclear Man looked like a force to be reckon with as he possessed the same level of powers and same physique as Superman.Overall, I think this film is a fitting ending to the Christopher Reeve saga.\"\n",
    "sentiment_recommender(user_id,movie_title,review)"
   ]
  },
  {
   "cell_type": "code",
   "execution_count": 32,
   "id": "7710c27e",
   "metadata": {},
   "outputs": [
    {
     "name": "stdout",
     "output_type": "stream",
     "text": [
      "Based on the review, This user loved the Superman IV: The Quest for Peace  therefor the system recommand the below list for the user to watch ['Superman III ', 'Batman & Robin ', 'Jaws: The Revenge ', 'Red Sonja ', 'White Chicks ', 'Supergirl ']\n"
     ]
    }
   ],
   "source": [
    "# Same Review but changing the user_id to see a diffrence in the recommendation.\n",
    "user_id= 34\n",
    "movie_title= 'Superman IV: The Quest for Peace '\n",
    "review = \"This is the fourth and final Superman film with Christopher Reeve taking on the role, where he tries to stop the spread of nuclear weapons and battles Lex Luther (Gene Hackman) and his super-powered sidekick, Nuclear Man (Mark Pillow).Though the level of excitement and intrigue of this film doesn't match the first two, it is almost on par with the third and is still fun and fast-paced with neat special effects that showcase Superman's powers and great action scenes, something that sorely lacks in Superman Returns.The nuclear weapons plot I thought was clever and unique to a Superman movie. Total disarmament of nuclear weapons may not be feasible in the real world, but Superman's quest for peace among all countries is well-intended in the film. Reeve is great as Superman and Gene Hackman gave us another thrilling performance as super villain Lex Luther. In addition, the fight scenes between Nuclear Man and Superman were awesome - Nuclear Man looked like a force to be reckon with as he possessed the same level of powers and same physique as Superman.Overall, I think this film is a fitting ending to the Christopher Reeve saga.\"\n",
    "sentiment_recommender(user_id,movie_title,review)"
   ]
  },
  {
   "cell_type": "markdown",
   "id": "5bcf6fb0",
   "metadata": {},
   "source": [
    "Diffrent user_id create vastly diffrent recommandation."
   ]
  },
  {
   "cell_type": "code",
   "execution_count": 14,
   "id": "f1bd738e",
   "metadata": {},
   "outputs": [
    {
     "name": "stdout",
     "output_type": "stream",
     "text": [
      "Based on the review, This user loved the Kill Bill: Vol. 2  therfor the system recommand the below list for the user to watch ['Inglourious Basterds ', 'The Dark Knight ', 'Pulp Fiction ']\n"
     ]
    }
   ],
   "source": [
    "user_id= 458\n",
    "movie_title= 'Kill Bill: Vol. 2 '\n",
    "review = 'I was waiting for another tarantino movie but actually fall in love with this movie after watching it'\n",
    "sentiment_recommender(user_id,movie_title,review)"
   ]
  },
  {
   "cell_type": "code",
   "execution_count": 15,
   "id": "8defb6bb",
   "metadata": {},
   "outputs": [
    {
     "name": "stdout",
     "output_type": "stream",
     "text": [
      "Based on the review, This user loved the Scary Movie 3  therfor the system recommand the below list for the user to watch ['Scary Movie 4 ', 'Sleepaway Camp III: Teenage Wasteland ', 'Gothika ', 'Scary Movie 2 ', 'Paranormal Activity 3 ', 'The Texas Chainsaw Massacre ']\n"
     ]
    }
   ],
   "source": [
    "user_id= 2343\n",
    "movie_title= 'Scary Movie 3 '\n",
    "review = 'another fantastic scary movie, laughed so hard'\n",
    "sentiment_recommender(user_id,movie_title,review)"
   ]
  },
  {
   "cell_type": "code",
   "execution_count": null,
   "id": "74d419bf",
   "metadata": {},
   "outputs": [],
   "source": []
  }
 ],
 "metadata": {
  "kernelspec": {
   "display_name": "Python 3",
   "language": "python",
   "name": "python3"
  },
  "language_info": {
   "codemirror_mode": {
    "name": "ipython",
    "version": 3
   },
   "file_extension": ".py",
   "mimetype": "text/x-python",
   "name": "python",
   "nbconvert_exporter": "python",
   "pygments_lexer": "ipython3",
   "version": "3.8.8"
  }
 },
 "nbformat": 4,
 "nbformat_minor": 5
}
